{
  "nbformat": 4,
  "nbformat_minor": 0,
  "metadata": {
    "colab": {
      "name": "housepricingdatacsv_keras(Sequential)_NeuralNetwork.ipynb",
      "provenance": [],
      "collapsed_sections": [],
      "authorship_tag": "ABX9TyNIURYxtXu/ZBoE1VGIMiqK",
      "include_colab_link": true
    },
    "kernelspec": {
      "name": "python3",
      "display_name": "Python 3"
    }
  },
  "cells": [
    {
      "cell_type": "markdown",
      "metadata": {
        "id": "view-in-github",
        "colab_type": "text"
      },
      "source": [
        "<a href=\"https://colab.research.google.com/github/GunH-colab/basicsML/blob/master/Classification/housepricingdatacsv_keras(Sequential)_NeuralNetwork.ipynb\" target=\"_parent\"><img src=\"https://colab.research.google.com/assets/colab-badge.svg\" alt=\"Open In Colab\"/></a>"
      ]
    },
    {
      "cell_type": "markdown",
      "metadata": {
        "id": "IM63wQ9hDPM_",
        "colab_type": "text"
      },
      "source": [
        "\n",
        "\n",
        "*   **Sequential API**\n",
        "*   **Housingprices Dataset**\n",
        "*   **Standarized using MinMaxScaler**\n",
        "*   **Regularized(L2 and Early Stopping)** \n",
        "*   **Heatmaps and distplots of dataset included**"
      ]
    },
    {
      "cell_type": "code",
      "metadata": {
        "id": "Sbt-8Gs_JKKa",
        "colab_type": "code",
        "colab": {
          "base_uri": "https://localhost:8080/",
          "height": 70
        },
        "outputId": "851b0e98-68ad-4195-8670-27a979d62846"
      },
      "source": [
        "#importing all the necessary libraries\n",
        "\n",
        "import pandas as pd\n",
        "import seaborn as sns\n",
        "import matplotlib.pyplot as plt\n",
        "from tensorflow import keras\n",
        "from sklearn.model_selection import train_test_split\n",
        "from sklearn.preprocessing import MinMaxScaler\n",
        "import numpy as np\n",
        "\n",
        "%matplotlib inline"
      ],
      "execution_count": 1,
      "outputs": [
        {
          "output_type": "stream",
          "text": [
            "/usr/local/lib/python3.6/dist-packages/statsmodels/tools/_testing.py:19: FutureWarning: pandas.util.testing is deprecated. Use the functions in the public API at pandas.testing instead.\n",
            "  import pandas.util.testing as tm\n"
          ],
          "name": "stderr"
        }
      ]
    },
    {
      "cell_type": "code",
      "metadata": {
        "id": "S1is_hGuM87u",
        "colab_type": "code",
        "colab": {}
      },
      "source": [
        "# you need to upload the housepricedata.csv on Colab first. df is the DataFrame.\n",
        "# The corresponding csv file can be found in the folder of this ipynb\n",
        "\n",
        "\n",
        "# you can also down it from -> https://drive.google.com/file/d/1GfvKA0qznNVknghV4botnNxyH-KvODOC/view\n",
        "\n",
        "df = pd.read_csv('housepricedata.csv')"
      ],
      "execution_count": 2,
      "outputs": []
    },
    {
      "cell_type": "code",
      "metadata": {
        "id": "fbNKYv5sNVCQ",
        "colab_type": "code",
        "colab": {
          "base_uri": "https://localhost:8080/",
          "height": 319
        },
        "outputId": "c4fe6398-9cf6-491d-e70c-9b1dc785b3f8"
      },
      "source": [
        "df.info() # dataset information"
      ],
      "execution_count": 3,
      "outputs": [
        {
          "output_type": "stream",
          "text": [
            "<class 'pandas.core.frame.DataFrame'>\n",
            "RangeIndex: 1460 entries, 0 to 1459\n",
            "Data columns (total 11 columns):\n",
            " #   Column            Non-Null Count  Dtype\n",
            "---  ------            --------------  -----\n",
            " 0   LotArea           1460 non-null   int64\n",
            " 1   OverallQual       1460 non-null   int64\n",
            " 2   OverallCond       1460 non-null   int64\n",
            " 3   TotalBsmtSF       1460 non-null   int64\n",
            " 4   FullBath          1460 non-null   int64\n",
            " 5   HalfBath          1460 non-null   int64\n",
            " 6   BedroomAbvGr      1460 non-null   int64\n",
            " 7   TotRmsAbvGrd      1460 non-null   int64\n",
            " 8   Fireplaces        1460 non-null   int64\n",
            " 9   GarageArea        1460 non-null   int64\n",
            " 10  AboveMedianPrice  1460 non-null   int64\n",
            "dtypes: int64(11)\n",
            "memory usage: 125.6 KB\n"
          ],
          "name": "stdout"
        }
      ]
    },
    {
      "cell_type": "code",
      "metadata": {
        "id": "pVWU0ZGDNXzP",
        "colab_type": "code",
        "colab": {
          "base_uri": "https://localhost:8080/",
          "height": 360
        },
        "outputId": "f23d9302-164d-4bb1-a429-589db0a02804"
      },
      "source": [
        "# take your input for n for the number of rows you want to view\n",
        "\n",
        "n = int(input())\n",
        "\n",
        "df.head(n) # viewing the first n rows"
      ],
      "execution_count": 5,
      "outputs": [
        {
          "output_type": "stream",
          "text": [
            "10\n"
          ],
          "name": "stdout"
        },
        {
          "output_type": "execute_result",
          "data": {
            "text/html": [
              "<div>\n",
              "<style scoped>\n",
              "    .dataframe tbody tr th:only-of-type {\n",
              "        vertical-align: middle;\n",
              "    }\n",
              "\n",
              "    .dataframe tbody tr th {\n",
              "        vertical-align: top;\n",
              "    }\n",
              "\n",
              "    .dataframe thead th {\n",
              "        text-align: right;\n",
              "    }\n",
              "</style>\n",
              "<table border=\"1\" class=\"dataframe\">\n",
              "  <thead>\n",
              "    <tr style=\"text-align: right;\">\n",
              "      <th></th>\n",
              "      <th>LotArea</th>\n",
              "      <th>OverallQual</th>\n",
              "      <th>OverallCond</th>\n",
              "      <th>TotalBsmtSF</th>\n",
              "      <th>FullBath</th>\n",
              "      <th>HalfBath</th>\n",
              "      <th>BedroomAbvGr</th>\n",
              "      <th>TotRmsAbvGrd</th>\n",
              "      <th>Fireplaces</th>\n",
              "      <th>GarageArea</th>\n",
              "      <th>AboveMedianPrice</th>\n",
              "    </tr>\n",
              "  </thead>\n",
              "  <tbody>\n",
              "    <tr>\n",
              "      <th>0</th>\n",
              "      <td>8450</td>\n",
              "      <td>7</td>\n",
              "      <td>5</td>\n",
              "      <td>856</td>\n",
              "      <td>2</td>\n",
              "      <td>1</td>\n",
              "      <td>3</td>\n",
              "      <td>8</td>\n",
              "      <td>0</td>\n",
              "      <td>548</td>\n",
              "      <td>1</td>\n",
              "    </tr>\n",
              "    <tr>\n",
              "      <th>1</th>\n",
              "      <td>9600</td>\n",
              "      <td>6</td>\n",
              "      <td>8</td>\n",
              "      <td>1262</td>\n",
              "      <td>2</td>\n",
              "      <td>0</td>\n",
              "      <td>3</td>\n",
              "      <td>6</td>\n",
              "      <td>1</td>\n",
              "      <td>460</td>\n",
              "      <td>1</td>\n",
              "    </tr>\n",
              "    <tr>\n",
              "      <th>2</th>\n",
              "      <td>11250</td>\n",
              "      <td>7</td>\n",
              "      <td>5</td>\n",
              "      <td>920</td>\n",
              "      <td>2</td>\n",
              "      <td>1</td>\n",
              "      <td>3</td>\n",
              "      <td>6</td>\n",
              "      <td>1</td>\n",
              "      <td>608</td>\n",
              "      <td>1</td>\n",
              "    </tr>\n",
              "    <tr>\n",
              "      <th>3</th>\n",
              "      <td>9550</td>\n",
              "      <td>7</td>\n",
              "      <td>5</td>\n",
              "      <td>756</td>\n",
              "      <td>1</td>\n",
              "      <td>0</td>\n",
              "      <td>3</td>\n",
              "      <td>7</td>\n",
              "      <td>1</td>\n",
              "      <td>642</td>\n",
              "      <td>0</td>\n",
              "    </tr>\n",
              "    <tr>\n",
              "      <th>4</th>\n",
              "      <td>14260</td>\n",
              "      <td>8</td>\n",
              "      <td>5</td>\n",
              "      <td>1145</td>\n",
              "      <td>2</td>\n",
              "      <td>1</td>\n",
              "      <td>4</td>\n",
              "      <td>9</td>\n",
              "      <td>1</td>\n",
              "      <td>836</td>\n",
              "      <td>1</td>\n",
              "    </tr>\n",
              "    <tr>\n",
              "      <th>5</th>\n",
              "      <td>14115</td>\n",
              "      <td>5</td>\n",
              "      <td>5</td>\n",
              "      <td>796</td>\n",
              "      <td>1</td>\n",
              "      <td>1</td>\n",
              "      <td>1</td>\n",
              "      <td>5</td>\n",
              "      <td>0</td>\n",
              "      <td>480</td>\n",
              "      <td>0</td>\n",
              "    </tr>\n",
              "    <tr>\n",
              "      <th>6</th>\n",
              "      <td>10084</td>\n",
              "      <td>8</td>\n",
              "      <td>5</td>\n",
              "      <td>1686</td>\n",
              "      <td>2</td>\n",
              "      <td>0</td>\n",
              "      <td>3</td>\n",
              "      <td>7</td>\n",
              "      <td>1</td>\n",
              "      <td>636</td>\n",
              "      <td>1</td>\n",
              "    </tr>\n",
              "    <tr>\n",
              "      <th>7</th>\n",
              "      <td>10382</td>\n",
              "      <td>7</td>\n",
              "      <td>6</td>\n",
              "      <td>1107</td>\n",
              "      <td>2</td>\n",
              "      <td>1</td>\n",
              "      <td>3</td>\n",
              "      <td>7</td>\n",
              "      <td>2</td>\n",
              "      <td>484</td>\n",
              "      <td>1</td>\n",
              "    </tr>\n",
              "    <tr>\n",
              "      <th>8</th>\n",
              "      <td>6120</td>\n",
              "      <td>7</td>\n",
              "      <td>5</td>\n",
              "      <td>952</td>\n",
              "      <td>2</td>\n",
              "      <td>0</td>\n",
              "      <td>2</td>\n",
              "      <td>8</td>\n",
              "      <td>2</td>\n",
              "      <td>468</td>\n",
              "      <td>0</td>\n",
              "    </tr>\n",
              "    <tr>\n",
              "      <th>9</th>\n",
              "      <td>7420</td>\n",
              "      <td>5</td>\n",
              "      <td>6</td>\n",
              "      <td>991</td>\n",
              "      <td>1</td>\n",
              "      <td>0</td>\n",
              "      <td>2</td>\n",
              "      <td>5</td>\n",
              "      <td>2</td>\n",
              "      <td>205</td>\n",
              "      <td>0</td>\n",
              "    </tr>\n",
              "  </tbody>\n",
              "</table>\n",
              "</div>"
            ],
            "text/plain": [
              "   LotArea  OverallQual  OverallCond  ...  Fireplaces  GarageArea  AboveMedianPrice\n",
              "0     8450            7            5  ...           0         548                 1\n",
              "1     9600            6            8  ...           1         460                 1\n",
              "2    11250            7            5  ...           1         608                 1\n",
              "3     9550            7            5  ...           1         642                 0\n",
              "4    14260            8            5  ...           1         836                 1\n",
              "5    14115            5            5  ...           0         480                 0\n",
              "6    10084            8            5  ...           1         636                 1\n",
              "7    10382            7            6  ...           2         484                 1\n",
              "8     6120            7            5  ...           2         468                 0\n",
              "9     7420            5            6  ...           2         205                 0\n",
              "\n",
              "[10 rows x 11 columns]"
            ]
          },
          "metadata": {
            "tags": []
          },
          "execution_count": 5
        }
      ]
    },
    {
      "cell_type": "code",
      "metadata": {
        "id": "Herrgs9-NmoH",
        "colab_type": "code",
        "colab": {
          "base_uri": "https://localhost:8080/",
          "height": 218
        },
        "outputId": "c2cb2756-ff9d-4e6b-b982-0e9b9ff1c100"
      },
      "source": [
        "df.isnull().sum() # viewing the sum of missing values of each features in the datasets"
      ],
      "execution_count": 6,
      "outputs": [
        {
          "output_type": "execute_result",
          "data": {
            "text/plain": [
              "LotArea             0\n",
              "OverallQual         0\n",
              "OverallCond         0\n",
              "TotalBsmtSF         0\n",
              "FullBath            0\n",
              "HalfBath            0\n",
              "BedroomAbvGr        0\n",
              "TotRmsAbvGrd        0\n",
              "Fireplaces          0\n",
              "GarageArea          0\n",
              "AboveMedianPrice    0\n",
              "dtype: int64"
            ]
          },
          "metadata": {
            "tags": []
          },
          "execution_count": 6
        }
      ]
    },
    {
      "cell_type": "code",
      "metadata": {
        "id": "R5gsAdZd6-Nm",
        "colab_type": "code",
        "colab": {}
      },
      "source": [
        "# bingo !!! there is no misssing values"
      ],
      "execution_count": 7,
      "outputs": []
    },
    {
      "cell_type": "code",
      "metadata": {
        "id": "UdXvkq54Ns3Y",
        "colab_type": "code",
        "colab": {
          "base_uri": "https://localhost:8080/",
          "height": 514
        },
        "outputId": "b3521e78-4341-42aa-9296-a2288c349e80"
      },
      "source": [
        "LABEL = \"LotArea\" # you can try using any other label too, such as longitude/latitude\n",
        "\n",
        "plt.figure(figsize=(10, 8))\n",
        "sns.distplot(df[LABEL])"
      ],
      "execution_count": 8,
      "outputs": [
        {
          "output_type": "execute_result",
          "data": {
            "text/plain": [
              "<matplotlib.axes._subplots.AxesSubplot at 0x7f95fb6e8e10>"
            ]
          },
          "metadata": {
            "tags": []
          },
          "execution_count": 8
        },
        {
          "output_type": "display_data",
          "data": {
            "image/png": "[encoded data removed]",
            "text/plain": [
              "<Figure size 720x576 with 1 Axes>"
            ]
          },
          "metadata": {
            "tags": [],
            "needs_background": "light"
          }
        }
      ]
    },
    {
      "cell_type": "code",
      "metadata": {
        "id": "y1ErrttFO_cg",
        "colab_type": "code",
        "colab": {
          "base_uri": "https://localhost:8080/",
          "height": 514
        },
        "outputId": "b42dec45-9d6b-4acd-917b-c7c3cabb6b5c"
      },
      "source": [
        "X, Y = \"TotRmsAbvGrd\", \"TotalBsmtSF\" # you can try labels of your choice too for X and Y\n",
        "\n",
        "plt.figure(figsize=(10, 8))\n",
        "sns.scatterplot(X, Y, markers='.', hue='AboveMedianPrice', data=df)\n"
      ],
      "execution_count": 9,
      "outputs": [
        {
          "output_type": "execute_result",
          "data": {
            "text/plain": [
              "<matplotlib.axes._subplots.AxesSubplot at 0x7f95fb650390>"
            ]
          },
          "metadata": {
            "tags": []
          },
          "execution_count": 9
        },
        {
          "output_type": "display_data",
          "data": {
            "image/png": "[encoded data removed]",
            "text/plain": [
              "<Figure size 720x576 with 1 Axes>"
            ]
          },
          "metadata": {
            "tags": [],
            "needs_background": "light"
          }
        }
      ]
    },
    {
      "cell_type": "code",
      "metadata": {
        "id": "80w9bNj8Qvfp",
        "colab_type": "code",
        "colab": {
          "base_uri": "https://localhost:8080/",
          "height": 586
        },
        "outputId": "73ffba79-6421-4489-f642-6bbbc4b175cc"
      },
      "source": [
        "# for establishing pairwise correlation between any two labels( **df.corr() does it**)\n",
        "\n",
        "plt.figure(figsize=(10, 8))\n",
        "sns.heatmap(df.corr(), annot=True)"
      ],
      "execution_count": 10,
      "outputs": [
        {
          "output_type": "execute_result",
          "data": {
            "text/plain": [
              "<matplotlib.axes._subplots.AxesSubplot at 0x7f95fb0ab898>"
            ]
          },
          "metadata": {
            "tags": []
          },
          "execution_count": 10
        },
        {
          "output_type": "display_data",
          "data": {
            "image/png": "[encoded data removed]",
            "text/plain": [
              "<Figure size 720x576 with 2 Axes>"
            ]
          },
          "metadata": {
            "tags": [],
            "needs_background": "light"
          }
        }
      ]
    },
    {
      "cell_type": "code",
      "metadata": {
        "id": "eHbb4szBSRZI",
        "colab_type": "code",
        "colab": {
          "base_uri": "https://localhost:8080/",
          "height": 304
        },
        "outputId": "d0d27b13-be4d-4028-b5be-45698e199698"
      },
      "source": [
        "df.describe() # viewing the 'stats' of the dataset"
      ],
      "execution_count": 11,
      "outputs": [
        {
          "output_type": "execute_result",
          "data": {
            "text/html": [
              "<div>\n",
              "<style scoped>\n",
              "    .dataframe tbody tr th:only-of-type {\n",
              "        vertical-align: middle;\n",
              "    }\n",
              "\n",
              "    .dataframe tbody tr th {\n",
              "        vertical-align: top;\n",
              "    }\n",
              "\n",
              "    .dataframe thead th {\n",
              "        text-align: right;\n",
              "    }\n",
              "</style>\n",
              "<table border=\"1\" class=\"dataframe\">\n",
              "  <thead>\n",
              "    <tr style=\"text-align: right;\">\n",
              "      <th></th>\n",
              "      <th>LotArea</th>\n",
              "      <th>OverallQual</th>\n",
              "      <th>OverallCond</th>\n",
              "      <th>TotalBsmtSF</th>\n",
              "      <th>FullBath</th>\n",
              "      <th>HalfBath</th>\n",
              "      <th>BedroomAbvGr</th>\n",
              "      <th>TotRmsAbvGrd</th>\n",
              "      <th>Fireplaces</th>\n",
              "      <th>GarageArea</th>\n",
              "      <th>AboveMedianPrice</th>\n",
              "    </tr>\n",
              "  </thead>\n",
              "  <tbody>\n",
              "    <tr>\n",
              "      <th>count</th>\n",
              "      <td>1460.000000</td>\n",
              "      <td>1460.000000</td>\n",
              "      <td>1460.000000</td>\n",
              "      <td>1460.000000</td>\n",
              "      <td>1460.000000</td>\n",
              "      <td>1460.000000</td>\n",
              "      <td>1460.000000</td>\n",
              "      <td>1460.000000</td>\n",
              "      <td>1460.000000</td>\n",
              "      <td>1460.000000</td>\n",
              "      <td>1460.000000</td>\n",
              "    </tr>\n",
              "    <tr>\n",
              "      <th>mean</th>\n",
              "      <td>10516.828082</td>\n",
              "      <td>6.099315</td>\n",
              "      <td>5.575342</td>\n",
              "      <td>1057.429452</td>\n",
              "      <td>1.565068</td>\n",
              "      <td>0.382877</td>\n",
              "      <td>2.866438</td>\n",
              "      <td>6.517808</td>\n",
              "      <td>0.613014</td>\n",
              "      <td>472.980137</td>\n",
              "      <td>0.498630</td>\n",
              "    </tr>\n",
              "    <tr>\n",
              "      <th>std</th>\n",
              "      <td>9981.264932</td>\n",
              "      <td>1.382997</td>\n",
              "      <td>1.112799</td>\n",
              "      <td>438.705324</td>\n",
              "      <td>0.550916</td>\n",
              "      <td>0.502885</td>\n",
              "      <td>0.815778</td>\n",
              "      <td>1.625393</td>\n",
              "      <td>0.644666</td>\n",
              "      <td>213.804841</td>\n",
              "      <td>0.500169</td>\n",
              "    </tr>\n",
              "    <tr>\n",
              "      <th>min</th>\n",
              "      <td>1300.000000</td>\n",
              "      <td>1.000000</td>\n",
              "      <td>1.000000</td>\n",
              "      <td>0.000000</td>\n",
              "      <td>0.000000</td>\n",
              "      <td>0.000000</td>\n",
              "      <td>0.000000</td>\n",
              "      <td>2.000000</td>\n",
              "      <td>0.000000</td>\n",
              "      <td>0.000000</td>\n",
              "      <td>0.000000</td>\n",
              "    </tr>\n",
              "    <tr>\n",
              "      <th>25%</th>\n",
              "      <td>7553.500000</td>\n",
              "      <td>5.000000</td>\n",
              "      <td>5.000000</td>\n",
              "      <td>795.750000</td>\n",
              "      <td>1.000000</td>\n",
              "      <td>0.000000</td>\n",
              "      <td>2.000000</td>\n",
              "      <td>5.000000</td>\n",
              "      <td>0.000000</td>\n",
              "      <td>334.500000</td>\n",
              "      <td>0.000000</td>\n",
              "    </tr>\n",
              "    <tr>\n",
              "      <th>50%</th>\n",
              "      <td>9478.500000</td>\n",
              "      <td>6.000000</td>\n",
              "      <td>5.000000</td>\n",
              "      <td>991.500000</td>\n",
              "      <td>2.000000</td>\n",
              "      <td>0.000000</td>\n",
              "      <td>3.000000</td>\n",
              "      <td>6.000000</td>\n",
              "      <td>1.000000</td>\n",
              "      <td>480.000000</td>\n",
              "      <td>0.000000</td>\n",
              "    </tr>\n",
              "    <tr>\n",
              "      <th>75%</th>\n",
              "      <td>11601.500000</td>\n",
              "      <td>7.000000</td>\n",
              "      <td>6.000000</td>\n",
              "      <td>1298.250000</td>\n",
              "      <td>2.000000</td>\n",
              "      <td>1.000000</td>\n",
              "      <td>3.000000</td>\n",
              "      <td>7.000000</td>\n",
              "      <td>1.000000</td>\n",
              "      <td>576.000000</td>\n",
              "      <td>1.000000</td>\n",
              "    </tr>\n",
              "    <tr>\n",
              "      <th>max</th>\n",
              "      <td>215245.000000</td>\n",
              "      <td>10.000000</td>\n",
              "      <td>9.000000</td>\n",
              "      <td>6110.000000</td>\n",
              "      <td>3.000000</td>\n",
              "      <td>2.000000</td>\n",
              "      <td>8.000000</td>\n",
              "      <td>14.000000</td>\n",
              "      <td>3.000000</td>\n",
              "      <td>1418.000000</td>\n",
              "      <td>1.000000</td>\n",
              "    </tr>\n",
              "  </tbody>\n",
              "</table>\n",
              "</div>"
            ],
            "text/plain": [
              "             LotArea  OverallQual  ...   GarageArea  AboveMedianPrice\n",
              "count    1460.000000  1460.000000  ...  1460.000000       1460.000000\n",
              "mean    10516.828082     6.099315  ...   472.980137          0.498630\n",
              "std      9981.264932     1.382997  ...   213.804841          0.500169\n",
              "min      1300.000000     1.000000  ...     0.000000          0.000000\n",
              "25%      7553.500000     5.000000  ...   334.500000          0.000000\n",
              "50%      9478.500000     6.000000  ...   480.000000          0.000000\n",
              "75%     11601.500000     7.000000  ...   576.000000          1.000000\n",
              "max    215245.000000    10.000000  ...  1418.000000          1.000000\n",
              "\n",
              "[8 rows x 11 columns]"
            ]
          },
          "metadata": {
            "tags": []
          },
          "execution_count": 11
        }
      ]
    },
    {
      "cell_type": "code",
      "metadata": {
        "id": "vXwpj2bC1aiz",
        "colab_type": "code",
        "colab": {}
      },
      "source": [
        "data = df.drop('AboveMedianPrice', axis=1) # slicing off thhe feature 'AboveMedianPrice'\n",
        "target = df['AboveMedianPrice'] # using the same feature as labels. 1 for 'yes', 0 for 'no'"
      ],
      "execution_count": 12,
      "outputs": []
    },
    {
      "cell_type": "code",
      "metadata": {
        "id": "DvG_OP8y3qSk",
        "colab_type": "code",
        "colab": {
          "base_uri": "https://localhost:8080/",
          "height": 134
        },
        "outputId": "7141393a-d0d3-4100-b7a1-a597429bc6b9"
      },
      "source": [
        "data.values # viewing the values"
      ],
      "execution_count": 13,
      "outputs": [
        {
          "output_type": "execute_result",
          "data": {
            "text/plain": [
              "array([[ 8450,     7,     5, ...,     8,     0,   548],\n",
              "       [ 9600,     6,     8, ...,     6,     1,   460],\n",
              "       [11250,     7,     5, ...,     6,     1,   608],\n",
              "       ...,\n",
              "       [ 9042,     7,     9, ...,     9,     2,   252],\n",
              "       [ 9717,     5,     6, ...,     5,     0,   240],\n",
              "       [ 9937,     5,     6, ...,     6,     0,   276]])"
            ]
          },
          "metadata": {
            "tags": []
          },
          "execution_count": 13
        }
      ]
    },
    {
      "cell_type": "code",
      "metadata": {
        "id": "R7OQ7OQL72Ff",
        "colab_type": "code",
        "colab": {
          "base_uri": "https://localhost:8080/",
          "height": 218
        },
        "outputId": "8ce2c6d4-2101-4aa5-cfdb-0eeb91f87d12"
      },
      "source": [
        "print(target)"
      ],
      "execution_count": 14,
      "outputs": [
        {
          "output_type": "stream",
          "text": [
            "0       1\n",
            "1       1\n",
            "2       1\n",
            "3       0\n",
            "4       1\n",
            "       ..\n",
            "1455    1\n",
            "1456    1\n",
            "1457    1\n",
            "1458    0\n",
            "1459    0\n",
            "Name: AboveMedianPrice, Length: 1460, dtype: int64\n"
          ],
          "name": "stdout"
        }
      ]
    },
    {
      "cell_type": "code",
      "metadata": {
        "id": "OpfROqjQ3q6D",
        "colab_type": "code",
        "colab": {}
      },
      "source": [
        "# standarizing using MinMax\n",
        "\n",
        "mms = MinMaxScaler()\n",
        "data_mms = mms.fit_transform(data)"
      ],
      "execution_count": 15,
      "outputs": []
    },
    {
      "cell_type": "code",
      "metadata": {
        "id": "ENoD-d2E4HOS",
        "colab_type": "code",
        "colab": {
          "base_uri": "https://localhost:8080/",
          "height": 235
        },
        "outputId": "e7997845-38a5-4d47-bf41-3282435301d2"
      },
      "source": [
        "data_mms # normalized values"
      ],
      "execution_count": 16,
      "outputs": [
        {
          "output_type": "execute_result",
          "data": {
            "text/plain": [
              "array([[0.0334198 , 0.66666667, 0.5       , ..., 0.5       , 0.        ,\n",
              "        0.3864598 ],\n",
              "       [0.03879502, 0.55555556, 0.875     , ..., 0.33333333, 0.33333333,\n",
              "        0.32440056],\n",
              "       [0.04650728, 0.66666667, 0.5       , ..., 0.33333333, 0.33333333,\n",
              "        0.42877292],\n",
              "       ...,\n",
              "       [0.03618687, 0.66666667, 1.        , ..., 0.58333333, 0.66666667,\n",
              "        0.17771509],\n",
              "       [0.03934189, 0.44444444, 0.625     , ..., 0.25      , 0.        ,\n",
              "        0.16925247],\n",
              "       [0.04037019, 0.44444444, 0.625     , ..., 0.33333333, 0.        ,\n",
              "        0.19464034]])"
            ]
          },
          "metadata": {
            "tags": []
          },
          "execution_count": 16
        }
      ]
    },
    {
      "cell_type": "code",
      "metadata": {
        "id": "_DoHwsUI3qtK",
        "colab_type": "code",
        "colab": {
          "base_uri": "https://localhost:8080/",
          "height": 34
        },
        "outputId": "dfa50190-681e-4a89-c02e-0591faac9c97"
      },
      "source": [
        "# splitting into train and test/val sets\n",
        "train_data, test_data_full, train_targets, test_targets_full = train_test_split(data_mms, target, test_size=0.3, random_state=42)\n",
        "\n",
        "# further splitting into validation and train sets\n",
        "\n",
        "val_data, test_data, val_targets, test_targets = train_test_split(test_data_full, test_targets_full, test_size=0.5)\n",
        "\n",
        "# checking the shapes\n",
        "print(train_data.shape, val_data.shape, test_data.shape, train_targets.shape, val_targets.shape, test_targets.shape)"
      ],
      "execution_count": 17,
      "outputs": [
        {
          "output_type": "stream",
          "text": [
            "(1022, 10) (219, 10) (219, 10) (1022,) (219,) (219,)\n"
          ],
          "name": "stdout"
        }
      ]
    },
    {
      "cell_type": "code",
      "metadata": {
        "id": "IUsoINygUb6I",
        "colab_type": "code",
        "colab": {}
      },
      "source": [
        "# The model\n",
        "\n",
        "model = keras.models.Sequential([\n",
        "        keras.layers.Dense(32, activation='relu', kernel_regularizer=keras.regularizers.l2(0.001), input_shape=(10,)),\n",
        "        keras.layers.Dense(32, activation='relu', kernel_regularizer=keras.regularizers.l2(0.001)),\n",
        "        keras.layers.Dense(1, activation='sigmoid', kernel_regularizer=keras.regularizers.l2(0.001))\n",
        "])"
      ],
      "execution_count": 18,
      "outputs": []
    },
    {
      "cell_type": "code",
      "metadata": {
        "id": "x5UNAtt3YjE4",
        "colab_type": "code",
        "colab": {}
      },
      "source": [
        "# compiling\n",
        "\n",
        "model.compile(optimizer='sgd', loss='binary_crossentropy', metrics=['accuracy'])\n"
      ],
      "execution_count": 19,
      "outputs": []
    },
    {
      "cell_type": "code",
      "metadata": {
        "id": "Sezj4I5TaPAx",
        "colab_type": "code",
        "colab": {
          "base_uri": "https://localhost:8080/",
          "height": 1000
        },
        "outputId": "d32d9f78-c5ae-4296-e79c-613072848ad4"
      },
      "source": [
        "# setting early stopping regularization\n",
        "\n",
        "ES = keras.callbacks.EarlyStopping(monitor='val_loss', mode='min', verbose=1, patience=10)\n",
        "\n",
        "# training\n",
        "history = model.fit(x=train_data,y=train_targets.values,\n",
        "          validation_data=(val_data, val_targets),\n",
        "          batch_size=128,epochs=400, callbacks=[ES])"
      ],
      "execution_count": 20,
      "outputs": [
        {
          "output_type": "stream",
          "text": [
            "Epoch 1/400\n",
            "8/8 [==============================] - 0s 26ms/step - loss: 0.7362 - accuracy: 0.5930 - val_loss: 0.7332 - val_accuracy: 0.5890\n",
            "Epoch 2/400\n",
            "8/8 [==============================] - 0s 7ms/step - loss: 0.7344 - accuracy: 0.5890 - val_loss: 0.7316 - val_accuracy: 0.6210\n",
            "Epoch 3/400\n",
            "8/8 [==============================] - 0s 5ms/step - loss: 0.7327 - accuracy: 0.5890 - val_loss: 0.7300 - val_accuracy: 0.6073\n",
            "Epoch 4/400\n",
            "8/8 [==============================] - 0s 6ms/step - loss: 0.7311 - accuracy: 0.5861 - val_loss: 0.7284 - val_accuracy: 0.5936\n",
            "Epoch 5/400\n",
            "8/8 [==============================] - 0s 6ms/step - loss: 0.7295 - accuracy: 0.5783 - val_loss: 0.7269 - val_accuracy: 0.5799\n",
            "Epoch 6/400\n",
            "8/8 [==============================] - 0s 6ms/step - loss: 0.7281 - accuracy: 0.5724 - val_loss: 0.7255 - val_accuracy: 0.5753\n",
            "Epoch 7/400\n",
            "8/8 [==============================] - 0s 5ms/step - loss: 0.7267 - accuracy: 0.5665 - val_loss: 0.7242 - val_accuracy: 0.5662\n",
            "Epoch 8/400\n",
            "8/8 [==============================] - 0s 6ms/step - loss: 0.7254 - accuracy: 0.5753 - val_loss: 0.7230 - val_accuracy: 0.5708\n",
            "Epoch 9/400\n",
            "8/8 [==============================] - 0s 6ms/step - loss: 0.7242 - accuracy: 0.5646 - val_loss: 0.7218 - val_accuracy: 0.5753\n",
            "Epoch 10/400\n",
            "8/8 [==============================] - 0s 5ms/step - loss: 0.7230 - accuracy: 0.5646 - val_loss: 0.7206 - val_accuracy: 0.5753\n",
            "Epoch 11/400\n",
            "8/8 [==============================] - 0s 5ms/step - loss: 0.7219 - accuracy: 0.5626 - val_loss: 0.7195 - val_accuracy: 0.5708\n",
            "Epoch 12/400\n",
            "8/8 [==============================] - 0s 5ms/step - loss: 0.7208 - accuracy: 0.5705 - val_loss: 0.7184 - val_accuracy: 0.5662\n",
            "Epoch 13/400\n",
            "8/8 [==============================] - 0s 6ms/step - loss: 0.7197 - accuracy: 0.5675 - val_loss: 0.7172 - val_accuracy: 0.5708\n",
            "Epoch 14/400\n",
            "8/8 [==============================] - 0s 6ms/step - loss: 0.7187 - accuracy: 0.5724 - val_loss: 0.7161 - val_accuracy: 0.5708\n",
            "Epoch 15/400\n",
            "8/8 [==============================] - 0s 5ms/step - loss: 0.7176 - accuracy: 0.5734 - val_loss: 0.7150 - val_accuracy: 0.5708\n",
            "Epoch 16/400\n",
            "8/8 [==============================] - 0s 6ms/step - loss: 0.7165 - accuracy: 0.5773 - val_loss: 0.7138 - val_accuracy: 0.5753\n",
            "Epoch 17/400\n",
            "8/8 [==============================] - 0s 6ms/step - loss: 0.7154 - accuracy: 0.5812 - val_loss: 0.7127 - val_accuracy: 0.5845\n",
            "Epoch 18/400\n",
            "8/8 [==============================] - 0s 6ms/step - loss: 0.7143 - accuracy: 0.5949 - val_loss: 0.7115 - val_accuracy: 0.5845\n",
            "Epoch 19/400\n",
            "8/8 [==============================] - 0s 8ms/step - loss: 0.7132 - accuracy: 0.6067 - val_loss: 0.7104 - val_accuracy: 0.5982\n",
            "Epoch 20/400\n",
            "8/8 [==============================] - 0s 6ms/step - loss: 0.7121 - accuracy: 0.6174 - val_loss: 0.7092 - val_accuracy: 0.6164\n",
            "Epoch 21/400\n",
            "8/8 [==============================] - 0s 6ms/step - loss: 0.7111 - accuracy: 0.6204 - val_loss: 0.7081 - val_accuracy: 0.6210\n",
            "Epoch 22/400\n",
            "8/8 [==============================] - 0s 5ms/step - loss: 0.7099 - accuracy: 0.6301 - val_loss: 0.7069 - val_accuracy: 0.6256\n",
            "Epoch 23/400\n",
            "8/8 [==============================] - 0s 6ms/step - loss: 0.7089 - accuracy: 0.6370 - val_loss: 0.7057 - val_accuracy: 0.6393\n",
            "Epoch 24/400\n",
            "8/8 [==============================] - 0s 5ms/step - loss: 0.7078 - accuracy: 0.6438 - val_loss: 0.7046 - val_accuracy: 0.6484\n",
            "Epoch 25/400\n",
            "8/8 [==============================] - 0s 6ms/step - loss: 0.7067 - accuracy: 0.6458 - val_loss: 0.7034 - val_accuracy: 0.6667\n",
            "Epoch 26/400\n",
            "8/8 [==============================] - 0s 5ms/step - loss: 0.7055 - accuracy: 0.6526 - val_loss: 0.7022 - val_accuracy: 0.6758\n",
            "Epoch 27/400\n",
            "8/8 [==============================] - 0s 6ms/step - loss: 0.7044 - accuracy: 0.6654 - val_loss: 0.7010 - val_accuracy: 0.6849\n",
            "Epoch 28/400\n",
            "8/8 [==============================] - 0s 5ms/step - loss: 0.7033 - accuracy: 0.6751 - val_loss: 0.6998 - val_accuracy: 0.6941\n",
            "Epoch 29/400\n",
            "8/8 [==============================] - 0s 6ms/step - loss: 0.7021 - accuracy: 0.6879 - val_loss: 0.6986 - val_accuracy: 0.7078\n",
            "Epoch 30/400\n",
            "8/8 [==============================] - 0s 6ms/step - loss: 0.7010 - accuracy: 0.6937 - val_loss: 0.6974 - val_accuracy: 0.7169\n",
            "Epoch 31/400\n",
            "8/8 [==============================] - 0s 6ms/step - loss: 0.6998 - accuracy: 0.6937 - val_loss: 0.6961 - val_accuracy: 0.7260\n",
            "Epoch 32/400\n",
            "8/8 [==============================] - 0s 6ms/step - loss: 0.6987 - accuracy: 0.7065 - val_loss: 0.6949 - val_accuracy: 0.7260\n",
            "Epoch 33/400\n",
            "8/8 [==============================] - 0s 6ms/step - loss: 0.6975 - accuracy: 0.7133 - val_loss: 0.6937 - val_accuracy: 0.7260\n",
            "Epoch 34/400\n",
            "8/8 [==============================] - 0s 5ms/step - loss: 0.6964 - accuracy: 0.7065 - val_loss: 0.6925 - val_accuracy: 0.7260\n",
            "Epoch 35/400\n",
            "8/8 [==============================] - 0s 6ms/step - loss: 0.6952 - accuracy: 0.7182 - val_loss: 0.6913 - val_accuracy: 0.7260\n",
            "Epoch 36/400\n",
            "8/8 [==============================] - 0s 6ms/step - loss: 0.6941 - accuracy: 0.7221 - val_loss: 0.6900 - val_accuracy: 0.7260\n",
            "Epoch 37/400\n",
            "8/8 [==============================] - 0s 6ms/step - loss: 0.6929 - accuracy: 0.7309 - val_loss: 0.6888 - val_accuracy: 0.7260\n",
            "Epoch 38/400\n",
            "8/8 [==============================] - 0s 6ms/step - loss: 0.6917 - accuracy: 0.7280 - val_loss: 0.6876 - val_accuracy: 0.7352\n",
            "Epoch 39/400\n",
            "8/8 [==============================] - 0s 5ms/step - loss: 0.6905 - accuracy: 0.7348 - val_loss: 0.6863 - val_accuracy: 0.7352\n",
            "Epoch 40/400\n",
            "8/8 [==============================] - 0s 6ms/step - loss: 0.6894 - accuracy: 0.7387 - val_loss: 0.6850 - val_accuracy: 0.7443\n",
            "Epoch 41/400\n",
            "8/8 [==============================] - 0s 6ms/step - loss: 0.6882 - accuracy: 0.7446 - val_loss: 0.6838 - val_accuracy: 0.7489\n",
            "Epoch 42/400\n",
            "8/8 [==============================] - 0s 6ms/step - loss: 0.6870 - accuracy: 0.7505 - val_loss: 0.6825 - val_accuracy: 0.7534\n",
            "Epoch 43/400\n",
            "8/8 [==============================] - 0s 6ms/step - loss: 0.6858 - accuracy: 0.7544 - val_loss: 0.6812 - val_accuracy: 0.7580\n",
            "Epoch 44/400\n",
            "8/8 [==============================] - 0s 6ms/step - loss: 0.6846 - accuracy: 0.7564 - val_loss: 0.6799 - val_accuracy: 0.7580\n",
            "Epoch 45/400\n",
            "8/8 [==============================] - 0s 5ms/step - loss: 0.6833 - accuracy: 0.7603 - val_loss: 0.6785 - val_accuracy: 0.7626\n",
            "Epoch 46/400\n",
            "8/8 [==============================] - 0s 6ms/step - loss: 0.6821 - accuracy: 0.7622 - val_loss: 0.6772 - val_accuracy: 0.7626\n",
            "Epoch 47/400\n",
            "8/8 [==============================] - 0s 6ms/step - loss: 0.6808 - accuracy: 0.7671 - val_loss: 0.6758 - val_accuracy: 0.7626\n",
            "Epoch 48/400\n",
            "8/8 [==============================] - 0s 7ms/step - loss: 0.6796 - accuracy: 0.7740 - val_loss: 0.6745 - val_accuracy: 0.7626\n",
            "Epoch 49/400\n",
            "8/8 [==============================] - 0s 7ms/step - loss: 0.6783 - accuracy: 0.7691 - val_loss: 0.6731 - val_accuracy: 0.7671\n",
            "Epoch 50/400\n",
            "8/8 [==============================] - 0s 6ms/step - loss: 0.6769 - accuracy: 0.7750 - val_loss: 0.6716 - val_accuracy: 0.7671\n",
            "Epoch 51/400\n",
            "8/8 [==============================] - 0s 6ms/step - loss: 0.6756 - accuracy: 0.7769 - val_loss: 0.6702 - val_accuracy: 0.7717\n",
            "Epoch 52/400\n",
            "8/8 [==============================] - 0s 5ms/step - loss: 0.6743 - accuracy: 0.7808 - val_loss: 0.6688 - val_accuracy: 0.7763\n",
            "Epoch 53/400\n",
            "8/8 [==============================] - 0s 5ms/step - loss: 0.6729 - accuracy: 0.7838 - val_loss: 0.6673 - val_accuracy: 0.7763\n",
            "Epoch 54/400\n",
            "8/8 [==============================] - 0s 6ms/step - loss: 0.6715 - accuracy: 0.7857 - val_loss: 0.6658 - val_accuracy: 0.7808\n",
            "Epoch 55/400\n",
            "8/8 [==============================] - 0s 6ms/step - loss: 0.6701 - accuracy: 0.7877 - val_loss: 0.6643 - val_accuracy: 0.7900\n",
            "Epoch 56/400\n",
            "8/8 [==============================] - 0s 6ms/step - loss: 0.6687 - accuracy: 0.7896 - val_loss: 0.6628 - val_accuracy: 0.7945\n",
            "Epoch 57/400\n",
            "8/8 [==============================] - 0s 6ms/step - loss: 0.6672 - accuracy: 0.7906 - val_loss: 0.6612 - val_accuracy: 0.8037\n",
            "Epoch 58/400\n",
            "8/8 [==============================] - 0s 6ms/step - loss: 0.6658 - accuracy: 0.7926 - val_loss: 0.6597 - val_accuracy: 0.8082\n",
            "Epoch 59/400\n",
            "8/8 [==============================] - 0s 6ms/step - loss: 0.6643 - accuracy: 0.7955 - val_loss: 0.6581 - val_accuracy: 0.8082\n",
            "Epoch 60/400\n",
            "8/8 [==============================] - 0s 5ms/step - loss: 0.6628 - accuracy: 0.7955 - val_loss: 0.6565 - val_accuracy: 0.8174\n",
            "Epoch 61/400\n",
            "8/8 [==============================] - 0s 7ms/step - loss: 0.6613 - accuracy: 0.7984 - val_loss: 0.6549 - val_accuracy: 0.8219\n",
            "Epoch 62/400\n",
            "8/8 [==============================] - 0s 6ms/step - loss: 0.6599 - accuracy: 0.7994 - val_loss: 0.6533 - val_accuracy: 0.8311\n",
            "Epoch 63/400\n",
            "8/8 [==============================] - 0s 5ms/step - loss: 0.6583 - accuracy: 0.7975 - val_loss: 0.6516 - val_accuracy: 0.8402\n",
            "Epoch 64/400\n",
            "8/8 [==============================] - 0s 6ms/step - loss: 0.6567 - accuracy: 0.8043 - val_loss: 0.6500 - val_accuracy: 0.8402\n",
            "Epoch 65/400\n",
            "8/8 [==============================] - 0s 5ms/step - loss: 0.6552 - accuracy: 0.8053 - val_loss: 0.6483 - val_accuracy: 0.8402\n",
            "Epoch 66/400\n",
            "8/8 [==============================] - 0s 7ms/step - loss: 0.6537 - accuracy: 0.8063 - val_loss: 0.6466 - val_accuracy: 0.8402\n",
            "Epoch 67/400\n",
            "8/8 [==============================] - 0s 5ms/step - loss: 0.6520 - accuracy: 0.8043 - val_loss: 0.6449 - val_accuracy: 0.8402\n",
            "Epoch 68/400\n",
            "8/8 [==============================] - 0s 6ms/step - loss: 0.6504 - accuracy: 0.8072 - val_loss: 0.6432 - val_accuracy: 0.8447\n",
            "Epoch 69/400\n",
            "8/8 [==============================] - 0s 6ms/step - loss: 0.6488 - accuracy: 0.8092 - val_loss: 0.6414 - val_accuracy: 0.8447\n",
            "Epoch 70/400\n",
            "8/8 [==============================] - 0s 7ms/step - loss: 0.6472 - accuracy: 0.8102 - val_loss: 0.6396 - val_accuracy: 0.8447\n",
            "Epoch 71/400\n",
            "8/8 [==============================] - 0s 5ms/step - loss: 0.6456 - accuracy: 0.8082 - val_loss: 0.6378 - val_accuracy: 0.8447\n",
            "Epoch 72/400\n",
            "8/8 [==============================] - 0s 5ms/step - loss: 0.6439 - accuracy: 0.8121 - val_loss: 0.6360 - val_accuracy: 0.8447\n",
            "Epoch 73/400\n",
            "8/8 [==============================] - 0s 5ms/step - loss: 0.6422 - accuracy: 0.8141 - val_loss: 0.6342 - val_accuracy: 0.8447\n",
            "Epoch 74/400\n",
            "8/8 [==============================] - 0s 6ms/step - loss: 0.6405 - accuracy: 0.8170 - val_loss: 0.6324 - val_accuracy: 0.8447\n",
            "Epoch 75/400\n",
            "8/8 [==============================] - 0s 5ms/step - loss: 0.6388 - accuracy: 0.8170 - val_loss: 0.6305 - val_accuracy: 0.8447\n",
            "Epoch 76/400\n",
            "8/8 [==============================] - 0s 6ms/step - loss: 0.6371 - accuracy: 0.8200 - val_loss: 0.6287 - val_accuracy: 0.8447\n",
            "Epoch 77/400\n",
            "8/8 [==============================] - 0s 5ms/step - loss: 0.6353 - accuracy: 0.8239 - val_loss: 0.6268 - val_accuracy: 0.8493\n",
            "Epoch 78/400\n",
            "8/8 [==============================] - 0s 6ms/step - loss: 0.6336 - accuracy: 0.8229 - val_loss: 0.6249 - val_accuracy: 0.8539\n",
            "Epoch 79/400\n",
            "8/8 [==============================] - 0s 6ms/step - loss: 0.6318 - accuracy: 0.8268 - val_loss: 0.6229 - val_accuracy: 0.8539\n",
            "Epoch 80/400\n",
            "8/8 [==============================] - 0s 6ms/step - loss: 0.6300 - accuracy: 0.8258 - val_loss: 0.6210 - val_accuracy: 0.8539\n",
            "Epoch 81/400\n",
            "8/8 [==============================] - 0s 6ms/step - loss: 0.6282 - accuracy: 0.8278 - val_loss: 0.6190 - val_accuracy: 0.8539\n",
            "Epoch 82/400\n",
            "8/8 [==============================] - 0s 5ms/step - loss: 0.6264 - accuracy: 0.8307 - val_loss: 0.6170 - val_accuracy: 0.8539\n",
            "Epoch 83/400\n",
            "8/8 [==============================] - 0s 5ms/step - loss: 0.6246 - accuracy: 0.8327 - val_loss: 0.6150 - val_accuracy: 0.8539\n",
            "Epoch 84/400\n",
            "8/8 [==============================] - 0s 5ms/step - loss: 0.6227 - accuracy: 0.8307 - val_loss: 0.6130 - val_accuracy: 0.8539\n",
            "Epoch 85/400\n",
            "8/8 [==============================] - 0s 5ms/step - loss: 0.6209 - accuracy: 0.8356 - val_loss: 0.6110 - val_accuracy: 0.8539\n",
            "Epoch 86/400\n",
            "8/8 [==============================] - 0s 6ms/step - loss: 0.6190 - accuracy: 0.8356 - val_loss: 0.6089 - val_accuracy: 0.8539\n",
            "Epoch 87/400\n",
            "8/8 [==============================] - 0s 5ms/step - loss: 0.6170 - accuracy: 0.8386 - val_loss: 0.6069 - val_accuracy: 0.8676\n",
            "Epoch 88/400\n",
            "8/8 [==============================] - 0s 5ms/step - loss: 0.6151 - accuracy: 0.8376 - val_loss: 0.6048 - val_accuracy: 0.8721\n",
            "Epoch 89/400\n",
            "8/8 [==============================] - 0s 6ms/step - loss: 0.6132 - accuracy: 0.8395 - val_loss: 0.6027 - val_accuracy: 0.8721\n",
            "Epoch 90/400\n",
            "8/8 [==============================] - 0s 5ms/step - loss: 0.6113 - accuracy: 0.8395 - val_loss: 0.6005 - val_accuracy: 0.8767\n",
            "Epoch 91/400\n",
            "8/8 [==============================] - 0s 6ms/step - loss: 0.6093 - accuracy: 0.8434 - val_loss: 0.5984 - val_accuracy: 0.8767\n",
            "Epoch 92/400\n",
            "8/8 [==============================] - 0s 5ms/step - loss: 0.6074 - accuracy: 0.8434 - val_loss: 0.5963 - val_accuracy: 0.8813\n",
            "Epoch 93/400\n",
            "8/8 [==============================] - 0s 6ms/step - loss: 0.6053 - accuracy: 0.8444 - val_loss: 0.5941 - val_accuracy: 0.8767\n",
            "Epoch 94/400\n",
            "8/8 [==============================] - 0s 6ms/step - loss: 0.6034 - accuracy: 0.8444 - val_loss: 0.5919 - val_accuracy: 0.8767\n",
            "Epoch 95/400\n",
            "8/8 [==============================] - 0s 6ms/step - loss: 0.6014 - accuracy: 0.8444 - val_loss: 0.5897 - val_accuracy: 0.8721\n",
            "Epoch 96/400\n",
            "8/8 [==============================] - 0s 5ms/step - loss: 0.5994 - accuracy: 0.8464 - val_loss: 0.5875 - val_accuracy: 0.8676\n",
            "Epoch 97/400\n",
            "8/8 [==============================] - 0s 5ms/step - loss: 0.5973 - accuracy: 0.8454 - val_loss: 0.5853 - val_accuracy: 0.8676\n",
            "Epoch 98/400\n",
            "8/8 [==============================] - 0s 5ms/step - loss: 0.5953 - accuracy: 0.8474 - val_loss: 0.5831 - val_accuracy: 0.8676\n",
            "Epoch 99/400\n",
            "8/8 [==============================] - 0s 6ms/step - loss: 0.5932 - accuracy: 0.8464 - val_loss: 0.5808 - val_accuracy: 0.8676\n",
            "Epoch 100/400\n",
            "8/8 [==============================] - 0s 5ms/step - loss: 0.5912 - accuracy: 0.8474 - val_loss: 0.5786 - val_accuracy: 0.8676\n",
            "Epoch 101/400\n",
            "8/8 [==============================] - 0s 6ms/step - loss: 0.5890 - accuracy: 0.8503 - val_loss: 0.5763 - val_accuracy: 0.8676\n",
            "Epoch 102/400\n",
            "8/8 [==============================] - 0s 5ms/step - loss: 0.5870 - accuracy: 0.8493 - val_loss: 0.5741 - val_accuracy: 0.8676\n",
            "Epoch 103/400\n",
            "8/8 [==============================] - 0s 5ms/step - loss: 0.5848 - accuracy: 0.8503 - val_loss: 0.5718 - val_accuracy: 0.8721\n",
            "Epoch 104/400\n",
            "8/8 [==============================] - 0s 5ms/step - loss: 0.5828 - accuracy: 0.8493 - val_loss: 0.5695 - val_accuracy: 0.8721\n",
            "Epoch 105/400\n",
            "8/8 [==============================] - 0s 6ms/step - loss: 0.5808 - accuracy: 0.8493 - val_loss: 0.5672 - val_accuracy: 0.8767\n",
            "Epoch 106/400\n",
            "8/8 [==============================] - 0s 6ms/step - loss: 0.5786 - accuracy: 0.8513 - val_loss: 0.5649 - val_accuracy: 0.8767\n",
            "Epoch 107/400\n",
            "8/8 [==============================] - 0s 6ms/step - loss: 0.5765 - accuracy: 0.8523 - val_loss: 0.5626 - val_accuracy: 0.8767\n",
            "Epoch 108/400\n",
            "8/8 [==============================] - 0s 6ms/step - loss: 0.5743 - accuracy: 0.8532 - val_loss: 0.5603 - val_accuracy: 0.8767\n",
            "Epoch 109/400\n",
            "8/8 [==============================] - 0s 5ms/step - loss: 0.5723 - accuracy: 0.8513 - val_loss: 0.5579 - val_accuracy: 0.8767\n",
            "Epoch 110/400\n",
            "8/8 [==============================] - 0s 6ms/step - loss: 0.5701 - accuracy: 0.8532 - val_loss: 0.5556 - val_accuracy: 0.8767\n",
            "Epoch 111/400\n",
            "8/8 [==============================] - 0s 5ms/step - loss: 0.5679 - accuracy: 0.8532 - val_loss: 0.5533 - val_accuracy: 0.8767\n",
            "Epoch 112/400\n",
            "8/8 [==============================] - 0s 5ms/step - loss: 0.5659 - accuracy: 0.8571 - val_loss: 0.5510 - val_accuracy: 0.8767\n",
            "Epoch 113/400\n",
            "8/8 [==============================] - 0s 5ms/step - loss: 0.5636 - accuracy: 0.8552 - val_loss: 0.5486 - val_accuracy: 0.8721\n",
            "Epoch 114/400\n",
            "8/8 [==============================] - 0s 6ms/step - loss: 0.5615 - accuracy: 0.8562 - val_loss: 0.5463 - val_accuracy: 0.8721\n",
            "Epoch 115/400\n",
            "8/8 [==============================] - 0s 6ms/step - loss: 0.5594 - accuracy: 0.8562 - val_loss: 0.5440 - val_accuracy: 0.8721\n",
            "Epoch 116/400\n",
            "8/8 [==============================] - 0s 6ms/step - loss: 0.5572 - accuracy: 0.8571 - val_loss: 0.5416 - val_accuracy: 0.8721\n",
            "Epoch 117/400\n",
            "8/8 [==============================] - 0s 6ms/step - loss: 0.5552 - accuracy: 0.8562 - val_loss: 0.5393 - val_accuracy: 0.8721\n",
            "Epoch 118/400\n",
            "8/8 [==============================] - 0s 6ms/step - loss: 0.5530 - accuracy: 0.8562 - val_loss: 0.5370 - val_accuracy: 0.8721\n",
            "Epoch 119/400\n",
            "8/8 [==============================] - 0s 21ms/step - loss: 0.5510 - accuracy: 0.8562 - val_loss: 0.5347 - val_accuracy: 0.8721\n",
            "Epoch 120/400\n",
            "8/8 [==============================] - 0s 5ms/step - loss: 0.5487 - accuracy: 0.8562 - val_loss: 0.5324 - val_accuracy: 0.8721\n",
            "Epoch 121/400\n",
            "8/8 [==============================] - 0s 6ms/step - loss: 0.5467 - accuracy: 0.8562 - val_loss: 0.5300 - val_accuracy: 0.8767\n",
            "Epoch 122/400\n",
            "8/8 [==============================] - 0s 5ms/step - loss: 0.5446 - accuracy: 0.8571 - val_loss: 0.5278 - val_accuracy: 0.8767\n",
            "Epoch 123/400\n",
            "8/8 [==============================] - 0s 6ms/step - loss: 0.5424 - accuracy: 0.8562 - val_loss: 0.5254 - val_accuracy: 0.8813\n",
            "Epoch 124/400\n",
            "8/8 [==============================] - 0s 5ms/step - loss: 0.5404 - accuracy: 0.8571 - val_loss: 0.5231 - val_accuracy: 0.8813\n",
            "Epoch 125/400\n",
            "8/8 [==============================] - 0s 6ms/step - loss: 0.5383 - accuracy: 0.8581 - val_loss: 0.5208 - val_accuracy: 0.8813\n",
            "Epoch 126/400\n",
            "8/8 [==============================] - 0s 5ms/step - loss: 0.5361 - accuracy: 0.8581 - val_loss: 0.5185 - val_accuracy: 0.8813\n",
            "Epoch 127/400\n",
            "8/8 [==============================] - 0s 6ms/step - loss: 0.5341 - accuracy: 0.8581 - val_loss: 0.5162 - val_accuracy: 0.8813\n",
            "Epoch 128/400\n",
            "8/8 [==============================] - 0s 6ms/step - loss: 0.5320 - accuracy: 0.8571 - val_loss: 0.5140 - val_accuracy: 0.8813\n",
            "Epoch 129/400\n",
            "8/8 [==============================] - 0s 5ms/step - loss: 0.5300 - accuracy: 0.8601 - val_loss: 0.5117 - val_accuracy: 0.8813\n",
            "Epoch 130/400\n",
            "8/8 [==============================] - 0s 6ms/step - loss: 0.5279 - accuracy: 0.8591 - val_loss: 0.5095 - val_accuracy: 0.8813\n",
            "Epoch 131/400\n",
            "8/8 [==============================] - 0s 5ms/step - loss: 0.5258 - accuracy: 0.8591 - val_loss: 0.5072 - val_accuracy: 0.8813\n",
            "Epoch 132/400\n",
            "8/8 [==============================] - 0s 6ms/step - loss: 0.5237 - accuracy: 0.8611 - val_loss: 0.5050 - val_accuracy: 0.8813\n",
            "Epoch 133/400\n",
            "8/8 [==============================] - 0s 6ms/step - loss: 0.5218 - accuracy: 0.8581 - val_loss: 0.5028 - val_accuracy: 0.8858\n",
            "Epoch 134/400\n",
            "8/8 [==============================] - 0s 6ms/step - loss: 0.5197 - accuracy: 0.8581 - val_loss: 0.5005 - val_accuracy: 0.8858\n",
            "Epoch 135/400\n",
            "8/8 [==============================] - 0s 6ms/step - loss: 0.5178 - accuracy: 0.8620 - val_loss: 0.4983 - val_accuracy: 0.8858\n",
            "Epoch 136/400\n",
            "8/8 [==============================] - 0s 6ms/step - loss: 0.5158 - accuracy: 0.8611 - val_loss: 0.4962 - val_accuracy: 0.8858\n",
            "Epoch 137/400\n",
            "8/8 [==============================] - 0s 6ms/step - loss: 0.5138 - accuracy: 0.8620 - val_loss: 0.4940 - val_accuracy: 0.8858\n",
            "Epoch 138/400\n",
            "8/8 [==============================] - 0s 6ms/step - loss: 0.5119 - accuracy: 0.8611 - val_loss: 0.4919 - val_accuracy: 0.8858\n",
            "Epoch 139/400\n",
            "8/8 [==============================] - 0s 5ms/step - loss: 0.5099 - accuracy: 0.8620 - val_loss: 0.4898 - val_accuracy: 0.8858\n",
            "Epoch 140/400\n",
            "8/8 [==============================] - 0s 6ms/step - loss: 0.5079 - accuracy: 0.8630 - val_loss: 0.4876 - val_accuracy: 0.8858\n",
            "Epoch 141/400\n",
            "8/8 [==============================] - 0s 5ms/step - loss: 0.5060 - accuracy: 0.8611 - val_loss: 0.4855 - val_accuracy: 0.8858\n",
            "Epoch 142/400\n",
            "8/8 [==============================] - 0s 6ms/step - loss: 0.5041 - accuracy: 0.8620 - val_loss: 0.4834 - val_accuracy: 0.8858\n",
            "Epoch 143/400\n",
            "8/8 [==============================] - 0s 6ms/step - loss: 0.5023 - accuracy: 0.8630 - val_loss: 0.4814 - val_accuracy: 0.8858\n",
            "Epoch 144/400\n",
            "8/8 [==============================] - 0s 6ms/step - loss: 0.5004 - accuracy: 0.8620 - val_loss: 0.4793 - val_accuracy: 0.8858\n",
            "Epoch 145/400\n",
            "8/8 [==============================] - 0s 5ms/step - loss: 0.4985 - accuracy: 0.8611 - val_loss: 0.4772 - val_accuracy: 0.8858\n",
            "Epoch 146/400\n",
            "8/8 [==============================] - 0s 6ms/step - loss: 0.4966 - accuracy: 0.8611 - val_loss: 0.4752 - val_accuracy: 0.8858\n",
            "Epoch 147/400\n",
            "8/8 [==============================] - 0s 6ms/step - loss: 0.4949 - accuracy: 0.8611 - val_loss: 0.4732 - val_accuracy: 0.8858\n",
            "Epoch 148/400\n",
            "8/8 [==============================] - 0s 6ms/step - loss: 0.4930 - accuracy: 0.8611 - val_loss: 0.4712 - val_accuracy: 0.8858\n",
            "Epoch 149/400\n",
            "8/8 [==============================] - 0s 6ms/step - loss: 0.4913 - accuracy: 0.8611 - val_loss: 0.4692 - val_accuracy: 0.8858\n",
            "Epoch 150/400\n",
            "8/8 [==============================] - 0s 6ms/step - loss: 0.4895 - accuracy: 0.8591 - val_loss: 0.4673 - val_accuracy: 0.8858\n",
            "Epoch 151/400\n",
            "8/8 [==============================] - 0s 5ms/step - loss: 0.4877 - accuracy: 0.8611 - val_loss: 0.4653 - val_accuracy: 0.8858\n",
            "Epoch 152/400\n",
            "8/8 [==============================] - 0s 6ms/step - loss: 0.4861 - accuracy: 0.8620 - val_loss: 0.4635 - val_accuracy: 0.8858\n",
            "Epoch 153/400\n",
            "8/8 [==============================] - 0s 5ms/step - loss: 0.4844 - accuracy: 0.8630 - val_loss: 0.4615 - val_accuracy: 0.8904\n",
            "Epoch 154/400\n",
            "8/8 [==============================] - 0s 6ms/step - loss: 0.4826 - accuracy: 0.8611 - val_loss: 0.4596 - val_accuracy: 0.8904\n",
            "Epoch 155/400\n",
            "8/8 [==============================] - 0s 6ms/step - loss: 0.4809 - accuracy: 0.8620 - val_loss: 0.4578 - val_accuracy: 0.8858\n",
            "Epoch 156/400\n",
            "8/8 [==============================] - 0s 6ms/step - loss: 0.4793 - accuracy: 0.8630 - val_loss: 0.4560 - val_accuracy: 0.8904\n",
            "Epoch 157/400\n",
            "8/8 [==============================] - 0s 5ms/step - loss: 0.4778 - accuracy: 0.8640 - val_loss: 0.4541 - val_accuracy: 0.8904\n",
            "Epoch 158/400\n",
            "8/8 [==============================] - 0s 6ms/step - loss: 0.4761 - accuracy: 0.8630 - val_loss: 0.4523 - val_accuracy: 0.8904\n",
            "Epoch 159/400\n",
            "8/8 [==============================] - 0s 6ms/step - loss: 0.4744 - accuracy: 0.8630 - val_loss: 0.4505 - val_accuracy: 0.8904\n",
            "Epoch 160/400\n",
            "8/8 [==============================] - 0s 5ms/step - loss: 0.4729 - accuracy: 0.8699 - val_loss: 0.4489 - val_accuracy: 0.8904\n",
            "Epoch 161/400\n",
            "8/8 [==============================] - 0s 6ms/step - loss: 0.4713 - accuracy: 0.8640 - val_loss: 0.4471 - val_accuracy: 0.8904\n",
            "Epoch 162/400\n",
            "8/8 [==============================] - 0s 6ms/step - loss: 0.4697 - accuracy: 0.8640 - val_loss: 0.4454 - val_accuracy: 0.8858\n",
            "Epoch 163/400\n",
            "8/8 [==============================] - 0s 6ms/step - loss: 0.4683 - accuracy: 0.8640 - val_loss: 0.4436 - val_accuracy: 0.8858\n",
            "Epoch 164/400\n",
            "8/8 [==============================] - 0s 6ms/step - loss: 0.4667 - accuracy: 0.8659 - val_loss: 0.4420 - val_accuracy: 0.8858\n",
            "Epoch 165/400\n",
            "8/8 [==============================] - 0s 6ms/step - loss: 0.4652 - accuracy: 0.8659 - val_loss: 0.4403 - val_accuracy: 0.8858\n",
            "Epoch 166/400\n",
            "8/8 [==============================] - 0s 5ms/step - loss: 0.4639 - accuracy: 0.8669 - val_loss: 0.4387 - val_accuracy: 0.8858\n",
            "Epoch 167/400\n",
            "8/8 [==============================] - 0s 5ms/step - loss: 0.4624 - accuracy: 0.8679 - val_loss: 0.4371 - val_accuracy: 0.8858\n",
            "Epoch 168/400\n",
            "8/8 [==============================] - 0s 5ms/step - loss: 0.4609 - accuracy: 0.8650 - val_loss: 0.4355 - val_accuracy: 0.8858\n",
            "Epoch 169/400\n",
            "8/8 [==============================] - 0s 5ms/step - loss: 0.4595 - accuracy: 0.8689 - val_loss: 0.4338 - val_accuracy: 0.8858\n",
            "Epoch 170/400\n",
            "8/8 [==============================] - 0s 6ms/step - loss: 0.4581 - accuracy: 0.8659 - val_loss: 0.4322 - val_accuracy: 0.8858\n",
            "Epoch 171/400\n",
            "8/8 [==============================] - 0s 6ms/step - loss: 0.4567 - accuracy: 0.8679 - val_loss: 0.4307 - val_accuracy: 0.8858\n",
            "Epoch 172/400\n",
            "8/8 [==============================] - 0s 6ms/step - loss: 0.4556 - accuracy: 0.8659 - val_loss: 0.4291 - val_accuracy: 0.8858\n",
            "Epoch 173/400\n",
            "8/8 [==============================] - 0s 6ms/step - loss: 0.4541 - accuracy: 0.8708 - val_loss: 0.4277 - val_accuracy: 0.8858\n",
            "Epoch 174/400\n",
            "8/8 [==============================] - 0s 6ms/step - loss: 0.4528 - accuracy: 0.8689 - val_loss: 0.4261 - val_accuracy: 0.8858\n",
            "Epoch 175/400\n",
            "8/8 [==============================] - 0s 7ms/step - loss: 0.4515 - accuracy: 0.8718 - val_loss: 0.4247 - val_accuracy: 0.8858\n",
            "Epoch 176/400\n",
            "8/8 [==============================] - 0s 5ms/step - loss: 0.4501 - accuracy: 0.8718 - val_loss: 0.4233 - val_accuracy: 0.8813\n",
            "Epoch 177/400\n",
            "8/8 [==============================] - 0s 5ms/step - loss: 0.4488 - accuracy: 0.8708 - val_loss: 0.4218 - val_accuracy: 0.8858\n",
            "Epoch 178/400\n",
            "8/8 [==============================] - 0s 5ms/step - loss: 0.4478 - accuracy: 0.8728 - val_loss: 0.4205 - val_accuracy: 0.8858\n",
            "Epoch 179/400\n",
            "8/8 [==============================] - 0s 5ms/step - loss: 0.4464 - accuracy: 0.8718 - val_loss: 0.4191 - val_accuracy: 0.8858\n",
            "Epoch 180/400\n",
            "8/8 [==============================] - 0s 5ms/step - loss: 0.4451 - accuracy: 0.8708 - val_loss: 0.4177 - val_accuracy: 0.8858\n",
            "Epoch 181/400\n",
            "8/8 [==============================] - 0s 6ms/step - loss: 0.4441 - accuracy: 0.8699 - val_loss: 0.4163 - val_accuracy: 0.8858\n",
            "Epoch 182/400\n",
            "8/8 [==============================] - 0s 6ms/step - loss: 0.4429 - accuracy: 0.8699 - val_loss: 0.4150 - val_accuracy: 0.8858\n",
            "Epoch 183/400\n",
            "8/8 [==============================] - 0s 7ms/step - loss: 0.4416 - accuracy: 0.8728 - val_loss: 0.4137 - val_accuracy: 0.8858\n",
            "Epoch 184/400\n",
            "8/8 [==============================] - 0s 6ms/step - loss: 0.4407 - accuracy: 0.8708 - val_loss: 0.4124 - val_accuracy: 0.8858\n",
            "Epoch 185/400\n",
            "8/8 [==============================] - 0s 6ms/step - loss: 0.4394 - accuracy: 0.8718 - val_loss: 0.4111 - val_accuracy: 0.8858\n",
            "Epoch 186/400\n",
            "8/8 [==============================] - 0s 5ms/step - loss: 0.4383 - accuracy: 0.8718 - val_loss: 0.4098 - val_accuracy: 0.8858\n",
            "Epoch 187/400\n",
            "8/8 [==============================] - 0s 5ms/step - loss: 0.4372 - accuracy: 0.8728 - val_loss: 0.4086 - val_accuracy: 0.8858\n",
            "Epoch 188/400\n",
            "8/8 [==============================] - 0s 5ms/step - loss: 0.4361 - accuracy: 0.8708 - val_loss: 0.4074 - val_accuracy: 0.8858\n",
            "Epoch 189/400\n",
            "8/8 [==============================] - 0s 6ms/step - loss: 0.4352 - accuracy: 0.8699 - val_loss: 0.4061 - val_accuracy: 0.8858\n",
            "Epoch 190/400\n",
            "8/8 [==============================] - 0s 5ms/step - loss: 0.4342 - accuracy: 0.8708 - val_loss: 0.4049 - val_accuracy: 0.8858\n",
            "Epoch 191/400\n",
            "8/8 [==============================] - 0s 6ms/step - loss: 0.4330 - accuracy: 0.8708 - val_loss: 0.4038 - val_accuracy: 0.8858\n",
            "Epoch 192/400\n",
            "8/8 [==============================] - 0s 5ms/step - loss: 0.4320 - accuracy: 0.8718 - val_loss: 0.4027 - val_accuracy: 0.8858\n",
            "Epoch 193/400\n",
            "8/8 [==============================] - 0s 7ms/step - loss: 0.4310 - accuracy: 0.8708 - val_loss: 0.4015 - val_accuracy: 0.8858\n",
            "Epoch 194/400\n",
            "8/8 [==============================] - 0s 5ms/step - loss: 0.4300 - accuracy: 0.8728 - val_loss: 0.4004 - val_accuracy: 0.8858\n",
            "Epoch 195/400\n",
            "8/8 [==============================] - 0s 5ms/step - loss: 0.4291 - accuracy: 0.8718 - val_loss: 0.3993 - val_accuracy: 0.8858\n",
            "Epoch 196/400\n",
            "8/8 [==============================] - 0s 5ms/step - loss: 0.4283 - accuracy: 0.8718 - val_loss: 0.3982 - val_accuracy: 0.8858\n",
            "Epoch 197/400\n",
            "8/8 [==============================] - 0s 5ms/step - loss: 0.4272 - accuracy: 0.8728 - val_loss: 0.3971 - val_accuracy: 0.8858\n",
            "Epoch 198/400\n",
            "8/8 [==============================] - 0s 6ms/step - loss: 0.4262 - accuracy: 0.8728 - val_loss: 0.3961 - val_accuracy: 0.8858\n",
            "Epoch 199/400\n",
            "8/8 [==============================] - 0s 6ms/step - loss: 0.4254 - accuracy: 0.8718 - val_loss: 0.3950 - val_accuracy: 0.8858\n",
            "Epoch 200/400\n",
            "8/8 [==============================] - 0s 6ms/step - loss: 0.4245 - accuracy: 0.8718 - val_loss: 0.3940 - val_accuracy: 0.8858\n",
            "Epoch 201/400\n",
            "8/8 [==============================] - 0s 7ms/step - loss: 0.4236 - accuracy: 0.8718 - val_loss: 0.3930 - val_accuracy: 0.8858\n",
            "Epoch 202/400\n",
            "8/8 [==============================] - 0s 6ms/step - loss: 0.4229 - accuracy: 0.8708 - val_loss: 0.3920 - val_accuracy: 0.8858\n",
            "Epoch 203/400\n",
            "8/8 [==============================] - 0s 6ms/step - loss: 0.4218 - accuracy: 0.8728 - val_loss: 0.3910 - val_accuracy: 0.8858\n",
            "Epoch 204/400\n",
            "8/8 [==============================] - 0s 6ms/step - loss: 0.4209 - accuracy: 0.8738 - val_loss: 0.3900 - val_accuracy: 0.8858\n",
            "Epoch 205/400\n",
            "8/8 [==============================] - 0s 6ms/step - loss: 0.4202 - accuracy: 0.8728 - val_loss: 0.3891 - val_accuracy: 0.8858\n",
            "Epoch 206/400\n",
            "8/8 [==============================] - 0s 5ms/step - loss: 0.4193 - accuracy: 0.8728 - val_loss: 0.3881 - val_accuracy: 0.8858\n",
            "Epoch 207/400\n",
            "8/8 [==============================] - 0s 6ms/step - loss: 0.4186 - accuracy: 0.8718 - val_loss: 0.3872 - val_accuracy: 0.8858\n",
            "Epoch 208/400\n",
            "8/8 [==============================] - 0s 6ms/step - loss: 0.4177 - accuracy: 0.8728 - val_loss: 0.3862 - val_accuracy: 0.8858\n",
            "Epoch 209/400\n",
            "8/8 [==============================] - 0s 5ms/step - loss: 0.4170 - accuracy: 0.8728 - val_loss: 0.3854 - val_accuracy: 0.8858\n",
            "Epoch 210/400\n",
            "8/8 [==============================] - 0s 6ms/step - loss: 0.4162 - accuracy: 0.8718 - val_loss: 0.3845 - val_accuracy: 0.8858\n",
            "Epoch 211/400\n",
            "8/8 [==============================] - 0s 5ms/step - loss: 0.4154 - accuracy: 0.8718 - val_loss: 0.3836 - val_accuracy: 0.8858\n",
            "Epoch 212/400\n",
            "8/8 [==============================] - 0s 6ms/step - loss: 0.4149 - accuracy: 0.8718 - val_loss: 0.3828 - val_accuracy: 0.8858\n",
            "Epoch 213/400\n",
            "8/8 [==============================] - 0s 5ms/step - loss: 0.4140 - accuracy: 0.8728 - val_loss: 0.3819 - val_accuracy: 0.8858\n",
            "Epoch 214/400\n",
            "8/8 [==============================] - 0s 5ms/step - loss: 0.4132 - accuracy: 0.8718 - val_loss: 0.3811 - val_accuracy: 0.8858\n",
            "Epoch 215/400\n",
            "8/8 [==============================] - 0s 5ms/step - loss: 0.4125 - accuracy: 0.8748 - val_loss: 0.3803 - val_accuracy: 0.8858\n",
            "Epoch 216/400\n",
            "8/8 [==============================] - 0s 5ms/step - loss: 0.4118 - accuracy: 0.8718 - val_loss: 0.3794 - val_accuracy: 0.8858\n",
            "Epoch 217/400\n",
            "8/8 [==============================] - 0s 6ms/step - loss: 0.4111 - accuracy: 0.8708 - val_loss: 0.3786 - val_accuracy: 0.8858\n",
            "Epoch 218/400\n",
            "8/8 [==============================] - 0s 5ms/step - loss: 0.4104 - accuracy: 0.8718 - val_loss: 0.3777 - val_accuracy: 0.8858\n",
            "Epoch 219/400\n",
            "8/8 [==============================] - 0s 6ms/step - loss: 0.4097 - accuracy: 0.8748 - val_loss: 0.3769 - val_accuracy: 0.8858\n",
            "Epoch 220/400\n",
            "8/8 [==============================] - 0s 5ms/step - loss: 0.4091 - accuracy: 0.8748 - val_loss: 0.3761 - val_accuracy: 0.8858\n",
            "Epoch 221/400\n",
            "8/8 [==============================] - 0s 5ms/step - loss: 0.4086 - accuracy: 0.8738 - val_loss: 0.3754 - val_accuracy: 0.8858\n",
            "Epoch 222/400\n",
            "8/8 [==============================] - 0s 7ms/step - loss: 0.4077 - accuracy: 0.8748 - val_loss: 0.3747 - val_accuracy: 0.8858\n",
            "Epoch 223/400\n",
            "8/8 [==============================] - 0s 6ms/step - loss: 0.4072 - accuracy: 0.8748 - val_loss: 0.3740 - val_accuracy: 0.8858\n",
            "Epoch 224/400\n",
            "8/8 [==============================] - 0s 6ms/step - loss: 0.4065 - accuracy: 0.8728 - val_loss: 0.3732 - val_accuracy: 0.8858\n",
            "Epoch 225/400\n",
            "8/8 [==============================] - 0s 6ms/step - loss: 0.4059 - accuracy: 0.8757 - val_loss: 0.3724 - val_accuracy: 0.8858\n",
            "Epoch 226/400\n",
            "8/8 [==============================] - 0s 6ms/step - loss: 0.4053 - accuracy: 0.8738 - val_loss: 0.3717 - val_accuracy: 0.8858\n",
            "Epoch 227/400\n",
            "8/8 [==============================] - 0s 5ms/step - loss: 0.4048 - accuracy: 0.8728 - val_loss: 0.3710 - val_accuracy: 0.8858\n",
            "Epoch 228/400\n",
            "8/8 [==============================] - 0s 5ms/step - loss: 0.4042 - accuracy: 0.8738 - val_loss: 0.3703 - val_accuracy: 0.8813\n",
            "Epoch 229/400\n",
            "8/8 [==============================] - 0s 5ms/step - loss: 0.4035 - accuracy: 0.8718 - val_loss: 0.3696 - val_accuracy: 0.8813\n",
            "Epoch 230/400\n",
            "8/8 [==============================] - 0s 6ms/step - loss: 0.4029 - accuracy: 0.8748 - val_loss: 0.3689 - val_accuracy: 0.8813\n",
            "Epoch 231/400\n",
            "8/8 [==============================] - 0s 6ms/step - loss: 0.4024 - accuracy: 0.8718 - val_loss: 0.3683 - val_accuracy: 0.8813\n",
            "Epoch 232/400\n",
            "8/8 [==============================] - 0s 6ms/step - loss: 0.4018 - accuracy: 0.8748 - val_loss: 0.3676 - val_accuracy: 0.8813\n",
            "Epoch 233/400\n",
            "8/8 [==============================] - 0s 6ms/step - loss: 0.4012 - accuracy: 0.8728 - val_loss: 0.3670 - val_accuracy: 0.8813\n",
            "Epoch 234/400\n",
            "8/8 [==============================] - 0s 6ms/step - loss: 0.4007 - accuracy: 0.8728 - val_loss: 0.3663 - val_accuracy: 0.8813\n",
            "Epoch 235/400\n",
            "8/8 [==============================] - 0s 5ms/step - loss: 0.4003 - accuracy: 0.8728 - val_loss: 0.3657 - val_accuracy: 0.8813\n",
            "Epoch 236/400\n",
            "8/8 [==============================] - 0s 6ms/step - loss: 0.3997 - accuracy: 0.8728 - val_loss: 0.3651 - val_accuracy: 0.8813\n",
            "Epoch 237/400\n",
            "8/8 [==============================] - 0s 6ms/step - loss: 0.3991 - accuracy: 0.8738 - val_loss: 0.3645 - val_accuracy: 0.8813\n",
            "Epoch 238/400\n",
            "8/8 [==============================] - 0s 5ms/step - loss: 0.3985 - accuracy: 0.8728 - val_loss: 0.3639 - val_accuracy: 0.8813\n",
            "Epoch 239/400\n",
            "8/8 [==============================] - 0s 6ms/step - loss: 0.3980 - accuracy: 0.8748 - val_loss: 0.3633 - val_accuracy: 0.8813\n",
            "Epoch 240/400\n",
            "8/8 [==============================] - 0s 5ms/step - loss: 0.3976 - accuracy: 0.8738 - val_loss: 0.3626 - val_accuracy: 0.8813\n",
            "Epoch 241/400\n",
            "8/8 [==============================] - 0s 7ms/step - loss: 0.3971 - accuracy: 0.8738 - val_loss: 0.3619 - val_accuracy: 0.8813\n",
            "Epoch 242/400\n",
            "8/8 [==============================] - 0s 6ms/step - loss: 0.3969 - accuracy: 0.8728 - val_loss: 0.3614 - val_accuracy: 0.8813\n",
            "Epoch 243/400\n",
            "8/8 [==============================] - 0s 6ms/step - loss: 0.3962 - accuracy: 0.8718 - val_loss: 0.3609 - val_accuracy: 0.8813\n",
            "Epoch 244/400\n",
            "8/8 [==============================] - 0s 5ms/step - loss: 0.3957 - accuracy: 0.8718 - val_loss: 0.3603 - val_accuracy: 0.8813\n",
            "Epoch 245/400\n",
            "8/8 [==============================] - 0s 5ms/step - loss: 0.3951 - accuracy: 0.8728 - val_loss: 0.3597 - val_accuracy: 0.8813\n",
            "Epoch 246/400\n",
            "8/8 [==============================] - 0s 6ms/step - loss: 0.3946 - accuracy: 0.8718 - val_loss: 0.3592 - val_accuracy: 0.8813\n",
            "Epoch 247/400\n",
            "8/8 [==============================] - 0s 5ms/step - loss: 0.3942 - accuracy: 0.8738 - val_loss: 0.3587 - val_accuracy: 0.8813\n",
            "Epoch 248/400\n",
            "8/8 [==============================] - 0s 6ms/step - loss: 0.3937 - accuracy: 0.8728 - val_loss: 0.3580 - val_accuracy: 0.8813\n",
            "Epoch 249/400\n",
            "8/8 [==============================] - 0s 6ms/step - loss: 0.3934 - accuracy: 0.8708 - val_loss: 0.3576 - val_accuracy: 0.8813\n",
            "Epoch 250/400\n",
            "8/8 [==============================] - 0s 6ms/step - loss: 0.3932 - accuracy: 0.8728 - val_loss: 0.3569 - val_accuracy: 0.8813\n",
            "Epoch 251/400\n",
            "8/8 [==============================] - 0s 5ms/step - loss: 0.3925 - accuracy: 0.8699 - val_loss: 0.3566 - val_accuracy: 0.8813\n",
            "Epoch 252/400\n",
            "8/8 [==============================] - 0s 5ms/step - loss: 0.3921 - accuracy: 0.8767 - val_loss: 0.3559 - val_accuracy: 0.8813\n",
            "Epoch 253/400\n",
            "8/8 [==============================] - 0s 6ms/step - loss: 0.3915 - accuracy: 0.8718 - val_loss: 0.3554 - val_accuracy: 0.8813\n",
            "Epoch 254/400\n",
            "8/8 [==============================] - 0s 5ms/step - loss: 0.3912 - accuracy: 0.8708 - val_loss: 0.3549 - val_accuracy: 0.8813\n",
            "Epoch 255/400\n",
            "8/8 [==============================] - 0s 6ms/step - loss: 0.3908 - accuracy: 0.8718 - val_loss: 0.3544 - val_accuracy: 0.8813\n",
            "Epoch 256/400\n",
            "8/8 [==============================] - 0s 5ms/step - loss: 0.3903 - accuracy: 0.8728 - val_loss: 0.3539 - val_accuracy: 0.8813\n",
            "Epoch 257/400\n",
            "8/8 [==============================] - 0s 6ms/step - loss: 0.3899 - accuracy: 0.8718 - val_loss: 0.3535 - val_accuracy: 0.8813\n",
            "Epoch 258/400\n",
            "8/8 [==============================] - 0s 6ms/step - loss: 0.3894 - accuracy: 0.8728 - val_loss: 0.3530 - val_accuracy: 0.8813\n",
            "Epoch 259/400\n",
            "8/8 [==============================] - 0s 5ms/step - loss: 0.3891 - accuracy: 0.8718 - val_loss: 0.3525 - val_accuracy: 0.8813\n",
            "Epoch 260/400\n",
            "8/8 [==============================] - 0s 6ms/step - loss: 0.3885 - accuracy: 0.8718 - val_loss: 0.3521 - val_accuracy: 0.8813\n",
            "Epoch 261/400\n",
            "8/8 [==============================] - 0s 6ms/step - loss: 0.3886 - accuracy: 0.8718 - val_loss: 0.3517 - val_accuracy: 0.8813\n",
            "Epoch 262/400\n",
            "8/8 [==============================] - 0s 5ms/step - loss: 0.3878 - accuracy: 0.8718 - val_loss: 0.3512 - val_accuracy: 0.8813\n",
            "Epoch 263/400\n",
            "8/8 [==============================] - 0s 5ms/step - loss: 0.3875 - accuracy: 0.8708 - val_loss: 0.3506 - val_accuracy: 0.8813\n",
            "Epoch 264/400\n",
            "8/8 [==============================] - 0s 5ms/step - loss: 0.3872 - accuracy: 0.8728 - val_loss: 0.3501 - val_accuracy: 0.8858\n",
            "Epoch 265/400\n",
            "8/8 [==============================] - 0s 6ms/step - loss: 0.3867 - accuracy: 0.8708 - val_loss: 0.3497 - val_accuracy: 0.8858\n",
            "Epoch 266/400\n",
            "8/8 [==============================] - 0s 5ms/step - loss: 0.3862 - accuracy: 0.8718 - val_loss: 0.3492 - val_accuracy: 0.8858\n",
            "Epoch 267/400\n",
            "8/8 [==============================] - 0s 5ms/step - loss: 0.3860 - accuracy: 0.8718 - val_loss: 0.3488 - val_accuracy: 0.8858\n",
            "Epoch 268/400\n",
            "8/8 [==============================] - 0s 6ms/step - loss: 0.3855 - accuracy: 0.8708 - val_loss: 0.3484 - val_accuracy: 0.8858\n",
            "Epoch 269/400\n",
            "8/8 [==============================] - 0s 7ms/step - loss: 0.3853 - accuracy: 0.8728 - val_loss: 0.3480 - val_accuracy: 0.8813\n",
            "Epoch 270/400\n",
            "8/8 [==============================] - 0s 6ms/step - loss: 0.3849 - accuracy: 0.8708 - val_loss: 0.3477 - val_accuracy: 0.8813\n",
            "Epoch 271/400\n",
            "8/8 [==============================] - 0s 6ms/step - loss: 0.3846 - accuracy: 0.8718 - val_loss: 0.3471 - val_accuracy: 0.8858\n",
            "Epoch 272/400\n",
            "8/8 [==============================] - 0s 6ms/step - loss: 0.3841 - accuracy: 0.8718 - val_loss: 0.3468 - val_accuracy: 0.8858\n",
            "Epoch 273/400\n",
            "8/8 [==============================] - 0s 5ms/step - loss: 0.3838 - accuracy: 0.8718 - val_loss: 0.3463 - val_accuracy: 0.8858\n",
            "Epoch 274/400\n",
            "8/8 [==============================] - 0s 5ms/step - loss: 0.3835 - accuracy: 0.8718 - val_loss: 0.3458 - val_accuracy: 0.8858\n",
            "Epoch 275/400\n",
            "8/8 [==============================] - 0s 6ms/step - loss: 0.3834 - accuracy: 0.8708 - val_loss: 0.3454 - val_accuracy: 0.8858\n",
            "Epoch 276/400\n",
            "8/8 [==============================] - 0s 6ms/step - loss: 0.3827 - accuracy: 0.8728 - val_loss: 0.3450 - val_accuracy: 0.8858\n",
            "Epoch 277/400\n",
            "8/8 [==============================] - 0s 5ms/step - loss: 0.3826 - accuracy: 0.8718 - val_loss: 0.3447 - val_accuracy: 0.8858\n",
            "Epoch 278/400\n",
            "8/8 [==============================] - 0s 6ms/step - loss: 0.3822 - accuracy: 0.8708 - val_loss: 0.3444 - val_accuracy: 0.8858\n",
            "Epoch 279/400\n",
            "8/8 [==============================] - 0s 5ms/step - loss: 0.3818 - accuracy: 0.8708 - val_loss: 0.3440 - val_accuracy: 0.8858\n",
            "Epoch 280/400\n",
            "8/8 [==============================] - 0s 5ms/step - loss: 0.3814 - accuracy: 0.8699 - val_loss: 0.3436 - val_accuracy: 0.8858\n",
            "Epoch 281/400\n",
            "8/8 [==============================] - 0s 6ms/step - loss: 0.3811 - accuracy: 0.8718 - val_loss: 0.3432 - val_accuracy: 0.8858\n",
            "Epoch 282/400\n",
            "8/8 [==============================] - 0s 6ms/step - loss: 0.3808 - accuracy: 0.8708 - val_loss: 0.3428 - val_accuracy: 0.8858\n",
            "Epoch 283/400\n",
            "8/8 [==============================] - 0s 7ms/step - loss: 0.3806 - accuracy: 0.8708 - val_loss: 0.3423 - val_accuracy: 0.8858\n",
            "Epoch 284/400\n",
            "8/8 [==============================] - 0s 6ms/step - loss: 0.3801 - accuracy: 0.8718 - val_loss: 0.3420 - val_accuracy: 0.8858\n",
            "Epoch 285/400\n",
            "8/8 [==============================] - 0s 5ms/step - loss: 0.3800 - accuracy: 0.8708 - val_loss: 0.3416 - val_accuracy: 0.8858\n",
            "Epoch 286/400\n",
            "8/8 [==============================] - 0s 5ms/step - loss: 0.3796 - accuracy: 0.8718 - val_loss: 0.3413 - val_accuracy: 0.8858\n",
            "Epoch 287/400\n",
            "8/8 [==============================] - 0s 5ms/step - loss: 0.3793 - accuracy: 0.8718 - val_loss: 0.3409 - val_accuracy: 0.8858\n",
            "Epoch 288/400\n",
            "8/8 [==============================] - 0s 6ms/step - loss: 0.3789 - accuracy: 0.8699 - val_loss: 0.3405 - val_accuracy: 0.8858\n",
            "Epoch 289/400\n",
            "8/8 [==============================] - 0s 6ms/step - loss: 0.3791 - accuracy: 0.8728 - val_loss: 0.3401 - val_accuracy: 0.8858\n",
            "Epoch 290/400\n",
            "8/8 [==============================] - 0s 5ms/step - loss: 0.3785 - accuracy: 0.8728 - val_loss: 0.3398 - val_accuracy: 0.8858\n",
            "Epoch 291/400\n",
            "8/8 [==============================] - 0s 6ms/step - loss: 0.3782 - accuracy: 0.8738 - val_loss: 0.3395 - val_accuracy: 0.8858\n",
            "Epoch 292/400\n",
            "8/8 [==============================] - 0s 6ms/step - loss: 0.3780 - accuracy: 0.8728 - val_loss: 0.3392 - val_accuracy: 0.8858\n",
            "Epoch 293/400\n",
            "8/8 [==============================] - 0s 6ms/step - loss: 0.3775 - accuracy: 0.8728 - val_loss: 0.3388 - val_accuracy: 0.8858\n",
            "Epoch 294/400\n",
            "8/8 [==============================] - 0s 5ms/step - loss: 0.3773 - accuracy: 0.8738 - val_loss: 0.3384 - val_accuracy: 0.8858\n",
            "Epoch 295/400\n",
            "8/8 [==============================] - 0s 5ms/step - loss: 0.3770 - accuracy: 0.8748 - val_loss: 0.3381 - val_accuracy: 0.8858\n",
            "Epoch 296/400\n",
            "8/8 [==============================] - 0s 5ms/step - loss: 0.3767 - accuracy: 0.8728 - val_loss: 0.3378 - val_accuracy: 0.8858\n",
            "Epoch 297/400\n",
            "8/8 [==============================] - 0s 6ms/step - loss: 0.3765 - accuracy: 0.8738 - val_loss: 0.3375 - val_accuracy: 0.8858\n",
            "Epoch 298/400\n",
            "8/8 [==============================] - 0s 6ms/step - loss: 0.3763 - accuracy: 0.8728 - val_loss: 0.3371 - val_accuracy: 0.8858\n",
            "Epoch 299/400\n",
            "8/8 [==============================] - 0s 5ms/step - loss: 0.3761 - accuracy: 0.8748 - val_loss: 0.3367 - val_accuracy: 0.8858\n",
            "Epoch 300/400\n",
            "8/8 [==============================] - 0s 6ms/step - loss: 0.3757 - accuracy: 0.8708 - val_loss: 0.3364 - val_accuracy: 0.8858\n",
            "Epoch 301/400\n",
            "8/8 [==============================] - 0s 6ms/step - loss: 0.3753 - accuracy: 0.8757 - val_loss: 0.3361 - val_accuracy: 0.8858\n",
            "Epoch 302/400\n",
            "8/8 [==============================] - 0s 6ms/step - loss: 0.3752 - accuracy: 0.8738 - val_loss: 0.3359 - val_accuracy: 0.8858\n",
            "Epoch 303/400\n",
            "8/8 [==============================] - 0s 6ms/step - loss: 0.3749 - accuracy: 0.8728 - val_loss: 0.3355 - val_accuracy: 0.8858\n",
            "Epoch 304/400\n",
            "8/8 [==============================] - 0s 6ms/step - loss: 0.3747 - accuracy: 0.8718 - val_loss: 0.3353 - val_accuracy: 0.8858\n",
            "Epoch 305/400\n",
            "8/8 [==============================] - 0s 5ms/step - loss: 0.3742 - accuracy: 0.8728 - val_loss: 0.3350 - val_accuracy: 0.8858\n",
            "Epoch 306/400\n",
            "8/8 [==============================] - 0s 5ms/step - loss: 0.3742 - accuracy: 0.8728 - val_loss: 0.3346 - val_accuracy: 0.8858\n",
            "Epoch 307/400\n",
            "8/8 [==============================] - 0s 7ms/step - loss: 0.3740 - accuracy: 0.8728 - val_loss: 0.3343 - val_accuracy: 0.8858\n",
            "Epoch 308/400\n",
            "8/8 [==============================] - 0s 6ms/step - loss: 0.3736 - accuracy: 0.8738 - val_loss: 0.3340 - val_accuracy: 0.8858\n",
            "Epoch 309/400\n",
            "8/8 [==============================] - 0s 6ms/step - loss: 0.3733 - accuracy: 0.8718 - val_loss: 0.3338 - val_accuracy: 0.8858\n",
            "Epoch 310/400\n",
            "8/8 [==============================] - 0s 5ms/step - loss: 0.3729 - accuracy: 0.8728 - val_loss: 0.3336 - val_accuracy: 0.8858\n",
            "Epoch 311/400\n",
            "8/8 [==============================] - 0s 6ms/step - loss: 0.3727 - accuracy: 0.8748 - val_loss: 0.3333 - val_accuracy: 0.8858\n",
            "Epoch 312/400\n",
            "8/8 [==============================] - 0s 6ms/step - loss: 0.3726 - accuracy: 0.8728 - val_loss: 0.3329 - val_accuracy: 0.8858\n",
            "Epoch 313/400\n",
            "8/8 [==============================] - 0s 5ms/step - loss: 0.3722 - accuracy: 0.8728 - val_loss: 0.3326 - val_accuracy: 0.8813\n",
            "Epoch 314/400\n",
            "8/8 [==============================] - 0s 5ms/step - loss: 0.3722 - accuracy: 0.8728 - val_loss: 0.3324 - val_accuracy: 0.8858\n",
            "Epoch 315/400\n",
            "8/8 [==============================] - 0s 5ms/step - loss: 0.3717 - accuracy: 0.8738 - val_loss: 0.3320 - val_accuracy: 0.8813\n",
            "Epoch 316/400\n",
            "8/8 [==============================] - 0s 7ms/step - loss: 0.3716 - accuracy: 0.8767 - val_loss: 0.3317 - val_accuracy: 0.8813\n",
            "Epoch 317/400\n",
            "8/8 [==============================] - 0s 6ms/step - loss: 0.3712 - accuracy: 0.8738 - val_loss: 0.3314 - val_accuracy: 0.8813\n",
            "Epoch 318/400\n",
            "8/8 [==============================] - 0s 5ms/step - loss: 0.3711 - accuracy: 0.8738 - val_loss: 0.3312 - val_accuracy: 0.8813\n",
            "Epoch 319/400\n",
            "8/8 [==============================] - 0s 5ms/step - loss: 0.3708 - accuracy: 0.8728 - val_loss: 0.3310 - val_accuracy: 0.8813\n",
            "Epoch 320/400\n",
            "8/8 [==============================] - 0s 6ms/step - loss: 0.3707 - accuracy: 0.8738 - val_loss: 0.3308 - val_accuracy: 0.8813\n",
            "Epoch 321/400\n",
            "8/8 [==============================] - 0s 6ms/step - loss: 0.3702 - accuracy: 0.8728 - val_loss: 0.3305 - val_accuracy: 0.8813\n",
            "Epoch 322/400\n",
            "8/8 [==============================] - 0s 5ms/step - loss: 0.3700 - accuracy: 0.8728 - val_loss: 0.3302 - val_accuracy: 0.8767\n",
            "Epoch 323/400\n",
            "8/8 [==============================] - 0s 6ms/step - loss: 0.3698 - accuracy: 0.8728 - val_loss: 0.3299 - val_accuracy: 0.8813\n",
            "Epoch 324/400\n",
            "8/8 [==============================] - 0s 6ms/step - loss: 0.3696 - accuracy: 0.8748 - val_loss: 0.3296 - val_accuracy: 0.8767\n",
            "Epoch 325/400\n",
            "8/8 [==============================] - 0s 5ms/step - loss: 0.3694 - accuracy: 0.8757 - val_loss: 0.3293 - val_accuracy: 0.8767\n",
            "Epoch 326/400\n",
            "8/8 [==============================] - 0s 7ms/step - loss: 0.3693 - accuracy: 0.8757 - val_loss: 0.3292 - val_accuracy: 0.8767\n",
            "Epoch 327/400\n",
            "8/8 [==============================] - 0s 5ms/step - loss: 0.3691 - accuracy: 0.8738 - val_loss: 0.3289 - val_accuracy: 0.8767\n",
            "Epoch 328/400\n",
            "8/8 [==============================] - 0s 6ms/step - loss: 0.3687 - accuracy: 0.8748 - val_loss: 0.3287 - val_accuracy: 0.8767\n",
            "Epoch 329/400\n",
            "8/8 [==============================] - 0s 5ms/step - loss: 0.3685 - accuracy: 0.8748 - val_loss: 0.3284 - val_accuracy: 0.8767\n",
            "Epoch 330/400\n",
            "8/8 [==============================] - 0s 6ms/step - loss: 0.3686 - accuracy: 0.8757 - val_loss: 0.3281 - val_accuracy: 0.8767\n",
            "Epoch 331/400\n",
            "8/8 [==============================] - 0s 6ms/step - loss: 0.3683 - accuracy: 0.8767 - val_loss: 0.3279 - val_accuracy: 0.8767\n",
            "Epoch 332/400\n",
            "8/8 [==============================] - 0s 6ms/step - loss: 0.3681 - accuracy: 0.8787 - val_loss: 0.3278 - val_accuracy: 0.8767\n",
            "Epoch 333/400\n",
            "8/8 [==============================] - 0s 5ms/step - loss: 0.3678 - accuracy: 0.8767 - val_loss: 0.3275 - val_accuracy: 0.8767\n",
            "Epoch 334/400\n",
            "8/8 [==============================] - 0s 5ms/step - loss: 0.3675 - accuracy: 0.8738 - val_loss: 0.3271 - val_accuracy: 0.8767\n",
            "Epoch 335/400\n",
            "8/8 [==============================] - 0s 6ms/step - loss: 0.3674 - accuracy: 0.8767 - val_loss: 0.3270 - val_accuracy: 0.8767\n",
            "Epoch 336/400\n",
            "8/8 [==============================] - 0s 6ms/step - loss: 0.3673 - accuracy: 0.8738 - val_loss: 0.3268 - val_accuracy: 0.8767\n",
            "Epoch 337/400\n",
            "8/8 [==============================] - 0s 5ms/step - loss: 0.3667 - accuracy: 0.8757 - val_loss: 0.3265 - val_accuracy: 0.8767\n",
            "Epoch 338/400\n",
            "8/8 [==============================] - 0s 6ms/step - loss: 0.3665 - accuracy: 0.8757 - val_loss: 0.3264 - val_accuracy: 0.8767\n",
            "Epoch 339/400\n",
            "8/8 [==============================] - 0s 5ms/step - loss: 0.3666 - accuracy: 0.8748 - val_loss: 0.3261 - val_accuracy: 0.8767\n",
            "Epoch 340/400\n",
            "8/8 [==============================] - 0s 6ms/step - loss: 0.3663 - accuracy: 0.8748 - val_loss: 0.3258 - val_accuracy: 0.8767\n",
            "Epoch 341/400\n",
            "8/8 [==============================] - 0s 6ms/step - loss: 0.3660 - accuracy: 0.8748 - val_loss: 0.3256 - val_accuracy: 0.8767\n",
            "Epoch 342/400\n",
            "8/8 [==============================] - 0s 5ms/step - loss: 0.3658 - accuracy: 0.8757 - val_loss: 0.3253 - val_accuracy: 0.8767\n",
            "Epoch 343/400\n",
            "8/8 [==============================] - 0s 5ms/step - loss: 0.3656 - accuracy: 0.8777 - val_loss: 0.3253 - val_accuracy: 0.8767\n",
            "Epoch 344/400\n",
            "8/8 [==============================] - 0s 6ms/step - loss: 0.3656 - accuracy: 0.8757 - val_loss: 0.3250 - val_accuracy: 0.8767\n",
            "Epoch 345/400\n",
            "8/8 [==============================] - 0s 7ms/step - loss: 0.3653 - accuracy: 0.8748 - val_loss: 0.3247 - val_accuracy: 0.8767\n",
            "Epoch 346/400\n",
            "8/8 [==============================] - 0s 6ms/step - loss: 0.3652 - accuracy: 0.8748 - val_loss: 0.3244 - val_accuracy: 0.8767\n",
            "Epoch 347/400\n",
            "8/8 [==============================] - 0s 5ms/step - loss: 0.3648 - accuracy: 0.8767 - val_loss: 0.3243 - val_accuracy: 0.8767\n",
            "Epoch 348/400\n",
            "8/8 [==============================] - 0s 5ms/step - loss: 0.3648 - accuracy: 0.8748 - val_loss: 0.3241 - val_accuracy: 0.8767\n",
            "Epoch 349/400\n",
            "8/8 [==============================] - 0s 6ms/step - loss: 0.3644 - accuracy: 0.8757 - val_loss: 0.3239 - val_accuracy: 0.8767\n",
            "Epoch 350/400\n",
            "8/8 [==============================] - 0s 6ms/step - loss: 0.3642 - accuracy: 0.8748 - val_loss: 0.3237 - val_accuracy: 0.8767\n",
            "Epoch 351/400\n",
            "8/8 [==============================] - 0s 6ms/step - loss: 0.3640 - accuracy: 0.8748 - val_loss: 0.3234 - val_accuracy: 0.8767\n",
            "Epoch 352/400\n",
            "8/8 [==============================] - 0s 6ms/step - loss: 0.3640 - accuracy: 0.8767 - val_loss: 0.3232 - val_accuracy: 0.8767\n",
            "Epoch 353/400\n",
            "8/8 [==============================] - 0s 5ms/step - loss: 0.3637 - accuracy: 0.8748 - val_loss: 0.3229 - val_accuracy: 0.8767\n",
            "Epoch 354/400\n",
            "8/8 [==============================] - 0s 6ms/step - loss: 0.3635 - accuracy: 0.8767 - val_loss: 0.3229 - val_accuracy: 0.8767\n",
            "Epoch 355/400\n",
            "8/8 [==============================] - 0s 5ms/step - loss: 0.3633 - accuracy: 0.8748 - val_loss: 0.3226 - val_accuracy: 0.8767\n",
            "Epoch 356/400\n",
            "8/8 [==============================] - 0s 5ms/step - loss: 0.3632 - accuracy: 0.8787 - val_loss: 0.3225 - val_accuracy: 0.8767\n",
            "Epoch 357/400\n",
            "8/8 [==============================] - 0s 6ms/step - loss: 0.3630 - accuracy: 0.8757 - val_loss: 0.3222 - val_accuracy: 0.8767\n",
            "Epoch 358/400\n",
            "8/8 [==============================] - 0s 5ms/step - loss: 0.3631 - accuracy: 0.8757 - val_loss: 0.3219 - val_accuracy: 0.8767\n",
            "Epoch 359/400\n",
            "8/8 [==============================] - 0s 5ms/step - loss: 0.3627 - accuracy: 0.8777 - val_loss: 0.3218 - val_accuracy: 0.8767\n",
            "Epoch 360/400\n",
            "8/8 [==============================] - 0s 7ms/step - loss: 0.3626 - accuracy: 0.8757 - val_loss: 0.3215 - val_accuracy: 0.8767\n",
            "Epoch 361/400\n",
            "8/8 [==============================] - 0s 6ms/step - loss: 0.3624 - accuracy: 0.8757 - val_loss: 0.3214 - val_accuracy: 0.8767\n",
            "Epoch 362/400\n",
            "8/8 [==============================] - 0s 5ms/step - loss: 0.3620 - accuracy: 0.8738 - val_loss: 0.3211 - val_accuracy: 0.8767\n",
            "Epoch 363/400\n",
            "8/8 [==============================] - 0s 6ms/step - loss: 0.3620 - accuracy: 0.8767 - val_loss: 0.3209 - val_accuracy: 0.8767\n",
            "Epoch 364/400\n",
            "8/8 [==============================] - 0s 6ms/step - loss: 0.3617 - accuracy: 0.8767 - val_loss: 0.3209 - val_accuracy: 0.8767\n",
            "Epoch 365/400\n",
            "8/8 [==============================] - 0s 6ms/step - loss: 0.3615 - accuracy: 0.8767 - val_loss: 0.3205 - val_accuracy: 0.8767\n",
            "Epoch 366/400\n",
            "8/8 [==============================] - 0s 6ms/step - loss: 0.3615 - accuracy: 0.8777 - val_loss: 0.3203 - val_accuracy: 0.8767\n",
            "Epoch 367/400\n",
            "8/8 [==============================] - 0s 5ms/step - loss: 0.3614 - accuracy: 0.8787 - val_loss: 0.3202 - val_accuracy: 0.8767\n",
            "Epoch 368/400\n",
            "8/8 [==============================] - 0s 6ms/step - loss: 0.3610 - accuracy: 0.8767 - val_loss: 0.3201 - val_accuracy: 0.8767\n",
            "Epoch 369/400\n",
            "8/8 [==============================] - 0s 6ms/step - loss: 0.3608 - accuracy: 0.8777 - val_loss: 0.3199 - val_accuracy: 0.8767\n",
            "Epoch 370/400\n",
            "8/8 [==============================] - 0s 5ms/step - loss: 0.3606 - accuracy: 0.8796 - val_loss: 0.3196 - val_accuracy: 0.8767\n",
            "Epoch 371/400\n",
            "8/8 [==============================] - 0s 5ms/step - loss: 0.3605 - accuracy: 0.8806 - val_loss: 0.3194 - val_accuracy: 0.8767\n",
            "Epoch 372/400\n",
            "8/8 [==============================] - 0s 5ms/step - loss: 0.3603 - accuracy: 0.8806 - val_loss: 0.3193 - val_accuracy: 0.8767\n",
            "Epoch 373/400\n",
            "8/8 [==============================] - 0s 7ms/step - loss: 0.3602 - accuracy: 0.8806 - val_loss: 0.3190 - val_accuracy: 0.8767\n",
            "Epoch 374/400\n",
            "8/8 [==============================] - 0s 6ms/step - loss: 0.3600 - accuracy: 0.8777 - val_loss: 0.3188 - val_accuracy: 0.8767\n",
            "Epoch 375/400\n",
            "8/8 [==============================] - 0s 6ms/step - loss: 0.3598 - accuracy: 0.8806 - val_loss: 0.3186 - val_accuracy: 0.8767\n",
            "Epoch 376/400\n",
            "8/8 [==============================] - 0s 5ms/step - loss: 0.3596 - accuracy: 0.8816 - val_loss: 0.3184 - val_accuracy: 0.8767\n",
            "Epoch 377/400\n",
            "8/8 [==============================] - 0s 5ms/step - loss: 0.3593 - accuracy: 0.8796 - val_loss: 0.3183 - val_accuracy: 0.8767\n",
            "Epoch 378/400\n",
            "8/8 [==============================] - 0s 6ms/step - loss: 0.3594 - accuracy: 0.8796 - val_loss: 0.3182 - val_accuracy: 0.8767\n",
            "Epoch 379/400\n",
            "8/8 [==============================] - 0s 6ms/step - loss: 0.3591 - accuracy: 0.8806 - val_loss: 0.3180 - val_accuracy: 0.8767\n",
            "Epoch 380/400\n",
            "8/8 [==============================] - 0s 5ms/step - loss: 0.3591 - accuracy: 0.8787 - val_loss: 0.3179 - val_accuracy: 0.8767\n",
            "Epoch 381/400\n",
            "8/8 [==============================] - 0s 6ms/step - loss: 0.3589 - accuracy: 0.8806 - val_loss: 0.3177 - val_accuracy: 0.8767\n",
            "Epoch 382/400\n",
            "8/8 [==============================] - 0s 6ms/step - loss: 0.3586 - accuracy: 0.8806 - val_loss: 0.3174 - val_accuracy: 0.8813\n",
            "Epoch 383/400\n",
            "8/8 [==============================] - 0s 7ms/step - loss: 0.3583 - accuracy: 0.8796 - val_loss: 0.3172 - val_accuracy: 0.8813\n",
            "Epoch 384/400\n",
            "8/8 [==============================] - 0s 6ms/step - loss: 0.3583 - accuracy: 0.8796 - val_loss: 0.3171 - val_accuracy: 0.8767\n",
            "Epoch 385/400\n",
            "8/8 [==============================] - 0s 5ms/step - loss: 0.3581 - accuracy: 0.8796 - val_loss: 0.3169 - val_accuracy: 0.8767\n",
            "Epoch 386/400\n",
            "8/8 [==============================] - 0s 5ms/step - loss: 0.3580 - accuracy: 0.8806 - val_loss: 0.3167 - val_accuracy: 0.8813\n",
            "Epoch 387/400\n",
            "8/8 [==============================] - 0s 5ms/step - loss: 0.3578 - accuracy: 0.8796 - val_loss: 0.3165 - val_accuracy: 0.8813\n",
            "Epoch 388/400\n",
            "8/8 [==============================] - 0s 6ms/step - loss: 0.3580 - accuracy: 0.8767 - val_loss: 0.3163 - val_accuracy: 0.8858\n",
            "Epoch 389/400\n",
            "8/8 [==============================] - 0s 5ms/step - loss: 0.3574 - accuracy: 0.8787 - val_loss: 0.3162 - val_accuracy: 0.8858\n",
            "Epoch 390/400\n",
            "8/8 [==============================] - 0s 5ms/step - loss: 0.3574 - accuracy: 0.8787 - val_loss: 0.3160 - val_accuracy: 0.8813\n",
            "Epoch 391/400\n",
            "8/8 [==============================] - 0s 5ms/step - loss: 0.3574 - accuracy: 0.8787 - val_loss: 0.3159 - val_accuracy: 0.8813\n",
            "Epoch 392/400\n",
            "8/8 [==============================] - 0s 6ms/step - loss: 0.3569 - accuracy: 0.8806 - val_loss: 0.3159 - val_accuracy: 0.8767\n",
            "Epoch 393/400\n",
            "8/8 [==============================] - 0s 5ms/step - loss: 0.3570 - accuracy: 0.8806 - val_loss: 0.3156 - val_accuracy: 0.8858\n",
            "Epoch 394/400\n",
            "8/8 [==============================] - 0s 6ms/step - loss: 0.3568 - accuracy: 0.8796 - val_loss: 0.3154 - val_accuracy: 0.8858\n",
            "Epoch 395/400\n",
            "8/8 [==============================] - 0s 6ms/step - loss: 0.3567 - accuracy: 0.8787 - val_loss: 0.3152 - val_accuracy: 0.8858\n",
            "Epoch 396/400\n",
            "8/8 [==============================] - 0s 6ms/step - loss: 0.3566 - accuracy: 0.8826 - val_loss: 0.3150 - val_accuracy: 0.8858\n",
            "Epoch 397/400\n",
            "8/8 [==============================] - 0s 5ms/step - loss: 0.3563 - accuracy: 0.8787 - val_loss: 0.3149 - val_accuracy: 0.8858\n",
            "Epoch 398/400\n",
            "8/8 [==============================] - 0s 5ms/step - loss: 0.3562 - accuracy: 0.8787 - val_loss: 0.3147 - val_accuracy: 0.8858\n",
            "Epoch 399/400\n",
            "8/8 [==============================] - 0s 6ms/step - loss: 0.3560 - accuracy: 0.8787 - val_loss: 0.3145 - val_accuracy: 0.8858\n",
            "Epoch 400/400\n",
            "8/8 [==============================] - 0s 6ms/step - loss: 0.3557 - accuracy: 0.8787 - val_loss: 0.3144 - val_accuracy: 0.8858\n"
          ],
          "name": "stdout"
        }
      ]
    },
    {
      "cell_type": "code",
      "metadata": {
        "id": "6QhacWoffViK",
        "colab_type": "code",
        "colab": {
          "base_uri": "https://localhost:8080/",
          "height": 50
        },
        "outputId": "68aee605-9341-497d-bc32-c91bb61f6a41"
      },
      "source": [
        "# evaluation\n",
        "\n",
        "model.evaluate(test_data, test_targets)"
      ],
      "execution_count": 21,
      "outputs": [
        {
          "output_type": "stream",
          "text": [
            "7/7 [==============================] - 0s 2ms/step - loss: 0.2919 - accuracy: 0.9315\n"
          ],
          "name": "stdout"
        },
        {
          "output_type": "execute_result",
          "data": {
            "text/plain": [
              "[0.29191213846206665, 0.931506872177124]"
            ]
          },
          "metadata": {
            "tags": []
          },
          "execution_count": 21
        }
      ]
    },
    {
      "cell_type": "code",
      "metadata": {
        "id": "vRzrC9YHai15",
        "colab_type": "code",
        "colab": {}
      },
      "source": [
        "# recording the predictions\n",
        "\n",
        "preds = model.predict(test_data)"
      ],
      "execution_count": 22,
      "outputs": []
    },
    {
      "cell_type": "code",
      "metadata": {
        "id": "RnYgUDjxf6lJ",
        "colab_type": "code",
        "colab": {
          "base_uri": "https://localhost:8080/",
          "height": 497
        },
        "outputId": "97df6db8-b7f9-4239-b7ae-f4590e02f266"
      },
      "source": [
        "# performance graphs(as a whole)\n",
        "\n",
        "pd.DataFrame(history.history).plot(figsize=(10, 8))\n",
        "plt.xlabel('Epochs')\n",
        "plt.ylabel('Scores')\n",
        "plt.grid(True)"
      ],
      "execution_count": 23,
      "outputs": [
        {
          "output_type": "display_data",
          "data": {
            "image/png": "[encoded data removed]",
            "text/plain": [
              "<Figure size 720x576 with 1 Axes>"
            ]
          },
          "metadata": {
            "tags": [],
            "needs_background": "light"
          }
        }
      ]
    },
    {
      "cell_type": "code",
      "metadata": {
        "id": "238B8RSigOjb",
        "colab_type": "code",
        "colab": {
          "base_uri": "https://localhost:8080/",
          "height": 295
        },
        "outputId": "e1bf9881-b913-4c3b-83de-0e4bb3782c4c"
      },
      "source": [
        "# loss graph\n",
        "\n",
        "plt.plot(history.history['loss'])\n",
        "plt.plot(history.history['val_loss'])\n",
        "plt.title('Model loss')\n",
        "plt.ylabel('Loss')\n",
        "plt.xlabel('Epoch')\n",
        "plt.legend(['Train', 'Val'], loc='upper right')\n",
        "plt.show()"
      ],
      "execution_count": 24,
      "outputs": [
        {
          "output_type": "display_data",
          "data": {
            "image/png": "[encoded data removed]",
            "text/plain": [
              "<Figure size 432x288 with 1 Axes>"
            ]
          },
          "metadata": {
            "tags": [],
            "needs_background": "light"
          }
        }
      ]
    },
    {
      "cell_type": "code",
      "metadata": {
        "id": "NkHqxQRJq3bU",
        "colab_type": "code",
        "colab": {
          "base_uri": "https://localhost:8080/",
          "height": 295
        },
        "outputId": "58a11a31-e3f4-49d7-e621-d510e6edfc05"
      },
      "source": [
        "# accuracy graph\n",
        "\n",
        "plt.plot(history.history['accuracy'])\n",
        "plt.plot(history.history['val_accuracy'])\n",
        "plt.title('Model accuracy')\n",
        "plt.ylabel('Accuracy')\n",
        "plt.xlabel('Epoch')\n",
        "plt.legend(['Train', 'Val'], loc='lower right')\n",
        "plt.show()"
      ],
      "execution_count": 25,
      "outputs": [
        {
          "output_type": "display_data",
          "data": {
            "image/png": "[encoded data removed]",
            "text/plain": [
              "<Figure size 432x288 with 1 Axes>"
            ]
          },
          "metadata": {
            "tags": [],
            "needs_background": "light"
          }
        }
      ]
    },
    {
      "cell_type": "code",
      "metadata": {
        "id": "AACi6XAMtEef",
        "colab_type": "code",
        "colab": {
          "base_uri": "https://localhost:8080/",
          "height": 202
        },
        "outputId": "d5511dde-01b2-4ae9-c9ab-861b4b9f9458"
      },
      "source": [
        "# first 10 labels\n",
        "\n",
        "print(test_targets[:10])"
      ],
      "execution_count": 26,
      "outputs": [
        {
          "output_type": "stream",
          "text": [
            "605     1\n",
            "1057    1\n",
            "381     1\n",
            "589     0\n",
            "292     0\n",
            "584     0\n",
            "1430    1\n",
            "1249    0\n",
            "377     1\n",
            "1125    0\n",
            "Name: AboveMedianPrice, dtype: int64\n"
          ],
          "name": "stdout"
        }
      ]
    },
    {
      "cell_type": "code",
      "metadata": {
        "id": "z_fULYE-tqes",
        "colab_type": "code",
        "colab": {
          "base_uri": "https://localhost:8080/",
          "height": 185
        },
        "outputId": "a707190e-5a74-40a8-fc34-a8f224fe9eff"
      },
      "source": [
        "# first 10 predictions\n",
        "# NOW YOU SEE. We got some scores. We'd just round these off to the \n",
        "# nearest integers which is 0 or 1. As you can see in the output the scores predicted are between 0 to 1  \n",
        "\n",
        "print(preds[:10])"
      ],
      "execution_count": 27,
      "outputs": [
        {
          "output_type": "stream",
          "text": [
            "[[0.9867948 ]\n",
            " [0.9370372 ]\n",
            " [0.89790213]\n",
            " [0.0352996 ]\n",
            " [0.31425026]\n",
            " [0.01818854]\n",
            " [0.7501423 ]\n",
            " [0.02351594]\n",
            " [0.98847914]\n",
            " [0.1798945 ]]\n"
          ],
          "name": "stdout"
        }
      ]
    },
    {
      "cell_type": "code",
      "metadata": {
        "id": "old4VlX7t7Z8",
        "colab_type": "code",
        "colab": {}
      },
      "source": [
        "# rounding off\n",
        "\n",
        "preds_new = np.around(preds)"
      ],
      "execution_count": 28,
      "outputs": []
    },
    {
      "cell_type": "code",
      "metadata": {
        "id": "YVEk4NBxB-Io",
        "colab_type": "code",
        "colab": {
          "base_uri": "https://localhost:8080/",
          "height": 185
        },
        "outputId": "2ecc7058-fabe-4dd1-a518-8abfa352009d"
      },
      "source": [
        "# our actual desired redicted labels\n",
        "\n",
        "print(preds_new[:10])"
      ],
      "execution_count": 29,
      "outputs": [
        {
          "output_type": "stream",
          "text": [
            "[[1.]\n",
            " [1.]\n",
            " [1.]\n",
            " [0.]\n",
            " [0.]\n",
            " [0.]\n",
            " [1.]\n",
            " [0.]\n",
            " [1.]\n",
            " [0.]]\n"
          ],
          "name": "stdout"
        }
      ]
    },
    {
      "cell_type": "code",
      "metadata": {
        "id": "6X3d38gsvx24",
        "colab_type": "code",
        "colab": {
          "base_uri": "https://localhost:8080/",
          "height": 775
        },
        "outputId": "2213ea2f-9c2f-4bb3-8edf-ec71fff63920"
      },
      "source": [
        "# now we would compare our predicted values with the actual values using histograms\n",
        "\n",
        "plt.figure(figsize=(8, 6))\n",
        "plt.hist(preds_new, density=False, bins=30)\n",
        "plt.ylabel('Labels')\n",
        "plt.xlabel('Frequency')\n",
        "plt.title('Predicted')\n",
        "plt.show()\n",
        "\n",
        "plt.figure(figsize=(8, 6))\n",
        "plt.hist(test_targets, density=False, bins=30)\n",
        "plt.ylabel('Labels')\n",
        "plt.xlabel('Frequency')\n",
        "plt.ylabel('Labels')\n",
        "plt.xlabel('Actual')\n",
        "plt.show()"
      ],
      "execution_count": 30,
      "outputs": [
        {
          "output_type": "display_data",
          "data": {
            "image/png": "[encoded data removed]",
            "text/plain": [
              "<Figure size 576x432 with 1 Axes>"
            ]
          },
          "metadata": {
            "tags": [],
            "needs_background": "light"
          }
        },
        {
          "output_type": "display_data",
          "data": {
            "image/png": "[encoded data removed]",
            "text/plain": [
              "<Figure size 576x432 with 1 Axes>"
            ]
          },
          "metadata": {
            "tags": [],
            "needs_background": "light"
          }
        }
      ]
    },
    {
      "cell_type": "code",
      "metadata": {
        "id": "b4poI7sZwrdM",
        "colab_type": "code",
        "colab": {
          "base_uri": "https://localhost:8080/",
          "height": 34
        },
        "outputId": "5ce13ae8-d60c-4b73-be77-6a2d9a283fcb"
      },
      "source": [
        "# predicted counts\n",
        "\n",
        "elements, counts_preds = np.unique(preds_new, return_counts=True)\n",
        "print(elements, \"->\", counts_preds)"
      ],
      "execution_count": 31,
      "outputs": [
        {
          "output_type": "stream",
          "text": [
            "[0. 1.] -> [119 100]\n"
          ],
          "name": "stdout"
        }
      ]
    },
    {
      "cell_type": "code",
      "metadata": {
        "id": "t6woewTfz-mm",
        "colab_type": "code",
        "colab": {
          "base_uri": "https://localhost:8080/",
          "height": 34
        },
        "outputId": "0c43deb3-1567-42b0-874e-6e4fa911c0b2"
      },
      "source": [
        "# actual counts\n",
        "\n",
        "elements, counts_preds = np.unique(test_targets, return_counts=True)\n",
        "print(elements, \"->\", counts_preds)"
      ],
      "execution_count": 32,
      "outputs": [
        {
          "output_type": "stream",
          "text": [
            "[0 1] -> [124  95]\n"
          ],
          "name": "stdout"
        }
      ]
    },
    {
      "cell_type": "code",
      "metadata": {
        "id": "N5GK-z0z0eXk",
        "colab_type": "code",
        "colab": {}
      },
      "source": [
        ""
      ],
      "execution_count": 32,
      "outputs": []
    }
  ]
}