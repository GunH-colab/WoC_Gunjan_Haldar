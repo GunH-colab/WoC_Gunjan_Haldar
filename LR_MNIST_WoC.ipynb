{
 "cells": [
  {
   "cell_type": "code",
   "execution_count": 1,
   "metadata": {},
   "outputs": [],
   "source": [
    "from sklearn.datasets import load_digits # load the MNIST dataset onto our notebook from sklearn's repository. sklearn, as per WoC's rules, won't be used while setting up my LR model\n",
    "from sklearn.model_selection import train_test_split # to split the dataset into training and testing sets\n",
    "import numpy as np\n",
    "import matplotlib.pyplot as plt"
   ]
  },
  {
   "cell_type": "code",
   "execution_count": 2,
   "metadata": {},
   "outputs": [
    {
     "data": {
      "image/png": "[encoded data removed]",
      "text/plain": [
       "<Figure size 432x288 with 9 Axes>"
      ]
     },
     "metadata": {
      "needs_background": "light"
     },
     "output_type": "display_data"
    }
   ],
   "source": [
    "digits = load_digits() #viewing all the digits from the MNIST dataset\n",
    "\n",
    "f, axis = plt.subplots(3,3)\n",
    "axis[0,0].imshow(digits.images[0])\n",
    "axis[0,1].imshow(digits.images[1])\n",
    "axis[0,2].imshow(digits.images[2])\n",
    "axis[1,0].imshow(digits.images[3])\n",
    "axis[1,1].imshow(digits.images[4])\n",
    "axis[1,2].imshow(digits.images[5])\n",
    "axis[2,0].imshow(digits.images[6])\n",
    "axis[2,1].imshow(digits.images[7])\n",
    "axis[2,2].imshow(digits.images[8])\n",
    "plt.show()"
   ]
  },
  {
   "cell_type": "code",
   "execution_count": 3,
   "metadata": {},
   "outputs": [
    {
     "data": {
      "text/plain": [
       "<matplotlib.image.AxesImage at 0x19474f68c88>"
      ]
     },
     "execution_count": 3,
     "metadata": {},
     "output_type": "execute_result"
    },
    {
     "data": {
      "image/png": "[encoded data removed]",
      "text/plain": [
       "<Figure size 432x288 with 1 Axes>"
      ]
     },
     "metadata": {
      "needs_background": "light"
     },
     "output_type": "display_data"
    }
   ],
   "source": [
    "plt.imshow(digits.images[9]) # as DIGIT 9 was left out above"
   ]
  },
  {
   "cell_type": "code",
   "execution_count": 4,
   "metadata": {},
   "outputs": [],
   "source": [
    "class LogisticRegression():     # Class for training and using a model for logistic regression\n",
    "    \n",
    "    \n",
    "    def set_values(self, initial_params, alpha=0.01, max_iter=5000, class_of_interest=0): \n",
    "        \n",
    "        #using self as it increases the readibility of the code\n",
    "        \n",
    "        #Setting the values \n",
    "        \n",
    "        self.params = initial_params                          # initial params\n",
    "        self.alpha = alpha                                    # step size \n",
    "        self.max_iter = max_iter                              # maximum iteration\n",
    "        self.class_of_interest = class_of_interest            #class of interest (means whic)\n",
    "        \n",
    "    \n",
    "    @staticmethod\n",
    "    def _sigmoid(x): #Sigmoid function block\n",
    "        \n",
    "        \n",
    "        return 1.0 / (1.0 + np.exp(-x))\n",
    "    \n",
    "    def predict(self, x_bar, params): #to predict the probability of a class \n",
    "        \n",
    "                \n",
    "        return self._sigmoid(np.dot(params, x_bar))\n",
    "    \n",
    "    def _compute_cost(self, input_var, output_var, params): #cost function block\n",
    "        \n",
    "        \n",
    "        cost = 0\n",
    "        for x, y in zip(input_var, output_var):\n",
    "            x_bar = np.array(np.insert(x, 0, 1))\n",
    "            y_hat = self.predict(x_bar, params)\n",
    "            \n",
    "            y_binary = 1.0 if y == self.class_of_interest else 0.0\n",
    "            cost += y_binary * np.log(y_hat) + (1.0 - y_binary) * np.log(1 - y_hat)\n",
    "            \n",
    "        return cost\n",
    "    \n",
    "    def train(self, input_var, label, print_iter = 5000): #Training the model using batch gradient ascent\n",
    "        \n",
    "        \n",
    "        iteration = 1\n",
    "        while iteration < self.max_iter:\n",
    "            if iteration % print_iter == 0:\n",
    "                print(f'iteration: {iteration}')\n",
    "                print(f'cost: {self._compute_cost(input_var, label, self.params)}')\n",
    "                print('--------------------------------------------')\n",
    "            \n",
    "            for i, xy in enumerate(zip(input_var, label)):\n",
    "                x_bar = np.array(np.insert(xy[0], 0, 1))\n",
    "                y_hat = self.predict(x_bar, self.params)\n",
    "                \n",
    "                y_binary = 1.0 if xy[1] == self.class_of_interest else 0.0\n",
    "                gradient = (y_binary - y_hat) * x_bar\n",
    "                self.params += self.alpha * gradient\n",
    "            \n",
    "            iteration +=1\n",
    "        \n",
    "        return self.params\n",
    "\n",
    "    def test(self, input_test, label_test): #Test the accuracy of the model using test data\n",
    "        \n",
    "        self.total_classifications = 0\n",
    "        self.correct_classifications = 0\n",
    "        \n",
    "        for x,y in zip(input_test, label_test):\n",
    "            self.total_classifications += 1\n",
    "            x_bar = np.array(np.insert(x, 0, 1))\n",
    "            y_hat = self.predict(x_bar, self.params)\n",
    "            y_binary = 1.0 if y == self.class_of_interest else 0.0\n",
    "            \n",
    "            if y_hat >= 0.5 and  y_binary == 1:\n",
    "                # correct classification of class_of_interest\n",
    "                self.correct_classifications += 1\n",
    "              \n",
    "            if y_hat < 0.5 and  y_binary != 1:\n",
    "                # correct classification of an other class\n",
    "                self.correct_classifications += 1\n",
    "                \n",
    "        self.accuracy = self.correct_classifications / self.total_classifications\n",
    "            \n",
    "        return self.accuracy"
   ]
  },
  {
   "cell_type": "code",
   "execution_count": 5,
   "metadata": {},
   "outputs": [],
   "source": [
    "# splitting the data into training and test sets\n",
    "digits_train, digits_test, digits_label_train, digits_label_test =\\\n",
    "train_test_split(digits.data, digits.target, test_size=0.20)"
   ]
  },
  {
   "cell_type": "code",
   "execution_count": 6,
   "metadata": {},
   "outputs": [
    {
     "name": "stdout",
     "output_type": "stream",
     "text": [
      "iteration: 1000\n",
      "cost: -1.853426664197606\n",
      "--------------------------------------------\n",
      "iteration: 2000\n",
      "cost: -1.0356639989900578\n",
      "--------------------------------------------\n",
      "iteration: 3000\n",
      "cost: -0.7257265751722208\n",
      "--------------------------------------------\n",
      "iteration: 4000\n",
      "cost: -0.5608551799783381\n",
      "--------------------------------------------\n",
      "iteration: 5000\n",
      "cost: -0.45802835104316536\n",
      "--------------------------------------------\n",
      "iteration: 6000\n",
      "cost: -0.3875833918322774\n",
      "--------------------------------------------\n",
      "iteration: 7000\n",
      "cost: -0.33621950916475807\n",
      "--------------------------------------------\n",
      "iteration: 8000\n",
      "cost: -0.29706458136899483\n",
      "--------------------------------------------\n",
      "iteration: 9000\n",
      "cost: -0.26620291141214397\n",
      "--------------------------------------------\n"
     ]
    }
   ],
   "source": [
    "# training a classifier for the ZERO digit\n",
    "alpha = 1e-2\n",
    "params_0 = np.zeros(len(digits.data[0]) + 1)\n",
    "\n",
    "max_iter = 10000\n",
    "digits_regression_model_0 = LogisticRegression()\n",
    "digits_regression_model_0.set_values(params_0, alpha, max_iter, 0)\n",
    "\n",
    "params =\\\n",
    "digits_regression_model_0.train(digits_train / 16.0, digits_label_train, 1000)"
   ]
  },
  {
   "cell_type": "code",
   "execution_count": 7,
   "metadata": {},
   "outputs": [
    {
     "name": "stdout",
     "output_type": "stream",
     "text": [
      "Accuracy of prediciting a ZERO digit in test set: 1.0\n"
     ]
    }
   ],
   "source": [
    "# accuracy\n",
    "digits_accuracy = digits_regression_model_0.test(digits_test / 16.0, digits_label_test)\n",
    "print(f'Accuracy of prediciting a ZERO digit in test set: {digits_accuracy}')"
   ]
  },
  {
   "cell_type": "code",
   "execution_count": 8,
   "metadata": {},
   "outputs": [
    {
     "name": "stdout",
     "output_type": "stream",
     "text": [
      "iteration: 1000\n",
      "cost: -31.59421522993947\n",
      "--------------------------------------------\n",
      "iteration: 2000\n",
      "cost: -25.04631372308603\n",
      "--------------------------------------------\n",
      "iteration: 3000\n",
      "cost: -21.871596270422838\n",
      "--------------------------------------------\n",
      "iteration: 4000\n",
      "cost: -19.879985078607483\n",
      "--------------------------------------------\n",
      "iteration: 5000\n",
      "cost: -18.465791732852715\n",
      "--------------------------------------------\n",
      "iteration: 6000\n",
      "cost: -17.383636164799714\n",
      "--------------------------------------------\n",
      "iteration: 7000\n",
      "cost: -16.512885831197675\n",
      "--------------------------------------------\n",
      "iteration: 8000\n",
      "cost: -15.786626900463263\n",
      "--------------------------------------------\n",
      "iteration: 9000\n",
      "cost: -15.164492052585539\n",
      "--------------------------------------------\n"
     ]
    }
   ],
   "source": [
    "# train a classifier for the ONE digit\n",
    "alpha = 1e-2\n",
    "params_0 = np.zeros(len(digits.data[0]) + 1)\n",
    "\n",
    "max_iter = 10000\n",
    "digits_regression_model_1 = LogisticRegression()\n",
    "digits_regression_model_1.set_values(params_0, alpha, max_iter, 1)\n",
    "\n",
    "params =\\\n",
    "digits_regression_model_1.train(digits_train / 16.0, digits_label_train, 1000)"
   ]
  },
  {
   "cell_type": "code",
   "execution_count": 9,
   "metadata": {},
   "outputs": [
    {
     "name": "stdout",
     "output_type": "stream",
     "text": [
      "Accuracy of prediciting a ONE digit in test set: 0.9833333333333333\n"
     ]
    }
   ],
   "source": [
    "#accuracy\n",
    "digits_accuracy = digits_regression_model_1.test(digits_test / 16.0, digits_label_test)\n",
    "print(f'Accuracy of prediciting a ONE digit in test set: {digits_accuracy}')"
   ]
  },
  {
   "cell_type": "code",
   "execution_count": null,
   "metadata": {},
   "outputs": [],
   "source": []
  },
  {
   "cell_type": "code",
   "execution_count": null,
   "metadata": {},
   "outputs": [],
   "source": []
  },
  {
   "cell_type": "code",
   "execution_count": null,
   "metadata": {},
   "outputs": [],
   "source": []
  },
  {
   "cell_type": "code",
   "execution_count": null,
   "metadata": {},
   "outputs": [],
   "source": []
  }
 ],
 "metadata": {
  "kernelspec": {
   "display_name": "Python 3",
   "language": "python",
   "name": "python3"
  },
  "language_info": {
   "codemirror_mode": {
    "name": "ipython",
    "version": 3
   },
   "file_extension": ".py",
   "mimetype": "text/x-python",
   "name": "python",
   "nbconvert_exporter": "python",
   "pygments_lexer": "ipython3",
   "version": "3.7.4"
  }
 },
 "nbformat": 4,
 "nbformat_minor": 2
}
