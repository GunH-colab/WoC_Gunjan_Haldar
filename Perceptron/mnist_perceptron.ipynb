{
  "nbformat": 4,
  "nbformat_minor": 0,
  "metadata": {
    "colab": {
      "name": "mnist_perceptron.ipynb",
      "provenance": [],
      "collapsed_sections": [],
      "authorship_tag": "ABX9TyNMOw9F106XXqs0YxSWiLL9",
      "include_colab_link": true
    },
    "kernelspec": {
      "name": "python3",
      "display_name": "Python 3"
    }
  },
  "cells": [
    {
      "cell_type": "markdown",
      "metadata": {
        "id": "view-in-github",
        "colab_type": "text"
      },
      "source": [
        "<a href=\"https://colab.research.google.com/github/GunH-colab/basicsML/blob/master/mnist_perceptron.ipynb\" target=\"_parent\"><img src=\"https://colab.research.google.com/assets/colab-badge.svg\" alt=\"Open In Colab\"/></a>"
      ]
    },
    {
      "cell_type": "markdown",
      "metadata": {
        "id": "hu9LZFGmRyGv",
        "colab_type": "text"
      },
      "source": [
        "\n",
        "\n",
        "*   **MNIST Dataset**\n",
        "*   **Perceptron Model (sklearn)**\n",
        "*   **Standarized using StandardScaler()**"
      ]
    },
    {
      "cell_type": "code",
      "metadata": {
        "id": "9KZDa5K2DYdg",
        "colab_type": "code",
        "colab": {}
      },
      "source": [
        "#importing all the necesaary libraries\n",
        "\n",
        "import numpy as np\n",
        "from sklearn.datasets import load_digits\n",
        "from sklearn.model_selection import train_test_split\n",
        "from sklearn.preprocessing import StandardScaler\n",
        "from sklearn.linear_model import Perceptron\n",
        "from sklearn.metrics import accuracy_score\n",
        "import matplotlib.pyplot as plt\n"
      ],
      "execution_count": 36,
      "outputs": []
    },
    {
      "cell_type": "code",
      "metadata": {
        "id": "AT1KxLqnD38w",
        "colab_type": "code",
        "colab": {}
      },
      "source": [
        "# loading the mnist dataset\n",
        "\n",
        "digits = load_digits()\n",
        "X = digits.data \n",
        "y = digits.target"
      ],
      "execution_count": 37,
      "outputs": []
    },
    {
      "cell_type": "code",
      "metadata": {
        "id": "POMlsc0GEQTI",
        "colab_type": "code",
        "colab": {}
      },
      "source": [
        "# splitting the dataset into train(85%) and test sets(15%)\n",
        "\n",
        "X_train, X_test, y_train, y_test = train_test_split(X, y, test_size = 0.15)"
      ],
      "execution_count": 38,
      "outputs": []
    },
    {
      "cell_type": "code",
      "metadata": {
        "id": "F5unFzxrEnZY",
        "colab_type": "code",
        "colab": {}
      },
      "source": [
        "# The idea behind StandardScaler is that it will transform your data such that \n",
        "# its distribution will have a mean value 0 and standard deviation of 1.\n",
        "\n",
        "sc = StandardScaler()\n",
        "sc.fit(X_train)\n",
        "X_train_std = sc.transform(X_train)\n",
        "X_test_std = sc.transform(X_test)"
      ],
      "execution_count": 39,
      "outputs": []
    },
    {
      "cell_type": "code",
      "metadata": {
        "id": "Wn2CjwszE2sg",
        "colab_type": "code",
        "colab": {
          "base_uri": "https://localhost:8080/",
          "height": 118
        },
        "outputId": "605ac72a-1382-49be-b226-dbf740898b66"
      },
      "source": [
        "# inputs for iteration and learning rate\n",
        "\n",
        "m_i = int(input()) # i used 10000\n",
        "e = float(input()) # i used 0.1\n",
        "\n",
        "# training the model\n",
        "\n",
        "pcp = Perceptron(max_iter=m_i, eta0=e, random_state=0)\n",
        "pcp.fit(X_train_std, y_train)"
      ],
      "execution_count": 40,
      "outputs": [
        {
          "output_type": "stream",
          "text": [
            "10000\n",
            "0.1\n"
          ],
          "name": "stdout"
        },
        {
          "output_type": "execute_result",
          "data": {
            "text/plain": [
              "Perceptron(alpha=0.0001, class_weight=None, early_stopping=False, eta0=0.1,\n",
              "           fit_intercept=True, max_iter=10000, n_iter_no_change=5, n_jobs=None,\n",
              "           penalty=None, random_state=0, shuffle=True, tol=0.001,\n",
              "           validation_fraction=0.1, verbose=0, warm_start=False)"
            ]
          },
          "metadata": {
            "tags": []
          },
          "execution_count": 40
        }
      ]
    },
    {
      "cell_type": "code",
      "metadata": {
        "id": "hdUJbhg7E69n",
        "colab_type": "code",
        "colab": {}
      },
      "source": [
        "# recording the predictions\n",
        "\n",
        "y_preds = pcp.predict(X_test_std)"
      ],
      "execution_count": 41,
      "outputs": []
    },
    {
      "cell_type": "code",
      "metadata": {
        "id": "Qvd7zpzPGrlI",
        "colab_type": "code",
        "colab": {
          "base_uri": "https://localhost:8080/",
          "height": 34
        },
        "outputId": "158fccb7-7fa2-409a-e4ae-af5b567169bf"
      },
      "source": [
        "# accuracy of the model !\n",
        "\n",
        "print('Accuracy : %0.10f' % accuracy_score(y_preds, y_test))"
      ],
      "execution_count": 42,
      "outputs": [
        {
          "output_type": "stream",
          "text": [
            "Accuracy : 0.9444444444\n"
          ],
          "name": "stdout"
        }
      ]
    },
    {
      "cell_type": "code",
      "metadata": {
        "id": "IIj4PZz3qE1p",
        "colab_type": "code",
        "colab": {
          "base_uri": "https://localhost:8080/",
          "height": 623
        },
        "outputId": "1890f534-9f20-4d93-9bf9-a3b527750cbc"
      },
      "source": [
        "# plotting Predicted vs. Actual\n",
        "\n",
        "plt.figure(figsize=(12, 10))\n",
        "plt.scatter(y_preds, y_test, marker='.')\n",
        "plt.xlabel(\"Predicted\")\n",
        "plt.ylabel(\"Actual\")\n"
      ],
      "execution_count": 43,
      "outputs": [
        {
          "output_type": "execute_result",
          "data": {
            "text/plain": [
              "Text(0, 0.5, 'Actual')"
            ]
          },
          "metadata": {
            "tags": []
          },
          "execution_count": 43
        },
        {
          "output_type": "display_data",
          "data": {
            "image/png": "[encoded data removed]",
            "text/plain": [
              "<Figure size 864x720 with 1 Axes>"
            ]
          },
          "metadata": {
            "tags": [],
            "needs_background": "light"
          }
        }
      ]
    },
    {
      "cell_type": "code",
      "metadata": {
        "id": "rI3yXRZhqGwg",
        "colab_type": "code",
        "colab": {
          "base_uri": "https://localhost:8080/",
          "height": 101
        },
        "outputId": "aebd4bc5-f725-46e8-e6ad-df0ba178d8c5"
      },
      "source": [
        "#comparing the predictions with the actual values\n",
        "\n",
        "print(y_preds[:25],\"\\nPredicted\\n\\n\", y_test[:25],\"\\nActual\")"
      ],
      "execution_count": 44,
      "outputs": [
        {
          "output_type": "stream",
          "text": [
            "[4 1 2 7 7 6 6 3 5 5 5 6 7 0 4 8 0 5 5 5 4 9 2 0 6] \n",
            "Predicted\n",
            "\n",
            " [4 1 2 7 7 6 6 3 5 5 5 6 7 0 4 8 0 5 5 5 4 9 2 0 6] \n",
            "Actual\n"
          ],
          "name": "stdout"
        }
      ]
    },
    {
      "cell_type": "code",
      "metadata": {
        "id": "RB-HN-O2Ss1n",
        "colab_type": "code",
        "colab": {}
      },
      "source": [
        ""
      ],
      "execution_count": null,
      "outputs": []
    }
  ]
}
