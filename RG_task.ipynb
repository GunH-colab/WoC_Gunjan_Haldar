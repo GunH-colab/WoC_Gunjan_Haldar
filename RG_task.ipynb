{
  "nbformat": 4,
  "nbformat_minor": 0,
  "metadata": {
    "colab": {
      "name": "RG_task.ipynb",
      "provenance": [],
      "collapsed_sections": [],
      "authorship_tag": "ABX9TyOpxPhKFI6PtTXd+WsC+t77"
    },
    "kernelspec": {
      "name": "python3",
      "display_name": "Python 3"
    },
    "language_info": {
      "name": "python"
    }
  },
  "cells": [
    {
      "cell_type": "code",
      "metadata": {
        "id": "NhR1Of_BbO6J"
      },
      "source": [
        "!pip -qq install backtesting\n",
        "!pip -qq install ta"
      ],
      "execution_count": 81,
      "outputs": []
    },
    {
      "cell_type": "code",
      "metadata": {
        "id": "hKhw1bFfbM_J"
      },
      "source": [
        "import pandas as pd\n",
        "import datetime as dt\n",
        "\n",
        "df = pd.DataFrame(pd.read_excel('/content/BankNiftyFutures_Data5Min.xlsx'))"
      ],
      "execution_count": 82,
      "outputs": []
    },
    {
      "cell_type": "code",
      "metadata": {
        "id": "0AFV9fCQckbo"
      },
      "source": [
        "backtest_df = df.copy()\n",
        "backtest_df.loc[:,'Datetime'] = pd.to_datetime(df.Date.astype(str)+' '+df.Time.astype(str), errors='coerce')\n",
        "backtest_df.set_index('Datetime', append=False, inplace=True)\n",
        "backtest_df = backtest_df[['Open 5',\t'High 5',\t'Low 5',\t'Close 5',\t'Volume 5']]\n",
        "backtest_df.columns = ['Open',\t'High',\t'Low',\t'Close',\t'Volume']"
      ],
      "execution_count": 83,
      "outputs": []
    },
    {
      "cell_type": "markdown",
      "metadata": {
        "id": "uoGEF2TueSMo"
      },
      "source": [
        "# Backtesting using python"
      ]
    },
    {
      "cell_type": "code",
      "metadata": {
        "colab": {
          "base_uri": "https://localhost:8080/",
          "height": 1000
        },
        "id": "hfqtQyWocSNo",
        "outputId": "903a2a3a-b6bb-4bf6-a361-7fb266e1bfe2"
      },
      "source": [
        "# Backtest a simple EMA -> SMA crossover strategy on above data\n",
        "\n",
        "import backtesting\n",
        "backtesting.set_bokeh_output(notebook=True)\n",
        "from backtesting import Backtest, Strategy\n",
        "from backtesting.lib import crossover\n",
        "\n",
        "import ta.trend as tr\n",
        "\n",
        "\n",
        "class EmaSmaCross(Strategy):\n",
        "    def init(self):\n",
        "        cp = pd.Series(self.data.Close)\n",
        "        \n",
        "        self.ema1 = self.I(tr.ema_indicator,close=cp, window=200);\n",
        "        self.ema2 = self.I(tr.sma_indicator,close=cp, window=2000)\n",
        "        \n",
        "\n",
        "    def next(self):\n",
        "        # Buy or sell on ema -> sma cross over\n",
        "        # Have a 200 pts stop loss for long trades and 130 points for short trades\n",
        "        if crossover(self.ema1, self.ema2):\n",
        "            self.buy(sl=self.data.High-200)\n",
        "        elif crossover(self.ema2, self.ema1):\n",
        "            self.sell(sl=self.data.Low+130)\n",
        "            \n",
        "bt = Backtest(backtest_df, EmaSmaCross, commission=.002,cash=1000000,\n",
        "              exclusive_orders=True)\n",
        "# Run the backtest\n",
        "stats = bt.run()\n",
        " \n",
        "# Print the performance metrics for this strategy \n",
        "print(stats)\n",
        "\n",
        "# Plot the price movements, trades and other meta-data such as drawdown etc.\n",
        "bt.plot(resample=True);"
      ],
      "execution_count": 84,
      "outputs": [
        {
          "output_type": "stream",
          "text": [
            "Start                     2015-01-01 09:20:00\n",
            "End                       2019-12-31 15:26:00\n",
            "Duration                   1825 days 06:06:00\n",
            "Exposure Time [%]                     55.9284\n",
            "Equity Final [$]                  1.49445e+06\n",
            "Equity Peak [$]                   1.67499e+06\n",
            "Return [%]                            49.4454\n",
            "Buy & Hold Return [%]                 72.1571\n",
            "Return (Ann.) [%]                     8.60862\n",
            "Volatility (Ann.) [%]                 12.5463\n",
            "Sharpe Ratio                         0.686147\n",
            "Sortino Ratio                         1.10342\n",
            "Calmar Ratio                         0.433907\n",
            "Max. Drawdown [%]                    -19.8398\n",
            "Avg. Drawdown [%]                   -0.523837\n",
            "Max. Drawdown Duration      419 days 05:50:00\n",
            "Avg. Drawdown Duration        5 days 04:10:00\n",
            "# Trades                                   69\n",
            "Win Rate [%]                          20.2899\n",
            "Best Trade [%]                        26.4766\n",
            "Worst Trade [%]                      -2.00401\n",
            "Avg. Trade [%]                       0.584308\n",
            "Max. Trade Duration         170 days 05:13:00\n",
            "Avg. Trade Duration          14 days 16:26:00\n",
            "Profit Factor                         1.94624\n",
            "Expectancy [%]                       0.662451\n",
            "SQN                                   1.31279\n",
            "_strategy                         EmaSmaCross\n",
            "_equity_curve                             ...\n",
            "_trades                       Size  EntryB...\n",
            "dtype: object\n"
          ],
          "name": "stdout"
        },
        {
          "output_type": "stream",
          "text": [
            "/usr/local/lib/python3.7/dist-packages/backtesting/_plotting.py:104: UserWarning: Data contains too many candlesticks to plot; downsampling to '8H'. See `Backtest.plot(resample=...)`\n",
            "  warnings.warn(f\"Data contains too many candlesticks to plot; downsampling to {freq!r}. \"\n",
            "/usr/local/lib/python3.7/dist-packages/ipykernel_launcher.py:36: UserWarning: Superimposed OHLC plot matches the original plot. Skipping.\n"
          ],
          "name": "stderr"
        },
        {
          "output_type": "display_data",
          "data": {
            "application/javascript": [
              "\n",
              "(function(root) {\n",
              "  function now() {\n",
              "    return new Date();\n",
              "  }\n",
              "\n",
              "  var force = true;\n",
              "\n",
              "  if (typeof root._bokeh_onload_callbacks === \"undefined\" || force === true) {\n",
              "    root._bokeh_onload_callbacks = [];\n",
              "    root._bokeh_is_loading = undefined;\n",
              "  }\n",
              "\n",
              "  var JS_MIME_TYPE = 'application/javascript';\n",
              "  var HTML_MIME_TYPE = 'text/html';\n",
              "  var EXEC_MIME_TYPE = 'application/vnd.bokehjs_exec.v0+json';\n",
              "  var CLASS_NAME = 'output_bokeh rendered_html';\n",
              "\n",
              "  /**\n",
              "   * Render data to the DOM node\n",
              "   */\n",
              "  function render(props, node) {\n",
              "    var script = document.createElement(\"script\");\n",
              "    node.appendChild(script);\n",
              "  }\n",
              "\n",
              "  /**\n",
              "   * Handle when an output is cleared or removed\n",
              "   */\n",
              "  function handleClearOutput(event, handle) {\n",
              "    var cell = handle.cell;\n",
              "\n",
              "    var id = cell.output_area._bokeh_element_id;\n",
              "    var server_id = cell.output_area._bokeh_server_id;\n",
              "    // Clean up Bokeh references\n",
              "    if (id != null && id in Bokeh.index) {\n",
              "      Bokeh.index[id].model.document.clear();\n",
              "      delete Bokeh.index[id];\n",
              "    }\n",
              "\n",
              "    if (server_id !== undefined) {\n",
              "      // Clean up Bokeh references\n",
              "      var cmd = \"from bokeh.io.state import curstate; print(curstate().uuid_to_server['\" + server_id + \"'].get_sessions()[0].document.roots[0]._id)\";\n",
              "      cell.notebook.kernel.execute(cmd, {\n",
              "        iopub: {\n",
              "          output: function(msg) {\n",
              "            var id = msg.content.text.trim();\n",
              "            if (id in Bokeh.index) {\n",
              "              Bokeh.index[id].model.document.clear();\n",
              "              delete Bokeh.index[id];\n",
              "            }\n",
              "          }\n",
              "        }\n",
              "      });\n",
              "      // Destroy server and session\n",
              "      var cmd = \"import bokeh.io.notebook as ion; ion.destroy_server('\" + server_id + \"')\";\n",
              "      cell.notebook.kernel.execute(cmd);\n",
              "    }\n",
              "  }\n",
              "\n",
              "  /**\n",
              "   * Handle when a new output is added\n",
              "   */\n",
              "  function handleAddOutput(event, handle) {\n",
              "    var output_area = handle.output_area;\n",
              "    var output = handle.output;\n",
              "\n",
              "    // limit handleAddOutput to display_data with EXEC_MIME_TYPE content only\n",
              "    if ((output.output_type != \"display_data\") || (!output.data.hasOwnProperty(EXEC_MIME_TYPE))) {\n",
              "      return\n",
              "    }\n",
              "\n",
              "    var toinsert = output_area.element.find(\".\" + CLASS_NAME.split(' ')[0]);\n",
              "\n",
              "    if (output.metadata[EXEC_MIME_TYPE][\"id\"] !== undefined) {\n",
              "      toinsert[toinsert.length - 1].firstChild.textContent = output.data[JS_MIME_TYPE];\n",
              "      // store reference to embed id on output_area\n",
              "      output_area._bokeh_element_id = output.metadata[EXEC_MIME_TYPE][\"id\"];\n",
              "    }\n",
              "    if (output.metadata[EXEC_MIME_TYPE][\"server_id\"] !== undefined) {\n",
              "      var bk_div = document.createElement(\"div\");\n",
              "      bk_div.innerHTML = output.data[HTML_MIME_TYPE];\n",
              "      var script_attrs = bk_div.children[0].attributes;\n",
              "      for (var i = 0; i < script_attrs.length; i++) {\n",
              "        toinsert[toinsert.length - 1].firstChild.setAttribute(script_attrs[i].name, script_attrs[i].value);\n",
              "        toinsert[toinsert.length - 1].firstChild.textContent = bk_div.children[0].textContent\n",
              "      }\n",
              "      // store reference to server id on output_area\n",
              "      output_area._bokeh_server_id = output.metadata[EXEC_MIME_TYPE][\"server_id\"];\n",
              "    }\n",
              "  }\n",
              "\n",
              "  function register_renderer(events, OutputArea) {\n",
              "\n",
              "    function append_mime(data, metadata, element) {\n",
              "      // create a DOM node to render to\n",
              "      var toinsert = this.create_output_subarea(\n",
              "        metadata,\n",
              "        CLASS_NAME,\n",
              "        EXEC_MIME_TYPE\n",
              "      );\n",
              "      this.keyboard_manager.register_events(toinsert);\n",
              "      // Render to node\n",
              "      var props = {data: data, metadata: metadata[EXEC_MIME_TYPE]};\n",
              "      render(props, toinsert[toinsert.length - 1]);\n",
              "      element.append(toinsert);\n",
              "      return toinsert\n",
              "    }\n",
              "\n",
              "    /* Handle when an output is cleared or removed */\n",
              "    events.on('clear_output.CodeCell', handleClearOutput);\n",
              "    events.on('delete.Cell', handleClearOutput);\n",
              "\n",
              "    /* Handle when a new output is added */\n",
              "    events.on('output_added.OutputArea', handleAddOutput);\n",
              "\n",
              "    /**\n",
              "     * Register the mime type and append_mime function with output_area\n",
              "     */\n",
              "    OutputArea.prototype.register_mime_type(EXEC_MIME_TYPE, append_mime, {\n",
              "      /* Is output safe? */\n",
              "      safe: true,\n",
              "      /* Index of renderer in `output_area.display_order` */\n",
              "      index: 0\n",
              "    });\n",
              "  }\n",
              "\n",
              "  // register the mime type if in Jupyter Notebook environment and previously unregistered\n",
              "  if (root.Jupyter !== undefined) {\n",
              "    var events = require('base/js/events');\n",
              "    var OutputArea = require('notebook/js/outputarea').OutputArea;\n",
              "\n",
              "    if (OutputArea.prototype.mime_types().indexOf(EXEC_MIME_TYPE) == -1) {\n",
              "      register_renderer(events, OutputArea);\n",
              "    }\n",
              "  }\n",
              "\n",
              "  \n",
              "  if (typeof (root._bokeh_timeout) === \"undefined\" || force === true) {\n",
              "    root._bokeh_timeout = Date.now() + 5000;\n",
              "    root._bokeh_failed_load = false;\n",
              "  }\n",
              "\n",
              "  var NB_LOAD_WARNING = {'data': {'text/html':\n",
              "     \"<div style='background-color: #fdd'>\\n\"+\n",
              "     \"<p>\\n\"+\n",
              "     \"BokehJS does not appear to have successfully loaded. If loading BokehJS from CDN, this \\n\"+\n",
              "     \"may be due to a slow or bad network connection. Possible fixes:\\n\"+\n",
              "     \"</p>\\n\"+\n",
              "     \"<ul>\\n\"+\n",
              "     \"<li>re-rerun `output_notebook()` to attempt to load from CDN again, or</li>\\n\"+\n",
              "     \"<li>use INLINE resources instead, as so:</li>\\n\"+\n",
              "     \"</ul>\\n\"+\n",
              "     \"<code>\\n\"+\n",
              "     \"from bokeh.resources import INLINE\\n\"+\n",
              "     \"output_notebook(resources=INLINE)\\n\"+\n",
              "     \"</code>\\n\"+\n",
              "     \"</div>\"}};\n",
              "\n",
              "  function display_loaded() {\n",
              "    var el = document.getElementById(null);\n",
              "    if (el != null) {\n",
              "      el.textContent = \"BokehJS is loading...\";\n",
              "    }\n",
              "    if (root.Bokeh !== undefined) {\n",
              "      if (el != null) {\n",
              "        el.textContent = \"BokehJS \" + root.Bokeh.version + \" successfully loaded.\";\n",
              "      }\n",
              "    } else if (Date.now() < root._bokeh_timeout) {\n",
              "      setTimeout(display_loaded, 100)\n",
              "    }\n",
              "  }\n",
              "\n",
              "\n",
              "  function run_callbacks() {\n",
              "    try {\n",
              "      root._bokeh_onload_callbacks.forEach(function(callback) {\n",
              "        if (callback != null)\n",
              "          callback();\n",
              "      });\n",
              "    } finally {\n",
              "      delete root._bokeh_onload_callbacks\n",
              "    }\n",
              "    console.debug(\"Bokeh: all callbacks have finished\");\n",
              "  }\n",
              "\n",
              "  function load_libs(css_urls, js_urls, callback) {\n",
              "    if (css_urls == null) css_urls = [];\n",
              "    if (js_urls == null) js_urls = [];\n",
              "\n",
              "    root._bokeh_onload_callbacks.push(callback);\n",
              "    if (root._bokeh_is_loading > 0) {\n",
              "      console.debug(\"Bokeh: BokehJS is being loaded, scheduling callback at\", now());\n",
              "      return null;\n",
              "    }\n",
              "    if (js_urls == null || js_urls.length === 0) {\n",
              "      run_callbacks();\n",
              "      return null;\n",
              "    }\n",
              "    console.debug(\"Bokeh: BokehJS not loaded, scheduling load and callback at\", now());\n",
              "    root._bokeh_is_loading = css_urls.length + js_urls.length;\n",
              "\n",
              "    function on_load() {\n",
              "      root._bokeh_is_loading--;\n",
              "      if (root._bokeh_is_loading === 0) {\n",
              "        console.debug(\"Bokeh: all BokehJS libraries/stylesheets loaded\");\n",
              "        run_callbacks()\n",
              "      }\n",
              "    }\n",
              "\n",
              "    function on_error() {\n",
              "      console.error(\"failed to load \" + url);\n",
              "    }\n",
              "\n",
              "    for (var i = 0; i < css_urls.length; i++) {\n",
              "      var url = css_urls[i];\n",
              "      const element = document.createElement(\"link\");\n",
              "      element.onload = on_load;\n",
              "      element.onerror = on_error;\n",
              "      element.rel = \"stylesheet\";\n",
              "      element.type = \"text/css\";\n",
              "      element.href = url;\n",
              "      console.debug(\"Bokeh: injecting link tag for BokehJS stylesheet: \", url);\n",
              "      document.body.appendChild(element);\n",
              "    }\n",
              "\n",
              "    const hashes = {\"https://cdn.bokeh.org/bokeh/release/bokeh-2.1.1.min.js\": \"kLr4fYcqcSpbuI95brIH3vnnYCquzzSxHPU6XGQCIkQRGJwhg0StNbj1eegrHs12\", \"https://cdn.bokeh.org/bokeh/release/bokeh-widgets-2.1.1.min.js\": \"xIGPmVtaOm+z0BqfSOMn4lOR6ciex448GIKG4eE61LsAvmGj48XcMQZtKcE/UXZe\", \"https://cdn.bokeh.org/bokeh/release/bokeh-tables-2.1.1.min.js\": \"Dc9u1wF/0zApGIWoBbH77iWEHtdmkuYWG839Uzmv8y8yBLXebjO9ZnERsde5Ln/P\", \"https://cdn.bokeh.org/bokeh/release/bokeh-gl-2.1.1.min.js\": \"cT9JaBz7GiRXdENrJLZNSC6eMNF3nh3fa5fTF51Svp+ukxPdwcU5kGXGPBgDCa2j\"};\n",
              "\n",
              "    for (var i = 0; i < js_urls.length; i++) {\n",
              "      var url = js_urls[i];\n",
              "      var element = document.createElement('script');\n",
              "      element.onload = on_load;\n",
              "      element.onerror = on_error;\n",
              "      element.async = false;\n",
              "      element.src = url;\n",
              "      if (url in hashes) {\n",
              "        element.crossOrigin = \"anonymous\";\n",
              "        element.integrity = \"sha384-\" + hashes[url];\n",
              "      }\n",
              "      console.debug(\"Bokeh: injecting script tag for BokehJS library: \", url);\n",
              "      document.head.appendChild(element);\n",
              "    }\n",
              "  };\n",
              "\n",
              "  function inject_raw_css(css) {\n",
              "    const element = document.createElement(\"style\");\n",
              "    element.appendChild(document.createTextNode(css));\n",
              "    document.body.appendChild(element);\n",
              "  }\n",
              "\n",
              "  \n",
              "  var js_urls = [\"https://cdn.bokeh.org/bokeh/release/bokeh-2.1.1.min.js\", \"https://cdn.bokeh.org/bokeh/release/bokeh-widgets-2.1.1.min.js\", \"https://cdn.bokeh.org/bokeh/release/bokeh-tables-2.1.1.min.js\", \"https://cdn.bokeh.org/bokeh/release/bokeh-gl-2.1.1.min.js\"];\n",
              "  var css_urls = [];\n",
              "  \n",
              "\n",
              "  var inline_js = [\n",
              "    function(Bokeh) {\n",
              "      Bokeh.set_log_level(\"info\");\n",
              "    },\n",
              "    function(Bokeh) {\n",
              "    \n",
              "    \n",
              "    }\n",
              "  ];\n",
              "\n",
              "  function run_inline_js() {\n",
              "    \n",
              "    if (root.Bokeh !== undefined || force === true) {\n",
              "      \n",
              "    for (var i = 0; i < inline_js.length; i++) {\n",
              "      inline_js[i].call(root, root.Bokeh);\n",
              "    }\n",
              "    } else if (Date.now() < root._bokeh_timeout) {\n",
              "      setTimeout(run_inline_js, 100);\n",
              "    } else if (!root._bokeh_failed_load) {\n",
              "      console.log(\"Bokeh: BokehJS failed to load within specified timeout.\");\n",
              "      root._bokeh_failed_load = true;\n",
              "    } else if (force !== true) {\n",
              "      var cell = $(document.getElementById(null)).parents('.cell').data().cell;\n",
              "      cell.output_area.append_execute_result(NB_LOAD_WARNING)\n",
              "    }\n",
              "\n",
              "  }\n",
              "\n",
              "  if (root._bokeh_is_loading === 0) {\n",
              "    console.debug(\"Bokeh: BokehJS loaded, going straight to plotting\");\n",
              "    run_inline_js();\n",
              "  } else {\n",
              "    load_libs(css_urls, js_urls, function() {\n",
              "      console.debug(\"Bokeh: BokehJS plotting callback run at\", now());\n",
              "      run_inline_js();\n",
              "    });\n",
              "  }\n",
              "}(window));"
            ],
            "application/vnd.bokehjs_load.v0+json": "\n(function(root) {\n  function now() {\n    return new Date();\n  }\n\n  var force = true;\n\n  if (typeof root._bokeh_onload_callbacks === \"undefined\" || force === true) {\n    root._bokeh_onload_callbacks = [];\n    root._bokeh_is_loading = undefined;\n  }\n\n  \n\n  \n  if (typeof (root._bokeh_timeout) === \"undefined\" || force === true) {\n    root._bokeh_timeout = Date.now() + 5000;\n    root._bokeh_failed_load = false;\n  }\n\n  var NB_LOAD_WARNING = {'data': {'text/html':\n     \"<div style='background-color: #fdd'>\\n\"+\n     \"<p>\\n\"+\n     \"BokehJS does not appear to have successfully loaded. If loading BokehJS from CDN, this \\n\"+\n     \"may be due to a slow or bad network connection. Possible fixes:\\n\"+\n     \"</p>\\n\"+\n     \"<ul>\\n\"+\n     \"<li>re-rerun `output_notebook()` to attempt to load from CDN again, or</li>\\n\"+\n     \"<li>use INLINE resources instead, as so:</li>\\n\"+\n     \"</ul>\\n\"+\n     \"<code>\\n\"+\n     \"from bokeh.resources import INLINE\\n\"+\n     \"output_notebook(resources=INLINE)\\n\"+\n     \"</code>\\n\"+\n     \"</div>\"}};\n\n  function display_loaded() {\n    var el = document.getElementById(null);\n    if (el != null) {\n      el.textContent = \"BokehJS is loading...\";\n    }\n    if (root.Bokeh !== undefined) {\n      if (el != null) {\n        el.textContent = \"BokehJS \" + root.Bokeh.version + \" successfully loaded.\";\n      }\n    } else if (Date.now() < root._bokeh_timeout) {\n      setTimeout(display_loaded, 100)\n    }\n  }\n\n\n  function run_callbacks() {\n    try {\n      root._bokeh_onload_callbacks.forEach(function(callback) {\n        if (callback != null)\n          callback();\n      });\n    } finally {\n      delete root._bokeh_onload_callbacks\n    }\n    console.debug(\"Bokeh: all callbacks have finished\");\n  }\n\n  function load_libs(css_urls, js_urls, callback) {\n    if (css_urls == null) css_urls = [];\n    if (js_urls == null) js_urls = [];\n\n    root._bokeh_onload_callbacks.push(callback);\n    if (root._bokeh_is_loading > 0) {\n      console.debug(\"Bokeh: BokehJS is being loaded, scheduling callback at\", now());\n      return null;\n    }\n    if (js_urls == null || js_urls.length === 0) {\n      run_callbacks();\n      return null;\n    }\n    console.debug(\"Bokeh: BokehJS not loaded, scheduling load and callback at\", now());\n    root._bokeh_is_loading = css_urls.length + js_urls.length;\n\n    function on_load() {\n      root._bokeh_is_loading--;\n      if (root._bokeh_is_loading === 0) {\n        console.debug(\"Bokeh: all BokehJS libraries/stylesheets loaded\");\n        run_callbacks()\n      }\n    }\n\n    function on_error() {\n      console.error(\"failed to load \" + url);\n    }\n\n    for (var i = 0; i < css_urls.length; i++) {\n      var url = css_urls[i];\n      const element = document.createElement(\"link\");\n      element.onload = on_load;\n      element.onerror = on_error;\n      element.rel = \"stylesheet\";\n      element.type = \"text/css\";\n      element.href = url;\n      console.debug(\"Bokeh: injecting link tag for BokehJS stylesheet: \", url);\n      document.body.appendChild(element);\n    }\n\n    const hashes = {\"https://cdn.bokeh.org/bokeh/release/bokeh-2.1.1.min.js\": \"kLr4fYcqcSpbuI95brIH3vnnYCquzzSxHPU6XGQCIkQRGJwhg0StNbj1eegrHs12\", \"https://cdn.bokeh.org/bokeh/release/bokeh-widgets-2.1.1.min.js\": \"xIGPmVtaOm+z0BqfSOMn4lOR6ciex448GIKG4eE61LsAvmGj48XcMQZtKcE/UXZe\", \"https://cdn.bokeh.org/bokeh/release/bokeh-tables-2.1.1.min.js\": \"Dc9u1wF/0zApGIWoBbH77iWEHtdmkuYWG839Uzmv8y8yBLXebjO9ZnERsde5Ln/P\", \"https://cdn.bokeh.org/bokeh/release/bokeh-gl-2.1.1.min.js\": \"cT9JaBz7GiRXdENrJLZNSC6eMNF3nh3fa5fTF51Svp+ukxPdwcU5kGXGPBgDCa2j\"};\n\n    for (var i = 0; i < js_urls.length; i++) {\n      var url = js_urls[i];\n      var element = document.createElement('script');\n      element.onload = on_load;\n      element.onerror = on_error;\n      element.async = false;\n      element.src = url;\n      if (url in hashes) {\n        element.crossOrigin = \"anonymous\";\n        element.integrity = \"sha384-\" + hashes[url];\n      }\n      console.debug(\"Bokeh: injecting script tag for BokehJS library: \", url);\n      document.head.appendChild(element);\n    }\n  };\n\n  function inject_raw_css(css) {\n    const element = document.createElement(\"style\");\n    element.appendChild(document.createTextNode(css));\n    document.body.appendChild(element);\n  }\n\n  \n  var js_urls = [\"https://cdn.bokeh.org/bokeh/release/bokeh-2.1.1.min.js\", \"https://cdn.bokeh.org/bokeh/release/bokeh-widgets-2.1.1.min.js\", \"https://cdn.bokeh.org/bokeh/release/bokeh-tables-2.1.1.min.js\", \"https://cdn.bokeh.org/bokeh/release/bokeh-gl-2.1.1.min.js\"];\n  var css_urls = [];\n  \n\n  var inline_js = [\n    function(Bokeh) {\n      Bokeh.set_log_level(\"info\");\n    },\n    function(Bokeh) {\n    \n    \n    }\n  ];\n\n  function run_inline_js() {\n    \n    if (root.Bokeh !== undefined || force === true) {\n      \n    for (var i = 0; i < inline_js.length; i++) {\n      inline_js[i].call(root, root.Bokeh);\n    }\n    } else if (Date.now() < root._bokeh_timeout) {\n      setTimeout(run_inline_js, 100);\n    } else if (!root._bokeh_failed_load) {\n      console.log(\"Bokeh: BokehJS failed to load within specified timeout.\");\n      root._bokeh_failed_load = true;\n    } else if (force !== true) {\n      var cell = $(document.getElementById(null)).parents('.cell').data().cell;\n      cell.output_area.append_execute_result(NB_LOAD_WARNING)\n    }\n\n  }\n\n  if (root._bokeh_is_loading === 0) {\n    console.debug(\"Bokeh: BokehJS loaded, going straight to plotting\");\n    run_inline_js();\n  } else {\n    load_libs(css_urls, js_urls, function() {\n      console.debug(\"Bokeh: BokehJS plotting callback run at\", now());\n      run_inline_js();\n    });\n  }\n}(window));"
          },
          "metadata": {
            "tags": []
          }
        },
        {
          "output_type": "display_data",
          "data": {
            "text/html": [
              "\n",
              "\n",
              "\n",
              "\n",
              "\n",
              "\n",
              "  <div class=\"bk-root\" id=\"fedebf65-19c7-4979-993d-73876021353f\" data-root-id=\"6029\"></div>\n"
            ]
          },
          "metadata": {
            "tags": []
          }
        },
        {
          "output_type": "display_data",
          "data": {
            "application/javascript": [
              "(function(root) {\n",
              "  function embed_document(root) {\n",
              "    \n",
              "  var docs_json = {\"115f325c-d839-4d2f-bbf6-5c8c92c87207\":{\"roots\":{\"references\":[{\"attributes\":{\"children\":[{\"id\":\"6026\"},{\"id\":\"6028\"}],\"sizing_mode\":\"stretch_width\"},\"id\":\"6029\",\"type\":\"Row\"},{\"attributes\":{\"below\":[{\"id\":\"5690\"}],\"center\":[{\"id\":\"5693\"},{\"id\":\"5697\"},{\"id\":\"5746\"}],\"left\":[{\"id\":\"5694\"}],\"min_border_bottom\":6,\"min_border_left\":0,\"min_border_right\":10,\"min_border_top\":3,\"outline_line_color\":\"#666666\",\"plot_height\":110,\"plot_width\":null,\"renderers\":[{\"id\":\"5718\"},{\"id\":\"5723\"},{\"id\":\"5732\"},{\"id\":\"5751\"},{\"id\":\"5771\"},{\"id\":\"5793\"}],\"sizing_mode\":\"stretch_width\",\"title\":{\"id\":\"5734\"},\"toolbar\":{\"id\":\"5706\"},\"toolbar_location\":null,\"x_range\":{\"id\":\"5641\"},\"x_scale\":{\"id\":\"5686\"},\"y_range\":{\"id\":\"5684\"},\"y_scale\":{\"id\":\"5688\"}},\"id\":\"5682\",\"subtype\":\"Figure\",\"type\":\"Plot\"},{\"attributes\":{\"data\":{\"count\":[1,1,1,1,1,1,1,1,1,1,1,1,1,1,1,1,1,1,1,1,1,1,2,1,1,1,1,1,1,1,1,1,3,1,1,1,1,1,1,1,1,1,1,2,1,1,1,1,1,1,1,1,1,1,1,1,1,1,1,1,1,1,1,1,1],\"datetime\":{\"__ndarray__\":\"AABQH1S+dEIAADjYksB0QgAAXCorwXRCAADWcXfCdEIAAMj12ct0QgAA0kMnzHRCAAAkp4nSdEIAACJALdR0QgAAzsjI1nRCAADUOZjbdEIAAGDb6eN0QgAAiCc/7XRCAAD084vvdEIAAG70wvJ0QgAAvn1V/3RCAADs24ALdUIAAJRoIxZ1QgAABH0sH3VCAAAWPcIgdUIAADQPvzN1QgAAai3YTXVCAAD6W3NOdUIAANL9K1h1QgAAfhmgZ3VCAADg0OBndUIAAE7UunZ1QgAA7rhTd3VCAAB6kQSAdUIAAFh6aoB1QgAAIPwqhXVCAACSihmHdUIAAIAP9c51QgAAgoJDz3VCAAACxRjddUIAANSRAN51QgAAlA6Z6nVCAACwoOnrdUIAAPooTfJ1QgAAutja9HVCAAAgMw0CdkIAAEgKZwN2QgAAeq7GCXZCAAD6ELULdkIAAGhPshZ2QgAAynOyRHZCAACgxVtGdkIAAGaOT1p2QgAA6H34bHZCAAAYRz2JdkIAAOpfQop2QgAAqrzIjHZCAAB86t6UdkIAAGA6qqR2QgAA/Bz+pHZCAAD2YKitdkIAAE4+prZ2QgAAUmeUuXZCAACSBGi9dkIAAPpwYNJ2QgAASIM61HZCAABInvHUdkIAAFRMBNt2QgAA/q9Q23ZCAADEYavbdkIAAKI7TN12Qg==\",\"dtype\":\"float64\",\"order\":\"little\",\"shape\":[65]},\"exit_price\":{\"__ndarray__\":\"AAAAAABb00BXW7G/TMjSQKmkTkATqNJAAAAAAIC00kAAAAAAgGDSQKmkTkCDQtJAAAAAAIDr0UCsrdhfRsHRQAAAAAAA3dFAVFInoIlQ0UAAAAAA4JTRQFdbsb8M7dFArK3YX2Zg0kAAAAAAwCfSQAAAAADA19BAVFInoEkI0UAAAAAAAO/QQFdbsb/8kdBAVFInoClg0EBUUieguU/NQKyt2F82I9BAqaROQMNC0EDWVuwvC+TQQKyt2F/WONJAqaROQBNW0kAAAAAAgDXTQAAAAACAUtNAqaROQHM300CsrdhfNvjSQFRSJ6B5mtNAAAAAAADP0kBUUiegWbbWQHMeO5U5vdZArK3YX0aI10AAAAAAgKTXQKyt2F8m5ddArK3YX0a310AAAAAAgAXYQKyt2F+GnddAAAAAAAC12EAAAAAAgMnYQFdbsb981NhAmpmZmWnj2EAzMzMzE7fYQAAAAABAuNlAAAAAAMDV2UBXW7G//PzaQKyt2F+GxdhAV1uxvzxq2kAAAAAA0IbaQAAAAABAqtpAAAAAAAC82kBUUiegGQXdQFdbsb9sJt1AAAAAABDM3UBUUiegycvdQKmkTkDzed5ArK3YX1bs3UCsrdhftiXbQFdbsb9MqdpAVFInoLlq3EBUUiegWV3bQFRSJ6D5rNtAAAAAAKBi20AAAAAAALLbQA==\",\"dtype\":\"float64\",\"order\":\"little\",\"shape\":[65]},\"index\":{\"__ndarray__\":\"AAAAAACARUAAAAAAAIBHQAAAAAAAgEhAAAAAAACASUAAAAAAAEBRQAAAAAAAgFFAAAAAAADAVEAAAAAAAIBVQAAAAAAAAFdAAAAAAADAWUAAAAAAAEBeQAAAAAAAwGFAAAAAAABgYkAAAAAAAGBjQAAAAAAAoGZAAAAAAADAaUAAAAAAAEBsQAAAAAAAoG5AAAAAAAAAb0AAAAAAACByQAAAAAAAUHVAAAAAAABwdUAAAAAAANB2QAAAAAAA4HhAAAAAAADweEAAAAAAAMB6QAAAAAAA4HpAAAAAAADwe0AAAAAAAAB8QAAAAAAAoHxAAAAAAADQfEAAAAAAACiDQAAAAAAAMINAAAAAAAAohEAAAAAAADCEQAAAAAAACIVAAAAAAAAYhUAAAAAAAICFQAAAAAAAoIVAAAAAAACIhkAAAAAAAKiGQAAAAAAAEIdAAAAAAAAwh0AAAAAAAOiHQAAAAAAA+IpAAAAAAAAQi0AAAAAAAFiMQAAAAAAAiI1AAAAAAABYj0AAAAAAAHCPQAAAAAAAoI9AAAAAAAAIkEAAAAAAAIiQQAAAAAAAjJBAAAAAAADQkEAAAAAAAByRQAAAAAAAOJFAAAAAAABYkUAAAAAAAASSQAAAAAAAFJJAAAAAAAAckkAAAAAAAEiSQAAAAAAATJJAAAAAAABQkkAAAAAAAFySQA==\",\"dtype\":\"float64\",\"order\":\"little\",\"shape\":[65]},\"marker_size\":{\"__ndarray__\":\"zczMzMzMMUA0MzMzMzMyQAAAAAAAADJANDMzMzMzMkAAAAAAAAAyQDQzMzMzMzJAAAAAAAAAMkA0MzMzMzMyQM3MzMzMzDFANDMzMzMzMkDNzMzMzMwxQJqZmZmZmTFANDMzMzMzMUBmZmZmZmYxQM3MzMzMzDFAzczMzMzMMUBmZmZmZmYxQJqZmZmZmTFAzczMzMzMMUDNzMzMzMwxQAAAAAAAADRAAAAAAAAANEAAAAAAAAAgQDQzMzMzMzNANDMzMzMzM0DNzMzMzMwyQAAAAAAAADNAmpmZmZmZMkAAAAAAAAAzQDQzMzMzMzJAzczMzMzMMkA0MzMzMzMzQDQzMzMzMzNAzczMzMzMMkDNzMzMzMwyQGZmZmZmZjJAmpmZmZmZMkA0MzMzMzMyQGZmZmZmZjJAAAAAAAAAMkAAAAAAAAAyQM3MzMzMzDFAzczMzMzMMUAAAAAAAAAgQJqZmZmZmTFAmpmZmZmZMUCamZmZmZkxQJqZmZmZmTFANDMzMzMzM0A0MzMzMzMzQAAAAAAAADNAAAAAAAAAM0DNzMzMzMwyQM3MzMzMzDJAZmZmZmZmMkBmZmZmZmYyQAAAAAAAADJANDMzMzMzMkAAAAAAAAAzQGZmZmZmZjNAZmZmZmZmMkAAAAAAAAAzQJqZmZmZmTJAzczMzMzMMkBmZmZmZmYyQA==\",\"dtype\":\"float64\",\"order\":\"little\",\"shape\":[65]},\"position_lines_xs\":[[41.0,43.0],[47.0,47.0],[48.0,49.0],[49.0,51.0],[69.0,69.0],[70.0,70.0],[82.0,83.0],[83.0,86.0],[92.0,92.0],[103.0,103.0],[116.0,121.0],[141.0,142.0],[146.0,147.0],[153.0,155.0],[180.0,181.0],[205.0,206.0],[224.0,226.0],[228.0,245.0],[245.0,248.0],[248.0,290.0],[290.0,341.0],[341.0,343.0],[354.0,365.0],[367.0,398.0],[398.0,399.0],[399.0,428.0],[428.0,430.0],[445.0,447.0],[448.0,448.0],[457.0,458.0],[460.0,461.0],[498.0,613.0],[614.0,614.0],[620.0,645.0],[645.0,646.0],[664.0,673.0],[674.0,675.0],[687.0,688.0],[691.0,692.0],[693.0,721.0],[721.0,725.0],[731.0,738.0],[741.0,742.0],[755.0,765.0],[804.0,863.0],[863.0,866.0],[868.0,907.0],[907.0,945.0],[945.0,1003.0],[1003.0,1006.0],[1011.0,1012.0],[1013.0,1026.0],[1026.0,1058.0],[1058.0,1059.0],[1075.0,1076.0],[1095.0,1095.0],[1102.0,1102.0],[1110.0,1110.0],[1153.0,1153.0],[1156.0,1157.0],[1159.0,1159.0],[1170.0,1170.0],[1170.0,1171.0],[1172.0,1172.0],[1174.0,1175.0]],\"position_lines_ys\":[[20049.8204016,19820.0],[19081.062198400003,19233.1992],[19338.6,19104.3008],[19004.914,19154.0],[19051.125799200003,18818.0],[18537.85,18698.0508],[18571.7197008,18350.0],[18053.82,18181.0996],[18524.876200799998,18292.0],[17574.78,17730.1504],[18371.67,18003.5],[18200.4753016,18356.1992],[19049.2215984,18817.5996],[18449.9753016,18591.0],[17484.9,17247.0],[17294.342,17441.1504],[17571.723700799997,17340.0],[16989.104099199998,16967.9492],[17001.8850984,16768.6504],[16676.58,15007.4502],[15037.465100399999,16524.8496],[16491.7999008,16651.0508],[17073.3951016,17296.1748],[17622.373598399998,18659.3496],[18622.0309008,18776.3008],[18995.8162008,19670.0],[19630.66,19786.0],[19915.752,19677.8008],[19263.396,19424.8496],[20269.358200799998,20073.9004],[19095.0341984,19260.0],[18388.704,23257.4004],[23264.263000266666,23284.899733333335],[23542.992,24097.0996],[24048.905400800002,24210.0],[24706.4137992,24468.5996],[24111.68,24285.0996],[24829.360401600003,24598.0],[24025.9514008,24182.0996],[24983.6684016,25300.0],[25249.4,25382.0],[25639.677,25425.9492],[25318.2121,25485.65],[25434.7871,25308.3],[24876.554200799997,26337.0],[26284.326,26455.0],[26596.086,27635.9492],[27580.6773016,25366.0996],[25416.8317992,27048.9492],[26994.8513016,27163.25],[27548.6865984,27305.0],[27216.358599199997,27376.0],[27430.752,29716.4004],[29656.967599199997,29849.6992],[30718.1632992,30512.25],[30321.1365992,30511.1504],[31443.9127008,31207.8008],[30469.8385992,30641.3496],[28030.95,27798.8496],[27145.6506984,27301.1992],[29240.7652008,29098.9004],[27839.21,28021.4004],[28551.9390984,28339.9004],[27898.3921984,28042.5],[28604.1449016,28360.0]],\"returns_long\":{\"__ndarray__\":\"AOvXQaJ5h78AAAAAAAD4f4C/onsT0Ii/AAAAAAAA+H9AXWRrog+JvwAAAAAAAPh/wFosMz9ziL8AAAAAAAD4fwAsye3Svom/AAAAAAAA+H/gNzb3Y4WUvwAAAAAAAPh/AAqTD+PmiL8AAAAAAAD4f0CWtt153Yu/AAAAAAAA+H/AWptG8gGLvwAAAAAAAPh/AMuaM0UYjL8AAAAAAAD4fzAYnZhKUrk/AAAAAAAA+H8AAAAAAAD4f2BqhZzWIK4/AAAAAAAA+H9gKrom5iuiPwAAAAAAAPh/gK4DjiJ4iL8AAAAAAAD4f8CmrhC4v4O/AAAAAAAA+H+EJipz6/HQPwAAAAAAAPh/wMOYe9EZmD8AAAAAAAD4fwBW3O+WtoO/AAAAAAAA+H+AAjsRUxWDvwAAAAAAAPh/ABjifkruiT8AAAAAAAD4f4CW9yxfEoG/AAAAAAAA+H8AAAAAAAD4f8C29jnwDq4/AAAAAAAA+H+gdDcUswSkPwAAAAAAAPh/QJDIyFRwsD8AAAAAAAD4fwC1o8StHYK/AAAAAAAA+H+gP2PlvVS1PwAAAAAAAPh/gNV4cu10e78AAAAAAAD4f4CI7RW+wX6/AAAAAAAA+H9ARA6VLvWAvwAAAAAAAPh/AO+YQEjfc78AAAAAAAD4fwDy4oAqa36/AAAAAAAA+H+AZStP9HqBvw==\",\"dtype\":\"float64\",\"order\":\"little\",\"shape\":[65]},\"returns_positive\":[\"0\",\"0\",\"0\",\"0\",\"0\",\"0\",\"0\",\"0\",\"0\",\"0\",\"0\",\"0\",\"0\",\"0\",\"0\",\"0\",\"0\",\"1\",\"0\",\"1\",\"1\",\"0\",\"1\",\"1\",\"0\",\"1\",\"0\",\"0\",\"0\",\"0\",\"0\",\"1\",\"0\",\"1\",\"0\",\"0\",\"0\",\"0\",\"0\",\"1\",\"0\",\"0\",\"0\",\"0\",\"1\",\"0\",\"1\",\"1\",\"1\",\"0\",\"0\",\"0\",\"1\",\"0\",\"0\",\"0\",\"0\",\"0\",\"0\",\"0\",\"0\",\"0\",\"0\",\"0\",\"0\"],\"returns_short\":{\"__ndarray__\":\"AAAAAAAA+H+Am4frP1SAvwAAAAAAAPh/gKb0wNQQgL8AAAAAAAD4fwAQA7fNsoG/AAAAAAAA+H8A00N6eOB8vwAAAAAAAPh/ANzPFPwagr8AAAAAAAD4f4A5EYrThYG/AAAAAAAA+H8AHHkM7E5/vwAAAAAAAPh/AAjP65Rigb8AAAAAAAD4fwBiIorDZlQ/AAAAAAAA+H8YQBxIYp+5PwAAAAAAAPh/gJKu27fGg78AAAAAAAD4fwAAAAAAAPh/ANhgqVf3gL8AAAAAAAD4f4AofpLCNIC/AAAAAAAA+H8AOV8YQCqBvwAAAAAAAPh/AFuYq22xgb8AAAAAAAD4f8RwDs2FDIC/AAAAAAAA+H8Ap5d1BHB7vwAAAAAAAPh/AKbNSbl1fb8AAAAAAAD4fwBZeZfZnnq/AAAAAAAA+H8A7AtPtoJ1vwAAAAAAAPh/AHendpYWe78AAAAAAAD4fwAAAAAAAPh/APqTOsyYer8AAAAAAAD4f5jvhMgujrQ/AAAAAAAA+H8ArK9DNI15vwAAAAAAAPh/AP5cIpIGeL8AAAAAAAD4fwAIuUdgnnq/AAAAAAAA+H8ApABuH6t5vwAAAAAAAPh/AIE0Z04Od78AAAAAAAD4fwDjDvV9eHe/AAAAAAAA+H8AklbtR856vwAAAAAAAPh/AO5AbF4odb8AAAAAAAD4fw==\",\"dtype\":\"float64\",\"order\":\"little\",\"shape\":[65]},\"size\":[49,-51,50,-51,50,-51,50,-51,49,-51,49,-48,46,-47,49,-49,47,-48,49,-49,60,-60,0,56,-56,54,-55,53,-55,51,-54,56,-56,54,-54,52,-53,51,-52,50,-50,49,-49,0,48,-48,48,-48,56,-56,55,-55,54,-54,52,-52,50,-51,55,-57,52,-55,53,-54,52]},\"selected\":{\"id\":\"5929\"},\"selection_policy\":{\"id\":\"5928\"}},\"id\":\"5675\",\"type\":\"ColumnDataSource\"},{\"attributes\":{},\"id\":\"5646\",\"type\":\"LinearScale\"},{\"attributes\":{\"data_source\":{\"id\":\"5790\"},\"glyph\":{\"id\":\"5791\"},\"hover_glyph\":null,\"muted_glyph\":null,\"nonselection_glyph\":{\"id\":\"5792\"},\"selection_glyph\":null,\"view\":{\"id\":\"5794\"}},\"id\":\"5793\",\"type\":\"GlyphRenderer\"},{\"attributes\":{\"axis\":{\"id\":\"5875\"},\"dimension\":1,\"ticker\":null},\"id\":\"5878\",\"type\":\"Grid\"},{\"attributes\":{\"data\":{},\"selected\":{\"id\":\"5788\"},\"selection_policy\":{\"id\":\"5787\"}},\"id\":\"5768\",\"type\":\"ColumnDataSource\"},{\"attributes\":{\"bottom_units\":\"screen\",\"fill_alpha\":0.5,\"fill_color\":\"lightgrey\",\"left_units\":\"screen\",\"level\":\"overlay\",\"line_alpha\":1.0,\"line_color\":\"black\",\"line_dash\":[4,4],\"line_width\":2,\"right_units\":\"screen\",\"top_units\":\"screen\"},\"id\":\"5665\",\"type\":\"BoxAnnotation\"},{\"attributes\":{\"text\":\"\"},\"id\":\"5734\",\"type\":\"Title\"},{\"attributes\":{},\"id\":\"5742\",\"type\":\"UnionRenderers\"},{\"attributes\":{\"days\":[\"%d %b\",\"%a %d\"],\"months\":[\"%m/%Y\",\"%b'%y\"]},\"id\":\"5679\",\"type\":\"DatetimeTickFormatter\"},{\"attributes\":{\"fill_color\":{\"field\":\"returns_positive\",\"transform\":{\"id\":\"5677\"}},\"marker\":{\"value\":\"triangle\"},\"size\":{\"field\":\"marker_size\",\"units\":\"screen\"},\"x\":{\"field\":\"index\"},\"y\":{\"field\":\"returns_long\"}},\"id\":\"5848\",\"type\":\"Scatter\"},{\"attributes\":{\"callback\":null,\"formatters\":{\"@datetime\":\"datetime\"},\"point_policy\":\"follow_mouse\",\"renderers\":[{\"id\":\"5850\"}],\"tooltips\":[[\"Date\",\"@datetime{%c}\"],[\"Size\",\"@size{0,0}\"],[\"Count\",\"@count{0,0}\"],[\"P/L\",\"@returns_long{+0.[000]%}\"]]},\"id\":\"5857\",\"type\":\"HoverTool\"},{\"attributes\":{},\"id\":\"5788\",\"type\":\"Selection\"},{\"attributes\":{\"bounds\":[-61.25,1286.25],\"end\":1225,\"js_property_callbacks\":{\"change:end\":[{\"id\":\"5966\"}]},\"min_interval\":10},\"id\":\"5641\",\"type\":\"Range1d\"},{\"attributes\":{},\"id\":\"5744\",\"type\":\"UnionRenderers\"},{\"attributes\":{\"label\":{\"value\":\"Max Drawdown (-19.8%)\"},\"renderers\":[{\"id\":\"5771\"}]},\"id\":\"5789\",\"type\":\"LegendItem\"},{\"attributes\":{\"factors\":[\"0\",\"1\"],\"palette\":[\"rgb(178, 27, 0)\",\"rgb(0, 178, 0)\"]},\"id\":\"5678\",\"type\":\"CategoricalColorMapper\"},{\"attributes\":{\"axis_label\":\"Volume\",\"formatter\":{\"id\":\"5903\"},\"minor_tick_line_color\":null,\"ticker\":{\"id\":\"5876\"}},\"id\":\"5875\",\"type\":\"LinearAxis\"},{\"attributes\":{\"data\":{\"equity_dd\":{\"__ndarray__\":\"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\",\"dtype\":\"float64\",\"order\":\"little\",\"shape\":[2452]},\"index\":[0,1,2,3,4,5,6,7,8,9,10,11,12,13,14,15,16,17,18,19,20,21,22,23,24,25,26,27,28,29,30,31,32,33,34,35,36,37,38,39,40,41,42,43,44,45,46,47,48,49,50,51,52,53,54,55,56,57,58,59,60,61,62,63,64,65,66,67,68,69,70,71,72,73,74,75,76,77,78,79,80,81,82,83,84,85,86,87,88,89,90,91,92,93,94,95,96,97,98,99,100,101,102,103,104,105,106,107,108,109,110,111,112,113,114,115,116,117,118,119,120,121,122,123,124,125,126,127,128,129,130,131,132,133,134,135,136,137,138,139,140,141,142,143,144,145,146,147,148,149,150,151,152,153,154,155,156,157,158,159,160,161,162,163,164,165,166,167,168,169,170,171,172,173,174,175,176,177,178,179,180,181,182,183,184,185,186,187,188,189,190,191,192,193,194,195,196,197,198,199,200,201,202,203,204,205,206,207,208,209,210,211,212,213,214,215,216,217,218,219,220,221,222,223,224,225,226,227,228,229,230,231,232,233,234,235,236,237,238,239,240,241,242,243,244,245,246,247,248,249,250,251,252,253,254,255,256,257,258,259,260,261,262,263,264,265,266,267,268,269,270,271,272,273,274,275,276,277,278,279,280,281,282,283,284,285,286,287,288,289,290,291,292,293,294,295,296,297,298,299,300,301,302,303,304,305,306,307,308,309,310,311,312,313,314,315,316,317,318,319,320,321,322,323,324,325,326,327,328,329,330,331,332,333,334,335,336,337,338,339,340,341,342,343,344,345,346,347,348,349,350,351,352,353,354,355,356,357,358,359,360,361,362,363,364,365,366,367,368,369,370,371,372,373,374,375,376,377,378,379,380,381,382,383,384,385,386,387,388,389,390,391,392,393,394,395,396,397,398,399,400,401,402,403,404,405,406,407,408,409,410,411,412,413,414,415,416,417,418,419,420,421,422,423,424,425,426,427,428,429,430,431,432,433,434,435,436,437,438,439,440,441,442,443,444,445,446,447,448,449,450,451,452,453,454,455,456,457,458,459,460,461,462,463,464,465,466,467,468,469,470,471,472,473,474,475,476,477,478,479,480,481,482,483,484,485,486,487,488,489,490,491,492,493,494,495,496,497,498,499,500,501,502,503,504,505,506,507,508,509,510,511,512,513,514,515,516,517,518,519,520,521,522,523,524,525,526,527,528,529,530,531,532,533,534,535,536,537,538,539,540,541,542,543,544,545,546,547,548,549,550,551,552,553,554,555,556,557,558,559,560,561,562,563,564,565,566,567,568,569,570,571,572,573,574,575,576,577,578,579,580,581,582,583,584,585,586,587,588,589,590,591,592,593,594,595,596,597,598,599,600,601,602,603,604,605,606,607,608,609,610,611,612,613,614,615,616,617,618,619,620,621,622,623,624,625,626,627,628,629,630,631,632,633,634,635,636,637,638,639,640,641,642,643,644,645,646,647,648,649,650,651,652,653,654,655,656,657,658,659,660,661,662,663,664,665,666,667,668,669,670,671,672,673,674,675,676,677,678,679,680,681,682,683,684,685,686,687,688,689,690,691,692,693,694,695,696,697,698,699,700,701,702,703,704,705,706,707,708,709,710,711,712,713,714,715,716,717,718,719,720,721,722,723,724,725,726,727,728,729,730,731,732,733,734,735,736,737,738,739,740,741,742,743,744,745,746,747,748,749,750,751,752,753,754,755,756,757,758,759,760,761,762,763,764,765,766,767,768,769,770,771,772,773,774,775,776,777,778,779,780,781,782,783,784,785,786,787,788,789,790,791,792,793,794,795,796,797,798,799,800,801,802,803,804,805,806,807,808,809,810,811,812,813,814,815,816,817,818,819,820,821,822,823,824,825,826,827,828,829,830,831,832,833,834,835,836,837,838,839,840,841,842,843,844,845,846,847,848,849,850,851,852,853,854,855,856,857,858,859,860,861,862,863,864,865,866,867,868,869,870,871,872,873,874,875,876,877,878,879,880,881,882,883,884,885,886,887,888,889,890,891,892,893,894,895,896,897,898,899,900,901,902,903,904,905,906,907,908,909,910,911,912,913,914,915,916,917,918,919,920,921,922,923,924,925,926,927,928,929,930,931,932,933,934,935,936,937,938,939,940,941,942,943,944,945,946,947,948,949,950,951,952,953,954,955,956,957,958,959,960,961,962,963,964,965,966,967,968,969,970,971,972,973,974,975,976,977,978,979,980,981,982,983,984,985,986,987,988,989,990,991,992,993,994,995,996,997,998,999,1000,1001,1002,1003,1004,1005,1006,1007,1008,1009,1010,1011,1012,1013,1014,1015,1016,1017,1018,1019,1020,1021,1022,1023,1024,1025,1026,1027,1028,1029,1030,1031,1032,1033,1034,1035,1036,1037,1038,1039,1040,1041,1042,1043,1044,1045,1046,1047,1048,1049,1050,1051,1052,1053,1054,1055,1056,1057,1058,1059,1060,1061,1062,1063,1064,1065,1066,1067,1068,1069,1070,1071,1072,1073,1074,1075,1076,1077,1078,1079,1080,1081,1082,1083,1084,1085,1086,1087,1088,1089,1090,1091,1092,1093,1094,1095,1096,1097,1098,1099,1100,1101,1102,1103,1104,1105,1106,1107,1108,1109,1110,1111,1112,1113,1114,1115,1116,1117,1118,1119,1120,1121,1122,1123,1124,1125,1126,1127,1128,1129,1130,1131,1132,1133,1134,1135,1136,1137,1138,1139,1140,1141,1142,1143,1144,1145,1146,1147,1148,1149,1150,1151,1152,1153,1154,1155,1156,1157,1158,1159,1160,1161,1162,1163,1164,1165,1166,1167,1168,1169,1170,1171,1172,1173,1174,1175,1176,1177,1178,1179,1180,1181,1182,1183,1184,1185,1186,1187,1188,1189,1190,1191,1192,1193,1194,1195,1196,1197,1198,1199,1200,1201,1202,1203,1204,1205,1206,1207,1208,1209,1210,1211,1212,1213,1214,1215,1216,1217,1218,1219,1220,1221,1222,1223,1224,1225,1225,1224,1223,1222,1221,1220,1219,1218,1217,1216,1215,1214,1213,1212,1211,1210,1209,1208,1207,1206,1205,1204,1203,1202,1201,1200,1199,1198,1197,1196,1195,1194,1193,1192,1191,1190,1189,1188,1187,1186,1185,1184,1183,1182,1181,1180,1179,1178,1177,1176,1175,1174,1173,1172,1171,1170,1169,1168,1167,1166,1165,1164,1163,1162,1161,1160,1159,1158,1157,1156,1155,1154,1153,1152,1151,1150,1149,1148,1147,1146,1145,1144,1143,1142,1141,1140,1139,1138,1137,1136,1135,1134,1133,1132,1131,1130,1129,1128,1127,1126,1125,1124,1123,1122,1121,1120,1119,1118,1117,1116,1115,1114,1113,1112,1111,1110,1109,1108,1107,1106,1105,1104,1103,1102,1101,1100,1099,1098,1097,1096,1095,1094,1093,1092,1091,1090,1089,1088,1087,1086,1085,1084,1083,1082,1081,1080,1079,1078,1077,1076,1075,1074,1073,1072,1071,1070,1069,1068,1067,1066,1065,1064,1063,1062,1061,1060,1059,1058,1057,1056,1055,1054,1053,1052,1051,1050,1049,1048,1047,1046,1045,1044,1043,1042,1041,1040,1039,1038,1037,1036,1035,1034,1033,1032,1031,1030,1029,1028,1027,1026,1025,1024,1023,1022,1021,1020,1019,1018,1017,1016,1015,1014,1013,1012,1011,1010,1009,1008,1007,1006,1005,1004,1003,1002,1001,1000,999,998,997,996,995,994,993,992,991,990,989,988,987,986,985,984,983,982,981,980,979,978,977,976,975,974,973,972,971,970,969,968,967,966,965,964,963,962,961,960,959,958,957,956,955,954,953,952,951,950,949,948,947,946,945,944,943,942,941,940,939,938,937,936,935,934,933,932,931,930,929,928,927,926,925,924,923,922,921,920,919,918,917,916,915,914,913,912,911,910,909,908,907,906,905,904,903,902,901,900,899,898,897,896,895,894,893,892,891,890,889,888,887,886,885,884,883,882,881,880,879,878,877,876,875,874,873,872,871,870,869,868,867,866,865,864,863,862,861,860,859,858,857,856,855,854,853,852,851,850,849,848,847,846,845,844,843,842,841,840,839,838,837,836,835,834,833,832,831,830,829,828,827,826,825,824,823,822,821,820,819,818,817,816,815,814,813,812,811,810,809,808,807,806,805,804,803,802,801,800,799,798,797,796,795,794,793,792,791,790,789,788,787,786,785,784,783,782,781,780,779,778,777,776,775,774,773,772,771,770,769,768,767,766,765,764,763,762,761,760,759,758,757,756,755,754,753,752,751,750,749,748,747,746,745,744,743,742,741,740,739,738,737,736,735,734,733,732,731,730,729,728,727,726,725,724,723,722,721,720,719,718,717,716,715,714,713,712,711,710,709,708,707,706,705,704,703,702,701,700,699,698,697,696,695,694,693,692,691,690,689,688,687,686,685,684,683,682,681,680,679,678,677,676,675,674,673,672,671,670,669,668,667,666,665,664,663,662,661,660,659,658,657,656,655,654,653,652,651,650,649,648,647,646,645,644,643,642,641,640,639,638,637,636,635,634,633,632,631,630,629,628,627,626,625,624,623,622,621,620,619,618,617,616,615,614,613,612,611,610,609,608,607,606,605,604,603,602,601,600,599,598,597,596,595,594,593,592,591,590,589,588,587,586,585,584,583,582,581,580,579,578,577,576,575,574,573,572,571,570,569,568,567,566,565,564,563,562,561,560,559,558,557,556,555,554,553,552,551,550,549,548,547,546,545,544,543,542,541,540,539,538,537,536,535,534,533,532,531,530,529,528,527,526,525,524,523,522,521,520,519,518,517,516,515,514,513,512,511,510,509,508,507,506,505,504,503,502,501,500,499,498,497,496,495,494,493,492,491,490,489,488,487,486,485,484,483,482,481,480,479,478,477,476,475,474,473,472,471,470,469,468,467,466,465,464,463,462,461,460,459,458,457,456,455,454,453,452,451,450,449,448,447,446,445,444,443,442,441,440,439,438,437,436,435,434,433,432,431,430,429,428,427,426,425,424,423,422,421,420,419,418,417,416,415,414,413,412,411,410,409,408,407,406,405,404,403,402,401,400,399,398,397,396,395,394,393,392,391,390,389,388,387,386,385,384,383,382,381,380,379,378,377,376,375,374,373,372,371,370,369,368,367,366,365,364,363,362,361,360,359,358,357,356,355,354,353,352,351,350,349,348,347,346,345,344,343,342,341,340,339,338,337,336,335,334,333,332,331,330,329,328,327,326,325,324,323,322,321,320,319,318,317,316,315,314,313,312,311,310,309,308,307,306,305,304,303,302,301,300,299,298,297,296,295,294,293,292,291,290,289,288,287,286,285,284,283,282,281,280,279,278,277,276,275,274,273,272,271,270,269,268,267,266,265,264,263,262,261,260,259,258,257,256,255,254,253,252,251,250,249,248,247,246,245,244,243,242,241,240,239,238,237,236,235,234,233,232,231,230,229,228,227,226,225,224,223,222,221,220,219,218,217,216,215,214,213,212,211,210,209,208,207,206,205,204,203,202,201,200,199,198,197,196,195,194,193,192,191,190,189,188,187,186,185,184,183,182,181,180,179,178,177,176,175,174,173,172,171,170,169,168,167,166,165,164,163,162,161,160,159,158,157,156,155,154,153,152,151,150,149,148,147,146,145,144,143,142,141,140,139,138,137,136,135,134,133,132,131,130,129,128,127,126,125,124,123,122,121,120,119,118,117,116,115,114,113,112,111,110,109,108,107,106,105,104,103,102,101,100,99,98,97,96,95,94,93,92,91,90,89,88,87,86,85,84,83,82,81,80,79,78,77,76,75,74,73,72,71,70,69,68,67,66,65,64,63,62,61,60,59,58,57,56,55,54,53,52,51,50,49,48,47,46,45,44,43,42,41,40,39,38,37,36,35,34,33,32,31,30,29,28,27,26,25,24,23,22,21,20,19,18,17,16,15,14,13,12,11,10,9,8,7,6,5,4,3,2,1,0]},\"selected\":{\"id\":\"5741\"},\"selection_policy\":{\"id\":\"5740\"}},\"id\":\"5714\",\"type\":\"ColumnDataSource\"},{\"attributes\":{\"line_color\":{\"field\":\"returns_positive\",\"transform\":{\"id\":\"5678\"}},\"line_dash\":[2,4],\"line_width\":{\"value\":8},\"xs\":{\"field\":\"position_lines_xs\"},\"ys\":{\"field\":\"position_lines_ys\"}},\"id\":\"5916\",\"type\":\"MultiLine\"},{\"attributes\":{\"data_source\":{\"id\":\"5768\"},\"glyph\":{\"id\":\"5769\"},\"hover_glyph\":null,\"muted_glyph\":null,\"nonselection_glyph\":{\"id\":\"5770\"},\"selection_glyph\":null,\"view\":{\"id\":\"5772\"}},\"id\":\"5771\",\"type\":\"GlyphRenderer\"},{\"attributes\":{\"fill_color\":{\"value\":\"red\"},\"line_color\":{\"value\":\"red\"},\"size\":{\"units\":\"screen\",\"value\":8},\"x\":{\"value\":248},\"y\":{\"value\":0.8238826579288004}},\"id\":\"5769\",\"type\":\"Scatter\"},{\"attributes\":{\"axis\":{\"id\":\"5871\"},\"ticker\":null},\"id\":\"5874\",\"type\":\"Grid\"},{\"attributes\":{},\"id\":\"5655\",\"type\":\"BasicTicker\"},{\"attributes\":{},\"id\":\"5688\",\"type\":\"LinearScale\"},{\"attributes\":{\"line_alpha\":0.1,\"line_color\":\"red\",\"line_width\":2,\"x\":{\"field\":\"x\"},\"y\":{\"value\":1.0056438003216}},\"id\":\"5792\",\"type\":\"Line\"},{\"attributes\":{},\"id\":\"5745\",\"type\":\"Selection\"},{\"attributes\":{},\"id\":\"5741\",\"type\":\"Selection\"},{\"attributes\":{\"callback\":null,\"formatters\":{\"@datetime\":\"datetime\"},\"mode\":\"vline\",\"point_policy\":\"follow_mouse\",\"renderers\":[{\"id\":\"5723\"}],\"tooltips\":[[\"Date\",\"@datetime{%c}\"],[\"Equity\",\"@equity{+0,0.[000]%}\"]]},\"id\":\"5725\",\"type\":\"HoverTool\"},{\"attributes\":{\"children\":[[{\"id\":\"5682\"},0,0],[{\"id\":\"5814\"},1,0],[{\"id\":\"5642\"},2,0],[{\"id\":\"5863\"},3,0]]},\"id\":\"6026\",\"type\":\"GridBox\"},{\"attributes\":{\"data_source\":{\"id\":\"5729\"},\"glyph\":{\"id\":\"5730\"},\"hover_glyph\":null,\"muted_glyph\":null,\"nonselection_glyph\":{\"id\":\"5731\"},\"selection_glyph\":null,\"view\":{\"id\":\"5733\"}},\"id\":\"5732\",\"type\":\"GlyphRenderer\"},{\"attributes\":{},\"id\":\"5872\",\"type\":\"BasicTicker\"},{\"attributes\":{\"source\":{\"id\":\"5729\"}},\"id\":\"5733\",\"type\":\"CDSView\"},{\"attributes\":{},\"id\":\"5876\",\"type\":\"BasicTicker\"},{\"attributes\":{},\"id\":\"5766\",\"type\":\"Selection\"},{\"attributes\":{\"fill_color\":{\"field\":\"inc\",\"transform\":{\"id\":\"5676\"}},\"line_color\":{\"field\":\"inc\",\"transform\":{\"id\":\"5676\"}},\"top\":{\"field\":\"Volume\"},\"width\":{\"value\":0.8},\"x\":{\"field\":\"index\"}},\"id\":\"5897\",\"type\":\"VBar\"},{\"attributes\":{},\"id\":\"5740\",\"type\":\"UnionRenderers\"},{\"attributes\":{},\"id\":\"5664\",\"type\":\"SaveTool\"},{\"attributes\":{\"fill_alpha\":{\"value\":0.1},\"fill_color\":{\"value\":\"cyan\"},\"line_alpha\":{\"value\":0.1},\"line_color\":{\"value\":\"cyan\"},\"size\":{\"units\":\"screen\",\"value\":8},\"x\":{\"value\":1055},\"y\":{\"value\":1.6662437680656004}},\"id\":\"5731\",\"type\":\"Scatter\"},{\"attributes\":{\"overlay\":{\"id\":\"5665\"}},\"id\":\"5660\",\"type\":\"BoxZoomTool\"},{\"attributes\":{\"args\":{\"axis\":{\"id\":\"5650\"},\"formatter\":{\"id\":\"5679\"},\"source\":{\"id\":\"5674\"}},\"code\":\"\\nthis.labels = this.labels || formatter.doFormat(ticks\\n                                                .map(i => source.data.datetime[i])\\n                                                .filter(t => t !== undefined));\\nreturn this.labels[index] || \\\"\\\";\\n        \"},\"id\":\"5680\",\"type\":\"FuncTickFormatter\"},{\"attributes\":{},\"id\":\"5743\",\"type\":\"Selection\"},{\"attributes\":{},\"id\":\"5929\",\"type\":\"Selection\"},{\"attributes\":{},\"id\":\"5686\",\"type\":\"LinearScale\"},{\"attributes\":{},\"id\":\"5684\",\"type\":\"DataRange1d\"},{\"attributes\":{},\"id\":\"5787\",\"type\":\"UnionRenderers\"},{\"attributes\":{\"dimensions\":\"width\",\"maintain_focus\":false},\"id\":\"5659\",\"type\":\"WheelZoomTool\"},{\"attributes\":{\"data\":{},\"selected\":{\"id\":\"5745\"},\"selection_policy\":{\"id\":\"5744\"}},\"id\":\"5729\",\"type\":\"ColumnDataSource\"},{\"attributes\":{},\"id\":\"5869\",\"type\":\"LinearScale\"},{\"attributes\":{\"formatter\":{\"id\":\"5680\"},\"ticker\":{\"id\":\"5872\"},\"visible\":true},\"id\":\"5871\",\"type\":\"LinearAxis\"},{\"attributes\":{\"fill_alpha\":{\"value\":0.1},\"fill_color\":{\"value\":\"red\"},\"line_alpha\":{\"value\":0.1},\"line_color\":{\"value\":\"red\"},\"size\":{\"units\":\"screen\",\"value\":8},\"x\":{\"value\":248},\"y\":{\"value\":0.8238826579288004}},\"id\":\"5770\",\"type\":\"Scatter\"},{\"attributes\":{\"source\":{\"id\":\"5768\"}},\"id\":\"5772\",\"type\":\"CDSView\"},{\"attributes\":{},\"id\":\"5765\",\"type\":\"UnionRenderers\"},{\"attributes\":{},\"id\":\"5865\",\"type\":\"DataRange1d\"},{\"attributes\":{\"format\":\"0,0.[00]%\"},\"id\":\"5727\",\"type\":\"NumeralTickFormatter\"},{\"attributes\":{\"callback\":null,\"formatters\":{\"@datetime\":\"datetime\"},\"point_policy\":\"follow_mouse\",\"renderers\":[{\"id\":\"5855\"}],\"tooltips\":[[\"Date\",\"@datetime{%c}\"],[\"Size\",\"@size{0,0}\"],[\"Count\",\"@count{0,0}\"],[\"P/L\",\"@returns_short{+0.[000]%}\"]]},\"id\":\"5859\",\"type\":\"HoverTool\"},{\"attributes\":{},\"id\":\"5867\",\"type\":\"LinearScale\"},{\"attributes\":{},\"id\":\"5738\",\"type\":\"BasicTickFormatter\"},{\"attributes\":{},\"id\":\"5648\",\"type\":\"LinearScale\"},{\"attributes\":{},\"id\":\"5928\",\"type\":\"UnionRenderers\"},{\"attributes\":{\"below\":[{\"id\":\"5871\"}],\"center\":[{\"id\":\"5874\"},{\"id\":\"5878\"}],\"left\":[{\"id\":\"5875\"}],\"min_border_bottom\":6,\"min_border_left\":0,\"min_border_right\":10,\"min_border_top\":3,\"outline_line_color\":\"#666666\",\"plot_height\":90,\"plot_width\":null,\"renderers\":[{\"id\":\"5899\"}],\"sizing_mode\":\"stretch_width\",\"title\":{\"id\":\"6017\"},\"toolbar\":{\"id\":\"5887\"},\"toolbar_location\":null,\"x_range\":{\"id\":\"5641\"},\"x_scale\":{\"id\":\"5867\"},\"y_range\":{\"id\":\"5865\"},\"y_scale\":{\"id\":\"5869\"}},\"id\":\"5863\",\"subtype\":\"Figure\",\"type\":\"Plot\"},{\"attributes\":{\"fill_color\":{\"value\":\"cyan\"},\"line_color\":{\"value\":\"cyan\"},\"size\":{\"units\":\"screen\",\"value\":8},\"x\":{\"value\":1055},\"y\":{\"value\":1.6662437680656004}},\"id\":\"5730\",\"type\":\"Scatter\"},{\"attributes\":{\"line_color\":\"red\",\"line_width\":2,\"x\":{\"field\":\"x\"},\"y\":{\"value\":1.0056438003216}},\"id\":\"5791\",\"type\":\"Line\"},{\"attributes\":{\"data\":{\"x\":[41,321.0987434605936]},\"selected\":{\"id\":\"5812\"},\"selection_policy\":{\"id\":\"5811\"}},\"id\":\"5790\",\"type\":\"ColumnDataSource\"},{\"attributes\":{\"axis_label\":\"Profit / Loss\",\"formatter\":{\"id\":\"5861\"},\"minor_tick_line_color\":null,\"ticker\":{\"id\":\"5827\"}},\"id\":\"5826\",\"type\":\"LinearAxis\"},{\"attributes\":{\"data_source\":{\"id\":\"5674\"},\"glyph\":{\"id\":\"5933\"},\"hover_glyph\":null,\"muted_glyph\":null,\"nonselection_glyph\":{\"id\":\"5934\"},\"selection_glyph\":null,\"view\":{\"id\":\"5936\"}},\"id\":\"5935\",\"type\":\"GlyphRenderer\"},{\"attributes\":{\"fill_alpha\":{\"value\":0.1},\"fill_color\":{\"field\":\"returns_positive\",\"transform\":{\"id\":\"5677\"}},\"line_alpha\":{\"value\":0.1},\"marker\":{\"value\":\"triangle\"},\"size\":{\"field\":\"marker_size\",\"units\":\"screen\"},\"x\":{\"field\":\"index\"},\"y\":{\"field\":\"returns_long\"}},\"id\":\"5849\",\"type\":\"Scatter\"},{\"attributes\":{\"label\":{\"value\":\"Trades (65)\"},\"renderers\":[{\"id\":\"5918\"}]},\"id\":\"5931\",\"type\":\"LegendItem\"},{\"attributes\":{\"logo\":null,\"toolbars\":[{\"id\":\"5706\"},{\"id\":\"5838\"},{\"id\":\"5666\"},{\"id\":\"5887\"}],\"tools\":[{\"id\":\"5698\"},{\"id\":\"5699\"},{\"id\":\"5700\"},{\"id\":\"5701\"},{\"id\":\"5702\"},{\"id\":\"5703\"},{\"id\":\"5704\"},{\"id\":\"5725\"},{\"id\":\"5967\"},{\"id\":\"5830\"},{\"id\":\"5831\"},{\"id\":\"5832\"},{\"id\":\"5833\"},{\"id\":\"5834\"},{\"id\":\"5835\"},{\"id\":\"5836\"},{\"id\":\"5857\"},{\"id\":\"5859\"},{\"id\":\"5967\"},{\"id\":\"5658\"},{\"id\":\"5659\"},{\"id\":\"5660\"},{\"id\":\"5661\"},{\"id\":\"5662\"},{\"id\":\"5663\"},{\"id\":\"5664\"},{\"id\":\"5964\"},{\"id\":\"5967\"},{\"id\":\"5879\"},{\"id\":\"5880\"},{\"id\":\"5881\"},{\"id\":\"5882\"},{\"id\":\"5883\"},{\"id\":\"5884\"},{\"id\":\"5885\"},{\"id\":\"5901\"},{\"id\":\"5967\"}]},\"id\":\"6027\",\"type\":\"ProxyToolbar\"},{\"attributes\":{\"source\":{\"id\":\"5748\"}},\"id\":\"5752\",\"type\":\"CDSView\"},{\"attributes\":{\"axis\":{\"id\":\"5650\"},\"ticker\":null},\"id\":\"5653\",\"type\":\"Grid\"},{\"attributes\":{\"fill_alpha\":0.1,\"fill_color\":\"#ffffea\",\"line_alpha\":0.1,\"line_color\":\"#ffcb66\",\"x\":{\"field\":\"index\"},\"y\":{\"field\":\"equity_dd\"}},\"id\":\"5717\",\"type\":\"Patch\"},{\"attributes\":{\"line_alpha\":0.1,\"line_color\":\"#ff7f0e\",\"line_width\":1.3,\"x\":{\"field\":\"index\"},\"y\":{\"field\":\"sma_indic\\u2026(2000)_1_1\"}},\"id\":\"5950\",\"type\":\"Line\"},{\"attributes\":{\"line_color\":\"#666666\",\"line_dash\":[6],\"location\":0},\"id\":\"5846\",\"type\":\"Span\"},{\"attributes\":{},\"id\":\"5644\",\"type\":\"DataRange1d\"},{\"attributes\":{},\"id\":\"5885\",\"type\":\"SaveTool\"},{\"attributes\":{\"source\":{\"id\":\"5674\"}},\"id\":\"5724\",\"type\":\"CDSView\"},{\"attributes\":{\"text\":\"\"},\"id\":\"5995\",\"type\":\"Title\"},{\"attributes\":{\"fill_color\":\"#ffffea\",\"line_color\":\"#ffcb66\",\"x\":{\"field\":\"index\"},\"y\":{\"field\":\"equity_dd\"}},\"id\":\"5716\",\"type\":\"Patch\"},{\"attributes\":{\"line_color\":\"#1f77b4\",\"line_width\":1.3,\"x\":{\"field\":\"index\"},\"y\":{\"field\":\"ema_indic\\u2026(200)_0_1\"}},\"id\":\"5933\",\"type\":\"Line\"},{\"attributes\":{\"format\":\"0 a\"},\"id\":\"5903\",\"type\":\"NumeralTickFormatter\"},{\"attributes\":{\"data_source\":{\"id\":\"5674\"},\"glyph\":{\"id\":\"5721\"},\"hover_glyph\":null,\"muted_glyph\":null,\"nonselection_glyph\":{\"id\":\"5722\"},\"selection_glyph\":null,\"view\":{\"id\":\"5724\"}},\"id\":\"5723\",\"type\":\"GlyphRenderer\"},{\"attributes\":{\"border_line_color\":\"#333333\",\"click_policy\":\"hide\",\"items\":[{\"id\":\"5931\"},{\"id\":\"5947\"},{\"id\":\"5963\"}],\"label_text_font_size\":\"8pt\",\"location\":\"top_left\",\"margin\":0,\"padding\":5,\"spacing\":0},\"id\":\"5930\",\"type\":\"Legend\"},{\"attributes\":{\"format\":\"0.[00]%\"},\"id\":\"5861\",\"type\":\"NumeralTickFormatter\"},{\"attributes\":{},\"id\":\"5651\",\"type\":\"BasicTicker\"},{\"attributes\":{\"toolbar\":{\"id\":\"6027\"}},\"id\":\"6028\",\"type\":\"ToolbarBox\"},{\"attributes\":{\"args\":{\"ohlc_range\":{\"id\":\"5644\"},\"source\":{\"id\":\"5674\"},\"volume_range\":{\"id\":\"5865\"}},\"code\":\"if (!window._bt_scale_range) {\\n    window._bt_scale_range = function (range, min, max, pad) {\\n        \\\"use strict\\\";\\n        if (min !== Infinity && max !== -Infinity) {\\n            pad = pad ? (max - min) * .03 : 0;\\n            range.start = min - pad;\\n            range.end = max + pad;\\n        } else console.error('backtesting: scale range error:', min, max, range);\\n    };\\n}\\n\\nclearTimeout(window._bt_autoscale_timeout);\\n\\nwindow._bt_autoscale_timeout = setTimeout(function () {\\n    /**\\n     * @variable cb_obj `fig_ohlc.x_range`.\\n     * @variable source `ColumnDataSource`\\n     * @variable ohlc_range `fig_ohlc.y_range`.\\n     * @variable volume_range `fig_volume.y_range`.\\n     */\\n    \\\"use strict\\\";\\n\\n    let i = Math.max(Math.floor(cb_obj.start), 0),\\n        j = Math.min(Math.ceil(cb_obj.end), source.data['ohlc_high'].length);\\n\\n    let max = Math.max.apply(null, source.data['ohlc_high'].slice(i, j)),\\n        min = Math.min.apply(null, source.data['ohlc_low'].slice(i, j));\\n    _bt_scale_range(ohlc_range, min, max, true);\\n\\n    if (volume_range) {\\n        max = Math.max.apply(null, source.data['Volume'].slice(i, j));\\n        _bt_scale_range(volume_range, 0, max * 1.03, false);\\n    }\\n\\n}, 50);\\n\"},\"id\":\"5966\",\"type\":\"CustomJS\"},{\"attributes\":{\"data\":{},\"selected\":{\"id\":\"5766\"},\"selection_policy\":{\"id\":\"5765\"}},\"id\":\"5748\",\"type\":\"ColumnDataSource\"},{\"attributes\":{\"source\":{\"id\":\"5674\"}},\"id\":\"5952\",\"type\":\"CDSView\"},{\"attributes\":{},\"id\":\"5816\",\"type\":\"DataRange1d\"},{\"attributes\":{\"data_source\":{\"id\":\"5675\"},\"glyph\":{\"id\":\"5853\"},\"hover_glyph\":null,\"muted_glyph\":null,\"nonselection_glyph\":{\"id\":\"5854\"},\"selection_glyph\":null,\"view\":{\"id\":\"5856\"}},\"id\":\"5855\",\"type\":\"GlyphRenderer\"},{\"attributes\":{\"dimensions\":\"width\"},\"id\":\"5698\",\"type\":\"PanTool\"},{\"attributes\":{},\"id\":\"5820\",\"type\":\"LinearScale\"},{\"attributes\":{\"overlay\":{\"id\":\"5837\"}},\"id\":\"5832\",\"type\":\"BoxZoomTool\"},{\"attributes\":{\"overlay\":{\"id\":\"5886\"}},\"id\":\"5881\",\"type\":\"BoxZoomTool\"},{\"attributes\":{\"factors\":[\"0\",\"1\"],\"palette\":[\"tomato\",\"lime\"]},\"id\":\"5677\",\"type\":\"CategoricalColorMapper\"},{\"attributes\":{},\"id\":\"5695\",\"type\":\"BasicTicker\"},{\"attributes\":{\"source\":{\"id\":\"5674\"}},\"id\":\"5936\",\"type\":\"CDSView\"},{\"attributes\":{\"below\":[{\"id\":\"5650\"}],\"center\":[{\"id\":\"5653\"},{\"id\":\"5657\"},{\"id\":\"5930\"}],\"left\":[{\"id\":\"5654\"}],\"min_border_bottom\":6,\"min_border_left\":0,\"min_border_right\":10,\"min_border_top\":3,\"outline_line_color\":\"#666666\",\"plot_height\":400,\"plot_width\":null,\"renderers\":[{\"id\":\"5908\"},{\"id\":\"5913\"},{\"id\":\"5918\"},{\"id\":\"5935\"},{\"id\":\"5951\"}],\"sizing_mode\":\"stretch_width\",\"title\":{\"id\":\"5920\"},\"toolbar\":{\"id\":\"5666\"},\"toolbar_location\":null,\"x_range\":{\"id\":\"5641\"},\"x_scale\":{\"id\":\"5646\"},\"y_range\":{\"id\":\"5644\"},\"y_scale\":{\"id\":\"5648\"}},\"id\":\"5642\",\"subtype\":\"Figure\",\"type\":\"Plot\"},{\"attributes\":{},\"id\":\"5834\",\"type\":\"RedoTool\"},{\"attributes\":{},\"id\":\"5882\",\"type\":\"UndoTool\"},{\"attributes\":{\"line_color\":\"#ff7f0e\",\"line_width\":1.3,\"x\":{\"field\":\"index\"},\"y\":{\"field\":\"sma_indic\\u2026(2000)_1_1\"}},\"id\":\"5949\",\"type\":\"Line\"},{\"attributes\":{\"bottom_units\":\"screen\",\"fill_alpha\":0.5,\"fill_color\":\"lightgrey\",\"left_units\":\"screen\",\"level\":\"overlay\",\"line_alpha\":1.0,\"line_color\":\"black\",\"line_dash\":[4,4],\"line_width\":2,\"right_units\":\"screen\",\"top_units\":\"screen\"},\"id\":\"5705\",\"type\":\"BoxAnnotation\"},{\"attributes\":{\"fill_color\":{\"value\":\"blue\"},\"line_color\":{\"value\":\"blue\"},\"size\":{\"units\":\"screen\",\"value\":8},\"x\":{\"value\":1225},\"y\":{\"value\":1.4944543825240004}},\"id\":\"5749\",\"type\":\"Scatter\"},{\"attributes\":{\"axis\":{\"id\":\"5826\"},\"dimension\":1,\"ticker\":null},\"id\":\"5829\",\"type\":\"Grid\"},{\"attributes\":{},\"id\":\"5883\",\"type\":\"RedoTool\"},{\"attributes\":{\"bottom_units\":\"screen\",\"fill_alpha\":0.5,\"fill_color\":\"lightgrey\",\"left_units\":\"screen\",\"level\":\"overlay\",\"line_alpha\":1.0,\"line_color\":\"black\",\"line_dash\":[4,4],\"line_width\":2,\"right_units\":\"screen\",\"top_units\":\"screen\"},\"id\":\"5837\",\"type\":\"BoxAnnotation\"},{\"attributes\":{\"line_alpha\":0.1,\"line_color\":\"#1f77b4\",\"line_width\":1.5,\"x\":{\"field\":\"index\"},\"y\":{\"field\":\"equity\"}},\"id\":\"5722\",\"type\":\"Line\"},{\"attributes\":{\"data_source\":{\"id\":\"5674\"},\"glyph\":{\"id\":\"5906\"},\"hover_glyph\":null,\"muted_glyph\":null,\"nonselection_glyph\":{\"id\":\"5907\"},\"selection_glyph\":null,\"view\":{\"id\":\"5909\"}},\"id\":\"5908\",\"type\":\"GlyphRenderer\"},{\"attributes\":{\"active_drag\":{\"id\":\"5830\"},\"active_inspect\":\"auto\",\"active_multi\":null,\"active_scroll\":{\"id\":\"5831\"},\"active_tap\":\"auto\",\"tools\":[{\"id\":\"5830\"},{\"id\":\"5831\"},{\"id\":\"5832\"},{\"id\":\"5833\"},{\"id\":\"5834\"},{\"id\":\"5835\"},{\"id\":\"5836\"},{\"id\":\"5857\"},{\"id\":\"5859\"},{\"id\":\"5967\"}]},\"id\":\"5838\",\"type\":\"Toolbar\"},{\"attributes\":{},\"id\":\"5884\",\"type\":\"ResetTool\"},{\"attributes\":{\"source\":{\"id\":\"5790\"}},\"id\":\"5794\",\"type\":\"CDSView\"},{\"attributes\":{\"data\":{\"Close\":{\"__ndarray__\":\"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\",\"dtype\":\"float64\",\"order\":\"little\",\"shape\":[1226]},\"High\":{\"__ndarray__\":\"V1uxv3x80kAAAAAAANXSQAAAAABA1NJAAAAAAIC00kAAAAAAACjSQAAAAABAYtJAAAAAAAB/0kCppE5A83nSQAAAAADAjNJAAAAAAIBo0kAAAAAAQA/TQFRSJ6A55NJAAAAAAPAF00BXW7G/vGfTQAAAAACAitNAVFInoPmJ00AAAAAAALfTQAAAAACAKtRAAAAAAIBx1EAAAAAAEB7UQAAAAAAAQdRAVFInoBmz00AAAAAAAKvTQKyt2F+2FNNAVFInoLkd00AAAAAAgMLSQAAAAACAddJAAAAAAECU0kAAAAAAgLjSQAAAAABA1dJAAAAAAEAX00AAAAAAgCbTQAAAAABAB9NAAAAAAID+0kCppE5A8+zSQAAAAAAAzdJAVFInoNmX0kCppE5As6TSQFdbsb+8WNJAAAAAAIDL0kAAAAAAwHfTQAAAAABAxdNAAAAAAMC500AAAAAAAEHUQAAAAACAhtNAAAAAAIBI00AAAAAAgPDSQAAAAABA3tJAVFInoLnr0kAAAAAAAAvTQAAAAAAAmNJAAAAAAADA0kBXW7G/7OTSQKyt2F+2AtNAAAAAAABr0kBXW7G/vFXSQFRSJ6D5LtJAAAAAAIAK0kAAAAAAgOHRQAAAAABA5dFAAAAAAIAd0kAAAAAAwFXSQAAAAADAVdJAAAAAAABc0kBUUiegeUrSQAAAAACAQtJAAAAAAFCK0kBUUiegeYbSQFRSJ6DZh9JAVFInoGmp0kAAAAAAgFTSQAAAAACANtJAV1uxv7we0kBXW7G//O3RQKyt2F8G7NFAAAAAAIAJ0kBXW7G/DN3RQAAAAACAudFAVFInoHnp0UAAAAAAQP7RQAAAAABA/tFAV1uxv6xG0kBXW7G//DfSQAAAAABAItJArK3YX9Zo0UAAAAAAgIvRQAAAAAAA19FAVFInoJnG0UAAAAAAwLvRQAAAAABAwtFArK3YX6bU0UAAAAAAgP/RQAAAAABAHNJAAAAAAMAp0kAAAAAAACXSQAAAAABASdJAAAAAAMAA0kBUUiegafzRQFRSJ6C5GdJAAAAAAAA10kBUUiegeVnSQAAAAACAbdJAAAAAAIBV0kAAAAAAwH7RQFdbsb8sadFAAAAAAABn0UAAAAAAACvRQFRSJ6BpI9FAAAAAAMBb0UCsrdhfBmLRQFdbsb/8INFAAAAAAMAk0UCppE5AszPRQAAAAABARtFAAAAAAIBV0UBUUieg+Y7RQAAAAADA99FAAAAAAAAM0kAAAAAAgA7SQAAAAABAHNJAAAAAAIAQ0kAAAAAAgNLRQFRSJ6B569FArK3YX+Yt0kAAAAAA8DDSQFRSJ6B5T9JAV1uxvzxx0kCppE5AE43SQFdbsb9cYtJAAAAAAIA20kCsrdhf5mXSQAAAAADwktJAV1uxvyyQ0kAAAAAAAITSQAAAAACAzNJAAAAAAADU0kAAAAAAgL3SQAAAAAAAs9JAV1uxv4yq0kAAAAAAALLSQKyt2F8md9JAAAAAAAAq0kBXW7G/rPrRQAAAAABA+dFAAAAAAMAV0kAAAAAAgHnSQAAAAACAn9JAAAAAAMCw0kAAAAAAgLPSQAAAAACAvtJAAAAAAECo0kBUUiegebPSQAAAAAAAidJAV1uxv7xE0kAAAAAAgPrRQAAAAAAAZtJAVFInoNl+0kAAAAAAgHLSQFRSJ6BJZdJAAAAAAIBO0kAAAAAAQOfRQKmkTkCjAtFAAAAAAMDe0EAAAAAAQNjQQAAAAABA2NBAVFInoDk/0UAAAAAAgAXRQAAAAABAzdBAAAAAAMBQ0EAAAAAAgD3QQAAAAACgLdBAAAAAAADfz0BUUieguRrQQAAAAAAAZdBAAAAAAABQ0ECsrdhfpmfQQAAAAADAkdBAAAAAAICI0EAAAAAAAJ/QQAAAAACgOtFAAAAAADAq0UAAAAAAADrRQKmkTkBz59BAAAAAAMDp0EAAAAAAgBTRQFdbsb98KNFAAAAAAIAf0UAAAAAAgBTRQFRSJ6A5VNFAAAAAAABx0UAAAAAAIFXRQFdbsb+MSdFAAAAAAMBh0UBXW7G/vGXRQAAAAAAARtFAAAAAAEA70UAAAAAAAGfRQKyt2F92ltFAVFInoDmW0UAAAAAAAIzRQKyt2F/mftFAAAAAAACT0UAAAAAAQJ7RQAAAAAAAdtFAAAAAAIBO0UAAAAAAQAjRQAAAAAAAFNFArK3YX6YH0UAAAAAAgBzRQAAAAABAHdFAVFInoLnc0EAAAAAAANbQQKyt2F/GytBAAAAAAECw0EAAAAAAwJnQQAAAAADA39BAVFInoGnp0EAAAAAAwNTQQFRSJ6B5v9BAV1uxv2zx0ECppE5Ac7zQQAAAAACAtdBAAAAAAEC00EBXW7G/fArRQAAAAAAAI9FAAAAAAEAq0UAAAAAAgB7RQFRSJ6C56NBAAAAAAIDC0EAAAAAAQLnQQFdbsb8spdBAAAAAAMCJ0EAAAAAAQG7QQFdbsb8catBAqaROQLMc0EAAAAAAAA/QQAAAAABAR9BAAAAAAEBu0EAAAAAAgGLQQKmkTkDTd9BAAAAAAGCK0EAAAAAAwIDQQAAAAACAiNBArK3YX6aR0EAAAAAAQKDQQAAAAADAotBAAAAAAECR0ECsrdhfNr7QQAAAAABAs9BAAAAAAABP0ECppE5A00TQQKmkTkCTFNBAAAAAAADEz0AAAAAAAJ3PQKyt2F+mfs9AAAAAAAAzz0AAAAAAgPzOQAAAAACAi85AAAAAAID5zUAAAAAAAPrNQAAAAAAA4s1AAAAAAAAAzkCsrdhf5nvOQKyt2F+moM5AVFInoJmGzkCppE5Ac2bOQAAAAAAAbc5AV1uxv+x6zkBUUiegeU7OQFRSJ6B5gM1AAAAAAIByzUAAAAAAwM/NQAAAAAAAGs5AV1uxv4xTzUCppE5A8ybNQKyt2F+Gn8xAAAAAAOCsy0CppE5AE2XMQAAAAAAAfsxAAAAAAMC7y0BUUieg+RnMQKmkTkBzKcxAAAAAAABFzECsrdhfhiTMQAAAAACAX8tAAAAAAAANy0AAAAAAgDzLQAAAAAAA0stAAAAAAABHzEAAAAAA4JnNQAAAAAAAr81AAAAAAIAtzkBUUieg2QjOQKmkTkBzEc5AAAAAAIAUzkAAAAAAABnOQAAAAACAOs5AqaROQPMszkAAAAAAgGHOQAAAAACAws5AVFInoPmnzkBUUieg2S7PQAAAAACAQs9AV1uxvww4z0BXW7G/zBLPQAAAAACA6c5AAAAAAICZz0BUUieg+dLPQAAAAAAA4M9AqaROQNPqz0AAAAAAQMTPQAAAAACA5c5AqaROQLPZzkAAAAAAALTOQFdbsb/sIc9AAAAAAAA/z0AAAAAAAAjQQAAAAAAABNBAAAAAAMAH0EAAAAAAgGDQQAAAAACAXdBAAAAAAIBj0EAAAAAAQKvQQAAAAACAnNBAV1uxvxyj0EAAAAAAkIzQQKmkTkATftBAAAAAAABt0EAAAAAAgCnQQAAAAADAG9BAAAAAAMAJ0EBXW7G/vGbQQAAAAABAfdBAAAAAAACI0EBUUieg+ZnQQAAAAACAnNBAAAAAAEBw0EAAAAAAgIvQQFRSJ6A5adBArK3YX5bg0ECppE5AM0fQQAAAAACAP9BAV1uxv/wi0EAAAAAAQKXQQAAAAACw+NBAAAAAAEAf0UBXW7G/fD7RQKmkTkADOtFAAAAAAAA70UCppE5A4zDRQAAAAACgUtFAAAAAAEBU0UAAAAAAQIfRQFdbsb/sidFArK3YX3aE0UCppE5As5rRQFdbsb88YdFAAAAAAMBH0UCsrdhfdnzRQFRSJ6C5ZtFAAAAAAABx0UCppE5A42DRQKyt2F+2VtFAVFInoGlZ0UCppE5A43/RQAAAAADAedFAVFInoPkr0UCsrdhfZjfRQKyt2F82VdFArK3YXzaO0UAAAAAAwLjRQAAAAABAxNFAAAAAAAC80UBUUiegaczRQAAAAACAtNFAAAAAAEAQ0kBXW7G/HEbSQKmkTkATStJAV1uxv3x60kCsrdhfRpnSQAAAAAAAutJAqaROQMOg0kAAAAAAgJ/SQFdbsb/8ndJAV1uxvzxW0kAAAAAAAKLSQKmkTkBjntJArK3YX2au0kAAAAAAwLDSQAAAAADgv9JAAAAAAAC70kCppE5Ag4TSQAAAAACActJAV1uxvwxf0kAAAAAAAJjSQAAAAAAQqNJAAAAAAMCh0kCsrdhfZpXSQAAAAABwVNJAVFInoDmU0kBXW7G/vKXSQAAAAABAuNJAVFInoBnv0kAAAAAAYAHTQKyt2F8GCtNAVFInoLnx0kCppE5Ac/TSQAAAAACA+9JAVFInoPkE00BUUieg+fnSQKyt2F/GMdNAAAAAAEB100CsrdhftobTQAAAAACAhtNAVFInoDkL1EBXW7G/XCrUQAAAAAAgFtRAVFInoPkG1ECsrdhfduPTQKmkTkAzk9NAAAAAAMCa00BUUiegWdfTQKyt2F+WntNArK3YX8aQ00AAAAAAgIrTQAAAAABA39NAAAAAAMC400BUUieg+XXTQAAAAAAAR9NAAAAAAABH00AAAAAAAGDTQAAAAADA/dJAAAAAAOA+00AAAAAAgGLTQFRSJ6A5cNNAAAAAAMA200AAAAAAQBbTQFRSJ6BZKNNArK3YX+bx0kAAAAAAAKnSQAAAAAAg0dJAV1uxvxwY00CsrdhfhhzTQAAAAACARdNAAAAAAEBK00AAAAAAwG7TQAAAAABQcNNAAAAAAABk00CsrdhfxhXTQFdbsb+sOtNAAAAAAIAw00CppE5AcxLTQKmkTkDT7NJAAAAAAEDV0kCppE5A8/rSQFdbsb/8KNNAAAAAAAAs00AAAAAAwNbTQAAAAAAA29NArK3YX7Zu00AAAAAAQDDTQAAAAACA6dJAqaROQNPO0kCsrdhfNqbSQAAAAADANtJAAAAAAIA20kCppE5AQxTSQAAAAAAAL9JAAAAAAGAb0kBUUiegCRLSQAAAAAAATtJAVFInoHlS0kAAAAAAACDSQAAAAACAENJAAAAAAOAh0kAAAAAAQDXSQAAAAAAALNJAAAAAAIBU0kBXW7G/vDfSQKyt2F+mFNJAqaROQDMQ0kAAAAAAUB/SQAAAAADABdJAAAAAAADu0UBXW7G/TOLRQFdbsb+8x9FAAAAAAICv0UAAAAAAAJHRQKmkTkBzbtFAAAAAAMB+0UBXW7G/vKLRQKmkTkBToNFAAAAAAEDb0UBXW7G/TNXRQAAAAACAu9FAAAAAAIC50UAAAAAAgMPRQAAAAABg79FAAAAAAED20UAAAAAAgATSQFRSJ6A5dtJAqaROQLOH0kAAAAAAwIfSQFdbsb8MuNJAqaROQDPE0kBUUiegWdjSQAAAAAAAwdJAqaROQLOy0kBXW7G/TIHSQAAAAABAntJAqaROQJMH00CppE5As2jTQAAAAABAXNNAAAAAAIA/00AAAAAAQKfTQFRSJ6AZvNNAAAAAAADQ00BXW7G/LAbUQKmkTkCz+tNAAAAAAMD500AAAAAAgP3TQAAAAAAA4tNAVFInoLnh00BUUiegWdzTQFdbsb+M69NAAAAAAIDZ00CppE5Ac2LUQKmkTkBzNNRAV1uxv0xj1EAAAAAAwG/UQKyt2F8miNRAAAAAAABk1ECsrdhfpkLUQFRSJ6AZadRAVFInoHl31EAAAAAAwCbUQFRSJ6DZUNRAqaROQNNH1EBXW7G/7EzUQKmkTkATYNRAVFInoFlx1ECppE5Ak9PUQAAAAABAydRArK3YX8bY1EAAAAAAoCvVQKyt2F9GvtRAAAAAAEC31EAAAAAAAKDUQAAAAACAf9RArK3YX6a11EAAAAAAwK3UQAAAAABAxNRArK3YX6br1EAAAAAAgCXVQAAAAACgH9VAAAAAAIAU1UBXW7G/bDjVQKmkTkDTNtVAAAAAAAAf1UBUUiegeRTVQKmkTkDzRdVArK3YX0ZN1UAAAAAAgEfVQAAAAACAP9VAAAAAAGB11UBXW7G/DDvVQFdbsb+sJ9VAVFInoBkn1UCppE5A01XVQAAAAAAAgdVAAAAAAAC51UBUUiegudnVQFRSJ6D53dVAqaROQFP11UCppE5A8/XVQAAAAABAN9ZAAAAAAIBI1kCppE5Ak03WQAAAAACAS9ZAAAAAAKBX1kCppE5Ac3LWQAAAAADAT9ZAVFInoBlS1kCppE5Ak2rWQFRSJ6D5a9ZAAAAAAMBN1kAAAAAAwFzWQAAAAAAAYtZAAAAAAAA11kCsrdhf5iDWQAAAAACAsdZAAAAAAADG1kAAAAAAANXWQKmkTkBzutZAqaROQJPL1kCsrdhfZsvWQAAAAADA2dZAV1uxvyzm1kAAAAAAoDjXQAAAAADgDNdAAAAAAIAY10AAAAAAABvXQKmkTkCTF9dAV1uxv+wB10AAAAAAQPnWQAAAAAAA6dZAVFInoPnt1kBXW7G/7DnXQKmkTkCTMtdAV1uxv2wx10AAAAAAwFTXQAAAAACAMddAAAAAAEAS10BUUieg+b/WQFdbsb+M7dZAAAAAAOCt1kAAAAAAANLWQAAAAABA0dZAAAAAAEDg1kAAAAAAgATXQAAAAAAg9dZAAAAAAMAq10AAAAAAwDPXQAAAAABAMNdAAAAAAMBd10AAAAAAAHHXQAAAAACAfNdAVFInoDme10AAAAAAgKfXQAAAAABAuNdAVFInoLm510AAAAAAgNfXQAAAAADA/9dAAAAAAIAj2EAAAAAAYHPYQKyt2F+GYNhAVFInoLmP2EAAAAAAAKLYQAAAAAAAq9hAAAAAAECJ2EAAAAAAwGjYQAAAAABAedhAqaROQPNu2EBUUieguQ7YQKyt2F9G4tdAVFInoBlM2EBXW7G/LLjXQFdbsb9s7NdAAAAAAADy10AAAAAAwL7XQAAAAAAAstdAqaROQDOW10BXW7G/LMvXQAAAAAAA1NdAAAAAAMDh10AAAAAAAM/XQKyt2F/mz9dAqaROQHPB10AAAAAAAPTXQKmkTkDz6NdAAAAAAADb10CppE5A89HXQFRSJ6A539dAAAAAAIDb10AAAAAAwCPYQAAAAABAOdhAAAAAAEBa2EBUUieguWDYQFdbsb9MVdhAqaROQDOE2ECsrdhfBn/YQKmkTkATfthAAAAAAMBt2EAAAAAAQC/YQAAAAACA4tdAAAAAAIC410CppE5As8XXQAAAAABAdtdAAAAAAMCy10AAAAAAAAHYQAAAAAAAsddAV1uxvyyr10AAAAAAgLjXQAAAAADAxtdAAAAAAIDR10BUUieguefXQAAAAADA2NdAAAAAAIA32ECsrdhf5k7YQAAAAAAAPthAqaROQDMW2EAAAAAAANTXQFRSJ6C5vNdAAAAAAMCF2EBUUieguYzYQAAAAABAf9hAAAAAAECJ2ECsrdhfBobYQFRSJ6BZ+dhAAAAAAIAC2UCppE5AMxbZQAAAAADAHNlAV1uxv4wW2UBUUieg+evYQAAAAAAA3dhArK3YX+YQ2UCppE5AMwHZQKyt2F/m7NhAVFInoFnQ2EAAAAAAgPDYQFdbsb+sXdlAAAAAAMBC2UAAAAAAAJbZQFRSJ6B5RNlArK3YX8Y62UBXW7G/bEfZQFRSJ6B5XNlAVFInoDlh2UCsrdhfRk7ZQAAAAADARNlAAAAAAADx2EAAAAAAgMfYQAAAAABAtNhAAAAAAACm2EAAAAAAQJ7YQKmkTkBzy9hAAAAAAADk2EAAAAAAwM3YQAAAAAAAwdhAV1uxvwyn2EAAAAAAgP3YQAAAAABAK9lAVFInoBkj2UBXW7G/7DDZQAAAAADAF9lAAAAAAAAe2UCppE5AsxrZQAAAAADAJtlArK3YX4bw2EBXW7G/jP/YQAAAAACABdlAzczMzPzk2EAAAAAAwObYQAAAAAAA7dhAMzMzMxMR2UCamZmZ+SzZQAAAAABQKtlAMzMzM7Mc2UDNzMzMvBrZQAAAAAAwKdlAMzMzM+Nz2UAAAAAAQILZQAAAAABAstlAzczMzPwj2kAAAAAA8FDaQJqZmZlZadpAAAAAAMDF2kDNzMzMrNTaQAAAAAAg3tpAmpmZmen92kBmZmZm9tXaQAAAAACg79pAAAAAAEAD20DNzMzMvFzaQGZmZmZWs9lAMzMzM0OZ2UBmZmZm1n/ZQAAAAAAAidlAAAAAAIAM2UCamZmZ2SfZQAAAAACAOdlAAAAAAEAD2UAAAAAAgP3YQM3MzMz8uthAMzMzM3OP2EAAAAAAoGzYQM3MzMw8X9hAzczMzHzQ2EDNzMzMfCzZQAAAAAAALdlAAAAAAICt2EAAAAAAALDYQFdbsb/8WNhAAAAAAEB/2EAAAAAAwN3XQAAAAACA/tdAAAAAAAAB2EAAAAAAgDfYQAAAAACAgNhAAAAAAIBi2EBXW7G//GvYQFRSJ6B5SdhAAAAAAIAX2EAAAAAAgNvXQAAAAAAA9NdArK3YXybM10AAAAAAAE3XQAAAAAAAwNdArK3YX6bx10BXW7G/DNXXQAAAAABA5NdAqaROQHML2EAAAAAAwB7YQFRSJ6CZS9hAAAAAAIBj2EAAAAAAAJPYQFRSJ6CZqthAAAAAAMCf2EAAAAAAgKPYQFdbsb+8zNhAVFInoPnA2EAAAAAAgNPYQAAAAAAg2thAVFInoPmb2ECppE5Aw4XYQFRSJ6AJj9hAV1uxv3x/2ECppE5A82PYQKmkTkBDb9hArK3YX3bh2EAAAAAAgBPZQAAAAAAAJNlAV1uxv2wm2UBXW7G/fCLZQAAAAAAAS9lAAAAAAIB12UCsrdhfppLZQAAAAAAAm9lAVFInoHnP2UAAAAAAQPHZQFRSJ6CpS9pAVFInoJnX2UCsrdhfNqvZQAAAAAAAcNlAAAAAAIB12UBUUiegqVnZQAAAAAAAPNlAV1uxv3xc2UBUUiegOa3ZQKmkTkDjAtpAqaROQHPj2UAAAAAAML3ZQFdbsb+MbNpAAAAAAMBB2kAAAAAAwETaQAAAAABAttlAAAAAAIDU2UAAAAAAgCvaQFRSJ6AZ3tlAqaROQMMI2kAAAAAAAAbaQKyt2F8mG9pAqaROQOMF2kBXW7G/XPLZQAAAAAAg0dlAV1uxv3y72UBXW7G/jP/ZQFRSJ6B5DdpAAAAAAIAz2kBXW7G/bCvaQAAAAABAFdpAVFInoIn72UBUUiegudrZQAAAAABA0dlAV1uxv3y72UAAAAAAILrZQAAAAADA2NlAAAAAAAD52UBXW7G//PXZQKmkTkADHdpAVFInoBlC2kCsrdhfRoTaQFRSJ6B5b9pAAAAAAIBW2kBXW7G/fHraQAAAAABAmNpAqaROQANu2kAAAAAAEFzaQFdbsb+8dtpAAAAAAECJ2kCsrdhfRnzaQKmkTkDjw9pAAAAAAAAD20CppE5AAzjbQFRSJ6C5MttAqaROQMMw20BUUiegafjaQAAAAAAAJttAV1uxv/xc20CppE5As1rbQFdbsb/8f9tAAAAAAIC420AAAAAAALfbQAAAAAAAgdtArK3YX3Zw20CppE5AU2TbQFRSJ6B5jNtArK3YX2a220BUUiegKbLbQFRSJ6AZrNtAAAAAAACE20BUUieguaDbQKmkTkAzvttAV1uxv2y720CppE5AU5LbQFRSJ6BJpdtAV1uxv/yi20AAAAAAwGHbQAAAAABwANtArK3YX3YF20AAAAAAAP3aQFRSJ6CZ2dpAqaROQAPN2kBXW7G/HGXaQAAAAACAptpAAAAAAICS2kAAAAAAgF3aQAAAAACAC9pAVFInoJkV2kBXW7G/fCXZQFdbsb981dhAV1uxv/wE2UAAAAAAANnYQKmkTkCj7thAVFInoAn22EAAAAAAQPrYQAAAAADAYdhAAAAAAICP2ECppE5AMzzYQAAAAACAQthAAAAAAFDE2EBXW7G/TGnYQKmkTkCj6thAAAAAAIDZ2EAAAAAAMBrZQFRSJ6A5SdlAV1uxv+y52ECppE5A0+XYQFRSJ6B5e9hAqaROQIPB2EAAAAAAwIbYQFdbsb+MUthAAAAAAECA2EAAAAAAgJ/YQKmkTkCDqthAAAAAAIDa2EAAAAAAgErZQAAAAABARNlAVFInoOlU2UAAAAAAAEbZQAAAAAAAX9lArK3YX8Y/2UAAAAAAAHjZQFdbsb/8o9lAV1uxv2y32UAAAAAAwMbZQKmkTkCzpdlAV1uxv2zK2UBXW7G/XLnZQFdbsb98xNlAVFInoHnZ2UAAAAAAAO3ZQKyt2F9GYNpArK3YX4Zm2kAAAAAAYG7aQAAAAACAVdpAAAAAAEAe2kAAAAAAgAvaQAAAAAAAE9pAAAAAAIAZ2kAAAAAAwK3ZQFdbsb/cJtpAAAAAAEBl2kAAAAAAAFHaQFRSJ6BJftpAqaROQLOj2kAAAAAAQMjaQKmkTkDjutpAAAAAAMDB2kCsrdhfplnaQKmkTkCTbtpAAAAAAACf2kAAAAAAgLXaQAAAAABgydpAAAAAAIDi2kAAAAAAwOLaQFRSJ6DZrdpAAAAAAMDJ2kAAAAAAsPDaQFRSJ6Ap/NpAVFInoBki20AAAAAAQBrbQAAAAAAADdtArK3YX2bm2kAAAAAAwOTaQAAAAAAA/tpArK3YX9YE20AAAAAAAAfbQFdbsb+8BttArK3YX6bt2kCsrdhftvbaQKyt2F/Gu9pAAAAAAADW2kAAAAAAQIraQAAAAABAONpAAAAAAGBJ2kBUUieguazaQFdbsb/889pArK3YX4at2kBXW7G/3MPaQAAAAAAA1tpAV1uxv7z/2kBXW7G/3OPaQFdbsb98tdpAV1uxv+y92kAAAAAAcKLaQFdbsb+sgtpAAAAAAHB02kCppE5A40baQFdbsb/8ctpArK3YXxZr2kBUUiegOZLaQAAAAAAAgtpAAAAAAMCO2kCppE5AI03aQFRSJ6A5nNpAqaROQKMG20AAAAAAABzbQKyt2F/mOdtAAAAAAABE20CsrdhfhnzbQFdbsb+M6NtArK3YX4ZR3EBXW7G/rHPcQKmkTkCT9txAVFInoOkp3UCppE5AszLdQFdbsb+cSN1AAAAAAABj3UAAAAAAgPfcQAAAAABAUt1AAAAAAMCQ3UAAAAAAQMfdQFRSJ6DpMN5AV1uxv/wW3kAAAAAAgOvdQAAAAABAAt5AAAAAAIDH3UAAAAAAgLDdQFRSJ6CpuN1AAAAAAMCl3UBUUieg+aHdQAAAAABATt1AAAAAAIBx3UAAAAAAQIrdQAAAAACA9d1AAAAAAJAA3kBUUiegOYndQAAAAAAAOt1AAAAAAIBB3UAAAAAAAFvdQFdbsb9shd1AAAAAAIBb3UCsrdhfxlfdQAAAAABAh91AV1uxv4xc3UCsrdhfdj7dQKyt2F+mutxAV1uxv3x43ECppE5As5LcQAAAAAAAZtxAAAAAAICD3EAAAAAAwGXcQAAAAACAXtxAAAAAAIDb3EBXW7G/XCneQKmkTkCTPt5AVFInoHkM3kAAAAAAAAnfQAAAAADAlN5AV1uxv3zo3kBUUiegyfTeQAAAAAAA9N5AAAAAAIDm3kBXW7G/3BHfQAAAAACw+d5AV1uxv3wM30AAAAAAQPPeQFdbsb/8dN5AVFInoOmn3kBUUieguaPeQFdbsb+cg95AV1uxv6xc3kAAAAAAgFDeQFdbsb+c5d1AAAAAAADe3UCppE5Aw/HdQAAAAABAFt5AVFInoPkT3kAAAAAAAAzeQAAAAACAOd5AVFInoEl63kAAAAAAAL7eQKyt2F+Gr95ArK3YX/bR3kCppE5Ag8reQAAAAACQ1N5AAAAAAHDy3kCsrdhf5vveQAAAAADwwt5AAAAAAAAP3kCsrdhfdhLeQFdbsb/sG95AqaROQDMg3kBXW7G//PrdQAAAAACA7t1AAAAAAIAO3kBXW7G/vAneQFRSJ6Cp0d1AAAAAAEAi3UCsrdhf1r/cQAAAAAAAm9xAqaROQHON3EAAAAAAgNHcQAAAAAAA/NxAVFInoAnl3EBXW7G/fGXcQKmkTkCjTNxAV1uxvzwD3EAAAAAAgK/bQAAAAAAAlNtAAAAAAICU20AAAAAAMKLbQAAAAABA9NtAVFInoLnV20AAAAAAQH3bQAAAAACApdtAqaROQFPR20BXW7G/nJDbQFdbsb98eNtArK3YXzYc20AAAAAAgJzaQAAAAABAVNtArK3YX3aV20AAAAAAwH/bQKyt2F9mNNtAAAAAAIAJ20BXW7G/XO7aQFRSJ6A5vdpAAAAAAMCx2kAAAAAAgMHaQAAAAABA9tpAAAAAAEA+20BUUieguW/bQAAAAAAAittAAAAAANCD20AAAAAAADzbQAAAAACA09pAAAAAAACL2kBXW7G/PLzcQFdbsb+8A95AV1uxv7z03UAAAAAAcIrdQKmkTkCzP95AAAAAAACh3UBXW7G/fGLdQAAAAAAAB91AV1uxv3xF3EAAAAAAAC/cQAAAAABAndtAV1uxv3xP3EAAAAAAgDjcQAAAAADADNxAAAAAAIAd3EAAAAAAwBncQAAAAADAIdxAAAAAAIB33EBXW7G//JzcQAAAAADADN1AAAAAAEAH3UCppE5AowvdQAAAAAAAytxAAAAAAABW3UBUUieg2XHdQKyt2F/Gr91AV1uxv1y83UAAAAAAgPDdQFRSJ6D5zd1AAAAAAAAP3kBXW7G/PCDeQAAAAADAXt5ArK3YX7Z93kAAAAAA0G/eQAAAAACAG95AAAAAAEB03kAAAAAAgHPeQKyt2F/2lN5AVFInoJmy3kBUUiegObXeQFdbsb9smN5AAAAAAIDZ3kCsrdhf9gvfQAAAAAAAJd9AqaROQNNj30AAAAAAAGXfQAAAAAAAVN9AVFInoHkz30AAAAAAQF/fQFdbsb/8bN9AAAAAAEAt30CsrdhfBt/eQAAAAABAtd5AAAAAAPCo3kAAAAAAQADfQAAAAACAed9AAAAAAEBz30AAAAAAQIffQFdbsb/8ld9AVFInoFmW30AAAAAAAK7fQAAAAABAqt9AAAAAAACg30AAAAAAwJTfQAAAAABw3t9AqaROQLsA4EBUUieg2cvfQA==\",\"dtype\":\"float64\",\"order\":\"little\",\"shape\":[1226]},\"Low\":{\"__ndarray__\":\"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\",\"dtype\":\"float64\",\"order\":\"little\",\"shape\":[1226]},\"Open\":{\"__ndarray__\":\"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\",\"dtype\":\"float64\",\"order\":\"little\",\"shape\":[1226]},\"Volume\":[1075025,2685450,2150525,4512350,3834100,2459875,3504475,2715600,3077925,3229250,4985050,2622000,2056411,2865600,2586028,2265868,3224725,3360890,4547023,2989052,3937675,3208325,4800025,3565100,3876135,3776125,2999019,5540251,2680925,3714925,3039675,3220800,2693900,4459250,4650842,2940975,3876628,3542775,3598000,3798650,7000600,4706450,2863271,5996850,4433450,3280575,3730975,3729700,2197275,4458950,3142725,4149625,3617666,4111274,3882702,3091650,4545050,2629825,4482375,4028350,2623875,3067820,3386525,2854975,4179550,2844300,5276300,2364750,2200400,3283450,3537580,2809425,4024300,3694275,4805028,4156398,3235978,3180675,4329725,3201707,3319778,2319400,2366100,4795000,4525099,3896550,2983450,3669850,5170325,3678125,2382025,2344500,3274825,2421866,2740225,3883425,2068675,2151750,3204750,3111850,2800150,2200525,5243250,3897025,3857450,3145100,2539675,2630875,2950400,4171950,3833050,2927875,2950200,2690338,2968301,2602550,3996495,3572575,2954475,3103950,3411975,3918357,3314478,3675000,2405322,2741400,3733003,3129203,4275475,2504750,3101900,3157650,2929900,2223375,3495325,2296275,2944700,3041075,3449875,3119975,2550650,3123126,3152250,2204250,2747525,2951425,2236925,4448625,2408575,2637300,1922350,2347675,3581100,4003800,3247700,4266450,3180550,3339175,2298650,3865175,4005150,5877350,4685975,3686175,3527125,4199950,3066000,4761575,5080300,3999700,5035825,3820100,5200575,4789150,4544700,3790225,3528300,3619500,3396900,5619800,4062975,5960875,5783625,3958900,3467700,8412950,4703125,3660675,4141625,3732100,3127825,3344925,3714775,3189825,2931350,2359025,3065850,3538550,2344675,2726025,4218075,3414950,2881850,2398325,4059225,3089100,3267455,2570640,2708700,2365800,2997360,2925390,3507840,2839500,2295450,3028590,2785290,3319680,2823840,4036230,2567250,2563650,2619600,3475980,2027550,2537760,2729100,2188890,2213970,1421730,2230950,2684940,2455770,3884040,2715420,2736600,2910600,3463170,2733480,2318490,2893500,1936110,1691520,1853880,2527920,1776510,1857690,2004180,3523230,2656410,3060900,3162420,2130630,3505290,3403860,4887630,4050690,3181290,4199430,3279180,4065690,5323470,4404180,3084210,3513780,3396390,3790200,3046320,4848330,3764430,3206100,3457560,3672480,3413490,4290720,4650600,4423560,3768570,3634140,4210440,3728850,3003390,3022710,4221990,4191810,3851430,3431910,7586760,3906840,5206110,3336990,4475010,3153060,3779820,3055380,4368180,3095130,2611590,3818850,4058700,3657120,3439980,3099150,2823420,3117900,3271650,3757530,3404250,2964600,2126130,5655180,2947350,3885060,2571420,3959400,2948670,3424530,2951130,3344220,3963540,3217200,2483880,4135920,2745180,3606840,4929000,3169410,3878070,3052410,3047850,2235240,2942520,2600670,4146000,3399180,3265380,4420680,3121170,3095820,2649360,2724390,2975280,2413500,3817770,3085410,2999340,2146740,2688120,3021030,2787000,2312550,2294010,4145370,2538390,3324420,3529080,2904450,2665440,3482310,4322820,2714370,3746610,2214780,2904210,3226710,6552450,2896800,2531040,2643180,2752920,2354700,1988440,2153160,2779960,2352720,2547160,2494160,2311000,3048840,2780760,2713360,3074120,1937800,3455720,2691240,3512640,2598080,3691880,3134760,1848920,3487600,2244320,2926320,3484000,2632600,1680160,2665880,2936000,2692680,2885480,2836880,2924960,3661520,2421920,2833280,2393440,2374200,2971520,3339920,2854960,3222880,3624040,3248080,2272360,3281320,3522520,2521280,3259560,3500600,2620960,3067760,4752800,2108960,1673160,2362760,4159600,2477160,2970760,3334160,3244120,6522320,3601040,2960200,3454120,3315480,3461680,2313480,1744320,4174360,2084240,3572320,4056840,2647480,3579400,2349680,2295320,2529560,3446000,3552680,2825840,2026480,2840080,2806880,2910600,2319760,2486160,7838440,5720680,4422280,4997360,3792560,3954880,3115480,5155160,4031280,3156760,4323240,3042600,3473440,2816040,4215160,3453000,4469000,2823960,2324480,4649200,3451160,3584440,2571760,2432680,2335440,4890880,2317120,1649840,3250120,2048280,3171880,2484480,2223320,2811000,3649560,3213360,2609920,3552760,4088200,3077120,3549320,3039840,1663560,2076720,4679600,3081760,2570760,2896280,2888960,2930840,2394200,3945640,3294840,2938440,3569960,3378640,2364520,2757480,6107480,4216800,3031480,2824880,2373640,4364160,5324040,2639240,2862760,2114080,3709360,3207960,6633920,2091760,2775160,3068040,4080520,2493680,1821800,0,713360,448920,505360,411680,615440,556000,434600,487760,419640,456040,507600,1288120,512360,511120,506000,522680,517280,402760,482640,535920,483760,1697720,2146360,3071720,2373760,2103880,2660400,3635480,2205760,1709600,3859200,3081800,2916160,3141240,3101840,2755760,3353640,3181680,2425400,2496680,2067680,3626560,3616680,2024720,1948640,2121360,2360440,2838200,1983640,2675440,1843600,2663240,3897480,2439760,3639080,2785600,5484640,2940720,2911880,2127960,2432480,2521080,1895240,1558320,1671720,2438840,1928200,2184120,2080120,1747400,2021600,2279080,1712480,2354720,1600000,1773720,2760560,2570920,3958520,3153840,4441800,2384280,2571400,2453200,2439160,2507640,1294840,2036480,2390520,2271040,3002560,2767200,1994000,2895960,1897640,2613200,2772720,2465760,2109080,2285960,4654760,2808600,2344640,2158760,2972120,4408240,3170280,1649040,4290600,3176520,4407400,4293520,2245440,4836440,3818720,3112440,2809840,3629000,4194400,2685320,1946920,3059640,2591760,2821920,2137320,2542520,2046000,2496920,2225920,2256920,3190280,2149120,2629800,2434440,1882880,1689400,1554160,1573440,3264040,3484440,2967400,2634000,4124120,5834000,2445320,2340240,3096240,2193000,2278680,2020720,1518680,3980800,3502480,3762880,3215160,2328760,3389960,3156760,3032640,6464880,3622240,2211400,1501920,1671080,2958920,2507000,2324640,1838120,3502680,3291960,2786840,3705000,2000440,2302640,2688640,2313880,3574240,1408960,1953960,2146800,2614400,1596720,2079360,2062080,1831800,4143840,2943640,2095520,3208000,3405280,2940920,2529920,2942480,4890680,7197800,6235600,5525520,11679240,3339280,4038720,3101040,2942040,2406120,5150560,5382880,3114080,1486760,2622920,2152560,2543600,2078520,1678360,1587680,1972240,2376120,2945680,3166280,2361760,3331240,5271400,4192320,2258360,2771720,3365120,4229080,2240720,2201640,2841280,5949840,4364800,3239080,7048920,4065360,4279160,4089360,2471480,3645280,4177760,3808680,4460280,4094600,3161680,3558960,3379680,2787760,3688720,4483880,7778880,7417040,9589840,9909360,10959680,7410960,7836320,12320640,9664000,8543360,8768960,4347600,4131960,4040280,3920040,3926200,4206280,4711000,3432320,3109560,2697840,4954960,9702480,6944560,7000000,6369600,7106160,7029280,8136960,5841600,6097480,7238520,5875400,6568080,5723040,5453960,6533200,7058200,7237920,4146160,2887000,5558040,4443840,4202760,5626760,4920440,5206600,5539280,4559720,10009040,8680080,5858760,5068800,5948880,5862520,6159760,6666520,5576800,5040080,6748600,9511840,9811040,4104560,9601880,7990120,9460320,10375440,6597760,5845000,6147160,5735240,6508960,7046720,4061960,6454040,7295960,7102600,7004360,5567800,5871680,8614000,8568080,6038720,6434560,5993680,7555520,6687360,4616720,4872320,5161760,7545680,5200400,5533440,6563600,8730320,7096800,4673520,5583920,6127520,4235840,6737680,4594720,5368960,4656240,6882080,5891440,5198480,4624960,3853840,5842160,5930480,5560960,6140240,5018640,6230960,5266160,3515360,4093920,6438880,5354400,5437440,6024400,2668120,6501000,5802800,4860640,8289600,8388000,8946160,6742000,7035760,8720320,10110640,5844480,6794880,8883280,8620240,14930400,11465600,17445840,9304880,8244480,12052720,11415440,10664400,12714240,12881120,10942320,8103520,12291360,12802640,8788800,7792880,7381280,10261440,9534800,9303440,8472880,10085360,8280800,7942960,8416840,7924800,10102240,7879280,7881280,5885560,6594280,4358480,5839760,7323680,8973960,7120040,6235680,5129200,5536520,6660120,7495880,6712160,6858880,5240800,7378600,4944040,3964640,4192360,5213960,3225480,6029320,5047040,9985200,6251800,5837440,3806480,3767040,4735960,4209480,5060080,6575920,4438120,7333040,6882880,4142960,2939560,4557080,6820240,5545480,7347760,4287680,5655600,7316280,4566720,4319040,3945360,4134520,3527200,5520440,3575280,3610120,3328160,4512840,4775080,4632320,6261040,5500240,5302160,5873040,8504760,4910640,3523080,3644280,5837120,4992520,3668680,4658920,4062360,4346240,5417200,3123920,5805760,4252280,3521080,3340800,6098900,3848400,3622040,4778640,4267600,4446760,3766760,3217480,5516840,7406120,5448640,7376480,7048800,4847680,4714360,6864520,4583520,6408320,8600680,6953040,4726320,4822120,5254240,5057880,7035680,4428240,4791360,5429160,6011400,4845400,4246000,3446640,4947600,6237520,5615000,6081640,6174440,6366920,5752440,5980920,5142200,4685040,4047680,5797040,5238320,5231280,6344000,4887920,6324120,5217000,5659640,6586520,8449840,6677360,5843200,15272560,8287880,6058120,6602480,4852080,5390164,8915200,5442100,4859580,7714560,7274080,5738900,5379340,4504540,6151420,5848240,4496040,6964580,6640640,6719520,5330780,3977440,5816220,4825580,6440420,4381440,3394700,5065760,1838440,4293140,6462180,6793880,5137120,4973980,4231380,4801820,4129880,3922820,4073320,4214080,6681040,5933840,6501620,5972440,5810880,4928800,5267700,7097260,7030440,8516820,9574640,8664140,6706000,7788440,8245880,6187080,6855160,6205080,6355240,5743280,6345380,6515160,7281620,4872360,12650080,7976600,6950960,8208860,9211400,7103340,9038100,8403080,6610400,6710500,5545240,3528260,4221920,3790980,4656080,4026240,3840720,11267920,7236160,5190020,3977920,6158560,3899100,4889600,7276980,4990800,5821460,4356380,5886960,4937400,6038360,4690640,4250180,4417220,4632340,3842440,4391120,4056800,5350600,4570040,3670300,3629960,3513280,3273560,3457600,3404420,4680180,3943780,4721480,3354060,4100000,4302280,4019480,2623820,3213300,2799720,2694280,2755160,2989800,3174920,2332300,2721320,2784840,2464000,2442440,4107400,4078400,3868800,3046360,2674960,2965700,2901000,2947180,2325900,2107020,2308100,2150040,1966760,1992360,1566820,2351680,2483400,2588880,2321420],\"datetime\":{\"__ndarray__\":\"AACAmWOqdEIAAED/tap0QgAAgDCtq3RCAABAlv+rdEIAAAD8Uax0QgAAwGGkrHRCAACAx/asdEIAAMD47a10QgAAgF5ArnRCAABAxJKudEIAAAAq5a50QgAAwI83r3RCAAAAwS6wdEIAAMAmgbB0QgAAgIzTsHRCAABA8iWxdEIAAABYeLF0QgAAAO/BsnRCAADAVBSzdEIAAIC6ZrN0QgAAQCC5s3RCAACAUbC0dEIAAEC3ArV0QgAAAB1VtXRCAADAgqe1dEIAAIDo+bV0QgAAwBnxtnRCAACAf0O3dEIAAEDllbd0QgAAAEvot3RCAADAsDq4dEIAAADiMbl0QgAAgK3WuXRCAABAEym6dEIAAAB5e7p0QgAAQKpyu3RCAAAAEMW7dEIAAMB1F7x0QgAAgNtpvHRCAABAQby8dEIAAACnDr10QgAAgHKzvXRCAABA2AW+dEIAAAA+WL50QgAAwKOqvnRCAADAOvS/dEIAAICgRsB0QgAAQAaZwHRCAAAAbOvAdEIAAMDRPcF0QgAAAAM1wnRCAADAaIfCdEIAAIDO2cJ0QgAAQDQsw3RCAAAAmn7DdEIAAEDLdcR0QgAAADHIxHRCAADAlhrFdEIAAID8bMV0QgAAQGK/xXRCAACAk7bGdEIAAED5CMd0QgAAAF9bx3RCAADAW/fIdEIAAIDBScl0QgAAQCecyXRCAAAAje7JdEIAAMDyQMp0QgAAACQ4y3RCAACA79zLdEIAAEBVL8x0QgAAALuBzHRCAABA7HjNdEIAAABSy810QgAAwLcdznRCAACAHXDOdEIAAECDws50QgAAgLS5z3RCAABAGgzQdEIAAACAXtB0QgAAwOWw0HRCAADAfPrRdEIAAIDiTNJ0QgAAQEif0nRCAAAArvHSdEIAAMATRNN0QgAAAEU71HRCAADAqo3UdEIAAIAQ4NR0QgAAQHYy1XRCAAAA3ITVdEIAAEANfNZ0QgAAAHPO1nRCAADA2CDXdEIAAIA+c9d0QgAAQKTF13RCAACA1bzYdEIAAEA7D9l0QgAAAKFh2XRCAADABrTZdEIAAIBsBtp0QgAAwJ392nRCAACAA1DbdEIAAEBpott0QgAAAM/023RCAADANEfcdEIAAABmPt10QgAAwMuQ3XRCAACAMePddEIAAECXNd50QgAAAP2H3nRCAABALn/fdEIAAACU0d90QgAAwPkj4HRCAACAX3bgdEIAAEDFyOB0QgAAgPa/4XRCAABAXBLidEIAAADCZOJ0QgAAwCe34nRCAACAjQnjdEIAAMC+AOR0QgAAgCRT5HRCAABAiqXkdEIAAADw9+R0QgAAwFVK5XRCAAAAh0HmdEIAAMDsk+Z0QgAAgFLm5nRCAABAuDjndEIAAAAei+d0QgAAQE+C6HRCAAAAtdTodEIAAMAaJ+l0QgAAgIB56XRCAABA5svpdEIAAIAXw+p0QgAAQH0V63RCAAAA42frdEIAAMBIuut0QgAAgK4M7HRCAADA3wPtdEIAAIBFVu10QgAAQKuo7XRCAAAAEfvtdEIAAMB2Te50QgAAAKhE73RCAADADZfvdEIAAIBz6e90QgAAQNk78HRCAAAAP47wdEIAAEBwhfF0QgAAANbX8XRCAADAOyrydEIAAIChfPJ0QgAAQAfP8nRCAACAOMbzdEIAAECeGPR0QgAAAARr9HRCAADAab30dEIAAIDPD/V0QgAAwAAH9nRCAACAZln2dEIAAEDMq/Z0QgAAADL+9nRCAADAl1D3dEIAAADJR/h0QgAAwC6a+HRCAACAlOz4dEIAAED6Pvl0QgAAAGCR+XRCAABAkYj6dEIAAAD32vp0QgAAwFwt+3RCAACAwn/7dEIAAEAo0vt0QgAAgFnJ/HRCAABAvxv9dEIAAAAlbv10QgAAgPAS/nRCAADAIQr/dEIAAICHXP90QgAAQO2u/3RCAAAAUwEAdUIAAADqSgF1QgAAwE+dAXVCAACAte8BdUIAAEAbQgJ1QgAAQLKLA3VCAAAAGN4DdUIAAMB9MAR1QgAAgOOCBHVCAABASdUEdUIAAIB6zAV1QgAAQOAeBnVCAAAARnEGdUIAAMCrwwZ1QgAAgBEWB3VCAADAQg0IdUIAAICoXwh1QgAAQA6yCHVCAADA2VYJdUIAAAALTgp1QgAAwHCgCnVCAACA1vIKdUIAAEA8RQt1QgAAAKKXC3VCAABA044MdUIAAAA54Qx1QgAAwJ4zDXVCAACABIYNdUIAAEBq2A11QgAAgJvPDnVCAABAASIPdUIAAIAyGRB1QgAAwGMQEXVCAACAyWIRdUIAAEAvtRF1QgAAAJUHEnVCAADA+lkSdUIAAAAsURN1QgAAwJGjE3VCAABAXUgUdUIAAADDmhR1QgAAQPSRFXVCAAAAWuQVdUIAAMC/NhZ1QgAAgCWJFnVCAABAi9sWdUIAAIC80hd1QgAAQCIlGHVCAAAAiHcYdUIAAMDtyRh1QgAAgFMcGXVCAADAhBMadUIAAIDqZRp1QgAAQFC4GnVCAAAAtgobdUIAAMAbXRt1QgAAAE1UHHVCAADAsqYcdUIAAIAY+Rx1QgAAQH5LHXVCAABAFZUedUIAAAB75x51QgAAwOA5H3VCAACARowfdUIAAECs3h91QgAAgN3VIHVCAABAQyghdUIAAACpeiF1QgAAwA7NIXVCAACAdB8idUIAAMClFiN1QgAAgAtpI3VCAABAcbsjdUIAAADXDSR1QgAAwDxgJHVCAAAAblcldUIAAMDTqSV1QgAAgDn8JXVCAABAn04mdUIAAAAFoSZ1QgAAQDaYJ3VCAADAAT0odUIAAIBnjyh1QgAAQM3hKHVCAACA/tgpdUIAAEBkKyp1QgAAAMp9KnVCAADAL9AqdUIAAICVIit1QgAAwMYZLHVCAACALGwsdUIAAECSvix1QgAAAPgQLXVCAADAXWMtdUIAAACPWi51QgAAwPSsLnVCAACAWv8udUIAAEDAUS91QgAAACakL3VCAABAV5swdUIAAAC97TB1QgAAwCJAMXVCAACAiJIxdUIAAEDu5DF1QgAAgB/cMnVCAABAhS4zdUIAAADrgDN1QgAAwFDTM3VCAACAtiU0dUIAAIBNbzV1QgAAQLPBNXVCAAAAGRQ2dUIAAMB+ZjZ1QgAAALBdN3VCAADAFbA3dUIAAIB7Ajh1QgAAQOFUOHVCAAAAR6c4dUIAAEB4njl1QgAAAN7wOXVCAADAQ0M6dUIAAIBA3zt1QgAAQKYxPHVCAAAADIQ8dUIAAMBx1jx1QgAAgNcoPXVCAADACCA+dUIAAIBucj51QgAAQNTEPnVCAAAAOhc/dUIAAMCfaT91QgAAANFgQHVCAADANrNAdUIAAICcBUF1QgAAQJmhQnVCAADAZEZDdUIAAIDKmEN1QgAAQDDrQ3VCAACAYeJEdUIAAEDHNEV1QgAAAC2HRXVCAADAktlFdUIAAID4K0Z1QgAAwCkjR3VCAACAj3VHdUIAAED1x0d1QgAAAFsaSHVCAADAwGxIdUIAAADyY0l1QgAAwFe2SXVCAACAvQhKdUIAAEAjW0p1QgAAAImtSnVCAABAuqRLdUIAAAAg90t1QgAAwIVJTHVCAACA65tMdUIAAEBR7kx1QgAAgILlTXVCAABA6DdOdUIAAABOik51QgAAwLPcTnVCAACAGS9PdUIAAMBKJlB1QgAAgLB4UHVCAABAFstQdUIAAAB8HVF1QgAAwOFvUXVCAAAAE2dSdUIAAMB4uVJ1QgAAgN4LU3VCAABARF5TdUIAAACqsFN1QgAAQNunVHVCAAAAQfpUdUIAAMCmTFV1QgAAgAyfVXVCAABAcvFVdUIAAICj6FZ1QgAAQAk7V3VCAAAAb41XdUIAAMDU31d1QgAAgDoyWHVCAADAaylZdUIAAIDRe1l1QgAAQDfOWXVCAAAAnSBadUIAAMACc1p1QgAAADRqW3VCAADAmbxbdUIAAEBlYVx1QgAAAMuzXHVCAABA/KpddUIAAABi/V11QgAAwMdPXnVCAACALaJedUIAAECT9F51QgAAgMTrX3VCAABAKj5gdUIAAACQkGB1QgAAwPXiYHVCAACAWzVhdUIAAMCMLGJ1QgAAgPJ+YnVCAABAWNFidUIAAAC+I2N1QgAAwCN2Y3VCAAAAVW1kdUIAAMC6v2R1QgAAgCASZXVCAABAhmRldUIAAADstmV1QgAAQB2uZnVCAAAAgwBndUIAAMDoUmd1QgAAgE6lZ3VCAABAtPdndUIAAEBLQWl1QgAAALGTaXVCAADAFuZpdUIAAIB8OGp1QgAAwK0va3VCAACAE4JrdUIAAEB51Gt1QgAAAN8mbHVCAADARHlsdUIAAAB2cG11QgAAwNvCbXVCAACAQRVudUIAAECnZ251QgAAAA26bnVCAAAApANwdUIAAMAJVnB1QgAAgG+ocHVCAABA1fpwdUIAAIAG8nF1QgAAANKWcnVCAADAN+lydUIAAICdO3N1QgAAwM4ydHVCAACANIV0dUIAAECa13R1QgAAAAAqdXVCAADAZXx1dUIAAACXc3Z1QgAAwPzFdnVCAACAYhh3dUIAAEDIand1QgAAAC69d3VCAABAX7R4dUIAAADFBnl1QgAAwCpZeXVCAACAkKt5dUIAAED2/Xl1QgAAgCf1enVCAADAWOx7dUIAAIC+Pnx1QgAAwO81fXVCAACAVYh9dUIAAEC72n11QgAAACEtfnVCAADAhn9+dUIAAAC4dn91QgAAwB3Jf3VCAACAgxuAdUIAAEDpbYB1QgAAAE/AgHVCAAAA5gmCdUIAAMBLXIJ1QgAAgLGugnVCAABAFwGDdUIAAIBI+IN1QgAAQK5KhHVCAAAAFJ2EdUIAAMB574R1QgAAgN9BhXVCAACAdouGdUIAAEDc3YZ1QgAAAEIwh3VCAADAp4KHdUIAAADZeYh1QgAAwD7MiHVCAACApB6JdUIAAEAKcYl1QgAAAHDDiXVCAABAobqKdUIAAAAHDYt1QgAAwGxfi3VCAACA0rGLdUIAAEA4BIx1QgAAgGn7jHVCAABAz02NdUIAAAA1oI11QgAAwJryjXVCAACAAEWOdUIAAMAxPI91QgAAgJeOj3VCAABA/eCPdUIAAABjM5B1QgAAwMiFkHVCAAAA+nyRdUIAAMBfz5F1QgAAgMUhknVCAABAK3SSdUIAAACRxpJ1QgAAQMK9k3VCAAAAKBCUdUIAAMCNYpR1QgAAgPO0lHVCAABAWQeVdUIAAICK/pV1QgAAQPBQlnVCAAAAVqOWdUIAAMC79ZZ1QgAAgCFIl3VCAADAUj+YdUIAAIC4kZh1QgAAQB7kmHVCAAAAhDaZdUIAAMDpiJl1QgAAABuAmnVCAADAgNKadUIAAIDmJJt1QgAAQEx3m3VCAAAAssmbdUIAAEDjwJx1QgAAAEkTnXVCAADArmWddUIAAEB6Cp51QgAAgKsBn3VCAABAEVSfdUIAAAB3pp91QgAAwNz4n3VCAACAQkugdUIAAMBzQqF1QgAAgNmUoXVCAABAP+ehdUIAAAClOaJ1QgAAwAqMonVCAAAAPIOjdUIAAMCh1aN1QgAAgAcopHVCAABAbXqkdUIAAADTzKR1QgAAQATEpXVCAAAAahamdUIAAMDPaKZ1QgAAgDW7pnVCAACAzASodUIAAEAyV6h1QgAAAJipqHVCAADA/fuodUIAAIBjTql1QgAAwJRFqnVCAACA+peqdUIAAEBg6qp1QgAAAMY8q3VCAADAK4+rdUIAAMDC2Kx1QgAAgCgrrXVCAABAjn2tdUIAAAD0z611QgAAQCXHrnVCAAAAixmvdUIAAMDwa691QgAAgFa+r3VCAABAvBCwdUIAAIDtB7F1QgAAQFNasXVCAAAAuayxdUIAAMAe/7F1QgAAgIRRsnVCAADAtUizdUIAAECB7bN1QgAAAOc/tHVCAADATJK0dUIAAAB+ibV1QgAAwOPbtXVCAACASS62dUIAAECvgLZ1QgAAQEbKt3VCAAAArBy4dUIAAMARb7h1QgAAgHfBuHVCAABA3RO5dUIAAIAOC7p1QgAAQHRdunVCAAAA2q+6dUIAAMA/Art1QgAAgKVUu3VCAACAPJ68dUIAAECi8Lx1QgAAAAhDvXVCAADAbZW9dUIAAACfjL51QgAAwATfvnVCAACAajG/dUIAAEDQg791QgAAADbWv3VCAABAZ83AdUIAAADNH8F1QgAAwDJywXVCAACAmMTBdUIAAED+FsJ1QgAAgC8Ow3VCAABAlWDDdUIAAAD7ssN1QgAAwGAFxHVCAACAxlfEdUIAAMD3TsV1QgAAgF2hxXVCAABAw/PFdUIAAAApRsZ1QgAAwI6YxnVCAAAAwI/HdUIAAMAl4sd1QgAAgIs0yHVCAABA8YbIdUIAAABX2ch1QgAAQIjQyXVCAAAA7iLKdUIAAMBTdcp1QgAAgLnHynVCAABAHxrLdUIAAIBQEcx1QgAAQLZjzHVCAAAAHLbMdUIAAMCBCM11QgAAgOdazXVCAACAfqTOdUIAAEDk9s51QgAAAEpJz3VCAADAr5vPdUIAAADhktB1QgAAwEbl0HVCAACArDfRdUIAAEASitF1QgAAAHjc0XVCAABAqdPSdUIAAAAPJtN1QgAAwHR403VCAACA2srTdUIAAEBAHdR1QgAAgHEU1XVCAABA12bVdUIAAAA9udV1QgAAwKIL1nVCAACACF7WdUIAAMA5Vdd1QgAAgJ+n13VCAABABfrXdUIAAABrTNh1QgAAwNCe2HVCAAAAApbZdUIAAMBn6Nl1QgAAgM062nVCAABAM43adUIAAACZ39p1QgAAQMrW23VCAAAAMCncdUIAAMCVe9x1QgAAgPvN3HVCAABAYSDddUIAAICSF951QgAAAF683nVCAADAww7fdUIAAIApYd91QgAAwFpY4HVCAACAwKrgdUIAAEAm/eB1QgAAAIxP4XVCAAAAI5nidUIAAMCI6+J1QgAAgO4943VCAABAVJDjdUIAAAC64uN1QgAAQOvZ5HVCAAAAUSzldUIAAMC2fuV1QgAAgBzR5XVCAABAgiPmdUIAAICzGud1QgAAQBlt53VCAAAAf7/ndUIAAMDkEeh1QgAAgEpk6HVCAADAe1vpdUIAAIDhrel1QgAAQEcA6nVCAAAArVLqdUIAAMASpep1QgAAAESc63VCAADAqe7rdUIAAIAPQex1QgAAQHWT7HVCAAAA2+XsdUIAAAByL+51QgAAwNeB7nVCAACAPdTudUIAAECjJu91QgAAgNQd8HVCAABAOnDwdUIAAACgwvB1QgAAwAUV8XVCAACAa2fxdUIAAMCcXvJ1QgAAgAKx8nVCAABAaAPzdUIAAABln/R1QgAAwMrx9HVCAACAMET1dUIAAECWlvV1QgAAAPzo9XVCAABALeD2dUIAAACTMvd1QgAAwPiE93VCAACAXtf3dUIAAEDEKfh1QgAAgPUg+XVCAABAW3P5dUIAAADBxfl1QgAAwCYY+nVCAACAjGr6dUIAAMC9Yft1QgAAgCO0+3VCAABAiQb8dUIAAADvWPx1QgAAwFSr/HVCAAAAhqL9dUIAAMDr9P11QgAAgFFH/nVCAABAt5n+dUIAAAAd7P51QgAAQE7j/3VCAAAAtDUAdkIAAMAZiAB2QgAAgH/aAHZCAABA5SwBdkIAAIAWJAJ2QgAAQHx2AnZCAAAA4sgCdkIAAMBHGwN2QgAAgK1tA3ZCAADA3mQEdkIAAIBEtwR2QgAAQKoJBXZCAAAAEFwFdkIAAMB1rgV2QgAAAKelBnZCAADADPgGdkIAAIBySgd2QgAAQNicB3ZCAAAAPu8HdkIAAADVOAl2QgAAwDqLCXZCAACAoN0JdkIAAEAGMAp2QgAAgDcnC3ZCAABAnXkLdkIAAAADzAt2QgAAwGgeDHZCAACAznAMdkIAAMD/Zw12QgAAgGW6DXZCAABAywwOdkIAAAAxXw52QgAAwJaxDnZCAAAAyKgPdkIAAMAt+w92QgAAgJNNEHZCAABA+Z8QdkIAAABf8hB2QgAAQJDpEXZCAAAA9jsSdkIAAMBbjhJ2QgAAgMHgEnZCAACAWCoUdkIAAEC+fBR2QgAAACTPFHZCAADAiSEVdkIAAIDvcxV2QgAAwCBrFnZCAACAhr0WdkIAAEDsDxd2QgAAAFJiF3ZCAADAt7QXdkIAAADpqxh2QgAAgLRQGXZCAABAGqMZdkIAAACA9Rl2QgAAQLHsGnZCAAAAFz8bdkIAAMB8kRt2QgAAgOLjG3ZCAABASDYcdkIAAIB5LR12QgAAQN9/HXZCAAAARdIddkIAAMCqJB52QgAAwEFuH3ZCAACAp8AfdkIAAEANEyB2QgAAAHNlIHZCAADA2LcgdkIAAAAKryF2QgAAwG8BInZCAACA1VMidkIAAEA7piJ2QgAAAKH4InZCAABA0u8jdkIAAAA4QiR2QgAAwJ2UJHZCAACAA+ckdkIAAEBpOSV2QgAAgJowJnZCAABAAIMmdkIAAABm1SZ2QgAAwGJxKHZCAACAyMModkIAAEAuFil2QgAAAJRoKXZCAADA+bopdkIAAAArsip2QgAAwJAEK3ZCAACA9lYrdkIAAEBcqSt2QgAAAML7K3ZCAABA8/IsdkIAAABZRS12QgAAwL6XLXZCAACAJOotdkIAAECKPC52QgAAgLszL3ZCAABAIYYvdkIAAACH2C92QgAAwOwqMHZCAACAUn0wdkIAAMCDdDF2QgAAQE8ZMnZCAAAAtWsydkIAAMAavjJ2QgAAAEy1M3ZCAADAsQc0dkIAAIAXWjR2QgAAQH2sNHZCAAAA4/40dkIAAEAU9jV2QgAAAHpINnZCAADA35o2dkIAAIBF7TZ2QgAAQKs/N3ZCAACA3DY4dkIAAEBCiTh2QgAAAKjbOHZCAADADS45dkIAAIBzgDl2QgAAwKR3OnZCAACACso6dkIAAEBwHDt2QgAAANZuO3ZCAADAO8E7dkIAAABtuDx2QgAAwNIKPXZCAACAOF09dkIAAECerz12QgAAAAQCPnZCAABANfk+dkIAAACbSz92QgAAwACeP3ZCAACAZvA/dkIAAEDMQkB2QgAAgP05QXZCAABAY4xBdkIAAADJ3kF2QgAAwC4xQnZCAACAlINCdkIAAMDFekN2QgAAgCvNQ3ZCAABAkR9EdkIAAAD3cUR2QgAAwFzERHZCAAAAjrtFdkIAAMDzDUZ2QgAAgFlgRnZCAABAv7JGdkIAAAAlBUd2QgAAQFb8R3ZCAADAIaFIdkIAAICH80h2QgAAQO1FSXZCAACAHj1KdkIAAECEj0p2QgAAAOrhSnZCAADATzRLdkIAAIC1hkt2QgAAwOZ9THZCAACATNBMdkIAAECyIk12QgAAABh1TXZCAADAfcdNdkIAAACvvk52QgAAwBQRT3ZCAACAemNPdkIAAEDgtU92QgAAAEYIUHZCAABAd/9QdkIAAADdUVF2QgAAwEKkUXZCAACAqPZRdkIAAEAOSVJ2QgAAgD9AU3ZCAABApZJTdkIAAMBwN1R2QgAAgNaJVHZCAADAB4FVdkIAAIBt01V2QgAAADl4VnZCAADAnspWdkIAAADQwVd2QgAAwDUUWHZCAACAm2ZYdkIAAEABuVh2QgAAAGcLWXZCAABAmAJadkIAAAD+VFp2QgAAwGOnWnZCAACAyfladkIAAEAvTFt2QgAAgGBDXHZCAABAxpVcdkIAAAAs6Fx2QgAAgPeMXXZCAADAKIRedkIAAICO1l52QgAAQPQoX3ZCAADAv81fdkIAAADxxGB2QgAAwFYXYXZCAACAvGlhdkIAAEAivGF2QgAAAIgOYnZCAABAuQVjdkIAAMCEqmN2QgAAgOr8Y3ZCAABAUE9kdkIAAICBRmV2QgAAQOeYZXZCAAAATetldkIAAMCyPWZ2QgAAgBiQZnZCAADASYdndkIAAICv2Wd2QgAAQBUsaHZCAADA4NBodkIAAAASyGl2QgAAwHcaanZCAACA3WxqdkIAAEBDv2p2QgAAAKkRa3ZCAABA2ghsdkIAAABAW2x2QgAAwKWtbHZCAACACwBtdkIAAEBxUm12QgAAgKJJbnZCAABACJxudkIAAIA5k292QgAAwGqKcHZCAACA0NxwdkIAAEA2L3F2QgAAAJyBcXZCAADAAdRxdkIAAAAzy3J2QgAAwJgdc3ZCAACA/m9zdkIAAEBkwnN2QgAAQPsLdXZCAAAAYV51dkIAAMDGsHV2QgAAgCwDdnZCAABAklV2dkIAAIDDTHd2QgAAQCmfd3ZCAAAAj/F3dkIAAMD0Q3h2QgAAgFqWeHZCAADAi415dkIAAIDx33l2QgAAQFcyenZCAAAAvYR6dkIAAMAi13p2QgAAAFTOe3ZCAADAuSB8dkIAAIAfc3x2QgAAQIXFfHZCAAAA6xd9dkIAAEAcD352QgAAwOezfnZCAACATQZ/dkIAAECzWH92QgAAgORPgHZCAABASqKAdkIAAACw9IB2QgAAwBVHgXZCAACAe5mBdkIAAMCskIJ2QgAAgBLjgnZCAABAeDWDdkIAAADeh4N2QgAAwEPag3ZCAAAAddGEdkIAAMDaI4V2QgAAgEB2hXZCAABApsiFdkIAAAAMG4Z2QgAAQD0Sh3ZCAAAAo2SHdkIAAMAIt4d2QgAAgG4JiHZCAABA1FuIdkIAAIAFU4l2QgAAQGuliXZCAAAA0feJdkIAAMA2Sop2QgAAgJycinZCAADAzZOLdkIAAIAz5ot2QgAAQJk4jHZCAAAA/4qMdkIAAMBk3Yx2QgAAAJbUjXZCAADA+yaOdkIAAIBheY52QgAAQMfLjnZCAAAALR6PdkIAAEBeFZB2QgAAAMRnkHZCAADAKbqQdkIAAIAmVpJ2QgAAQIyoknZCAAAA8vqSdkIAAMBXTZN2QgAAgL2fk3ZCAACAVOmUdkIAAEC6O5V2QgAAACCOlXZCAADAheCVdkIAAAC315Z2QgAAwBwql3ZCAACAgnyXdkIAAEDozpd2QgAAAE4hmHZCAABAfxiZdkIAAADlapl2QgAAwEq9mXZCAABAFmKadkIAAIBHWZt2QgAAQK2rm3ZCAAAAE/6bdkIAAMB4UJx2QgAAgN6inHZCAADAD5qddkIAAIB17J12QgAAQNs+nnZCAAAAQZGedkIAAMCm4552QgAAANjan3ZCAADAPS2gdkIAAICjf6B2QgAAQAnSoHZCAAAAbyShdkIAAECgG6J2QgAAAAZuonZCAACA0RKjdkIAAIBoXKR2QgAAQM6upHZCAAAANAGldkIAAMCZU6V2QgAAgP+lpXZCAACAlu+mdkIAAABilKd2QgAAwMfmp3ZCAAAA+d2odkIAAMBeMKl2QgAAgMSCqXZCAABAKtWpdkIAAACQJ6p2QgAAQMEeq3ZCAAAAJ3GrdkIAAMCMw6t2QgAAgPIVrHZCAABAWGisdkIAAICJX612QgAAQO+xrXZCAAAAVQSudkIAAMC6Vq52QgAAgCCprnZCAADAUaCvdkIAAIC38q92QgAAQB1FsHZCAAAAg5ewdkIAAMDo6bB2QgAAABrhsXZCAADAfzOydkIAAEBL2LJ2QgAAALEqs3ZCAABA4iG0dkIAAABIdLR2QgAAwK3GtHZCAACAExm1dkIAAEB5a7V2QgAAgKpitnZCAABAELW2dkIAAAB2B7d2QgAAwNtZt3ZCAACAQay3dkIAAMByo7h2QgAAgNj1uHZCAABAPki5dkIAAACkmrl2QgAAwAntuXZCAAAAO+S6dkIAAMCgNrt2QgAAgAaJu3ZCAABAbNu7dkIAAADSLbx2QgAAQAMlvXZCAAAAaXe9dkIAAMDOyb12QgAAgDQcvnZCAABAmm6+dkIAAIDLZb92QgAAQDG4v3ZCAAAAlwrAdkIAAMD8XMB2QgAAgGKvwHZCAADAk6bBdkIAAID5+MF2QgAAQF9LwnZCAAAAxZ3CdkIAAMAq8MJ2QgAAAFznw3ZCAADAwTnEdkIAAIAnjMR2QgAAQI3exHZCAAAA8zDFdkIAAEAkKMZ2QgAAAIp6xnZCAADA78zGdkIAAIBVH8d2QgAAQLtxx3ZCAABAUrvIdkIAAAC4Dcl2QgAAgIOyyXZCAADAtKnKdkIAAIAa/Mp2QgAAQIBOy3ZCAAAA5qDLdkIAAMBL88t2QgAAAH3qzHZCAADA4jzNdkIAAIBIj812QgAAQK7hzXZCAAAAFDTOdkIAAACrfc92QgAAwBDQz3ZCAACAdiLQdkIAAEDcdNB2QgAAgA1s0XZCAAAA2RDSdkIAAMA+Y9J2QgAAgKS10nZCAADA1azTdkIAAIA7/9N2QgAAQKFR1HZCAAAAB6TUdkIAAMBs9tR2QgAAAJ7t1XZCAADAA0DWdkIAAIBpktZ2QgAAQM/k1nZCAAAANTfXdkIAAEBmLth2QgAAAMyA2HZCAACAlyXZdkIAAED9d9l2QgAAgC5v2nZCAAAA+hPbdkIAAMBfZtt2QgAAgMW423ZCAADA9q/cdkIAAIBcAt12QgAAQMJU3XZCAAAAKKfddkIAAMCN+d12QgAAwCRD33ZCAACAipXfdkIAAEDw5992QgAAAFY64HZCAAAA7YPhdkIAAMBS1uF2QgAAgLgo4nZCAABAHnvidkIAAIBPcuN2QgAAQLXE43ZCAAAAGxfkdkIAAMCAaeR2QgAAgOa75HZCAADAF7PldkIAAEDjV+Z2QgAAAEmq5nZCAADArvzmdkIAAADg8+d2QgAAwEVG6HZCAACAq5jodkIAAEAR6+h2QgAAAHc96XZCAABAqDTqdkIAAAAOh+p2QgAAwHPZ6nZCAACA2SvrdkIAAEA/fut2QgAAgHB17HZCAABA1sfsdkIAAAA8Gu12QgAAwKFs7XZCAACAB7/tdkIAAMA4tu52QgAAgJ4I73ZCAABABFvvdkIAAABqre92QgAAwM//73ZCAAAAAffwdkIAAMBmSfF2QgAAgMyb8XZCAABAMu7xdkIAAACYQPJ2QgAAQMk383ZCAAAAL4rzdkIAAID6LvR2QgAAQGCB9HZCAACAkXj1dkIAAED3yvV2Qg==\",\"dtype\":\"float64\",\"order\":\"little\",\"shape\":[1226]},\"ema_indic\\u2026(200)_0_1\":{\"__ndarray__\":\"AAAAAAAA+H8AAAAAAAD4f61b7pu6ptJAvsxAkCGQ0kCJ8Qkkd1TSQNAXxkJqNtJASvat0aZB0kDtZ1HmxEXSQMSHsT1EW9JAW6ps5mNY0kAqHl6a5HTSQHjclBiLqNJAD6xdeVHL0kA9vqNfSPDSQAOV5xUfKdNAtjRp+YVP00AKbIruFnHTQNjpZ+ekldNA6fSC5OrP00DL4m3pSerTQF3wMtqP7tNAI5xYa4u100DbuGlfQY3TQLICMB+oR9NALDgaE24W00Bv0FofnePSQMGSqOYtm9JAnvZN5Vlv0kB3FbcLiHfSQFosZtvHgtJA/LRDA2Ci0kDWoiVNp9LSQItCEitI3tJAH8uCwV/Y0kApODDrNcTSQCiqpbezvtJAdl4Ta3ad0kB/d8M+1I3SQCRQWI7VbtJADw3tk7ll0kCBR148L57SQP3VmGsLAdNAxNJuO5tS00CAITRfoIvTQDwmwml9e9NANMDPvqZJ00A7gKw8dRHTQHac+elT49JAM8GupqnW0kBr+w5uy8nSQICL3i22oNJAWcNjF3yV0kAOvUR55p/SQFASJxPnvdJA+60Rx+Ob0kCVRv/glmrSQH3PgvpvP9JA1B5PfWkd0kBbUJs7dvPRQE5nDgFnxtFANps/CMDN0UDgUZwkIezRQPr8F8Q79dFA/iQbeosO0kBJC7at0x/SQE4xXblcH9JAh0kAHIIr0kDtvPOeSk/SQEPpgz5QX9JAW4yaSMZz0kBmZmwZvmXSQLQb8PmnQ9JA/dkWv+8j0kBiv9dif/7RQLgxdiu64dFA+TpId0/X0UDA0W7Dj8jRQOorKkMaqtFAIXs10YKZ0UD3R/pmDrPRQHHccD8Iy9FA/73NogLt0UBHZRo0rQrSQG0Umkv59NFA5Ymdiuik0UCHOqtrg2zRQH2nFiBie9FAqscnT+6A0UBkeMSEQ3HRQEdHo9cCgdFA7QE2X16b0UAThiyBcLXRQLEdkpZ70tFA1mvFA6vx0UB/asTQjQDSQCvWwQnoDtJAYO3In3II0kDKTP9bcfDRQBpnWslN6tFAzTolZ5L80UDP6EG9Xg7SQI9BGHUmL9JAglA2o6wk0kAS47/QEtHRQHuvTE8jidFACQcflkZl0UD2LfroRj/RQAncYRo1I9FA6Kssh/An0UBbMNimzyrRQIdW6m+QCdFA6izqndAE0UD5rFsKcv7QQNX9XjqDC9FAfJffY7oj0UAg66bqITzRQLWtxUTdcdFAhuQSh/Gz0UByXD0g+tbRQLiY2/z25dFAbQh6ohrq0UDqzOUbJMbRQFZRIVGfutFAGqpD7GzM0UAmSCZ/QPTRQIOuHjMnE9JA8A7eNNce0kCMwqMOlD/SQHSLtxcUP9JAtKHDb84q0kA75HWvcCzSQNfgpZjUP9JAmTux1ehc0kBiqEOkwmnSQD3dwIzUe9JAqECOQcGb0kC+V0sysJ/SQLjLYXDqmtJA/83BOPKF0kAbgYJs+4jSQN6UGq1BfdJAKggwwxtL0kAmtDq2ExTSQJZEwATP+9FACsrhmwH50UC0e6SfTBHSQBtneahdSdJAdjDtRAJq0kAFh3XARYHSQIwcZPsxiNJAo/IarLyP0kBD4SOtd5XSQHuoqw2qjdJAfE3UJ/ZX0kCkQ1KKthfSQIFfZnqFBNJApC69Odoq0kA1PVX30UbSQBmSOeZETNJAAv4huzlC0kDu+9HE4fnRQBY0n1FYhtFAsfPoXeYG0UBgVhQKl9TQQDWeh+5ov9BAFYFBbird0EBgbo9EP+XQQCSQlz6dv9BAGjm/vnRu0EC93/1wFzvQQBUeHohqDtBA6skWasTHz0AKrxZYKZbPQAJr2zmD689AWVtOcEEH0EBDjni8Fx3QQGpu+KGHNdBA2RN8QkpT0EBXGzKhF2PQQHYRi6K/odBAiP3Wp9fY0EC9gKI60PjQQN8MjYEl19BA0sRGcrnL0EBBnwOA2djQQP2tx/i70tBA/U6w0o3i0EDbQUXl+uPQQInDKjmU+NBA+RO9+S0c0UDXpg+PDC/RQE6tlDBmL9FAjIcpX3Q00UDszeOIQD/RQBqT3mAePtFAmDOq8kY10UC9dHaksD3RQBthKDH+RdFAuM9zuA1c0UAKsDcgMmzRQOY7+TFTa9FAkLGyZClq0UClHyp0DnLRQHUoMTbKbNFArXuyRw5b0UCiJnvhxyjRQBag+OC0DdFAIrrhIS4B0UCFWW7GkgDRQPj7TT7KAdFANoy/w83p0EB1tTlJv83QQMrQyeELtdBA3UffAhCk0ECPdMkpr5TQQGuBrjllnNBAb5mVLBq00EDWFqBHQrrQQEPn3BNdqNBAfSaue+Ku0EBeCXXWqbPQQAZCYz2srdBAD2QV56+q0EBRq76GI7/QQKTQVLyI5dBAEMVGOKL+0EA/HgSW+f3QQPpPILXz6dBAAwDNtbHM0EBn+ruJFLTQQAk1P/JUpNBAegT3Cd+M0EBct5R45nHQQN9koNhzW9BAGpn7Ohwx0EBx35erGhLQQKy4Fiv/E9BAsefGo30o0EBgcL7peTzQQMdLgiLqStBAJeEfg/Jd0ECU7jDDrWfQQOzseJina9BAp+fCo3Zx0EAyQiM+CX3QQIMtGnebh9BAj1VALjSJ0EDUkI7AzIjQQHI3mhIrgdBABmVs21hd0ECzZS3h7UTQQMqHT/N5GNBAmNQSc8bbz0D7nqiseprPQJ8iXL0XXc9AccmgcZQWz0AubngVrtbOQAzCn0DTn85AcdA0QJY4zkDgF/NQy/bNQMlTVyD9qc1A7HN/XDV5zUBGS85Qxq/NQHaBMRqZCc5AgDDdgekszkCukdPalTzOQOGQhN3LJc5AvbQXWf0qzkBNzxmyTBrOQOhmfeY9wM1AS1uyUKN1zUAHZoxrLWjNQEnMf9PXm81A9nBPzvaEzUDSUwVIwS3NQBQUpeR4x8xAZdu4W/cezEAkgIKbn/DLQNeC6t/zBsxA2dg6773Jy0Crq1tOfL3LQCdo5PBPz8tANZMw+vjwy0AAP5uwl+HLQJ+0BQTpiMtAyeIK4sE7y0B2ocE4wP7KQAkb7OuPC8tArvozsXxey0DdsPhCMhfMQMs9RWGUx8xAZdPRIRInzUB2RsvtIHDNQO93pIqehM1AUP/Pd+CozUBXUTyPBLnNQNUdh23x081AjE6YynjvzUA3qEdJtfbNQEpu31tiJ85AEUBdDxVNzkAd13s/mYTOQAcs2x2Yxs5AjjUqIb3mzkAya6IhT/HOQEYihhw2185AT2zZ4ZHhzkAK+oCy1DTPQHRFU0mGac9AX+4YhAaOz0COqci+QYTPQCIE2oO/Kc9AxkopI1HgzkCHmkDoo7jOQNyNO8Pcn85AG0lQeXjGzkBqsMoyLCvPQKsiDZ15e89ASDz3QpSgz0Am4gA9y/vPQOpHV1abJdBA/LZCu4U60ECPMxBM90TQQH2LCO5KaNBAdjiTJdR20EDXyBXt1m3QQH5Uol/9X9BA1k5N7B5V0EA3+GFdNTjQQE1+LyqpHdBAJNFfFI0K0EAWBYFu6xbQQANVkCoaONBAPezZwfVQ0EDjNRmYz2bQQMAoQ+8XbdBAEGRQ1MtU0EA4Ae1UE1nQQNpf4X2QWtBAutYi7+1T0EDDdsOEJkbQQNn7ULE1NtBAC945+nYk0EB9MEmCJTbQQKHjV4CuatBAdwUDwUis0EChUK4Q/eLQQLHy1qjVANFAZZRR450R0UAciHkowQzRQPn+JCG6HtFA2iaDbKEz0UDgbPZ1RkXRQLYgQcRyXdFAXgXqys5q0UBu1XIJFm7RQKsJPC9iVtFAukYBzGo90UBpvBC04TnRQDNuEv1NQtFA43fOGUBJ0UAvlCXmDEnRQBcoUKLyR9FA7oCReEtE0UBw+203FEDRQAM5sBSTGdFADopOYD4G0UBUdql9xxHRQNtRCru7I9FA7CoqUm1C0UAGKEq6Bm/RQB/qtWLik9FA8WEvueak0UBPEdtGRqrRQArR9Xz1p9FAiQXEYCW/0UBMAlHl7ezRQGfV5WmyEdJAzu0XgZUs0kBin6s+ZE/SQO0ybZ2EddJASBBOouWB0kC/5sLfaobSQB9oR/23htJAlrGiJ5Zp0kDKw14zKF7SQDk8QRmbddJApq4eyJqC0kB7qvUFm47SQC04zhU+ltJAxoVxSQaV0kCUEdPJ23/SQGp266RKbtJAwmv81PJX0kD4j5goM1zSQIzFMQrUd9JAN4ZumKGE0kCE2iJ8x3nSQGfw9OH9XdJAHg9i7wFa0kDMThfeUnDSQJ4KhNkygtJADgEwf52g0kBw+bH6YsfSQD65ZguW2NJA/UVX9vPa0kAdFEQCUNzSQA7O9syM5NJA3mTB67Lj0kC9hV4eWtrSQPEuTFA96NJAMTNkd/8S00A+udShmz/TQGRmfpRgWtNANsIYOE6D00DP+1VOZ8PTQB81kzNP6tNAZzjSTt3q00AeHoFgRcPTQAoSH4HKmdNAaM17xYOH00CLMsPM3ZHTQPe0dTWrkNNAA9Nsw56E00CkX2amdX7TQCl9NA68itNAglAipFeW00Cd3/M/937TQOCGzXnQWNNAOVD5jQQ/00CYYm4DiTTTQMWawq8/CdNAS8BJ9pYK00D8tPBw4x7TQAyLKuW4LdNAQIf40ywt00Cs3Z9gHB3TQFxH3P00E9NAxT4KU9Hx0kDX+P+LucHSQDGf9iemtdJA2ysFzXy60kC0iOsL2drSQKklKhHA/NJAgTaicjIT00CoqbhViC7TQIBhG0mxRNNA4KBa7B1A00D0b8jlTxrTQE8caeN/EdNA6OoTkjEZ00AiRNNRFgXTQAP7Rt1/79JAKJFHpHPa0kA2u6aN5NTSQFY+Vse35NJAnAlLQRzP0kD5skhibBHTQFbrUDLqX9NAY9jYugJV00AsuJ+cXB7TQFfFEinT8NJAGtQ7cbTN0kDDLxPwwZHSQCD05aZGStJAJlkUlH8t0kA1QiVJMhjSQEOnDM4FCNJA8JzrZBIF0kDaF26dCwHSQOi0ExY8/9FAy9WGHe0S0kCEcY76zwTSQCKw9e9l89FANKdf4E/60UBxZLQfuQnSQL9YyBi+DNJA7vEOKj4a0kBDBKbtRCTSQGTRjbyzEdJAgxC94jYI0kAJ8MaPnALSQMbwLp2g+tFAoI9Qx2Pv0UBsqDcAmt7RQLA/oYrQyNFAZddb2Eaw0UDEJTL40ZXRQB/7cQKLeNFA58xCMBde0UD8X3+/xGjRQNbw1g9OdNFAkRPnoUaQ0UBozulP6J/RQJq6tRk8n9FAQhu7huKf0UDPm4vtsKDRQD+fcMSWuNFABOXHSbDQ0UCYF7mGud/RQNzeHwM6AdJAI/zGAUQ40kCaB+bsJVfSQMX6qDTccNJAE5YPbOWO0kDbPOml2qXSQEdlg9mortJAwcSc5U2m0kC7eq6oNIrSQIT1CqosgtJAHJxekmGW0kAnij1thtrSQN27yDKMFdNAJ5Coebsf00CKDI2i9yfTQPc56tI8WdNAHPAftFSG00B24WLunrbTQJKW5po41NNAcHhnMqrd00DD2d0UGtTTQMbyKP3lzdNAj/tonIXN00Ap6ox9I8rTQCHwcGDLytNAC4FExqPE00AUPSqQ6eDTQLWJmvus/NNAzSVg67sS1ED+PXPuIDTUQEC/JE8sT9RAxP5W3rhU1EAaHEqZFkbUQHtmWVjLR9RAjdQg0whU1EBGxNFRPD3UQHPGWCevM9RAuOaKLBo21EA0Jld/EjfUQHSP74n8OtRA1HyDw7RE1EAJV38wVGXUQJr/fDX1jtRAidcv+Z2r1EAxiwBSibjUQKl+gBD5tdRA5vZr4Smu1ECfLNGDLJbUQPnANxhofNRAebay+SuE1EBnnoZCfpLUQNWzllNHntRA8rvxfbK11EB2XBMdp9PUQPebYm8d7tRABMj5OgL51EDgSqKLYwfVQL8jJJXbFNVAri2YArIV1UBNzwIgVArVQKAk4HAMD9VAh005S4Eg1UAhLywj9y3VQAa48/XLMNVAHLRG3m4/1UDBqaeIfTnVQPdP7k9WJNVAXVSlRvUW1UBtRFmZoxnVQL28yNK3OtVAlL3qtl9m1UA4bJZHKI7VQDB7uvQSqdVAjeJoacfA1UCvaPBEQczVQDSaXKt44dVA6AC+DoIG1kB6yRgDMx3WQId3cHhALdZAUI4DfTU61kDjpltQIkzWQOQLm/m6StZA//7HQFVC1kB32jQwnEbWQOt4ciaiUtZAA59oJj5Q1kABe9LAjEfWQGbLeLxyQtZAZU9zujow1kBEuhg1siDWQJ0zRNcOH9ZAx4LC7z1R1kCExra7qX/WQOiFex6/k9ZAddA5KMqi1kCqTsBPxa7WQOO5JzWgudZAJrlA1i/G1kCgYhODSdHWQGN1/A8L3NZABb66lmXu1kBlh8GVNfjWQPwmyJ7E+9ZAod0fkp741kBfDDMxhfDWQGwT/E/o59ZAe5ZGaYvh1kBWsdoG9+vWQLps5ubmB9dAC0vN7REU10CKyy5Z6CPXQCmj5oi6I9dA0NZRfWUD10B4cQ6YTtbWQGBmUkVUy9ZAcg1AEuy11kAtSRHKv7DWQDW7AQ+HtdZAks4kvJG71kBbAD3C6NDWQIQtangq4dZAEaH/mcHs1kD/KXQZsQTXQMpt8kcnDtdAJOHk7Ooj10DK0k2p0jvXQBv7Ked6UtdA1if1IYxp10D0TA+xjn3XQLwtrXftkddAD9yAqy6d10Arkgh3y6vXQOsiO5SjxtdA5OvcIJHe10CRYzNuiArYQKAMQBlNNNhAYB+4cPNM2EB9/Y6+gW7YQKj33Qe3g9hAca3Sphx52ECnALBi01jYQIp8O0d6W9hACS4HwgNR2EBuBjfTtSnYQKfTAEn1/tdARUIAz+HP10DRZXT3jLXXQCgRQzwCp9dADJfbfCO210A6WI5AtajXQCjyP7WOm9dA0DKXpRiL10DmSHMd84vXQLqbx+jOn9dAygv1rZu110BMel6rl7XXQE4u97TosddAoPxF+wu010A1ILTNI8PXQBaNvzvYzNdAsrgCAjnJ10Ab8k1VPsTXQLFRpwJgx9dAhNBmuBHK10CYQjgAp9jXQG8T8W4//9dAtvzp+zwg2ECj3fByOTrYQEmrKiJ4RNhAcT9NX2ZV2EDQeQVr0GbYQOw0MlDFbthAcOkm0eJi2ECP8vyA/znYQDctGJtJ+NdAk/MmJL7E10DTjHZwLajXQMaFnh4KeNdAnF/QuiF410CWw0MgNIXXQJo0WBHsiddAvJicBi6Q10DYtAfTupfXQNRgOWgspddA0OYaGUS010BxAM2h9cTXQE1WsfKistdA8PXsp0rL10A+qToakPnXQJfuTc88D9hAPS8g14/+10CIAwPlh8vXQFtXhNNLr9dAneLD3brT10D3HKI6nR3YQKBJLpUGSNhAegDNSZBg2EClVWF7J23YQIg6I61FkdhA+R3DqjrA2EBkZjuxX9XYQKdQsU3X7dhAlISQW3D12EBmnQwaVOTYQDgm0rFF1dhAu94dTkTR2EB2TQFord7YQBQn8OQa3thA8Z7jzKvS2EAUN9t4EM7YQPLZWhRR+NhAw+k44Occ2UCcWkcZRDDZQH8td/GuNNlAD7Au4tYw2UDIdGmplDHZQPXzfA6/MdlA6qVJlSo92UCPZ1qqTkLZQPnT/VW7K9lAH+JoQqQC2UBrK3k8ZdnYQI+qqGAVsdhA2Sz0eLqb2EAy/wny9InYQAING+u8mNhA1e7bqge02ECelzXYmrXYQNrD4bM6qNhA+ySL/sOT2EDa8/wtcKnYQA3j2oJk09hAlfObQxn12EBDdcMCzQfZQKLmlBrWCtlAtuA9sIgJ2UAIFZaXIgnZQNV5r9ioDNlAb0tkio/+2EB+YboNL/XYQG3hdoA199hAYZC0Z13o2EAYZqhFwdzYQD3Ax6s32dhAxQC9NPjj2ECDMeuhJ/3YQJzEYWM/DdlAYeqpKkAO2UBN9NnNaAnZQLUAsZsyENlAVFE4qHon2UBxuhCAvUfZQEevJVigWdlAGbThWw+b2UBW77+0BdLZQKryBEmuBNpAkoZtbX882kDntNFkdHfaQMOnsgudmtpAl25++kq52kDXDpl1vsbaQFTV6JpivtpAQJM5ghXF2kAEglaNpZbaQCp2wR0oK9pAyweyV26a2UCMMIBE21nZQFHQqwLQS9lA//Bj9kQy2UCUfvuV2xbZQIs/A4GxDdlA1x36tFj62ED8nceEr+XYQHLzOvyTs9hAwbu1eHGO2ECWiteXJnPYQMmgLqvKXNhAGY1M/eNu2EBwvnp3X6vYQIGQBt0S2dhANnJWLhrB2ED+z60Rk6TYQE7ATTg3ethA8QlUksVh2ECsrUquaSbYQPAzzYyx59dAFIQQ21je10BfBztVxOHXQMHDuT+1DdhApF9L2sId2ECNn/8ZPzHYQOPPzipUOdhAHwUEluEa2EBTPqSJNuzXQOXmyWIR2tdAYpme08jM10DtHBAhfZTXQKDq5+iQY9dAo4uYZhOK10CmFA69yajXQNKbfANmr9dAAwbY2YnE10AmPDKwf97XQGjFIxBX4NdAu7+KP1gB2EByiRSmeTPYQE0AfOotY9hAXQkC5Qx02ECxpn/BjHfYQAzgAxItjthAg7sp7ZCX2EB21vK/iqXYQJuUgI+zr9hAYUv/xmaj2EBp1zoQuYjYQB3qosFScdhA3r25JMRs2EC+ipFKGmPYQOFwduODT9hAsUvhJuVu2ECTZ/H4tLDYQGznelp239hA/ZYve+Tz2EBhzaEFZQPZQF2OvfqBFNlAZiFjap4z2UDWKln+QVLZQPC9S2CQbdlAVOx0Vmh82UC0XJnb1Z/ZQG96pXA90dlAML2HCFLQ2UDUNhn2hrXZQNzRNV9Xi9lA0SXUhW5j2UAuxPrHGEzZQDdY8jvaPdlAAUIijGUr2UCFKVKkwUXZQGVQz7oWg9lA/ZDXQbKu2UBZrAv9oZ3ZQMxH5YraqtlAE9ztoi7e2UCAfmTryufZQC/MI9GdxNlA4EtnW2Cz2UAUyWJJY87ZQCCAUo082NlAQtRh377c2UAMr6QYSefZQJCajlYj9dlALGkAh0v32UAcCNqvve7ZQMmSYaBg2dlAS9qDYMPG2UCmFXOSYMLZQDuWjbKj2NlAvNmYmBPc2UD6JTLoPvLZQHGDyKK7+NlAoIpLGtHx2UCauWQGBdvZQCfwIiomy9lApt0T7Oe42UBKZhgsE6vZQAvY5+d5pNlABCKa3T262UBVsDH+HNLZQAUXY4kM6dlAsNUIOh4I2kAUhYyNuC/aQJTYah5fStpAiATXyi1F2kDliXe4YjvaQOQ/jHuhVNpALbYUqQtX2kA/pgMdzk3aQMKMl1ORS9pAvVwbdIBb2kBfNJfno2LaQKbVqQEYdtpA/SJvQfml2kD7WNzfCdjaQJrAMiTq/tpADY1ucTcO20Dm/O3LP/zaQP0rkROS9NpAksIMywcW20BPAblL8DHbQK0w/vhzRttAyZdVsBdq20CFCUK3BobbQGhy/os8c9tAAMo5Yfph20A887oTtl3bQDicKAXLX9tAZp+e8eF920BNDGxsZ5DbQIICoZK3ittApFB2kzV120DBoIynAHPbQCaYQd4ChNtAakSSuS+R20BvvsRDyYjbQJhOUZKuf9tAoqBZr8GC20BmyGIk6WPbQKlJ4qBWJdtAlQ6OrrP82kD3HAXSTevaQJmP85NH2dpAYGdh1Y7G2kB+5GY/Uo/aQNUcfvMWetpA6YV7MEpu2kDr1m5HaVHaQGflVorYJ9pAm2B4LiD32UCAXzPFBHDZQOVfTPig7dhAoEhAh7HJ2EBF9PqYUb3YQA4DhZ2TrNhAsQA4ntya2ED/GS25DKnYQCSQtSmxj9hAFPzjYSto2EC4nKaV6j7YQOqGzRUYI9hAw8yskAE02EDYqkd2XknYQILe+LG8bdhA2NCT9/2T2EB+myud8bzYQC+4ZfyU5dhAOK3FS5jE2ECiPjavk6vYQOfLe3ApkdhAcR6VAe2C2EBorqXtmm3YQG5af5PpTdhA0CRMDmsz2EB+gW60UU3YQEOPjgqqTthA56OiiVJy2EBy39lFqLjYQJHqnyKN79hAd07xR08T2UBg97u7BiLZQJ5O6ernKdlAXZnu1REW2UBdfJjQrivZQOHckd4DStlAITJyRVdy2UBiTYS3+4zZQJyzl5QdmNlAJ6X2vSKW2UDq+IiKzZ/ZQLVmV3bcktlA6X9rKfeh2UARoNNAmrvZQCwN7/8x2dlAVkIxAE0P2kABPRoSdzDaQItUoisFONpAFwOANDso2kABCaPFXv7ZQPf0DUUu4NlAGMuE6+TS2UDp7E9vRaXZQL0LpAYQstlAEoQ2MYDz2UBwk4hSbR3aQNgJFtaTPNpAhqHWvStR2kBUV96SF3jaQK5vRAXEkdpAS6JOE3aS2kBocDSFi27aQMGp1pTUPNpAei+SbJBH2kD8bujfH2naQLe/Xjtji9pAt5N63n+V2kBKAVXeKKfaQCcRV6xZodpA86nCPueW2kA5pIcAfrLaQJ0Y0jlXwNpAmuRK1Mna2kCjiCZnlPDaQEeaEVBL9NpAbHBVvgTg2kBDGbA/TdTaQD3JE4yv3tpAO66UMhbk2kDH2jGgx+TaQIkXvsiV6dpAsgdCJvrm2kCuBNTwAuTaQLLgYgsAzdpAVuxvdknA2kA91H0GjZTaQAuRgS+pU9pAWiKt4WEz2kBjzRLORT3aQLdvwxtYcdpApCebkzJ32kDs/BzdZojaQMzpzzNLpdpAn+Vfb/O92kDvNhqXY8LaQG0Pl+BBt9pAHZgcTPuw2kDiHWJy8J7aQEDPtXyggdpAlGp1NvVm2kBo9IhmYk3aQLnP4fBdR9pAPFxvhtVI2kCX6k+3hVLaQNIsExRDVtpAmAUZanVb2kBkxq7QC0zaQKSVjCxfV9pA78dUgpN42kCTmzAS8bXaQFw+ToTL39pAOSy9pqMB20A/HAKs6SvbQHth8VHbYdtAoYHu0dWl20DoXd7stPTbQFmB0tAkQtxAFFfNNtWS3EC6p1a31MbcQAlT9HMR8txADCaSsagQ3UDLsGjeQfDcQL8SolwD1NxA8R0keqUJ3UAV98DVpT7dQDN2UspYfN1AB2nESgu13UDeLxLNxMPdQE/Ruq7czt1A2COBjijB3UAftL67BKHdQPTETbDGkd1AJh4T8Hpz3UAYvxjv63XdQBr3GlSGXt1AE+DS0sdJ3UA99XNbrlfdQLzHsclsf91Aip0ztk2k3UBauRRXDIndQNmtgzpuVN1APErFzS8g3UCsLKvpkB/dQBSqJlMhId1AQj5Eqygq3UCuyAYEayzdQCCr+rs/Od1AG2xavls53UArf+gmvC3dQADVxqT1+NxA1Ya4GIGy3EATXpZB2YncQMZZTIXHdNxAT16gOQpT3ECHFD1Afk3cQDVXbygBL9xAgq12Mw863EC8N+eZnL/cQLGbmZZ+Yt1A1qpWU0Cb3UCKerTXIOzdQNI91hXwBd5APdIOag5J3kBwANXrr4neQD+APAdWot5ANRj7keOp3kB+cV7Sjr7eQNk4AdLPtN5ALkJx5wPL3kCa7KCKc8jeQPYy3O/ciN5AIpaXYX5u3kBSsg9fmmTeQB9UEAdBY95AS3Er42VC3kCg8IzxVS7eQJP4MUnYA95AS8ONCLDY3UAPCDCxRs/dQJOErdexyN1AP3UYjXLa3UAbx8ooeOXdQINBkMeX591AP4kTJ5gK3kAg/fXczEbeQB+WjxdWcd5A8SGymMqN3kCnm4+Vz5veQIlw3VMnpt5At59lVE3A3kCPybQzls3eQONErzLyoN5AH3hdGAtH3kBP7P0NJBbeQAokEgzU/N1Ad/Lvaob53UCb2suF6ObdQBMxruV72N1AD79g/87j3UBQrSzzT+rdQHKBl5f+wN1A96/XiH5R3UBghkFSO/bcQLXiFV5pstxAZuxMpkWI3EA9/zIb9ofcQDW7O+0sn9xAUBm9KDWp3ECx9AA25XfcQIOM//OtRdxAt7dGYh3420AKW2hN1KHbQOF03Z9BbNtA11UtRAls20BcYGBf7E/bQCDwBvhOc9tAAP3X26SK20Bggoaf7mvbQGrM7j+cZNtAaG0RreqF20Cu/S/LEH3bQMF0Gi2uY9tASImi+BUu20BhZ8T//MzaQHfjYWEtqtpAvGPqnlj42kBe9TWAhinbQHmqEYouE9tAztFXZ4fp2kAfCm3X1LvaQCbBYPbSjdpAStpW75aI2kAg+qTpcYbaQKJ7vKhCpNpAesDyQ4zX2kD1ugXV9RDbQKhYYBh8IttA2kZYqsc320DshpI72CrbQLqAnBPT6tpAm1j7cAyo2kAGmwNLc7XaQNA2j2Gk2dtAbSqMA+fF3ECpsZpE+ATdQBsDAdqYIt1A2q/4+4JD3UB+Sk5F/CPdQD14h93j3NxA5kdYfjl33EBcQJq+pibcQBvPiPATxdtACS1whj+b20BxweZUoazbQHlhq9oPm9tAA4nxBMib20AzvxCeYrHbQLNL46oS09tA1IwlwY/o20BLy638ciPcQFdveEDvZ9xAkcel8E+h3EDZx+RKprncQMGA5Qr1n9xANVfOxqe73EBxXQBr3ALdQHsbuwRCOt1Ae+5K+NRk3UAFiri904/dQJb9Dk3zn91AA6VPAoKb3UDI33QyTsPdQMNXMFXH491AK+SEzPUC3kBjKHJWnhzeQDo6i80sB95AdCq1QfwV3kAWk5ZfkzTeQCI1hrdQSN5ACsVklR1s3kBP8KAHcIPeQG3NluQmht5A6mLpZuyC3kAgD2afF6/eQA4oJhwm195AVMQVoIAE30DNbWfKFibfQAIoHe4KJ99ADpZvf2AZ30AkP3OHxQvfQCxcqy9EH99AB8oyH3kV30CPpf21LOjeQDjfptMMxt5AAgbeylqp3kCg/1uqvafeQMYWlSTi4d5AfZE5+2Qb30CruK+QakDfQE3F5uL3Vt9APSyPzBJn30BUWqQboXnfQHdLsw94id9AvI7zzaaO30BSgIqVtobfQAoYoFRait9ApLDFClOx30D7A236SrLfQA==\",\"dtype\":\"float64\",\"order\":\"little\",\"shape\":[1226]},\"equity\":{\"__ndarray__\":\"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\",\"dtype\":\"float64\",\"order\":\"little\",\"shape\":[1226]},\"inc\":[\"1\",\"1\",\"0\",\"0\",\"0\",\"1\",\"0\",\"1\",\"0\",\"0\",\"0\",\"1\",\"1\",\"1\",\"1\",\"1\",\"1\",\"1\",\"0\",\"1\",\"0\",\"1\",\"0\",\"0\",\"0\",\"0\",\"0\",\"1\",\"1\",\"1\",\"1\",\"0\",\"1\",\"0\",\"0\",\"0\",\"1\",\"0\",\"0\",\"1\",\"1\",\"1\",\"0\",\"0\",\"1\",\"0\",\"0\",\"1\",\"1\",\"0\",\"1\",\"1\",\"1\",\"0\",\"0\",\"0\",\"0\",\"0\",\"0\",\"1\",\"1\",\"0\",\"1\",\"0\",\"0\",\"0\",\"1\",\"0\",\"0\",\"0\",\"0\",\"0\",\"0\",\"1\",\"1\",\"0\",\"0\",\"0\",\"1\",\"1\",\"1\",\"1\",\"0\",\"0\",\"0\",\"1\",\"1\",\"0\",\"1\",\"1\",\"1\",\"1\",\"0\",\"1\",\"0\",\"0\",\"0\",\"1\",\"1\",\"0\",\"1\",\"0\",\"0\",\"0\",\"0\",\"0\",\"0\",\"1\",\"1\",\"0\",\"1\",\"0\",\"1\",\"0\",\"1\",\"1\",\"1\",\"1\",\"0\",\"1\",\"0\",\"1\",\"1\",\"1\",\"1\",\"1\",\"1\",\"0\",\"0\",\"1\",\"1\",\"1\",\"0\",\"1\",\"1\",\"0\",\"0\",\"0\",\"1\",\"0\",\"0\",\"0\",\"1\",\"1\",\"1\",\"1\",\"1\",\"1\",\"0\",\"1\",\"0\",\"0\",\"0\",\"0\",\"1\",\"1\",\"1\",\"0\",\"0\",\"0\",\"0\",\"0\",\"1\",\"0\",\"1\",\"1\",\"0\",\"0\",\"0\",\"1\",\"0\",\"0\",\"1\",\"1\",\"1\",\"0\",\"1\",\"0\",\"1\",\"1\",\"1\",\"0\",\"1\",\"0\",\"0\",\"1\",\"0\",\"0\",\"1\",\"0\",\"1\",\"0\",\"1\",\"0\",\"1\",\"0\",\"1\",\"1\",\"0\",\"0\",\"0\",\"1\",\"0\",\"0\",\"0\",\"0\",\"1\",\"0\",\"0\",\"0\",\"0\",\"1\",\"0\",\"0\",\"1\",\"1\",\"0\",\"0\",\"1\",\"1\",\"1\",\"0\",\"1\",\"1\",\"1\",\"0\",\"0\",\"0\",\"0\",\"0\",\"0\",\"0\",\"1\",\"0\",\"1\",\"1\",\"1\",\"1\",\"0\",\"1\",\"0\",\"1\",\"0\",\"1\",\"1\",\"0\",\"0\",\"1\",\"0\",\"0\",\"0\",\"0\",\"1\",\"0\",\"0\",\"1\",\"0\",\"0\",\"0\",\"1\",\"0\",\"1\",\"1\",\"1\",\"1\",\"0\",\"1\",\"0\",\"0\",\"0\",\"1\",\"1\",\"0\",\"0\",\"0\",\"0\",\"0\",\"1\",\"0\",\"1\",\"1\",\"1\",\"1\",\"0\",\"0\",\"0\",\"1\",\"1\",\"1\",\"1\",\"0\",\"1\",\"0\",\"1\",\"0\",\"1\",\"1\",\"1\",\"1\",\"0\",\"1\",\"1\",\"1\",\"0\",\"0\",\"0\",\"1\",\"0\",\"1\",\"0\",\"0\",\"1\",\"0\",\"1\",\"1\",\"1\",\"1\",\"0\",\"1\",\"1\",\"1\",\"0\",\"1\",\"0\",\"0\",\"1\",\"0\",\"0\",\"0\",\"1\",\"1\",\"1\",\"1\",\"0\",\"1\",\"0\",\"1\",\"1\",\"0\",\"0\",\"0\",\"0\",\"1\",\"1\",\"1\",\"1\",\"0\",\"1\",\"0\",\"1\",\"1\",\"1\",\"1\",\"1\",\"1\",\"0\",\"0\",\"1\",\"1\",\"0\",\"1\",\"1\",\"0\",\"0\",\"1\",\"0\",\"1\",\"1\",\"1\",\"1\",\"1\",\"1\",\"0\",\"1\",\"0\",\"1\",\"1\",\"0\",\"1\",\"1\",\"0\",\"1\",\"1\",\"0\",\"1\",\"1\",\"0\",\"1\",\"1\",\"0\",\"0\",\"0\",\"0\",\"1\",\"1\",\"0\",\"1\",\"0\",\"1\",\"1\",\"1\",\"1\",\"1\",\"1\",\"0\",\"1\",\"0\",\"0\",\"1\",\"0\",\"1\",\"1\",\"0\",\"1\",\"1\",\"1\",\"0\",\"0\",\"0\",\"1\",\"0\",\"1\",\"1\",\"0\",\"0\",\"1\",\"0\",\"0\",\"0\",\"1\",\"0\",\"1\",\"1\",\"1\",\"0\",\"0\",\"0\",\"0\",\"0\",\"1\",\"1\",\"1\",\"0\",\"1\",\"1\",\"1\",\"1\",\"0\",\"1\",\"1\",\"0\",\"0\",\"0\",\"0\",\"1\",\"1\",\"1\",\"1\",\"0\",\"0\",\"0\",\"1\",\"0\",\"0\",\"1\",\"0\",\"0\",\"1\",\"0\",\"0\",\"1\",\"0\",\"0\",\"1\",\"0\",\"0\",\"1\",\"1\",\"0\",\"1\",\"0\",\"1\",\"0\",\"0\",\"0\",\"0\",\"0\",\"0\",\"0\",\"1\",\"0\",\"1\",\"1\",\"0\",\"1\",\"0\",\"1\",\"1\",\"0\",\"1\",\"1\",\"1\",\"1\",\"1\",\"0\",\"1\",\"0\",\"0\",\"1\",\"1\",\"1\",\"1\",\"0\",\"0\",\"1\",\"0\",\"1\",\"1\",\"0\",\"1\",\"0\",\"1\",\"1\",\"0\",\"0\",\"1\",\"1\",\"1\",\"1\",\"1\",\"1\",\"0\",\"1\",\"1\",\"0\",\"0\",\"1\",\"0\",\"1\",\"1\",\"1\",\"1\",\"1\",\"1\",\"0\",\"0\",\"0\",\"0\",\"1\",\"1\",\"0\",\"1\",\"1\",\"1\",\"0\",\"1\",\"1\",\"0\",\"0\",\"1\",\"1\",\"0\",\"1\",\"0\",\"0\",\"0\",\"0\",\"0\",\"1\",\"1\",\"1\",\"1\",\"1\",\"1\",\"0\",\"1\",\"0\",\"1\",\"0\",\"1\",\"0\",\"0\",\"1\",\"1\",\"0\",\"0\",\"1\",\"0\",\"0\",\"0\",\"1\",\"1\",\"0\",\"1\",\"1\",\"0\",\"1\",\"1\",\"1\",\"1\",\"0\",\"1\",\"0\",\"0\",\"1\",\"0\",\"1\",\"1\",\"0\",\"1\",\"1\",\"0\",\"0\",\"1\",\"0\",\"1\",\"1\",\"0\",\"1\",\"1\",\"1\",\"1\",\"0\",\"1\",\"1\",\"1\",\"1\",\"1\",\"1\",\"1\",\"1\",\"1\",\"1\",\"1\",\"1\",\"1\",\"1\",\"1\",\"0\",\"0\",\"1\",\"1\",\"0\",\"0\",\"0\",\"0\",\"1\",\"1\",\"0\",\"0\",\"0\",\"1\",\"1\",\"0\",\"1\",\"0\",\"1\",\"1\",\"1\",\"0\",\"1\",\"0\",\"1\",\"0\",\"1\",\"1\",\"1\",\"1\",\"0\",\"1\",\"1\",\"0\",\"0\",\"0\",\"0\",\"0\",\"0\",\"1\",\"0\",\"1\",\"1\",\"0\",\"1\",\"1\",\"1\",\"0\",\"1\",\"1\",\"0\",\"0\",\"0\",\"0\",\"1\",\"1\",\"1\",\"0\",\"1\",\"0\",\"1\",\"0\",\"1\",\"0\",\"0\",\"0\",\"1\",\"1\",\"0\",\"1\",\"0\",\"1\",\"1\",\"1\",\"0\",\"0\",\"0\",\"1\",\"1\",\"0\",\"0\",\"0\",\"0\",\"0\",\"1\",\"0\",\"1\",\"1\",\"0\",\"0\",\"0\",\"1\",\"0\",\"1\",\"1\",\"0\",\"0\",\"1\",\"1\",\"0\",\"1\",\"1\",\"0\",\"0\",\"0\",\"1\",\"1\",\"1\",\"0\",\"0\",\"1\",\"1\",\"1\",\"0\",\"1\",\"0\",\"1\",\"1\",\"1\",\"1\",\"0\",\"1\",\"0\",\"1\",\"0\",\"0\",\"1\",\"1\",\"0\",\"1\",\"1\",\"1\",\"0\",\"1\",\"0\",\"0\",\"0\",\"0\",\"1\",\"1\",\"1\",\"0\",\"1\",\"0\",\"0\",\"0\",\"0\",\"1\",\"0\",\"1\",\"1\",\"1\",\"0\",\"0\",\"0\",\"0\",\"1\",\"0\",\"0\",\"1\",\"1\",\"0\",\"1\",\"1\",\"0\",\"1\",\"1\",\"1\",\"1\",\"0\",\"1\",\"1\",\"1\",\"0\",\"0\",\"0\",\"0\",\"0\",\"1\",\"0\",\"1\",\"1\",\"1\",\"0\",\"1\",\"1\",\"1\",\"0\",\"1\",\"0\",\"1\",\"1\",\"1\",\"0\",\"0\",\"0\",\"0\",\"1\",\"0\",\"1\",\"1\",\"1\",\"0\",\"1\",\"1\",\"0\",\"0\",\"1\",\"1\",\"0\",\"0\",\"1\",\"1\",\"0\",\"0\",\"0\",\"1\",\"0\",\"1\",\"0\",\"1\",\"0\",\"1\",\"0\",\"0\",\"1\",\"0\",\"1\",\"1\",\"1\",\"1\",\"1\",\"0\",\"1\",\"0\",\"0\",\"1\",\"0\",\"0\",\"1\",\"1\",\"0\",\"0\",\"1\",\"1\",\"1\",\"0\",\"0\",\"0\",\"1\",\"1\",\"1\",\"1\",\"1\",\"0\",\"0\",\"1\",\"1\",\"1\",\"1\",\"0\",\"0\",\"0\",\"1\",\"1\",\"0\",\"0\",\"1\",\"0\",\"0\",\"0\",\"0\",\"1\",\"0\",\"0\",\"1\",\"1\",\"0\",\"0\",\"0\",\"0\",\"0\",\"1\",\"0\",\"0\",\"1\",\"1\",\"0\",\"0\",\"0\",\"1\",\"0\",\"1\",\"1\",\"1\",\"1\",\"1\",\"0\",\"1\",\"0\",\"0\",\"1\",\"0\",\"0\",\"1\",\"0\",\"1\",\"1\",\"1\",\"1\",\"0\",\"1\",\"0\",\"1\",\"1\",\"1\",\"1\",\"1\",\"0\",\"1\",\"0\",\"1\",\"1\",\"0\",\"1\",\"0\",\"1\",\"0\",\"0\",\"0\",\"1\",\"0\",\"1\",\"1\",\"1\",\"0\",\"1\",\"1\",\"1\",\"1\",\"0\",\"0\",\"1\",\"0\",\"1\",\"1\",\"1\",\"0\",\"0\",\"1\",\"1\",\"1\",\"1\",\"0\",\"0\",\"0\",\"1\",\"1\",\"1\",\"0\",\"1\",\"0\",\"0\",\"1\",\"0\",\"0\",\"0\",\"1\",\"1\",\"0\",\"1\",\"1\",\"1\",\"0\",\"0\",\"1\",\"0\",\"0\",\"1\",\"0\",\"0\",\"0\",\"1\",\"1\",\"1\",\"0\",\"0\",\"1\",\"1\",\"1\",\"1\",\"1\",\"1\",\"1\",\"1\",\"1\",\"1\",\"1\",\"1\",\"1\",\"0\",\"0\",\"1\",\"1\",\"1\",\"1\",\"0\",\"1\",\"0\",\"0\",\"1\",\"0\",\"1\",\"0\",\"0\",\"1\",\"1\",\"1\",\"0\",\"0\",\"0\",\"1\",\"0\",\"1\",\"0\",\"0\",\"1\",\"0\",\"0\",\"0\",\"0\",\"1\",\"0\",\"1\",\"0\",\"1\",\"1\",\"1\",\"0\",\"1\",\"1\",\"1\",\"1\",\"0\",\"0\",\"1\",\"0\",\"1\",\"1\",\"0\",\"1\",\"0\",\"1\",\"0\",\"0\",\"0\",\"0\",\"1\",\"1\",\"1\",\"0\",\"1\",\"1\",\"1\",\"1\",\"0\",\"1\",\"0\",\"1\",\"1\",\"0\",\"0\",\"0\",\"0\",\"1\",\"0\",\"0\",\"1\",\"1\",\"0\",\"0\",\"0\",\"0\",\"0\",\"1\",\"1\",\"0\",\"0\",\"1\",\"0\",\"0\",\"0\",\"1\",\"0\",\"1\",\"1\",\"0\",\"1\",\"1\",\"0\",\"0\",\"0\",\"0\",\"1\",\"1\",\"1\",\"0\",\"0\",\"1\",\"0\",\"1\",\"0\",\"1\",\"1\",\"1\",\"1\",\"1\",\"0\",\"0\",\"1\",\"0\",\"1\",\"1\",\"0\",\"0\",\"1\",\"1\",\"0\",\"0\",\"0\",\"0\",\"1\",\"1\",\"0\",\"0\",\"1\",\"1\",\"1\",\"1\",\"1\",\"1\",\"1\",\"0\",\"1\",\"1\",\"1\",\"1\",\"1\",\"1\",\"0\",\"1\",\"1\",\"1\",\"1\",\"0\",\"1\",\"1\",\"0\",\"1\",\"1\",\"1\",\"0\",\"1\",\"1\",\"1\",\"1\",\"0\",\"0\",\"0\",\"1\",\"0\",\"0\",\"0\",\"0\",\"1\",\"1\",\"1\",\"0\",\"1\",\"1\",\"0\",\"1\",\"0\",\"0\",\"0\",\"1\",\"0\",\"0\"],\"index\":[0,1,2,3,4,5,6,7,8,9,10,11,12,13,14,15,16,17,18,19,20,21,22,23,24,25,26,27,28,29,30,31,32,33,34,35,36,37,38,39,40,41,42,43,44,45,46,47,48,49,50,51,52,53,54,55,56,57,58,59,60,61,62,63,64,65,66,67,68,69,70,71,72,73,74,75,76,77,78,79,80,81,82,83,84,85,86,87,88,89,90,91,92,93,94,95,96,97,98,99,100,101,102,103,104,105,106,107,108,109,110,111,112,113,114,115,116,117,118,119,120,121,122,123,124,125,126,127,128,129,130,131,132,133,134,135,136,137,138,139,140,141,142,143,144,145,146,147,148,149,150,151,152,153,154,155,156,157,158,159,160,161,162,163,164,165,166,167,168,169,170,171,172,173,174,175,176,177,178,179,180,181,182,183,184,185,186,187,188,189,190,191,192,193,194,195,196,197,198,199,200,201,202,203,204,205,206,207,208,209,210,211,212,213,214,215,216,217,218,219,220,221,222,223,224,225,226,227,228,229,230,231,232,233,234,235,236,237,238,239,240,241,242,243,244,245,246,247,248,249,250,251,252,253,254,255,256,257,258,259,260,261,262,263,264,265,266,267,268,269,270,271,272,273,274,275,276,277,278,279,280,281,282,283,284,285,286,287,288,289,290,291,292,293,294,295,296,297,298,299,300,301,302,303,304,305,306,307,308,309,310,311,312,313,314,315,316,317,318,319,320,321,322,323,324,325,326,327,328,329,330,331,332,333,334,335,336,337,338,339,340,341,342,343,344,345,346,347,348,349,350,351,352,353,354,355,356,357,358,359,360,361,362,363,364,365,366,367,368,369,370,371,372,373,374,375,376,377,378,379,380,381,382,383,384,385,386,387,388,389,390,391,392,393,394,395,396,397,398,399,400,401,402,403,404,405,406,407,408,409,410,411,412,413,414,415,416,417,418,419,420,421,422,423,424,425,426,427,428,429,430,431,432,433,434,435,436,437,438,439,440,441,442,443,444,445,446,447,448,449,450,451,452,453,454,455,456,457,458,459,460,461,462,463,464,465,466,467,468,469,470,471,472,473,474,475,476,477,478,479,480,481,482,483,484,485,486,487,488,489,490,491,492,493,494,495,496,497,498,499,500,501,502,503,504,505,506,507,508,509,510,511,512,513,514,515,516,517,518,519,520,521,522,523,524,525,526,527,528,529,530,531,532,533,534,535,536,537,538,539,540,541,542,543,544,545,546,547,548,549,550,551,552,553,554,555,556,557,558,559,560,561,562,563,564,565,566,567,568,569,570,571,572,573,574,575,576,577,578,579,580,581,582,583,584,585,586,587,588,589,590,591,592,593,594,595,596,597,598,599,600,601,602,603,604,605,606,607,608,609,610,611,612,613,614,615,616,617,618,619,620,621,622,623,624,625,626,627,628,629,630,631,632,633,634,635,636,637,638,639,640,641,642,643,644,645,646,647,648,649,650,651,652,653,654,655,656,657,658,659,660,661,662,663,664,665,666,667,668,669,670,671,672,673,674,675,676,677,678,679,680,681,682,683,684,685,686,687,688,689,690,691,692,693,694,695,696,697,698,699,700,701,702,703,704,705,706,707,708,709,710,711,712,713,714,715,716,717,718,719,720,721,722,723,724,725,726,727,728,729,730,731,732,733,734,735,736,737,738,739,740,741,742,743,744,745,746,747,748,749,750,751,752,753,754,755,756,757,758,759,760,761,762,763,764,765,766,767,768,769,770,771,772,773,774,775,776,777,778,779,780,781,782,783,784,785,786,787,788,789,790,791,792,793,794,795,796,797,798,799,800,801,802,803,804,805,806,807,808,809,810,811,812,813,814,815,816,817,818,819,820,821,822,823,824,825,826,827,828,829,830,831,832,833,834,835,836,837,838,839,840,841,842,843,844,845,846,847,848,849,850,851,852,853,854,855,856,857,858,859,860,861,862,863,864,865,866,867,868,869,870,871,872,873,874,875,876,877,878,879,880,881,882,883,884,885,886,887,888,889,890,891,892,893,894,895,896,897,898,899,900,901,902,903,904,905,906,907,908,909,910,911,912,913,914,915,916,917,918,919,920,921,922,923,924,925,926,927,928,929,930,931,932,933,934,935,936,937,938,939,940,941,942,943,944,945,946,947,948,949,950,951,952,953,954,955,956,957,958,959,960,961,962,963,964,965,966,967,968,969,970,971,972,973,974,975,976,977,978,979,980,981,982,983,984,985,986,987,988,989,990,991,992,993,994,995,996,997,998,999,1000,1001,1002,1003,1004,1005,1006,1007,1008,1009,1010,1011,1012,1013,1014,1015,1016,1017,1018,1019,1020,1021,1022,1023,1024,1025,1026,1027,1028,1029,1030,1031,1032,1033,1034,1035,1036,1037,1038,1039,1040,1041,1042,1043,1044,1045,1046,1047,1048,1049,1050,1051,1052,1053,1054,1055,1056,1057,1058,1059,1060,1061,1062,1063,1064,1065,1066,1067,1068,1069,1070,1071,1072,1073,1074,1075,1076,1077,1078,1079,1080,1081,1082,1083,1084,1085,1086,1087,1088,1089,1090,1091,1092,1093,1094,1095,1096,1097,1098,1099,1100,1101,1102,1103,1104,1105,1106,1107,1108,1109,1110,1111,1112,1113,1114,1115,1116,1117,1118,1119,1120,1121,1122,1123,1124,1125,1126,1127,1128,1129,1130,1131,1132,1133,1134,1135,1136,1137,1138,1139,1140,1141,1142,1143,1144,1145,1146,1147,1148,1149,1150,1151,1152,1153,1154,1155,1156,1157,1158,1159,1160,1161,1162,1163,1164,1165,1166,1167,1168,1169,1170,1171,1172,1173,1174,1175,1176,1177,1178,1179,1180,1181,1182,1183,1184,1185,1186,1187,1188,1189,1190,1191,1192,1193,1194,1195,1196,1197,1198,1199,1200,1201,1202,1203,1204,1205,1206,1207,1208,1209,1210,1211,1212,1213,1214,1215,1216,1217,1218,1219,1220,1221,1222,1223,1224,1225],\"ohlc_high\":{\"__ndarray__\":\"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\",\"dtype\":\"float64\",\"order\":\"little\",\"shape\":[1226]},\"ohlc_low\":{\"__ndarray__\":\"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\",\"dtype\":\"float64\",\"order\":\"little\",\"shape\":[1226]},\"sma_indic\\u2026(2000)_1_1\":{\"__ndarray__\":\"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\",\"dtype\":\"float64\",\"order\":\"little\",\"shape\":[1226]}},\"selected\":{\"id\":\"5743\"},\"selection_policy\":{\"id\":\"5742\"}},\"id\":\"5674\",\"type\":\"ColumnDataSource\"},{\"attributes\":{\"source\":{\"id\":\"5674\"}},\"id\":\"5914\",\"type\":\"CDSView\"},{\"attributes\":{},\"id\":\"5835\",\"type\":\"ResetTool\"},{\"attributes\":{\"dimensions\":\"width\",\"maintain_focus\":false},\"id\":\"5880\",\"type\":\"WheelZoomTool\"},{\"attributes\":{\"line_color\":\"#1f77b4\",\"line_width\":1.5,\"x\":{\"field\":\"index\"},\"y\":{\"field\":\"equity\"}},\"id\":\"5721\",\"type\":\"Line\"},{\"attributes\":{\"label\":{\"value\":\"sma_indic\\u2026(2000)\"},\"renderers\":[{\"id\":\"5951\"}]},\"id\":\"5963\",\"type\":\"LegendItem\"},{\"attributes\":{\"dimensions\":\"width\"},\"id\":\"5658\",\"type\":\"PanTool\"},{\"attributes\":{},\"id\":\"5661\",\"type\":\"UndoTool\"},{\"attributes\":{},\"id\":\"5663\",\"type\":\"ResetTool\"},{\"attributes\":{\"fill_alpha\":{\"value\":0.1},\"fill_color\":{\"field\":\"returns_positive\",\"transform\":{\"id\":\"5677\"}},\"line_alpha\":{\"value\":0.1},\"marker\":{\"value\":\"inverted_triangle\"},\"size\":{\"field\":\"marker_size\",\"units\":\"screen\"},\"x\":{\"field\":\"index\"},\"y\":{\"field\":\"returns_short\"}},\"id\":\"5854\",\"type\":\"Scatter\"},{\"attributes\":{\"label\":{\"value\":\"Peak (167%)\"},\"renderers\":[{\"id\":\"5732\"}]},\"id\":\"5747\",\"type\":\"LegendItem\"},{\"attributes\":{\"x0\":{\"field\":\"index\"},\"x1\":{\"field\":\"index\"},\"y0\":{\"field\":\"High\"},\"y1\":{\"field\":\"Low\"}},\"id\":\"5906\",\"type\":\"Segment\"},{\"attributes\":{\"bottom\":{\"field\":\"Close\"},\"fill_color\":{\"field\":\"inc\",\"transform\":{\"id\":\"5676\"}},\"top\":{\"field\":\"Open\"},\"width\":{\"value\":0.8},\"x\":{\"field\":\"index\"}},\"id\":\"5911\",\"type\":\"VBar\"},{\"attributes\":{\"factors\":[\"0\",\"1\"],\"palette\":[\"tomato\",\"lime\"]},\"id\":\"5676\",\"type\":\"CategoricalColorMapper\"},{\"attributes\":{\"axis\":{\"id\":\"5654\"},\"dimension\":1,\"ticker\":null},\"id\":\"5657\",\"type\":\"Grid\"},{\"attributes\":{\"border_line_color\":\"#333333\",\"click_policy\":\"hide\",\"items\":[{\"id\":\"5747\"},{\"id\":\"5767\"},{\"id\":\"5789\"},{\"id\":\"5813\"}],\"label_text_font_size\":\"8pt\",\"location\":\"top_left\",\"margin\":0,\"padding\":5,\"spacing\":0},\"id\":\"5746\",\"type\":\"Legend\"},{\"attributes\":{},\"id\":\"5827\",\"type\":\"BasicTicker\"},{\"attributes\":{\"line_alpha\":0.1,\"line_color\":\"#1f77b4\",\"line_width\":1.3,\"x\":{\"field\":\"index\"},\"y\":{\"field\":\"ema_indic\\u2026(200)_0_1\"}},\"id\":\"5934\",\"type\":\"Line\"},{\"attributes\":{\"formatter\":{\"id\":\"5999\"},\"ticker\":{\"id\":\"5823\"},\"visible\":false},\"id\":\"5822\",\"type\":\"LinearAxis\"},{\"attributes\":{},\"id\":\"5701\",\"type\":\"UndoTool\"},{\"attributes\":{},\"id\":\"5662\",\"type\":\"RedoTool\"},{\"attributes\":{\"data_source\":{\"id\":\"5674\"},\"glyph\":{\"id\":\"5897\"},\"hover_glyph\":null,\"muted_glyph\":null,\"nonselection_glyph\":{\"id\":\"5898\"},\"selection_glyph\":null,\"view\":{\"id\":\"5900\"}},\"id\":\"5899\",\"type\":\"GlyphRenderer\"},{\"attributes\":{},\"id\":\"5704\",\"type\":\"SaveTool\"},{\"attributes\":{},\"id\":\"5833\",\"type\":\"UndoTool\"},{\"attributes\":{\"bottom\":{\"field\":\"Close\"},\"fill_alpha\":{\"value\":0.1},\"fill_color\":{\"field\":\"inc\",\"transform\":{\"id\":\"5676\"}},\"line_alpha\":{\"value\":0.1},\"top\":{\"field\":\"Open\"},\"width\":{\"value\":0.8},\"x\":{\"field\":\"index\"}},\"id\":\"5912\",\"type\":\"VBar\"},{\"attributes\":{\"formatter\":{\"id\":\"5680\"},\"ticker\":{\"id\":\"5651\"},\"visible\":false},\"id\":\"5650\",\"type\":\"LinearAxis\"},{\"attributes\":{\"data_source\":{\"id\":\"5675\"},\"glyph\":{\"id\":\"5916\"},\"hover_glyph\":null,\"muted_glyph\":null,\"nonselection_glyph\":{\"id\":\"5917\"},\"selection_glyph\":null,\"view\":{\"id\":\"5919\"}},\"id\":\"5918\",\"type\":\"GlyphRenderer\"},{\"attributes\":{},\"id\":\"5703\",\"type\":\"ResetTool\"},{\"attributes\":{\"data_source\":{\"id\":\"5675\"},\"glyph\":{\"id\":\"5848\"},\"hover_glyph\":null,\"muted_glyph\":null,\"nonselection_glyph\":{\"id\":\"5849\"},\"selection_glyph\":null,\"view\":{\"id\":\"5851\"}},\"id\":\"5850\",\"type\":\"GlyphRenderer\"},{\"attributes\":{},\"id\":\"5967\",\"type\":\"CrosshairTool\"},{\"attributes\":{\"label\":{\"value\":\"ema_indic\\u2026(200)\"},\"renderers\":[{\"id\":\"5935\"}]},\"id\":\"5947\",\"type\":\"LegendItem\"},{\"attributes\":{\"source\":{\"id\":\"5674\"}},\"id\":\"5900\",\"type\":\"CDSView\"},{\"attributes\":{\"source\":{\"id\":\"5714\"}},\"id\":\"5719\",\"type\":\"CDSView\"},{\"attributes\":{\"line_alpha\":{\"value\":0.1},\"x0\":{\"field\":\"index\"},\"x1\":{\"field\":\"index\"},\"y0\":{\"field\":\"High\"},\"y1\":{\"field\":\"Low\"}},\"id\":\"5907\",\"type\":\"Segment\"},{\"attributes\":{\"data_source\":{\"id\":\"5714\"},\"glyph\":{\"id\":\"5716\"},\"hover_glyph\":null,\"muted_glyph\":null,\"nonselection_glyph\":{\"id\":\"5717\"},\"selection_glyph\":null,\"view\":{\"id\":\"5719\"}},\"id\":\"5718\",\"type\":\"GlyphRenderer\"},{\"attributes\":{},\"id\":\"5836\",\"type\":\"SaveTool\"},{\"attributes\":{\"axis\":{\"id\":\"5822\"},\"ticker\":null},\"id\":\"5825\",\"type\":\"Grid\"},{\"attributes\":{\"formatter\":{\"id\":\"5923\"},\"ticker\":{\"id\":\"5655\"}},\"id\":\"5654\",\"type\":\"LinearAxis\"},{\"attributes\":{\"data_source\":{\"id\":\"5674\"},\"glyph\":{\"id\":\"5949\"},\"hover_glyph\":null,\"muted_glyph\":null,\"nonselection_glyph\":{\"id\":\"5950\"},\"selection_glyph\":null,\"view\":{\"id\":\"5952\"}},\"id\":\"5951\",\"type\":\"GlyphRenderer\"},{\"attributes\":{\"overlay\":{\"id\":\"5705\"}},\"id\":\"5700\",\"type\":\"BoxZoomTool\"},{\"attributes\":{\"dimensions\":\"width\"},\"id\":\"5830\",\"type\":\"PanTool\"},{\"attributes\":{\"dimensions\":\"width\"},\"id\":\"5879\",\"type\":\"PanTool\"},{\"attributes\":{},\"id\":\"5818\",\"type\":\"LinearScale\"},{\"attributes\":{\"bottom_units\":\"screen\",\"fill_alpha\":0.5,\"fill_color\":\"lightgrey\",\"left_units\":\"screen\",\"level\":\"overlay\",\"line_alpha\":1.0,\"line_color\":\"black\",\"line_dash\":[4,4],\"line_width\":2,\"right_units\":\"screen\",\"top_units\":\"screen\"},\"id\":\"5886\",\"type\":\"BoxAnnotation\"},{\"attributes\":{\"axis\":{\"id\":\"5694\"},\"dimension\":1,\"ticker\":null},\"id\":\"5697\",\"type\":\"Grid\"},{\"attributes\":{\"formatter\":{\"id\":\"5738\"},\"ticker\":{\"id\":\"5691\"},\"visible\":false},\"id\":\"5690\",\"type\":\"LinearAxis\"},{\"attributes\":{\"fill_color\":{\"field\":\"returns_positive\",\"transform\":{\"id\":\"5677\"}},\"marker\":{\"value\":\"inverted_triangle\"},\"size\":{\"field\":\"marker_size\",\"units\":\"screen\"},\"x\":{\"field\":\"index\"},\"y\":{\"field\":\"returns_short\"}},\"id\":\"5853\",\"type\":\"Scatter\"},{\"attributes\":{\"line_alpha\":{\"value\":0.1},\"line_color\":{\"field\":\"returns_positive\",\"transform\":{\"id\":\"5678\"}},\"line_dash\":[2,4],\"line_width\":{\"value\":8},\"xs\":{\"field\":\"position_lines_xs\"},\"ys\":{\"field\":\"position_lines_ys\"}},\"id\":\"5917\",\"type\":\"MultiLine\"},{\"attributes\":{},\"id\":\"5811\",\"type\":\"UnionRenderers\"},{\"attributes\":{},\"id\":\"5812\",\"type\":\"Selection\"},{\"attributes\":{\"active_drag\":{\"id\":\"5879\"},\"active_inspect\":\"auto\",\"active_multi\":null,\"active_scroll\":{\"id\":\"5880\"},\"active_tap\":\"auto\",\"tools\":[{\"id\":\"5879\"},{\"id\":\"5880\"},{\"id\":\"5881\"},{\"id\":\"5882\"},{\"id\":\"5883\"},{\"id\":\"5884\"},{\"id\":\"5885\"},{\"id\":\"5901\"},{\"id\":\"5967\"}]},\"id\":\"5887\",\"type\":\"Toolbar\"},{\"attributes\":{},\"id\":\"5702\",\"type\":\"RedoTool\"},{\"attributes\":{\"axis_label\":\"Equity\",\"formatter\":{\"id\":\"5727\"},\"minor_tick_line_color\":null,\"ticker\":{\"id\":\"5695\"}},\"id\":\"5694\",\"type\":\"LinearAxis\"},{\"attributes\":{\"active_drag\":{\"id\":\"5658\"},\"active_inspect\":\"auto\",\"active_multi\":null,\"active_scroll\":{\"id\":\"5659\"},\"active_tap\":\"auto\",\"tools\":[{\"id\":\"5658\"},{\"id\":\"5659\"},{\"id\":\"5660\"},{\"id\":\"5661\"},{\"id\":\"5662\"},{\"id\":\"5663\"},{\"id\":\"5664\"},{\"id\":\"5964\"},{\"id\":\"5967\"}]},\"id\":\"5666\",\"type\":\"Toolbar\"},{\"attributes\":{\"source\":{\"id\":\"5675\"}},\"id\":\"5856\",\"type\":\"CDSView\"},{\"attributes\":{\"axis\":{\"id\":\"5690\"},\"ticker\":null},\"id\":\"5693\",\"type\":\"Grid\"},{\"attributes\":{\"data_source\":{\"id\":\"5748\"},\"glyph\":{\"id\":\"5749\"},\"hover_glyph\":null,\"muted_glyph\":null,\"nonselection_glyph\":{\"id\":\"5750\"},\"selection_glyph\":null,\"view\":{\"id\":\"5752\"}},\"id\":\"5751\",\"type\":\"GlyphRenderer\"},{\"attributes\":{\"text\":\"\"},\"id\":\"6017\",\"type\":\"Title\"},{\"attributes\":{\"text\":\"\"},\"id\":\"5920\",\"type\":\"Title\"},{\"attributes\":{\"callback\":null,\"formatters\":{\"@datetime\":\"datetime\"},\"mode\":\"vline\",\"point_policy\":\"follow_mouse\",\"renderers\":[{\"id\":\"5913\"}],\"tooltips\":[[\"Date\",\"@datetime{%c}\"],[\"x, y\",\"$index\\u00a0\\u00a0\\u00a0\\u00a0$y{0,0.0[0000]}\"],[\"OHLC\",\"@Open{0,0.0[0000]}\\u00a0\\u00a0\\u00a0\\u00a0@High{0,0.0[0000]}\\u00a0\\u00a0\\u00a0\\u00a0@Low{0,0.0[0000]}\\u00a0\\u00a0\\u00a0\\u00a0@Close{0,0.0[0000]}\"],[\"Volume\",\"@Volume{0,0}\"],[\"ema_indic\\u2026(200)\",\"@{ema_indic\\u2026(200)_0_1}{0,0.0[0000]}\"],[\"sma_indic\\u2026(2000)\",\"@{sma_indic\\u2026(2000)_1_1}{0,0.0[0000]}\"]]},\"id\":\"5964\",\"type\":\"HoverTool\"},{\"attributes\":{\"callback\":null,\"formatters\":{\"@datetime\":\"datetime\"},\"mode\":\"vline\",\"point_policy\":\"follow_mouse\",\"renderers\":[{\"id\":\"5899\"}],\"tooltips\":[[\"Date\",\"@datetime{%c}\"],[\"Volume\",\"@Volume{0.00 a}\"]]},\"id\":\"5901\",\"type\":\"HoverTool\"},{\"attributes\":{\"label\":{\"value\":\"Max Dd Dur. (420 days)\"},\"renderers\":[{\"id\":\"5793\"}]},\"id\":\"5813\",\"type\":\"LegendItem\"},{\"attributes\":{},\"id\":\"5691\",\"type\":\"BasicTicker\"},{\"attributes\":{},\"id\":\"5999\",\"type\":\"BasicTickFormatter\"},{\"attributes\":{\"fill_alpha\":{\"value\":0.1},\"fill_color\":{\"field\":\"inc\",\"transform\":{\"id\":\"5676\"}},\"line_alpha\":{\"value\":0.1},\"line_color\":{\"field\":\"inc\",\"transform\":{\"id\":\"5676\"}},\"top\":{\"field\":\"Volume\"},\"width\":{\"value\":0.8},\"x\":{\"field\":\"index\"}},\"id\":\"5898\",\"type\":\"VBar\"},{\"attributes\":{\"dimensions\":\"width\",\"maintain_focus\":false},\"id\":\"5831\",\"type\":\"WheelZoomTool\"},{\"attributes\":{},\"id\":\"5923\",\"type\":\"BasicTickFormatter\"},{\"attributes\":{\"below\":[{\"id\":\"5822\"}],\"center\":[{\"id\":\"5825\"},{\"id\":\"5829\"},{\"id\":\"5846\"}],\"left\":[{\"id\":\"5826\"}],\"min_border_bottom\":6,\"min_border_left\":0,\"min_border_right\":10,\"min_border_top\":3,\"outline_line_color\":\"#666666\",\"plot_height\":90,\"plot_width\":null,\"renderers\":[{\"id\":\"5850\"},{\"id\":\"5855\"}],\"sizing_mode\":\"stretch_width\",\"title\":{\"id\":\"5995\"},\"toolbar\":{\"id\":\"5838\"},\"toolbar_location\":null,\"x_range\":{\"id\":\"5641\"},\"x_scale\":{\"id\":\"5818\"},\"y_range\":{\"id\":\"5816\"},\"y_scale\":{\"id\":\"5820\"}},\"id\":\"5814\",\"subtype\":\"Figure\",\"type\":\"Plot\"},{\"attributes\":{\"label\":{\"value\":\"Final (149%)\"},\"renderers\":[{\"id\":\"5751\"}]},\"id\":\"5767\",\"type\":\"LegendItem\"},{\"attributes\":{},\"id\":\"5823\",\"type\":\"BasicTicker\"},{\"attributes\":{\"active_drag\":{\"id\":\"5698\"},\"active_inspect\":\"auto\",\"active_multi\":null,\"active_scroll\":{\"id\":\"5699\"},\"active_tap\":\"auto\",\"tools\":[{\"id\":\"5698\"},{\"id\":\"5699\"},{\"id\":\"5700\"},{\"id\":\"5701\"},{\"id\":\"5702\"},{\"id\":\"5703\"},{\"id\":\"5704\"},{\"id\":\"5725\"},{\"id\":\"5967\"}]},\"id\":\"5706\",\"type\":\"Toolbar\"},{\"attributes\":{\"fill_alpha\":{\"value\":0.1},\"fill_color\":{\"value\":\"blue\"},\"line_alpha\":{\"value\":0.1},\"line_color\":{\"value\":\"blue\"},\"size\":{\"units\":\"screen\",\"value\":8},\"x\":{\"value\":1225},\"y\":{\"value\":1.4944543825240004}},\"id\":\"5750\",\"type\":\"Scatter\"},{\"attributes\":{\"data_source\":{\"id\":\"5674\"},\"glyph\":{\"id\":\"5911\"},\"hover_glyph\":null,\"muted_glyph\":null,\"nonselection_glyph\":{\"id\":\"5912\"},\"selection_glyph\":null,\"view\":{\"id\":\"5914\"}},\"id\":\"5913\",\"type\":\"GlyphRenderer\"},{\"attributes\":{\"source\":{\"id\":\"5675\"}},\"id\":\"5851\",\"type\":\"CDSView\"},{\"attributes\":{\"source\":{\"id\":\"5674\"}},\"id\":\"5909\",\"type\":\"CDSView\"},{\"attributes\":{\"source\":{\"id\":\"5675\"}},\"id\":\"5919\",\"type\":\"CDSView\"},{\"attributes\":{\"dimensions\":\"width\",\"maintain_focus\":false},\"id\":\"5699\",\"type\":\"WheelZoomTool\"}],\"root_ids\":[\"6029\"]},\"title\":\"Bokeh Application\",\"version\":\"2.1.1\"}};\n",
              "  var render_items = [{\"docid\":\"115f325c-d839-4d2f-bbf6-5c8c92c87207\",\"root_ids\":[\"6029\"],\"roots\":{\"6029\":\"fedebf65-19c7-4979-993d-73876021353f\"}}];\n",
              "  root.Bokeh.embed.embed_items_notebook(docs_json, render_items);\n",
              "\n",
              "  }\n",
              "  if (root.Bokeh !== undefined) {\n",
              "    embed_document(root);\n",
              "  } else {\n",
              "    var attempts = 0;\n",
              "    var timer = setInterval(function(root) {\n",
              "      if (root.Bokeh !== undefined) {\n",
              "        clearInterval(timer);\n",
              "        embed_document(root);\n",
              "      } else {\n",
              "        attempts++;\n",
              "        if (attempts > 100) {\n",
              "          clearInterval(timer);\n",
              "          console.log(\"Bokeh: ERROR: Unable to run BokehJS code because BokehJS library is missing\");\n",
              "        }\n",
              "      }\n",
              "    }, 10, root)\n",
              "  }\n",
              "})(window);"
            ],
            "application/vnd.bokehjs_exec.v0+json": ""
          },
          "metadata": {
            "tags": [],
            "application/vnd.bokehjs_exec.v0+json": {
              "id": "6029"
            }
          }
        }
      ]
    },
    {
      "cell_type": "markdown",
      "metadata": {
        "id": "MZcntEM4fI54"
      },
      "source": [
        "# To 15 mins time-frame"
      ]
    },
    {
      "cell_type": "code",
      "metadata": {
        "id": "3Oq4v6GC8aHt",
        "colab": {
          "base_uri": "https://localhost:8080/",
          "height": 225
        },
        "outputId": "a29e416f-7dce-440e-c500-6812cd5c6210"
      },
      "source": [
        "df = pd.DataFrame(pd.read_excel('/content/BankNiftyFutures_Data5Min.xlsx'))\n",
        "\n",
        "df.loc[:,'Datetime'] = pd.to_datetime(df.Date.astype(str)+' '+df.Time.astype(str), errors='coerce')\n",
        "df.set_index('Datetime', append=False, inplace=True)\n",
        "\n",
        "conv = {                                                                                                             \n",
        "          'Open 5':'first',                                                                                                    \n",
        "          'High 5':'max',                                                                                                       \n",
        "          'Low 5':'min',                                                                                                        \n",
        "          'Close 5': 'last',                                                                                                    \n",
        "          'Volume 5': 'last',\n",
        "          'Year': 'last',\n",
        "       }\n",
        "\n",
        "df = df.resample('15min').agg(conv)\n",
        "df.dropna(inplace = True)\n",
        "\n",
        "df.columns = ['Open 15',\t'High 15',\t'Low 15',\t'Close 15',\t'Volume 15', 'Year']\n",
        "df.to_csv('15mins.csv')\n",
        "df.head()"
      ],
      "execution_count": 85,
      "outputs": [
        {
          "output_type": "execute_result",
          "data": {
            "text/html": [
              "<div>\n",
              "<style scoped>\n",
              "    .dataframe tbody tr th:only-of-type {\n",
              "        vertical-align: middle;\n",
              "    }\n",
              "\n",
              "    .dataframe tbody tr th {\n",
              "        vertical-align: top;\n",
              "    }\n",
              "\n",
              "    .dataframe thead th {\n",
              "        text-align: right;\n",
              "    }\n",
              "</style>\n",
              "<table border=\"1\" class=\"dataframe\">\n",
              "  <thead>\n",
              "    <tr style=\"text-align: right;\">\n",
              "      <th></th>\n",
              "      <th>Open 15</th>\n",
              "      <th>High 15</th>\n",
              "      <th>Low 15</th>\n",
              "      <th>Close 15</th>\n",
              "      <th>Volume 15</th>\n",
              "      <th>Year</th>\n",
              "    </tr>\n",
              "    <tr>\n",
              "      <th>Datetime</th>\n",
              "      <th></th>\n",
              "      <th></th>\n",
              "      <th></th>\n",
              "      <th></th>\n",
              "      <th></th>\n",
              "      <th></th>\n",
              "    </tr>\n",
              "  </thead>\n",
              "  <tbody>\n",
              "    <tr>\n",
              "      <th>2015-01-01 09:15:00</th>\n",
              "      <td>18861.3496</td>\n",
              "      <td>18867.9492</td>\n",
              "      <td>18793.0</td>\n",
              "      <td>18829.0000</td>\n",
              "      <td>40925.0</td>\n",
              "      <td>2015.0</td>\n",
              "    </tr>\n",
              "    <tr>\n",
              "      <th>2015-01-01 09:30:00</th>\n",
              "      <td>18826.9492</td>\n",
              "      <td>18833.4004</td>\n",
              "      <td>18775.0</td>\n",
              "      <td>18803.9492</td>\n",
              "      <td>60100.0</td>\n",
              "      <td>2015.0</td>\n",
              "    </tr>\n",
              "    <tr>\n",
              "      <th>2015-01-01 09:45:00</th>\n",
              "      <td>18803.9492</td>\n",
              "      <td>18850.0000</td>\n",
              "      <td>18800.0</td>\n",
              "      <td>18846.8008</td>\n",
              "      <td>30750.0</td>\n",
              "      <td>2015.0</td>\n",
              "    </tr>\n",
              "    <tr>\n",
              "      <th>2015-01-01 10:00:00</th>\n",
              "      <td>18846.9004</td>\n",
              "      <td>18858.5996</td>\n",
              "      <td>18830.0</td>\n",
              "      <td>18850.0000</td>\n",
              "      <td>13800.0</td>\n",
              "      <td>2015.0</td>\n",
              "    </tr>\n",
              "    <tr>\n",
              "      <th>2015-01-01 10:15:00</th>\n",
              "      <td>18848.5508</td>\n",
              "      <td>18858.0000</td>\n",
              "      <td>18830.0</td>\n",
              "      <td>18840.2500</td>\n",
              "      <td>4250.0</td>\n",
              "      <td>2015.0</td>\n",
              "    </tr>\n",
              "  </tbody>\n",
              "</table>\n",
              "</div>"
            ],
            "text/plain": [
              "                        Open 15     High 15  ...  Volume 15    Year\n",
              "Datetime                                     ...                   \n",
              "2015-01-01 09:15:00  18861.3496  18867.9492  ...    40925.0  2015.0\n",
              "2015-01-01 09:30:00  18826.9492  18833.4004  ...    60100.0  2015.0\n",
              "2015-01-01 09:45:00  18803.9492  18850.0000  ...    30750.0  2015.0\n",
              "2015-01-01 10:00:00  18846.9004  18858.5996  ...    13800.0  2015.0\n",
              "2015-01-01 10:15:00  18848.5508  18858.0000  ...     4250.0  2015.0\n",
              "\n",
              "[5 rows x 6 columns]"
            ]
          },
          "metadata": {
            "tags": []
          },
          "execution_count": 85
        }
      ]
    },
    {
      "cell_type": "code",
      "metadata": {
        "id": "4AwDDMvKb_GS"
      },
      "source": [
        "df = pd.read_csv('/content/15mins.csv')\n",
        "\n",
        "df.loc[:,'dt'] = pd.to_datetime(df['Datetime'], errors='coerce')\n",
        "df['dt'] = df['dt'].dt.strftime('%Y-%m-%d')"
      ],
      "execution_count": 86,
      "outputs": []
    },
    {
      "cell_type": "markdown",
      "metadata": {
        "id": "f4wtgH4XfC-I"
      },
      "source": [
        "# VWAP"
      ]
    },
    {
      "cell_type": "code",
      "metadata": {
        "colab": {
          "base_uri": "https://localhost:8080/",
          "height": 195
        },
        "id": "31NfGUOfeB5D",
        "outputId": "13c6b748-83fc-4ef3-cdd3-d6ffd9303770"
      },
      "source": [
        "def calculateVwap(data):\n",
        "    data['TP'] = (data['High 15']+data['Low 15']+data['Close 15'])/3.0\n",
        "    data['TradedValue']  = data['TP']*data['Volume 15']\n",
        "    data['CumVolume'] = data['Volume 15'].cumsum()\n",
        "    data['CumTradedValue'] = data['TradedValue'].cumsum()\n",
        "    data['VWAP'] = data['CumTradedValue'] /data['CumVolume']\n",
        "    return data\n",
        "\n",
        "df = df.groupby('dt').apply(calculateVwap)\n",
        "\n",
        "df.head()"
      ],
      "execution_count": 87,
      "outputs": [
        {
          "output_type": "execute_result",
          "data": {
            "text/html": [
              "<div>\n",
              "<style scoped>\n",
              "    .dataframe tbody tr th:only-of-type {\n",
              "        vertical-align: middle;\n",
              "    }\n",
              "\n",
              "    .dataframe tbody tr th {\n",
              "        vertical-align: top;\n",
              "    }\n",
              "\n",
              "    .dataframe thead th {\n",
              "        text-align: right;\n",
              "    }\n",
              "</style>\n",
              "<table border=\"1\" class=\"dataframe\">\n",
              "  <thead>\n",
              "    <tr style=\"text-align: right;\">\n",
              "      <th></th>\n",
              "      <th>Datetime</th>\n",
              "      <th>Open 15</th>\n",
              "      <th>High 15</th>\n",
              "      <th>Low 15</th>\n",
              "      <th>Close 15</th>\n",
              "      <th>Volume 15</th>\n",
              "      <th>Year</th>\n",
              "      <th>dt</th>\n",
              "      <th>TP</th>\n",
              "      <th>TradedValue</th>\n",
              "      <th>CumVolume</th>\n",
              "      <th>CumTradedValue</th>\n",
              "      <th>VWAP</th>\n",
              "    </tr>\n",
              "  </thead>\n",
              "  <tbody>\n",
              "    <tr>\n",
              "      <th>0</th>\n",
              "      <td>2015-01-01 09:15:00</td>\n",
              "      <td>18861.3496</td>\n",
              "      <td>18867.9492</td>\n",
              "      <td>18793.0</td>\n",
              "      <td>18829.0000</td>\n",
              "      <td>40925.0</td>\n",
              "      <td>2015.0</td>\n",
              "      <td>2015-01-01</td>\n",
              "      <td>18829.983067</td>\n",
              "      <td>7.706171e+08</td>\n",
              "      <td>40925.0</td>\n",
              "      <td>7.706171e+08</td>\n",
              "      <td>18829.983067</td>\n",
              "    </tr>\n",
              "    <tr>\n",
              "      <th>1</th>\n",
              "      <td>2015-01-01 09:30:00</td>\n",
              "      <td>18826.9492</td>\n",
              "      <td>18833.4004</td>\n",
              "      <td>18775.0</td>\n",
              "      <td>18803.9492</td>\n",
              "      <td>60100.0</td>\n",
              "      <td>2015.0</td>\n",
              "      <td>2015-01-01</td>\n",
              "      <td>18804.116533</td>\n",
              "      <td>1.130127e+09</td>\n",
              "      <td>101025.0</td>\n",
              "      <td>1.900744e+09</td>\n",
              "      <td>18814.595008</td>\n",
              "    </tr>\n",
              "    <tr>\n",
              "      <th>2</th>\n",
              "      <td>2015-01-01 09:45:00</td>\n",
              "      <td>18803.9492</td>\n",
              "      <td>18850.0000</td>\n",
              "      <td>18800.0</td>\n",
              "      <td>18846.8008</td>\n",
              "      <td>30750.0</td>\n",
              "      <td>2015.0</td>\n",
              "      <td>2015-01-01</td>\n",
              "      <td>18832.266933</td>\n",
              "      <td>5.790922e+08</td>\n",
              "      <td>131775.0</td>\n",
              "      <td>2.479837e+09</td>\n",
              "      <td>18818.718792</td>\n",
              "    </tr>\n",
              "    <tr>\n",
              "      <th>3</th>\n",
              "      <td>2015-01-01 10:00:00</td>\n",
              "      <td>18846.9004</td>\n",
              "      <td>18858.5996</td>\n",
              "      <td>18830.0</td>\n",
              "      <td>18850.0000</td>\n",
              "      <td>13800.0</td>\n",
              "      <td>2015.0</td>\n",
              "      <td>2015-01-01</td>\n",
              "      <td>18846.199867</td>\n",
              "      <td>2.600776e+08</td>\n",
              "      <td>145575.0</td>\n",
              "      <td>2.739914e+09</td>\n",
              "      <td>18821.323902</td>\n",
              "    </tr>\n",
              "    <tr>\n",
              "      <th>4</th>\n",
              "      <td>2015-01-01 10:15:00</td>\n",
              "      <td>18848.5508</td>\n",
              "      <td>18858.0000</td>\n",
              "      <td>18830.0</td>\n",
              "      <td>18840.2500</td>\n",
              "      <td>4250.0</td>\n",
              "      <td>2015.0</td>\n",
              "      <td>2015-01-01</td>\n",
              "      <td>18842.750000</td>\n",
              "      <td>8.008169e+07</td>\n",
              "      <td>149825.0</td>\n",
              "      <td>2.819996e+09</td>\n",
              "      <td>18821.931684</td>\n",
              "    </tr>\n",
              "  </tbody>\n",
              "</table>\n",
              "</div>"
            ],
            "text/plain": [
              "              Datetime     Open 15  ...  CumTradedValue          VWAP\n",
              "0  2015-01-01 09:15:00  18861.3496  ...    7.706171e+08  18829.983067\n",
              "1  2015-01-01 09:30:00  18826.9492  ...    1.900744e+09  18814.595008\n",
              "2  2015-01-01 09:45:00  18803.9492  ...    2.479837e+09  18818.718792\n",
              "3  2015-01-01 10:00:00  18846.9004  ...    2.739914e+09  18821.323902\n",
              "4  2015-01-01 10:15:00  18848.5508  ...    2.819996e+09  18821.931684\n",
              "\n",
              "[5 rows x 13 columns]"
            ]
          },
          "metadata": {
            "tags": []
          },
          "execution_count": 87
        }
      ]
    },
    {
      "cell_type": "code",
      "metadata": {
        "id": "Hz6ia0yvf8cF"
      },
      "source": [
        "closes = df['Close 15'].tolist()\n",
        "VWAPS = df['VWAP'].tolist()\n",
        "\n",
        "action = []\n",
        "for i in range(len(closes)):\n",
        "    if closes[i] > VWAPS[i]:\n",
        "        action.append(str('Buy'))\n",
        "    else:\n",
        "        action.append(str('Sell'))\n",
        "\n",
        "df['action'] = action"
      ],
      "execution_count": 88,
      "outputs": []
    },
    {
      "cell_type": "code",
      "metadata": {
        "id": "afc3ZdICf8Th",
        "colab": {
          "base_uri": "https://localhost:8080/",
          "height": 35
        },
        "outputId": "b8a1ced9-51bf-4510-d8a7-b4afbae60b91"
      },
      "source": [
        "'''\n",
        "A tick is a measure of the minimum upward or downward movement in the price of a security\n",
        "\n",
        "Therefore we'll use 1 tick = (high - low)/2'''"
      ],
      "execution_count": 89,
      "outputs": [
        {
          "output_type": "execute_result",
          "data": {
            "application/vnd.google.colaboratory.intrinsic+json": {
              "type": "string"
            },
            "text/plain": [
              "\"\\nA tick is a measure of the minimum upward or downward movement in the price of a security\\n\\nTherefore we'll use 1 tick = (high - low)/2\""
            ]
          },
          "metadata": {
            "tags": []
          },
          "execution_count": 89
        }
      ]
    },
    {
      "cell_type": "code",
      "metadata": {
        "id": "bmY068iWf8Qv",
        "colab": {
          "base_uri": "https://localhost:8080/",
          "height": 296
        },
        "outputId": "25f0afd1-bcc7-49a3-bc89-3efa3c176594"
      },
      "source": [
        "df['1tick'] = abs(df['Close 15'] - df['Open 15']) / 2\n",
        "df['SL'] = df['Low 15'] - df['1tick']\n",
        "\n",
        "df.head()"
      ],
      "execution_count": 90,
      "outputs": [
        {
          "output_type": "execute_result",
          "data": {
            "text/html": [
              "<div>\n",
              "<style scoped>\n",
              "    .dataframe tbody tr th:only-of-type {\n",
              "        vertical-align: middle;\n",
              "    }\n",
              "\n",
              "    .dataframe tbody tr th {\n",
              "        vertical-align: top;\n",
              "    }\n",
              "\n",
              "    .dataframe thead th {\n",
              "        text-align: right;\n",
              "    }\n",
              "</style>\n",
              "<table border=\"1\" class=\"dataframe\">\n",
              "  <thead>\n",
              "    <tr style=\"text-align: right;\">\n",
              "      <th></th>\n",
              "      <th>Datetime</th>\n",
              "      <th>Open 15</th>\n",
              "      <th>High 15</th>\n",
              "      <th>Low 15</th>\n",
              "      <th>Close 15</th>\n",
              "      <th>Volume 15</th>\n",
              "      <th>Year</th>\n",
              "      <th>dt</th>\n",
              "      <th>TP</th>\n",
              "      <th>TradedValue</th>\n",
              "      <th>CumVolume</th>\n",
              "      <th>CumTradedValue</th>\n",
              "      <th>VWAP</th>\n",
              "      <th>action</th>\n",
              "      <th>1tick</th>\n",
              "      <th>SL</th>\n",
              "    </tr>\n",
              "  </thead>\n",
              "  <tbody>\n",
              "    <tr>\n",
              "      <th>0</th>\n",
              "      <td>2015-01-01 09:15:00</td>\n",
              "      <td>18861.3496</td>\n",
              "      <td>18867.9492</td>\n",
              "      <td>18793.0</td>\n",
              "      <td>18829.0000</td>\n",
              "      <td>40925.0</td>\n",
              "      <td>2015.0</td>\n",
              "      <td>2015-01-01</td>\n",
              "      <td>18829.983067</td>\n",
              "      <td>7.706171e+08</td>\n",
              "      <td>40925.0</td>\n",
              "      <td>7.706171e+08</td>\n",
              "      <td>18829.983067</td>\n",
              "      <td>Sell</td>\n",
              "      <td>16.1748</td>\n",
              "      <td>18776.8252</td>\n",
              "    </tr>\n",
              "    <tr>\n",
              "      <th>1</th>\n",
              "      <td>2015-01-01 09:30:00</td>\n",
              "      <td>18826.9492</td>\n",
              "      <td>18833.4004</td>\n",
              "      <td>18775.0</td>\n",
              "      <td>18803.9492</td>\n",
              "      <td>60100.0</td>\n",
              "      <td>2015.0</td>\n",
              "      <td>2015-01-01</td>\n",
              "      <td>18804.116533</td>\n",
              "      <td>1.130127e+09</td>\n",
              "      <td>101025.0</td>\n",
              "      <td>1.900744e+09</td>\n",
              "      <td>18814.595008</td>\n",
              "      <td>Sell</td>\n",
              "      <td>11.5000</td>\n",
              "      <td>18763.5000</td>\n",
              "    </tr>\n",
              "    <tr>\n",
              "      <th>2</th>\n",
              "      <td>2015-01-01 09:45:00</td>\n",
              "      <td>18803.9492</td>\n",
              "      <td>18850.0000</td>\n",
              "      <td>18800.0</td>\n",
              "      <td>18846.8008</td>\n",
              "      <td>30750.0</td>\n",
              "      <td>2015.0</td>\n",
              "      <td>2015-01-01</td>\n",
              "      <td>18832.266933</td>\n",
              "      <td>5.790922e+08</td>\n",
              "      <td>131775.0</td>\n",
              "      <td>2.479837e+09</td>\n",
              "      <td>18818.718792</td>\n",
              "      <td>Buy</td>\n",
              "      <td>21.4258</td>\n",
              "      <td>18778.5742</td>\n",
              "    </tr>\n",
              "    <tr>\n",
              "      <th>3</th>\n",
              "      <td>2015-01-01 10:00:00</td>\n",
              "      <td>18846.9004</td>\n",
              "      <td>18858.5996</td>\n",
              "      <td>18830.0</td>\n",
              "      <td>18850.0000</td>\n",
              "      <td>13800.0</td>\n",
              "      <td>2015.0</td>\n",
              "      <td>2015-01-01</td>\n",
              "      <td>18846.199867</td>\n",
              "      <td>2.600776e+08</td>\n",
              "      <td>145575.0</td>\n",
              "      <td>2.739914e+09</td>\n",
              "      <td>18821.323902</td>\n",
              "      <td>Buy</td>\n",
              "      <td>1.5498</td>\n",
              "      <td>18828.4502</td>\n",
              "    </tr>\n",
              "    <tr>\n",
              "      <th>4</th>\n",
              "      <td>2015-01-01 10:15:00</td>\n",
              "      <td>18848.5508</td>\n",
              "      <td>18858.0000</td>\n",
              "      <td>18830.0</td>\n",
              "      <td>18840.2500</td>\n",
              "      <td>4250.0</td>\n",
              "      <td>2015.0</td>\n",
              "      <td>2015-01-01</td>\n",
              "      <td>18842.750000</td>\n",
              "      <td>8.008169e+07</td>\n",
              "      <td>149825.0</td>\n",
              "      <td>2.819996e+09</td>\n",
              "      <td>18821.931684</td>\n",
              "      <td>Buy</td>\n",
              "      <td>4.1504</td>\n",
              "      <td>18825.8496</td>\n",
              "    </tr>\n",
              "  </tbody>\n",
              "</table>\n",
              "</div>"
            ],
            "text/plain": [
              "              Datetime     Open 15     High 15  ...  action    1tick          SL\n",
              "0  2015-01-01 09:15:00  18861.3496  18867.9492  ...    Sell  16.1748  18776.8252\n",
              "1  2015-01-01 09:30:00  18826.9492  18833.4004  ...    Sell  11.5000  18763.5000\n",
              "2  2015-01-01 09:45:00  18803.9492  18850.0000  ...     Buy  21.4258  18778.5742\n",
              "3  2015-01-01 10:00:00  18846.9004  18858.5996  ...     Buy   1.5498  18828.4502\n",
              "4  2015-01-01 10:15:00  18848.5508  18858.0000  ...     Buy   4.1504  18825.8496\n",
              "\n",
              "[5 rows x 16 columns]"
            ]
          },
          "metadata": {
            "tags": []
          },
          "execution_count": 90
        }
      ]
    },
    {
      "cell_type": "code",
      "metadata": {
        "colab": {
          "base_uri": "https://localhost:8080/"
        },
        "id": "p5DkEXGVfS45",
        "outputId": "36a7ceb6-8f0e-4e84-8a34-9197b055c827"
      },
      "source": [
        "new_df = df[df.action == \"Sell\"]\n",
        "new_df['profit_or_loss'] = new_df['Close 15'] - new_df['Open 15']\n",
        "merged = pd.concat([new_df.profit_or_loss[new_df.profit_or_loss > 0], new_df.profit_or_loss[new_df.profit_or_loss < 0]], axis = 1)\n",
        "merged.columns = ['profit', 'loss']\n",
        "merged.fillna(0, inplace = True)"
      ],
      "execution_count": 91,
      "outputs": [
        {
          "output_type": "stream",
          "text": [
            "/usr/local/lib/python3.7/dist-packages/ipykernel_launcher.py:2: SettingWithCopyWarning: \n",
            "A value is trying to be set on a copy of a slice from a DataFrame.\n",
            "Try using .loc[row_indexer,col_indexer] = value instead\n",
            "\n",
            "See the caveats in the documentation: https://pandas.pydata.org/pandas-docs/stable/user_guide/indexing.html#returning-a-view-versus-a-copy\n",
            "  \n"
          ],
          "name": "stderr"
        }
      ]
    },
    {
      "cell_type": "code",
      "metadata": {
        "colab": {
          "base_uri": "https://localhost:8080/",
          "height": 402
        },
        "id": "R-Mq0zVZk6jr",
        "outputId": "3b9b4b6d-c941-48a7-9a68-0c55f7d07bac"
      },
      "source": [
        "profit_loss_timestamps = pd.concat([new_df[['Datetime', 'Year']], merged], axis = 1)\n",
        "\n",
        "profit_loss_timestamps.loc[:,'date'] = pd.to_datetime(profit_loss_timestamps['Datetime'], errors='coerce')\n",
        "profit_loss_timestamps['date'] = profit_loss_timestamps['date'].dt.strftime('%Y-%m-%d')\n",
        "profit_loss_timestamps"
      ],
      "execution_count": 92,
      "outputs": [
        {
          "output_type": "execute_result",
          "data": {
            "text/html": [
              "<div>\n",
              "<style scoped>\n",
              "    .dataframe tbody tr th:only-of-type {\n",
              "        vertical-align: middle;\n",
              "    }\n",
              "\n",
              "    .dataframe tbody tr th {\n",
              "        vertical-align: top;\n",
              "    }\n",
              "\n",
              "    .dataframe thead th {\n",
              "        text-align: right;\n",
              "    }\n",
              "</style>\n",
              "<table border=\"1\" class=\"dataframe\">\n",
              "  <thead>\n",
              "    <tr style=\"text-align: right;\">\n",
              "      <th></th>\n",
              "      <th>Datetime</th>\n",
              "      <th>Year</th>\n",
              "      <th>profit</th>\n",
              "      <th>loss</th>\n",
              "      <th>date</th>\n",
              "    </tr>\n",
              "  </thead>\n",
              "  <tbody>\n",
              "    <tr>\n",
              "      <th>0</th>\n",
              "      <td>2015-01-01 09:15:00</td>\n",
              "      <td>2015.0</td>\n",
              "      <td>0.0000</td>\n",
              "      <td>-32.3496</td>\n",
              "      <td>2015-01-01</td>\n",
              "    </tr>\n",
              "    <tr>\n",
              "      <th>1</th>\n",
              "      <td>2015-01-01 09:30:00</td>\n",
              "      <td>2015.0</td>\n",
              "      <td>0.0000</td>\n",
              "      <td>-23.0000</td>\n",
              "      <td>2015-01-01</td>\n",
              "    </tr>\n",
              "    <tr>\n",
              "      <th>50</th>\n",
              "      <td>2015-01-05 09:15:00</td>\n",
              "      <td>2015.0</td>\n",
              "      <td>0.0000</td>\n",
              "      <td>-55.0000</td>\n",
              "      <td>2015-01-05</td>\n",
              "    </tr>\n",
              "    <tr>\n",
              "      <th>51</th>\n",
              "      <td>2015-01-05 09:30:00</td>\n",
              "      <td>2015.0</td>\n",
              "      <td>0.4492</td>\n",
              "      <td>0.0000</td>\n",
              "      <td>2015-01-05</td>\n",
              "    </tr>\n",
              "    <tr>\n",
              "      <th>52</th>\n",
              "      <td>2015-01-05 09:45:00</td>\n",
              "      <td>2015.0</td>\n",
              "      <td>4.0996</td>\n",
              "      <td>0.0000</td>\n",
              "      <td>2015-01-05</td>\n",
              "    </tr>\n",
              "    <tr>\n",
              "      <th>...</th>\n",
              "      <td>...</td>\n",
              "      <td>...</td>\n",
              "      <td>...</td>\n",
              "      <td>...</td>\n",
              "      <td>...</td>\n",
              "    </tr>\n",
              "    <tr>\n",
              "      <th>30635</th>\n",
              "      <td>2019-12-31 14:15:00</td>\n",
              "      <td>2019.0</td>\n",
              "      <td>0.0000</td>\n",
              "      <td>-34.1504</td>\n",
              "      <td>2019-12-31</td>\n",
              "    </tr>\n",
              "    <tr>\n",
              "      <th>30636</th>\n",
              "      <td>2019-12-31 14:30:00</td>\n",
              "      <td>2019.0</td>\n",
              "      <td>16.2500</td>\n",
              "      <td>0.0000</td>\n",
              "      <td>2019-12-31</td>\n",
              "    </tr>\n",
              "    <tr>\n",
              "      <th>30637</th>\n",
              "      <td>2019-12-31 14:45:00</td>\n",
              "      <td>2019.0</td>\n",
              "      <td>0.0000</td>\n",
              "      <td>-43.1504</td>\n",
              "      <td>2019-12-31</td>\n",
              "    </tr>\n",
              "    <tr>\n",
              "      <th>30638</th>\n",
              "      <td>2019-12-31 15:00:00</td>\n",
              "      <td>2019.0</td>\n",
              "      <td>1.3496</td>\n",
              "      <td>0.0000</td>\n",
              "      <td>2019-12-31</td>\n",
              "    </tr>\n",
              "    <tr>\n",
              "      <th>30639</th>\n",
              "      <td>2019-12-31 15:15:00</td>\n",
              "      <td>2019.0</td>\n",
              "      <td>0.0000</td>\n",
              "      <td>-3.5996</td>\n",
              "      <td>2019-12-31</td>\n",
              "    </tr>\n",
              "  </tbody>\n",
              "</table>\n",
              "<p>14539 rows × 5 columns</p>\n",
              "</div>"
            ],
            "text/plain": [
              "                  Datetime    Year   profit     loss        date\n",
              "0      2015-01-01 09:15:00  2015.0   0.0000 -32.3496  2015-01-01\n",
              "1      2015-01-01 09:30:00  2015.0   0.0000 -23.0000  2015-01-01\n",
              "50     2015-01-05 09:15:00  2015.0   0.0000 -55.0000  2015-01-05\n",
              "51     2015-01-05 09:30:00  2015.0   0.4492   0.0000  2015-01-05\n",
              "52     2015-01-05 09:45:00  2015.0   4.0996   0.0000  2015-01-05\n",
              "...                    ...     ...      ...      ...         ...\n",
              "30635  2019-12-31 14:15:00  2019.0   0.0000 -34.1504  2019-12-31\n",
              "30636  2019-12-31 14:30:00  2019.0  16.2500   0.0000  2019-12-31\n",
              "30637  2019-12-31 14:45:00  2019.0   0.0000 -43.1504  2019-12-31\n",
              "30638  2019-12-31 15:00:00  2019.0   1.3496   0.0000  2019-12-31\n",
              "30639  2019-12-31 15:15:00  2019.0   0.0000  -3.5996  2019-12-31\n",
              "\n",
              "[14539 rows x 5 columns]"
            ]
          },
          "metadata": {
            "tags": []
          },
          "execution_count": 92
        }
      ]
    },
    {
      "cell_type": "markdown",
      "metadata": {
        "id": "L3bsRW0lehaz"
      },
      "source": [
        "# Day-wise profit"
      ]
    },
    {
      "cell_type": "code",
      "metadata": {
        "colab": {
          "base_uri": "https://localhost:8080/"
        },
        "id": "rG4w8cL_k6dE",
        "outputId": "58899cc5-7e42-41fc-dfd6-e1eb9d392b6b"
      },
      "source": [
        "profit_loss_timestamps.groupby('date')['profit'].sum()"
      ],
      "execution_count": 93,
      "outputs": [
        {
          "output_type": "execute_result",
          "data": {
            "text/plain": [
              "date\n",
              "2015-01-01      0.0000\n",
              "2015-01-05     81.6484\n",
              "2015-01-06    193.5000\n",
              "2015-01-07    169.0508\n",
              "2015-01-08     16.0488\n",
              "                ...   \n",
              "2019-12-23     23.4512\n",
              "2019-12-24     21.5996\n",
              "2019-12-26     84.3964\n",
              "2019-12-30    190.9512\n",
              "2019-12-31     39.6484\n",
              "Name: profit, Length: 1147, dtype: float64"
            ]
          },
          "metadata": {
            "tags": []
          },
          "execution_count": 93
        }
      ]
    },
    {
      "cell_type": "markdown",
      "metadata": {
        "id": "HS-w-Bc4elbQ"
      },
      "source": [
        "#Day-wise loss"
      ]
    },
    {
      "cell_type": "code",
      "metadata": {
        "colab": {
          "base_uri": "https://localhost:8080/"
        },
        "id": "MxDLTL9fnESm",
        "outputId": "3f76102a-79db-4b2f-9bf9-af452431fe04"
      },
      "source": [
        "profit_loss_timestamps.groupby('date')['loss'].sum()"
      ],
      "execution_count": 94,
      "outputs": [
        {
          "output_type": "execute_result",
          "data": {
            "text/plain": [
              "date\n",
              "2015-01-01    -55.3496\n",
              "2015-01-05   -230.4512\n",
              "2015-01-06   -841.9572\n",
              "2015-01-07   -359.2500\n",
              "2015-01-08   -117.5528\n",
              "                ...   \n",
              "2019-12-23   -177.0000\n",
              "2019-12-24   -132.6504\n",
              "2019-12-26   -389.9492\n",
              "2019-12-30   -356.7520\n",
              "2019-12-31   -315.8516\n",
              "Name: loss, Length: 1147, dtype: float64"
            ]
          },
          "metadata": {
            "tags": []
          },
          "execution_count": 94
        }
      ]
    },
    {
      "cell_type": "markdown",
      "metadata": {
        "id": "FYtz5a4Weoi4"
      },
      "source": [
        "#Year-wise profit"
      ]
    },
    {
      "cell_type": "code",
      "metadata": {
        "colab": {
          "base_uri": "https://localhost:8080/"
        },
        "id": "VWNL2hOLnPl5",
        "outputId": "2c7d43eb-5a8a-4a98-8fcc-081676190228"
      },
      "source": [
        "profit_loss_timestamps.groupby('Year')['profit'].sum() # 2019 was the best "
      ],
      "execution_count": 95,
      "outputs": [
        {
          "output_type": "execute_result",
          "data": {
            "text/plain": [
              "Year\n",
              "2015.0    21112.4382\n",
              "2016.0    17681.7918\n",
              "2017.0    14483.5168\n",
              "2018.0    17787.4440\n",
              "2019.0    26153.6592\n",
              "Name: profit, dtype: float64"
            ]
          },
          "metadata": {
            "tags": []
          },
          "execution_count": 95
        }
      ]
    },
    {
      "cell_type": "markdown",
      "metadata": {
        "id": "N0quYce3etMK"
      },
      "source": [
        "# Year-wise loss"
      ]
    },
    {
      "cell_type": "code",
      "metadata": {
        "colab": {
          "base_uri": "https://localhost:8080/"
        },
        "id": "D5F8StAsnSXE",
        "outputId": "9f745e8e-9deb-43ae-c5a8-fd7a5e7c218d"
      },
      "source": [
        "profit_loss_timestamps.groupby('Year')['loss'].sum()"
      ],
      "execution_count": 96,
      "outputs": [
        {
          "output_type": "execute_result",
          "data": {
            "text/plain": [
              "Year\n",
              "2015.0   -74292.8018\n",
              "2016.0   -60240.3606\n",
              "2017.0   -43629.7052\n",
              "2018.0   -66149.0464\n",
              "2019.0   -88895.2896\n",
              "Name: loss, dtype: float64"
            ]
          },
          "metadata": {
            "tags": []
          },
          "execution_count": 96
        }
      ]
    },
    {
      "cell_type": "markdown",
      "metadata": {
        "id": "eb9r0Nn6f4JQ"
      },
      "source": [
        "# aggregate profit/loss"
      ]
    },
    {
      "cell_type": "code",
      "metadata": {
        "colab": {
          "base_uri": "https://localhost:8080/"
        },
        "id": "s4Jo67aYfsea",
        "outputId": "3e295170-f602-48bc-a8f2-9d7116e363e9"
      },
      "source": [
        "profit_loss_timestamps.groupby('Year')['profit'].sum() + profit_loss_timestamps.groupby('Year')['loss'].sum()"
      ],
      "execution_count": 97,
      "outputs": [
        {
          "output_type": "execute_result",
          "data": {
            "text/plain": [
              "Year\n",
              "2015.0   -53180.3636\n",
              "2016.0   -42558.5688\n",
              "2017.0   -29146.1884\n",
              "2018.0   -48361.6024\n",
              "2019.0   -62741.6304\n",
              "dtype: float64"
            ]
          },
          "metadata": {
            "tags": []
          },
          "execution_count": 97
        }
      ]
    },
    {
      "cell_type": "markdown",
      "metadata": {
        "id": "tFga79ZZf8Pg"
      },
      "source": [
        "# It is estimated that 2017 was the best performing year"
      ]
    }
  ]
}